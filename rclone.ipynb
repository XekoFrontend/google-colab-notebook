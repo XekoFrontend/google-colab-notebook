{
  "cells": [
    {
      "cell_type": "markdown",
      "metadata": {
        "id": "view-in-github",
        "colab_type": "text"
      },
      "source": [
        "<a href=\"https://colab.research.google.com/github/XekoFrontend/google-colab-notebook/blob/main/rclone.ipynb\" target=\"_parent\"><img src=\"https://colab.research.google.com/assets/colab-badge.svg\" alt=\"Open In Colab\"/></a>"
      ]
    },
    {
      "cell_type": "markdown",
      "metadata": {
        "id": "9hWBXXjMC7F1"
      },
      "source": [
        "**Link Hướng dẫn**\n",
        "\n",
        "*   https://www.notion.so/rClone-23ac592ac11d80c28575c66d4f8db7c8?source=copy_link\n",
        "\n",
        "*   https://grok.com/share/c2hhcmQtMg%3D%3D_a070e7fd-a781-41f4-a079-250e8620deae"
      ]
    },
    {
      "cell_type": "markdown",
      "metadata": {
        "id": "cGh3Uxg_kior"
      },
      "source": [
        "# 📌 **Install**"
      ]
    },
    {
      "cell_type": "code",
      "source": [
        "from google.colab import drive\n",
        "drive.mount('/content/drive')"
      ],
      "metadata": {
        "colab": {
          "base_uri": "https://localhost:8080/"
        },
        "id": "dIQh24uUm0qa",
        "outputId": "69e63abf-6a1e-4db3-ccc6-e0196ed72f55"
      },
      "execution_count": 9,
      "outputs": [
        {
          "output_type": "stream",
          "name": "stdout",
          "text": [
            "Mounted at /content/drive\n"
          ]
        }
      ]
    },
    {
      "cell_type": "code",
      "execution_count": 2,
      "metadata": {
        "colab": {
          "base_uri": "https://localhost:8080/"
        },
        "collapsed": true,
        "id": "PvyVfkyxC_6K",
        "outputId": "3b8800d0-092e-4de0-fda9-8c6803a64abf"
      },
      "outputs": [
        {
          "output_type": "stream",
          "name": "stdout",
          "text": [
            "  % Total    % Received % Xferd  Average Speed   Time    Time     Time  Current\n",
            "                                 Dload  Upload   Total   Spent    Left  Speed\n",
            "100  4734  100  4734    0     0   9503      0 --:--:-- --:--:-- --:--:--  9506\n",
            "Archive:  rclone-current-linux-amd64.zip\n",
            "   creating: tmp_unzip_dir_for_rclone/rclone-v1.70.3-linux-amd64/\n",
            "  inflating: tmp_unzip_dir_for_rclone/rclone-v1.70.3-linux-amd64/README.txt  [text]  \n",
            "  inflating: tmp_unzip_dir_for_rclone/rclone-v1.70.3-linux-amd64/git-log.txt  [text]  \n",
            "  inflating: tmp_unzip_dir_for_rclone/rclone-v1.70.3-linux-amd64/rclone  [binary]\n",
            "  inflating: tmp_unzip_dir_for_rclone/rclone-v1.70.3-linux-amd64/README.html  [text]  \n",
            "  inflating: tmp_unzip_dir_for_rclone/rclone-v1.70.3-linux-amd64/rclone.1  [text]  \n",
            "Purging old database entries in /usr/share/man...\n",
            "Processing manual pages under /usr/share/man...\n",
            "Updating index cache for path `/usr/share/man/man1'. Wait...done.\n",
            "Checking for stray cats under /usr/share/man...\n",
            "Checking for stray cats under /var/cache/man...\n",
            "Purging old database entries in /usr/share/man/pl...\n",
            "Processing manual pages under /usr/share/man/pl...\n",
            "Purging old database entries in /usr/share/man/sl...\n",
            "Processing manual pages under /usr/share/man/sl...\n",
            "Purging old database entries in /usr/share/man/de...\n",
            "Processing manual pages under /usr/share/man/de...\n",
            "Purging old database entries in /usr/share/man/hu...\n",
            "Processing manual pages under /usr/share/man/hu...\n",
            "Purging old database entries in /usr/share/man/pt_BR...\n",
            "Processing manual pages under /usr/share/man/pt_BR...\n",
            "Purging old database entries in /usr/share/man/cs...\n",
            "Processing manual pages under /usr/share/man/cs...\n",
            "Purging old database entries in /usr/share/man/zh_CN...\n",
            "Processing manual pages under /usr/share/man/zh_CN...\n",
            "Purging old database entries in /usr/share/man/ja...\n",
            "Processing manual pages under /usr/share/man/ja...\n",
            "Purging old database entries in /usr/share/man/zh_TW...\n",
            "Processing manual pages under /usr/share/man/zh_TW...\n",
            "Purging old database entries in /usr/share/man/nl...\n",
            "Processing manual pages under /usr/share/man/nl...\n",
            "Purging old database entries in /usr/share/man/pt...\n",
            "Processing manual pages under /usr/share/man/pt...\n",
            "Purging old database entries in /usr/share/man/ko...\n",
            "Processing manual pages under /usr/share/man/ko...\n",
            "Purging old database entries in /usr/share/man/it...\n",
            "Processing manual pages under /usr/share/man/it...\n",
            "Purging old database entries in /usr/share/man/sv...\n",
            "Processing manual pages under /usr/share/man/sv...\n",
            "Purging old database entries in /usr/share/man/tr...\n",
            "Processing manual pages under /usr/share/man/tr...\n",
            "Purging old database entries in /usr/share/man/fr...\n",
            "Processing manual pages under /usr/share/man/fr...\n",
            "Purging old database entries in /usr/share/man/da...\n",
            "Processing manual pages under /usr/share/man/da...\n",
            "Purging old database entries in /usr/share/man/es...\n",
            "Processing manual pages under /usr/share/man/es...\n",
            "Purging old database entries in /usr/share/man/id...\n",
            "Processing manual pages under /usr/share/man/id...\n",
            "Purging old database entries in /usr/share/man/ru...\n",
            "Processing manual pages under /usr/share/man/ru...\n",
            "Purging old database entries in /usr/share/man/uk...\n",
            "Processing manual pages under /usr/share/man/uk...\n",
            "Purging old database entries in /usr/share/man/ro...\n",
            "Processing manual pages under /usr/share/man/ro...\n",
            "Purging old database entries in /usr/share/man/sr...\n",
            "Processing manual pages under /usr/share/man/sr...\n",
            "Processing manual pages under /usr/local/man...\n",
            "mandb: can't update index cache /var/cache/man/oldlocal/510: No such file or directory\n",
            "Updating index cache for path `/usr/local/man/man1'. Wait...done.\n",
            "Checking for stray cats under /usr/local/man...\n",
            "Checking for stray cats under /var/cache/man/oldlocal...\n",
            "2 man subdirectories contained newer manual pages.\n",
            "54 manual pages were added.\n",
            "0 stray cats were added.\n",
            "17 old database entries were purged.\n",
            "\n",
            "rclone v1.70.3 has successfully installed.\n",
            "Now run \"rclone config\" for setup. Check https://rclone.org/docs/ for more details.\n",
            "\n"
          ]
        }
      ],
      "source": [
        "# Cài đặt rClone\n",
        "!sudo -v ; curl https://rclone.org/install.sh | sudo bash"
      ]
    },
    {
      "cell_type": "code",
      "execution_count": 11,
      "metadata": {
        "id": "XOn0XwgTDBPo"
      },
      "outputs": [],
      "source": [
        "# Khôi phục file config\n",
        "!cp /content/drive/MyDrive/\"Colab Notebooks/rclone.conf\" /root/.config/rclone/rclone.conf"
      ]
    },
    {
      "cell_type": "code",
      "execution_count": 12,
      "metadata": {
        "colab": {
          "base_uri": "https://localhost:8080/"
        },
        "collapsed": true,
        "id": "g-jYaJ0_V3l6",
        "outputId": "de79f7d0-858c-4f8d-ad4d-e17d271389ef"
      },
      "outputs": [
        {
          "output_type": "stream",
          "name": "stdout",
          "text": [
            "archive:\n",
            "tsd06:\n",
            "xuhao:\n",
            "haocenter:\n"
          ]
        }
      ],
      "source": [
        "# Danh sách remotes đang có\n",
        "!rclone listremotes"
      ]
    },
    {
      "cell_type": "markdown",
      "metadata": {
        "id": "xVZgKeNRTvvG"
      },
      "source": [
        "# **Config remotes**\n"
      ]
    },
    {
      "cell_type": "code",
      "execution_count": null,
      "metadata": {
        "colab": {
          "base_uri": "https://localhost:8080/"
        },
        "collapsed": true,
        "id": "qcw6RhviDEFK",
        "outputId": "8cabc093-fced-4f07-d83a-d4d2fa031abe"
      },
      "outputs": [
        {
          "name": "stdout",
          "output_type": "stream",
          "text": [
            "Current remotes:\n",
            "\n",
            "Name                 Type\n",
            "====                 ====\n",
            "archive              internetarchive\n",
            "haocenter            drive\n",
            "tsd06                onedrive\n",
            "xuhao                drive\n",
            "\n",
            "e) Edit existing remote\n",
            "n) New remote\n",
            "d) Delete remote\n",
            "r) Rename remote\n",
            "c) Copy remote\n",
            "s) Set configuration password\n",
            "q) Quit config\n",
            "e/n/d/r/c/s/q> q\n"
          ]
        }
      ],
      "source": [
        "# Tạo mới, chỉnh sửa, xóa hoặc kiểm tra remote.\n",
        "!rclone config"
      ]
    },
    {
      "cell_type": "markdown",
      "metadata": {
        "id": "Lj7ZK6QoSie3"
      },
      "source": [
        "**Backup config**"
      ]
    },
    {
      "cell_type": "code",
      "execution_count": null,
      "metadata": {
        "colab": {
          "base_uri": "https://localhost:8080/"
        },
        "collapsed": true,
        "id": "_-JHES0DDCmr",
        "outputId": "2285141a-a21e-4a4e-f911-080f12eb6138"
      },
      "outputs": [
        {
          "name": "stdout",
          "output_type": "stream",
          "text": [
            "total 16\n",
            "drwxr-xr-x 2 root root 4096 Jul 27 13:47 .\n",
            "drwxr-xr-x 1 root root 4096 Jul 27 13:39 ..\n",
            "-rw------- 1 root root 4837 Jul 27 13:47 rclone.conf\n"
          ]
        }
      ],
      "source": [
        "# Kiểm tra file config đã được tạo chưa.\n",
        "!ls -la /root/.config/rclone/"
      ]
    },
    {
      "cell_type": "code",
      "execution_count": null,
      "metadata": {
        "id": "Ua4sA6DcDGf-"
      },
      "outputs": [],
      "source": [
        "# Backup config\n",
        "!cp /root/.config/rclone/rclone.conf /content/rclone.conf"
      ]
    },
    {
      "cell_type": "markdown",
      "metadata": {
        "id": "_S_Ig64akeI7"
      },
      "source": [
        "# **Các lệnh Copy**\n"
      ]
    },
    {
      "cell_type": "code",
      "execution_count": 7,
      "metadata": {
        "colab": {
          "base_uri": "https://localhost:8080/"
        },
        "id": "d6IRjW-jDNyQ",
        "outputId": "05a5150c-36c4-4498-9cd6-94e55c7da268",
        "collapsed": true
      },
      "outputs": [
        {
          "output_type": "stream",
          "name": "stdout",
          "text": [
            "2025/07/29 00:48:43 INFO  : 035 (c351-361).cbz: Copied (new)\n",
            "2025/07/29 00:48:43 INFO  : 036 (c362-372).cbz: Copied (new)\n",
            "2025/07/29 00:48:44 INFO  : 037 (c373-382).cbz: Copied (new)\n",
            "2025/07/29 00:48:45 INFO  : 038 (c383-392).cbz: Copied (new)\n",
            "2025/07/29 00:48:45 INFO  : 034 (c340-350).cbz: Copied (new)\n",
            "2025/07/29 00:48:45 INFO  : 039 (c393-402).cbz: Copied (new)\n",
            "2025/07/29 00:48:45 INFO  : 040 (c404-413).cbz: Copied (new)\n",
            "2025/07/29 00:48:47 INFO  : 041 (c414-424).cbz: Copied (new)\n",
            "2025/07/29 00:48:57 INFO  : 042 (c425-435).cbz: Copied (new)\n",
            "2025/07/29 00:49:00 INFO  : 044.cbz: Copied (new)\n",
            "2025/07/29 00:49:01 INFO  : 048.cbz: Copied (new)\n",
            "2025/07/29 00:49:01 INFO  : 045.cbz: Copied (new)\n",
            "2025/07/29 00:49:01 INFO  : 043.cbz: Copied (new)\n",
            "2025/07/29 00:49:02 INFO  : 049.cbz: Copied (new)\n",
            "2025/07/29 00:49:03 INFO  : 046.cbz: Copied (new)\n",
            "2025/07/29 00:49:04 INFO  : 047.cbz: Copied (new)\n",
            "2025/07/29 00:49:15 INFO  : 050.cbz: Copied (new)\n",
            "2025/07/29 00:49:21 INFO  : 052.cbz: Copied (new)\n",
            "2025/07/29 00:49:23 INFO  : 051.cbz: Copied (new)\n",
            "2025/07/29 00:49:24 INFO  : 053.cbz: Copied (new)\n",
            "2025/07/29 00:49:25 INFO  : 055.cbz: Copied (new)\n",
            "2025/07/29 00:49:27 INFO  : 057.cbz: Copied (new)\n",
            "2025/07/29 00:49:27 INFO  : 054.cbz: Copied (new)\n",
            "2025/07/29 00:49:27 INFO  : 056.cbz: Copied (new)\n",
            "2025/07/29 00:49:27 INFO  : \n",
            "Transferred:   \t    2.350 GiB / 2.433 GiB, 97%, 43.359 MiB/s, ETA 1s\n",
            "Checks:                 0 / 0, -, Listed 29\n",
            "Transferred:           24 / 27, 89%\n",
            "Elapsed time:       1m0.0s\n",
            "Transferring:\n",
            " *                                       058.cbz:100% /86.678Mi, 6.667Mi/s, 0s\n",
            " *                                       059.cbz: 59% /84.409Mi, 6.667Mi/s, 5s\n",
            " *                                       060.cbz: 37% /80.886Mi, 7.500Mi/s, 6s\n",
            "\n",
            "2025/07/29 00:49:28 INFO  : 058.cbz: Copied (new)\n",
            "2025/07/29 00:49:33 INFO  : 059.cbz: Copied (new)\n",
            "2025/07/29 00:49:33 INFO  : 060.cbz: Copied (new)\n",
            "2025/07/29 00:49:33 INFO  : \n",
            "Transferred:   \t    2.433 GiB / 2.433 GiB, 100%, 36.061 MiB/s, ETA 0s\n",
            "Checks:                 0 / 0, -, Listed 29\n",
            "Transferred:           27 / 27, 100%\n",
            "Elapsed time:       1m5.5s\n",
            "\n"
          ]
        }
      ],
      "source": [
        "# Copy cơ bản giữa các clouds\n",
        "!rclone copy --update -v --transfers 8 \"/content/drive/MyDrive/Conan kenhsinhvien new 30-60\" \"tsd06:Comic/Conan/\""
      ]
    },
    {
      "cell_type": "code",
      "execution_count": null,
      "metadata": {
        "id": "kHnXGkAVDatF"
      },
      "outputs": [],
      "source": [
        "# OLDer\n",
        "# Copy từ shortcut từ share link vào ổ google drive hoặc các ổ remotes khác.\n",
        "## hôm nào thử dùng thêm flag --update\n",
        "# !rclone copy -v --checksum --checkers 10 --transfers 10 --drive-server-side-across-configs --drive-copy-shortcut-content \"/content/drive/MyDrive/the Hardest Interview-xiec game/\" \"tsd06:up/\""
      ]
    },
    {
      "cell_type": "code",
      "execution_count": null,
      "metadata": {
        "collapsed": true,
        "id": "2MbT4fVykEpM"
      },
      "outputs": [],
      "source": [
        "# Dùng upload S3 Archive cực nhanh. 1 luồng,\n",
        "# --ignore-existing\n",
        "!rclone copy -v --s3-upload-concurrency 1 \"/content/drive/MyDrive/0/Hail.the.Judge.1994.BluRay.1080p.x265.10bit.2Audio.MNHD-FRDS.mkv\" \"archive:tinhhe-lontien-thyetmin/\" --ignore-existing"
      ]
    },
    {
      "cell_type": "code",
      "execution_count": null,
      "metadata": {
        "colab": {
          "base_uri": "https://localhost:8080/"
        },
        "collapsed": true,
        "id": "9AuFaSYzY-YY",
        "outputId": "5774a2d4-dfb7-4201-ccae-7ffc723ea53c"
      },
      "outputs": [
        {
          "name": "stdout",
          "output_type": "stream",
          "text": [
            "2025/07/28 05:53:52 INFO  : Long DoremonVoz Vol.06 (lite).pdf: Copied (new)\n",
            "2025/07/28 05:53:52 INFO  : Long DoremonVoz Vol.04 (lite).pdf: Copied (new)\n",
            "2025/07/28 05:53:53 INFO  : Long DoremonVoz Vol.02 (Lite).pdf: Copied (new)\n",
            "2025/07/28 05:53:54 INFO  : Long DoremonVoz Vol.01 (Lite).pdf: Copied (new)\n",
            "2025/07/28 05:54:02 INFO  : Long DoremonVoz Vol.07 (lite).pdf: Copied (new)\n",
            "2025/07/28 05:54:03 INFO  : Long DoremonVoz Vol.10 (Lite).pdf: Copied (new)\n",
            "2025/07/28 05:54:03 INFO  : Long DoremonVoz Vol.08 (Lite).pdf: Copied (new)\n",
            "2025/07/28 05:54:05 INFO  : Long DoremonVoz Vol.09 (Lite).pdf: Copied (new)\n",
            "2025/07/28 05:54:12 INFO  : Long DoremonVoz Vol.12 (Lite).pdf: Copied (new)\n",
            "2025/07/28 05:54:12 INFO  : Long DoremonVoz Vol.11 (Lite).pdf: Copied (new)\n",
            "2025/07/28 05:54:13 INFO  : Long DoremonVoz Vol.15 (Lite).pdf: Copied (new)\n",
            "2025/07/28 05:54:15 INFO  : Long DoremonVoz Vol.13 (Lite).pdf: Copied (new)\n",
            "2025/07/28 05:54:21 INFO  : Long DoremonVoz Vol.19 (Lite).pdf: Copied (new)\n",
            "2025/07/28 05:54:22 INFO  : Long DoremonVoz Vol.16 (lite).pdf: Copied (new)\n",
            "2025/07/28 05:54:22 INFO  : Long DoremonVoz Vol.17 (Lite).pdf: Copied (new)\n",
            "2025/07/28 05:54:26 INFO  : Long DoremonVoz Vol.20 (Lite).pdf: Copied (new)\n",
            "2025/07/28 05:54:30 INFO  : Long DoremonVoz Vol.23 (Lite).pdf: Copied (new)\n",
            "2025/07/28 05:54:30 INFO  : Long DoremonVoz Vol.22 (Lite).pdf: Copied (new)\n",
            "2025/07/28 05:54:30 INFO  : Long DoremonVoz Vol.21 (Lite).pdf: Copied (new)\n",
            "2025/07/28 05:54:32 INFO  : Long DoremonVoz Vol.24 (Lite).pdf: Copied (new)\n",
            "2025/07/28 05:54:32 INFO  : \n",
            "Transferred:   \t    1.367 GiB / 1.367 GiB, 100%, 28.183 MiB/s, ETA 0s\n",
            "Checks:                 4 / 4, 100%, Listed 28\n",
            "Transferred:           20 / 20, 100%\n",
            "Elapsed time:        53.8s\n",
            "\n"
          ]
        }
      ],
      "source": [
        "# ☠️ tạm google > tsd06\n",
        "!rclone copy -v  --update --s3-upload-concurrency 1 \"/content/drive/MyDrive/Comic/Doremon/dai\" \"tsd06:Comic/Doremon/dai\""
      ]
    },
    {
      "cell_type": "code",
      "execution_count": null,
      "metadata": {
        "colab": {
          "base_uri": "https://localhost:8080/"
        },
        "collapsed": true,
        "id": "majvzI2i-flW",
        "outputId": "7d5f24f8-c64f-4616-c616-7538351ac82c"
      },
      "outputs": [
        {
          "name": "stdout",
          "output_type": "stream",
          "text": [
            "2025/07/28 03:16:48 INFO  : Shinai naru Boku e Satsui wo ko - T02.cbz: Copied (new)\n",
            "2025/07/28 03:16:50 INFO  : Shinai naru Boku e Satsui wo ko - T03.cbz: Copied (new)\n",
            "2025/07/28 03:17:14 INFO  : Shinai naru Boku e Satsui wo ko - T01.cbz: Copied (new)\n",
            "2025/07/28 03:17:14 INFO  : \n",
            "Transferred:   \t    1.471 GiB / 1.471 GiB, 100%, 28.499 MiB/s, ETA 0s\n",
            "Checks:                 0 / 0, -, Listed 3\n",
            "Transferred:            3 / 3, 100%\n",
            "Elapsed time:        58.5s\n",
            "\n"
          ]
        }
      ],
      "source": [
        "# ☠️ tạm tsd06 > archive\n",
        "!rclone copy -v  --update --s3-upload-concurrency 1 \"/content/drive/MyDrive/Comic/Shinai naru Boku e Satsui wo ko /cbz\" \"archive:gui-den-toi-yeu-dau-mot-y-dinh-sat-nhan-shinai-naru-boku-e-satsui-wo-ko/\""
      ]
    },
    {
      "cell_type": "markdown",
      "metadata": {
        "id": "_zQAPalOkHKh"
      },
      "source": [
        "# **Sử dụng ổ đĩa Colab**"
      ]
    },
    {
      "cell_type": "code",
      "execution_count": null,
      "metadata": {
        "id": "3mj3uyUMDRnY"
      },
      "outputs": [],
      "source": [
        "# Copy vào ổ của colab <60gb tạm thời\n",
        "# thủ Dùng leech torrent\n",
        "!rclone copy --update -v \"tsd06:Temps/[Weekly Playboy] 2021 No.50/mariya nishiuchi/\" /content/torrent_download"
      ]
    },
    {
      "cell_type": "code",
      "execution_count": null,
      "metadata": {
        "colab": {
          "base_uri": "https://localhost:8080/"
        },
        "collapsed": true,
        "id": "SHnVUiKcDS_P",
        "outputId": "d65a110c-2077-4dd7-e989-96cbad93a51b"
      },
      "outputs": [
        {
          "name": "stdout",
          "output_type": "stream",
          "text": [
            "total 20\n",
            "drwxr-xr-x 1 root root 4096 Jul 27 06:42 .\n",
            "drwxr-xr-x 1 root root 4096 Jul 27 06:40 ..\n",
            "drwxr-xr-x 4 root root 4096 Jul 24 13:37 .config\n",
            "drwx------ 6 root root 4096 Jul 27 06:42 drive\n",
            "drwxr-xr-x 1 root root 4096 Jul 24 13:37 sample_data\n"
          ]
        }
      ],
      "source": [
        "#  Xem nội dung ổ đĩa colab.\n",
        "!ls -la /content/"
      ]
    },
    {
      "cell_type": "code",
      "execution_count": null,
      "metadata": {
        "id": "NAyD0dIBVOOW"
      },
      "outputs": [],
      "source": [
        "# Xóa file, folder trong ổ colab\n",
        "!rm -r /content/old_folder"
      ]
    },
    {
      "cell_type": "markdown",
      "metadata": {
        "id": "kXStm_QDSJTM"
      },
      "source": [
        "# **Lọc file**"
      ]
    },
    {
      "cell_type": "code",
      "execution_count": null,
      "metadata": {
        "id": "5VJlTN0CDZmz"
      },
      "outputs": [],
      "source": [
        "# xem nội dung các remotes\n",
        "## ls\n",
        "## lsf : xem mỗi tên files\n",
        "## lsd : xem tên thư mục con\n",
        "## size\n",
        "!rclone size archive:\"tandongsonglybiet-nhacphim-flac-wav\""
      ]
    },
    {
      "cell_type": "code",
      "execution_count": null,
      "metadata": {
        "colab": {
          "base_uri": "https://localhost:8080/"
        },
        "collapsed": true,
        "id": "gb7j2BYlQIJv",
        "outputId": "5ebc5f34-0e63-4030-8866-e27f5551b179"
      },
      "outputs": [
        {
          "output_type": "stream",
          "name": "stdout",
          "text": [
            "5608763554 A Chinese Odyssey Part I Pandoras Box 1994.BluRay.1080p.x265.10bit.2Audio.MNHD-FRDS.mkv\n",
            "4974793470 A Chinese Odyssey Part Two - Cinderella 1994.BluRay.1080p.x265.10bit.2Audio.MNHD-FRDS.mkv\n",
            "6199740147 All.For.The.Winner.1990.1080p.Blu-ray.Remux.AVC.DTS.HD.MA.5.1_USLT.mkv\n",
            "6021829273 Alls.Well.Ends.Well.1992.Extended.BluRay.1080p.x265.10bit.2Audio.MNHD-FRDS.mkv\n",
            "3949222023 Alls.Well.Ends.Well.1997.ViE.1080p.Web.DL.x264.mkv\n",
            "7552199181 CJ7.2008.BluRay.1080p.x265.10bit.2Audio.MNHD-FRDS.mkv\n",
            "4694391865 Curry.And.Pepper.1990.DUB.720p.HDTV.x264-CHDTV_USLT.mkv\n",
            "5299854921 Faithfully.Yours.1988.1080p.Netflix.WEB-DL.DDP.2.0.H.264-HHWEB.mkv\n",
            "6648527128 Fight.Back.to.School.1991.BluRay.1080p.x265.10bit.2Audio.MNHD-FRDS.mkv\n",
            "7545318186 Fight.Back.to.School.2.1992.BluRay.1080p.x265.10bit.2Audio.MNHD-FRDS.mkv\n",
            "6858575927 Fight.Back.to.School.3.1993.BluRay.1080p.x265.10bit.2Audio.MNHD-FRDS_USLT.mkv\n",
            "4820723585 Fist.of.Fury.1991.BD.1080P.x265.10bit.DD5.1-FFansBD.mkv\n",
            "10405588907 Flirting.Scholar.1993.BluRay.1080p.x265.10bit.2Audio.MNHD-FRDS.mkv\n",
            "4305278649 Forbidden.City.Cop.1996.BluRay.1080p.x265.10bit.2Audio.MNHD-FRDS.mkv\n",
            "5745041028 From.Beijing.with.Love.1994.BluRay.1080p.x265.10bit.2Audio.MNHD-FRDS.mkv\n"
          ]
        }
      ],
      "source": [
        "# grep \".mp4\": Lọc các dòng có chứa .mp4.\n",
        "# wc -l: Đếm số dòng (tức là số file .mp4).\n",
        "!rclone ls \"/content/drive/MyDrive/0/\" | grep \".mkv\" | wc -l"
      ]
    },
    {
      "cell_type": "code",
      "execution_count": null,
      "metadata": {
        "colab": {
          "base_uri": "https://localhost:8080/"
        },
        "collapsed": true,
        "id": "eTYPO8tUEMt-",
        "outputId": "62318a44-193f-4632-abe7-9e0eff36bfc8"
      },
      "outputs": [
        {
          "name": "stdout",
          "output_type": "stream",
          "text": [
            "^C\n"
          ]
        }
      ],
      "source": [
        "!rclone copy -v --checksum --checkers 10 --transfers 10 --drive-server-side-across-configs --drive-copy-shortcut-content \"/content/drive/MyDrive/0\" \"archive:tinhhe-lontien-thyetmin/\""
      ]
    },
    {
      "cell_type": "markdown",
      "metadata": {
        "id": "HEdyYLGeDeE0"
      },
      "source": [
        "# **File nén**"
      ]
    },
    {
      "cell_type": "code",
      "execution_count": null,
      "metadata": {
        "id": "Kv4a99gfDcBz"
      },
      "outputs": [],
      "source": [
        "# Install unrar\n",
        "!apt-get install unrar"
      ]
    },
    {
      "cell_type": "code",
      "execution_count": null,
      "metadata": {
        "id": "hGSaY0ZIDdFr"
      },
      "outputs": [],
      "source": [
        "# hình như là nén files, hoặc ghép files. cần thử lại.\n",
        "!cat /content/torrent_download/HI1\\ DDDTT.part*.rar > /content/HI1_DDDTT_full.rar"
      ]
    },
    {
      "cell_type": "code",
      "execution_count": null,
      "metadata": {
        "id": "Fb23IXDm3a1r"
      },
      "outputs": [],
      "source": [
        "# Giải nén với password (ex: DDDTT)\n",
        "!unrar x -pDDDTT /content/HI1_DDDTT_full.rar /content/extracted/"
      ]
    },
    {
      "cell_type": "code",
      "execution_count": null,
      "metadata": {
        "id": "SQOdn44N1Tzn"
      },
      "outputs": [],
      "source": [
        "# Split file nén\n",
        "!split -b 10G /content/HI1_DDDTT_full.rar /content/HI1_DDDTT_part_\n",
        "# copy file trùng tên, chhia theo thứ tự.\n",
        "!rclone copy /content/HI1_DDDTT_part_* archive:tinhhe-lontien-thyetmin/1990/ -v"
      ]
    },
    {
      "cell_type": "markdown",
      "metadata": {
        "id": "laXIK5B4mo1Z"
      },
      "source": [
        "# **Torrent**\n",
        "testing ..."
      ]
    },
    {
      "cell_type": "code",
      "execution_count": 12,
      "metadata": {
        "colab": {
          "base_uri": "https://localhost:8080/"
        },
        "collapsed": true,
        "id": "qtrB0lYlmu18",
        "outputId": "48c35216-0c58-47e3-b83b-9496e0cbd849"
      },
      "outputs": [
        {
          "output_type": "stream",
          "name": "stdout",
          "text": [
            "Collecting lbry-libtorrent\n",
            "  Downloading lbry_libtorrent-1.2.4-py3-none-any.whl.metadata (347 bytes)\n",
            "Downloading lbry_libtorrent-1.2.4-py3-none-any.whl (2.4 MB)\n",
            "\u001b[?25l   \u001b[90m━━━━━━━━━━━━━━━━━━━━━━━━━━━━━━━━━━━━━━━━\u001b[0m \u001b[32m0.0/2.4 MB\u001b[0m \u001b[31m?\u001b[0m eta \u001b[36m-:--:--\u001b[0m\r\u001b[2K   \u001b[91m━━━━━━━━━━━━━━━━━━━━━━━━━━━━━━━━━━━━━━━\u001b[0m\u001b[91m╸\u001b[0m \u001b[32m2.4/2.4 MB\u001b[0m \u001b[31m122.2 MB/s\u001b[0m eta \u001b[36m0:00:01\u001b[0m\r\u001b[2K   \u001b[90m━━━━━━━━━━━━━━━━━━━━━━━━━━━━━━━━━━━━━━━━\u001b[0m \u001b[32m2.4/2.4 MB\u001b[0m \u001b[31m61.4 MB/s\u001b[0m eta \u001b[36m0:00:00\u001b[0m\n",
            "\u001b[?25hInstalling collected packages: lbry-libtorrent\n",
            "Successfully installed lbry-libtorrent-1.2.4\n"
          ]
        }
      ],
      "source": [
        "# @title Default title text\n",
        "#  install\n",
        "!pip install lbry-libtorrent"
      ]
    },
    {
      "cell_type": "code",
      "execution_count": null,
      "metadata": {
        "colab": {
          "base_uri": "https://localhost:8080/",
          "height": 228
        },
        "collapsed": true,
        "id": "sORKICcdnSXK",
        "outputId": "dcce8308-f075-4a0a-cb40-03a82eb07c50"
      },
      "outputs": [
        {
          "name": "stdout",
          "output_type": "stream",
          "text": [
            "Đang tải torrent...\n"
          ]
        },
        {
          "ename": "KeyboardInterrupt",
          "evalue": "",
          "output_type": "error",
          "traceback": [
            "\u001b[0;31m---------------------------------------------------------------------------\u001b[0m",
            "\u001b[0;31mKeyboardInterrupt\u001b[0m                         Traceback (most recent call last)",
            "\u001b[0;32m/tmp/ipython-input-26-2350282668.py\u001b[0m in \u001b[0;36m<cell line: 0>\u001b[0;34m()\u001b[0m\n\u001b[1;32m     19\u001b[0m \u001b[0;34m\u001b[0m\u001b[0m\n\u001b[1;32m     20\u001b[0m \u001b[0;32mwhile\u001b[0m \u001b[0;32mnot\u001b[0m \u001b[0mhandle\u001b[0m\u001b[0;34m.\u001b[0m\u001b[0mhas_metadata\u001b[0m\u001b[0;34m(\u001b[0m\u001b[0;34m)\u001b[0m\u001b[0;34m:\u001b[0m\u001b[0;34m\u001b[0m\u001b[0;34m\u001b[0m\u001b[0m\n\u001b[0;32m---> 21\u001b[0;31m     \u001b[0mtime\u001b[0m\u001b[0;34m.\u001b[0m\u001b[0msleep\u001b[0m\u001b[0;34m(\u001b[0m\u001b[0;36m1\u001b[0m\u001b[0;34m)\u001b[0m\u001b[0;34m\u001b[0m\u001b[0;34m\u001b[0m\u001b[0m\n\u001b[0m\u001b[1;32m     22\u001b[0m \u001b[0mprint\u001b[0m\u001b[0;34m(\u001b[0m\u001b[0;34m\"Đã lấy metadata, bắt đầu tải...\"\u001b[0m\u001b[0;34m)\u001b[0m\u001b[0;34m\u001b[0m\u001b[0;34m\u001b[0m\u001b[0m\n\u001b[1;32m     23\u001b[0m \u001b[0;34m\u001b[0m\u001b[0m\n",
            "\u001b[0;31mKeyboardInterrupt\u001b[0m: "
          ]
        }
      ],
      "source": [
        "# torrent download full\n",
        "\n",
        "import libtorrent as lt\n",
        "import time\n",
        "\n",
        "ses = lt.session()\n",
        "ses.listen_on(6881, 6891)\n",
        "params = {\n",
        "    'save_path': '/content/torrent_download',\n",
        "    'storage_mode': lt.storage_mode_t(2)\n",
        "}\n",
        "# Thay link magnet ở trong \"\" dòng dưới 👇\n",
        "link = \"magnet:?xt=urn:btih:3f45046a38f729a4443441e74b23f8cc8f8432e2&dn=Little.Witch.in.the.Woods.v3.0.6.0b.rar&xl=252463291&tr=udp%3A%2F%2Ftracker.openbittorrent.com%3A80%2Fannounce&tr=udp%3A%2F%2Ftracker.opentrackr.org%3A1337%2Fannounce&tr=http%3A%2F%2Ftracker.openbittorrent.com%3A80%2Fannounce&tr=udp%3A%2F%2Fopentracker.i2p.rocks%3A6969%2Fannounce&tr=udp%3A%2F%2Ftracker.internetwarriors.net%3A1337%2Fannounce&tr=udp%3A%2F%2Ftracker.leechers-paradise.org%3A6969%2Fannounce&tr=udp%3A%2F%2Fcoppersurfer.tk%3A6969%2Fannounce&tr=udp%3A%2F%2Ftracker.zer0day.to%3A1337%2Fannounce\"\n",
        "handle = lt.add_magnet_uri(ses, link, params)\n",
        "ses.start_dht()\n",
        "\n",
        "begin = time.time()\n",
        "print(\"Đang tải torrent...\")\n",
        "\n",
        "while not handle.has_metadata():\n",
        "    time.sleep(1)\n",
        "print(\"Đã lấy metadata, bắt đầu tải...\")\n",
        "\n",
        "while handle.status().state != lt.torrent_status.seeding:\n",
        "    s = handle.status()\n",
        "    state_str = ['queued', 'checking', 'downloading metadata', 'downloading', 'finished', 'seeding', 'allocating']\n",
        "    print(f\"Tiến độ: {s.progress * 100:.2f}% - Tốc độ: {s.download_rate / 1000:.2f} kB/s - Trạng thái: {state_str[s.state]}\")\n",
        "    time.sleep(5)\n",
        "else:\n",
        "    print(\"Hoàn tất tải torrent!\")\n",
        "\n",
        "# Kiểm tra thư mục sau khi tải\n",
        "!ls -la /content/torrent_download"
      ]
    },
    {
      "cell_type": "code",
      "execution_count": null,
      "metadata": {
        "colab": {
          "base_uri": "https://localhost:8080/"
        },
        "id": "yaWaQRhivxAL",
        "outputId": "514650f9-50fa-47c8-f78a-ae653a54db69"
      },
      "outputs": [
        {
          "name": "stdout",
          "output_type": "stream",
          "text": [
            "Đã lấy metadata...\n",
            "File 0: 20161007161702/20161006080752.m2ts (Size: 10024058880 bytes)\n",
            "File 1: 20161007161702/_____padding_file_0_if you see this file, please update to BitComet 0.85 or above____ (Size: 327680 bytes)\n",
            "File 2: 20161007161702/20161007161702.m2ts (Size: 5339904000 bytes)\n",
            "File 3: 20161007161702/_____padding_file_1_if you see this file, please update to BitComet 0.85 or above____ (Size: 3639296 bytes)\n",
            "File 4: 20161007161702/20161007222240.m2ts (Size: 9810266112 bytes)\n",
            "File 5: 20161007161702/_____padding_file_2_if you see this file, please update to BitComet 0.85 or above____ (Size: 4405248 bytes)\n",
            "File 6: 20161007161702/20161123174914.m2ts (Size: 5363367936 bytes)\n",
            "File 7: 20161007161702/_____padding_file_3_if you see this file, please update to BitComet 0.85 or above____ (Size: 5341184 bytes)\n",
            "File 8: 20161007161702/20170726003506.m2ts (Size: 8030453760 bytes)\n",
            "File 9: 20161007161702/_____padding_file_4_if you see this file, please update to BitComet 0.85 or above____ (Size: 5832704 bytes)\n",
            "File 10: 20161007161702/20170726053002.m2ts (Size: 6883934208 bytes)\n",
            "File 11: 20161007161702/_____padding_file_5_if you see this file, please update to BitComet 0.85 or above____ (Size: 3112960 bytes)\n",
            "File 12: 20161007161702/20170825114733.m2ts (Size: 7956142080 bytes)\n",
            "File 13: 20161007161702/_____padding_file_6_if you see this file, please update to BitComet 0.85 or above____ (Size: 4646912 bytes)\n",
            "File 14: 20161007161702/sehuatang.org.txt (Size: 0 bytes)\n"
          ]
        }
      ],
      "source": [
        "# Liệt kê nọi dung torrent\n",
        "\n",
        "import libtorrent as lt\n",
        "import time\n",
        "\n",
        "ses = lt.session()\n",
        "ses.listen_on(6881, 6891)\n",
        "params = {\n",
        "    'save_path': '/content/torrent_download',\n",
        "    'storage_mode': lt.storage_mode_t(2)\n",
        "}\n",
        "\n",
        "link = \"magnet:?xt=urn:btih:b26970745496b877c9b7e64ef1afd5ddea7851f1&dn=%E3%81%82%E3%82%84%E3%81%BF%E6%97%AC%E6%9E%9C%20%20%E7%84%A1%E4%BF%AE%E6%AD%A3%20%E6%B5%81%E5%87%BA%20Shunka%20Ayami%20Uncensored%20Leaked%20-%20Part%20A&tr=http%3A%2F%2Fsukebei.tracker.wf%3A8888%2Fannounce&tr=udp%3A%2F%2Fopen.stealth.si%3A80%2Fannounce&tr=udp%3A%2F%2Ftracker.opentrackr.org%3A1337%2Fannounce&tr=udp%3A%2F%2Fexodus.desync.com%3A6969%2Fannounce&tr=udp%3A%2F%2Ftracker.torrent.eu.org%3A451%2Fannounce\"\n",
        "handle = lt.add_magnet_uri(ses, link, params)\n",
        "ses.start_dht()\n",
        "\n",
        "while not handle.has_metadata():\n",
        "    time.sleep(1)\n",
        "print(\"Đã lấy metadata...\")\n",
        "\n",
        "torrent_info = handle.get_torrent_info()\n",
        "for file_index, file_info in enumerate(torrent_info.files()):\n",
        "    print(f\"File {file_index}: {file_info.path} (Size: {file_info.size} bytes)\")\n",
        "\n",
        "# Chọn file/thư mục ở đây"
      ]
    },
    {
      "cell_type": "code",
      "execution_count": null,
      "metadata": {
        "colab": {
          "base_uri": "https://localhost:8080/",
          "height": 1000
        },
        "collapsed": true,
        "id": "B_bcjrE1wIqO",
        "outputId": "533fc176-1f58-4cbe-b0b7-c1aa28e79893"
      },
      "outputs": [
        {
          "name": "stdout",
          "output_type": "stream",
          "text": [
            "Đã lấy metadata...\n",
            "File 0: 20161007161702/20161006080752.m2ts (Size: 10024058880 bytes)\n",
            "File 1: 20161007161702/_____padding_file_0_if you see this file, please update to BitComet 0.85 or above____ (Size: 327680 bytes)\n",
            "File 2: 20161007161702/20161007161702.m2ts (Size: 5339904000 bytes)\n",
            "File 3: 20161007161702/_____padding_file_1_if you see this file, please update to BitComet 0.85 or above____ (Size: 3639296 bytes)\n",
            "File 4: 20161007161702/20161007222240.m2ts (Size: 9810266112 bytes)\n",
            "File 5: 20161007161702/_____padding_file_2_if you see this file, please update to BitComet 0.85 or above____ (Size: 4405248 bytes)\n",
            "File 6: 20161007161702/20161123174914.m2ts (Size: 5363367936 bytes)\n",
            "File 7: 20161007161702/_____padding_file_3_if you see this file, please update to BitComet 0.85 or above____ (Size: 5341184 bytes)\n",
            "File 8: 20161007161702/20170726003506.m2ts (Size: 8030453760 bytes)\n",
            "File 9: 20161007161702/_____padding_file_4_if you see this file, please update to BitComet 0.85 or above____ (Size: 5832704 bytes)\n",
            "File 10: 20161007161702/20170726053002.m2ts (Size: 6883934208 bytes)\n",
            "File 11: 20161007161702/_____padding_file_5_if you see this file, please update to BitComet 0.85 or above____ (Size: 3112960 bytes)\n",
            "File 12: 20161007161702/20170825114733.m2ts (Size: 7956142080 bytes)\n",
            "File 13: 20161007161702/_____padding_file_6_if you see this file, please update to BitComet 0.85 or above____ (Size: 4646912 bytes)\n",
            "File 14: 20161007161702/sehuatang.org.txt (Size: 0 bytes)\n",
            "Bắt đầu tải file được chọn...\n",
            "Tiến độ: 0.25% - Tốc độ: 19.95 kB/s - Trạng thái: checking\n",
            "Tiến độ: 2.94% - Tốc độ: 9.27 kB/s - Trạng thái: checking\n",
            "Tiến độ: 5.40% - Tốc độ: 3.04 kB/s - Trạng thái: checking\n",
            "Tiến độ: 8.08% - Tốc độ: 0.99 kB/s - Trạng thái: checking\n",
            "Tiến độ: 11.15% - Tốc độ: 0.32 kB/s - Trạng thái: checking\n",
            "Tiến độ: 13.39% - Tốc độ: 0.10 kB/s - Trạng thái: checking\n",
            "Tiến độ: 16.00% - Tốc độ: 0.03 kB/s - Trạng thái: checking\n",
            "Tiến độ: 19.12% - Tốc độ: 0.01 kB/s - Trạng thái: checking\n",
            "Tiến độ: 21.11% - Tốc độ: 0.00 kB/s - Trạng thái: checking\n",
            "Tiến độ: 23.96% - Tốc độ: 0.00 kB/s - Trạng thái: checking\n",
            "Tiến độ: 26.83% - Tốc độ: 0.00 kB/s - Trạng thái: checking\n",
            "Tiến độ: 29.25% - Tốc độ: 0.00 kB/s - Trạng thái: checking\n",
            "Tiến độ: 32.06% - Tốc độ: 0.00 kB/s - Trạng thái: checking\n",
            "Tiến độ: 34.74% - Tốc độ: 0.00 kB/s - Trạng thái: checking\n",
            "Tiến độ: 36.86% - Tốc độ: 0.00 kB/s - Trạng thái: checking\n",
            "Tiến độ: 39.62% - Tốc độ: 0.00 kB/s - Trạng thái: checking\n",
            "Tiến độ: 42.06% - Tốc độ: 0.00 kB/s - Trạng thái: checking\n",
            "Tiến độ: 44.36% - Tốc độ: 0.00 kB/s - Trạng thái: checking\n",
            "Tiến độ: 47.54% - Tốc độ: 0.00 kB/s - Trạng thái: checking\n",
            "Tiến độ: 49.72% - Tốc độ: 0.00 kB/s - Trạng thái: checking\n",
            "Tiến độ: 52.32% - Tốc độ: 0.00 kB/s - Trạng thái: checking\n",
            "Tiến độ: 55.18% - Tốc độ: 0.00 kB/s - Trạng thái: checking\n",
            "Tiến độ: 57.28% - Tốc độ: 0.00 kB/s - Trạng thái: checking\n",
            "Tiến độ: 60.06% - Tốc độ: 0.00 kB/s - Trạng thái: checking\n",
            "Tiến độ: 62.81% - Tốc độ: 0.00 kB/s - Trạng thái: checking\n",
            "Tiến độ: 64.76% - Tốc độ: 0.00 kB/s - Trạng thái: checking\n",
            "Tiến độ: 67.61% - Tốc độ: 0.00 kB/s - Trạng thái: checking\n",
            "Tiến độ: 70.28% - Tốc độ: 0.00 kB/s - Trạng thái: checking\n",
            "Tiến độ: 72.83% - Tốc độ: 0.00 kB/s - Trạng thái: checking\n",
            "Tiến độ: 75.60% - Tốc độ: 0.00 kB/s - Trạng thái: checking\n",
            "Tiến độ: 77.93% - Tốc độ: 0.00 kB/s - Trạng thái: checking\n",
            "Tiến độ: 80.24% - Tốc độ: 0.00 kB/s - Trạng thái: checking\n",
            "Tiến độ: 83.05% - Tốc độ: 0.00 kB/s - Trạng thái: checking\n",
            "Tiến độ: 85.32% - Tốc độ: 0.00 kB/s - Trạng thái: checking\n",
            "Tiến độ: 87.91% - Tốc độ: 0.00 kB/s - Trạng thái: checking\n",
            "Tiến độ: 90.75% - Tốc độ: 0.00 kB/s - Trạng thái: checking\n",
            "Tiến độ: 92.68% - Tốc độ: 0.00 kB/s - Trạng thái: checking\n",
            "Tiến độ: 95.51% - Tốc độ: 0.00 kB/s - Trạng thái: checking\n",
            "Tiến độ: 98.24% - Tốc độ: 0.00 kB/s - Trạng thái: checking\n",
            "Tiến độ: 100.00% - Tốc độ: 0.00 kB/s - Trạng thái: finished\n",
            "Tiến độ: 100.00% - Tốc độ: 0.00 kB/s - Trạng thái: finished\n",
            "Tiến độ: 100.00% - Tốc độ: 0.00 kB/s - Trạng thái: finished\n",
            "Tiến độ: 100.00% - Tốc độ: 0.00 kB/s - Trạng thái: finished\n",
            "Tiến độ: 100.00% - Tốc độ: 0.03 kB/s - Trạng thái: finished\n",
            "Tiến độ: 100.00% - Tốc độ: 0.01 kB/s - Trạng thái: finished\n",
            "Tiến độ: 100.00% - Tốc độ: 0.00 kB/s - Trạng thái: finished\n",
            "Tiến độ: 100.00% - Tốc độ: 0.00 kB/s - Trạng thái: finished\n",
            "Tiến độ: 100.00% - Tốc độ: 0.00 kB/s - Trạng thái: finished\n",
            "Tiến độ: 100.00% - Tốc độ: 0.00 kB/s - Trạng thái: finished\n",
            "Tiến độ: 100.00% - Tốc độ: 0.00 kB/s - Trạng thái: finished\n",
            "Tiến độ: 100.00% - Tốc độ: 0.00 kB/s - Trạng thái: finished\n",
            "Tiến độ: 100.00% - Tốc độ: 0.00 kB/s - Trạng thái: finished\n",
            "Tiến độ: 100.00% - Tốc độ: 0.00 kB/s - Trạng thái: finished\n",
            "Tiến độ: 100.00% - Tốc độ: 0.00 kB/s - Trạng thái: finished\n",
            "Tiến độ: 100.00% - Tốc độ: 0.00 kB/s - Trạng thái: finished\n",
            "Tiến độ: 100.00% - Tốc độ: 0.00 kB/s - Trạng thái: finished\n",
            "Tiến độ: 100.00% - Tốc độ: 0.00 kB/s - Trạng thái: finished\n",
            "Tiến độ: 100.00% - Tốc độ: 0.00 kB/s - Trạng thái: finished\n",
            "Tiến độ: 100.00% - Tốc độ: 0.00 kB/s - Trạng thái: finished\n",
            "Tiến độ: 100.00% - Tốc độ: 0.00 kB/s - Trạng thái: finished\n",
            "Tiến độ: 100.00% - Tốc độ: 0.00 kB/s - Trạng thái: finished\n",
            "Tiến độ: 100.00% - Tốc độ: 0.00 kB/s - Trạng thái: finished\n",
            "Tiến độ: 100.00% - Tốc độ: 0.00 kB/s - Trạng thái: finished\n",
            "Tiến độ: 100.00% - Tốc độ: 0.00 kB/s - Trạng thái: finished\n",
            "Tiến độ: 100.00% - Tốc độ: 0.00 kB/s - Trạng thái: finished\n",
            "Tiến độ: 100.00% - Tốc độ: 0.00 kB/s - Trạng thái: finished\n",
            "Tiến độ: 100.00% - Tốc độ: 0.00 kB/s - Trạng thái: finished\n",
            "Tiến độ: 100.00% - Tốc độ: 0.00 kB/s - Trạng thái: finished\n",
            "Tiến độ: 100.00% - Tốc độ: 0.00 kB/s - Trạng thái: finished\n",
            "Tiến độ: 100.00% - Tốc độ: 0.00 kB/s - Trạng thái: finished\n",
            "Tiến độ: 100.00% - Tốc độ: 0.00 kB/s - Trạng thái: finished\n",
            "Tiến độ: 100.00% - Tốc độ: 0.00 kB/s - Trạng thái: finished\n",
            "Tiến độ: 100.00% - Tốc độ: 0.00 kB/s - Trạng thái: finished\n",
            "Tiến độ: 100.00% - Tốc độ: 0.00 kB/s - Trạng thái: finished\n"
          ]
        },
        {
          "ename": "KeyboardInterrupt",
          "evalue": "",
          "output_type": "error",
          "traceback": [
            "\u001b[0;31m---------------------------------------------------------------------------\u001b[0m",
            "\u001b[0;31mKeyboardInterrupt\u001b[0m                         Traceback (most recent call last)",
            "\u001b[0;32m/tmp/ipython-input-29-1228103236.py\u001b[0m in \u001b[0;36m<cell line: 0>\u001b[0;34m()\u001b[0m\n\u001b[1;32m     33\u001b[0m     \u001b[0mstate_str\u001b[0m \u001b[0;34m=\u001b[0m \u001b[0;34m[\u001b[0m\u001b[0;34m'queued'\u001b[0m\u001b[0;34m,\u001b[0m \u001b[0;34m'checking'\u001b[0m\u001b[0;34m,\u001b[0m \u001b[0;34m'downloading metadata'\u001b[0m\u001b[0;34m,\u001b[0m \u001b[0;34m'downloading'\u001b[0m\u001b[0;34m,\u001b[0m \u001b[0;34m'finished'\u001b[0m\u001b[0;34m,\u001b[0m \u001b[0;34m'seeding'\u001b[0m\u001b[0;34m,\u001b[0m \u001b[0;34m'allocating'\u001b[0m\u001b[0;34m]\u001b[0m\u001b[0;34m\u001b[0m\u001b[0;34m\u001b[0m\u001b[0m\n\u001b[1;32m     34\u001b[0m     \u001b[0mprint\u001b[0m\u001b[0;34m(\u001b[0m\u001b[0;34mf\"Tiến độ: {s.progress * 100:.2f}% - Tốc độ: {s.download_rate / 1000:.2f} kB/s - Trạng thái: {state_str[s.state]}\"\u001b[0m\u001b[0;34m)\u001b[0m\u001b[0;34m\u001b[0m\u001b[0;34m\u001b[0m\u001b[0m\n\u001b[0;32m---> 35\u001b[0;31m     \u001b[0mtime\u001b[0m\u001b[0;34m.\u001b[0m\u001b[0msleep\u001b[0m\u001b[0;34m(\u001b[0m\u001b[0;36m5\u001b[0m\u001b[0;34m)\u001b[0m\u001b[0;34m\u001b[0m\u001b[0;34m\u001b[0m\u001b[0m\n\u001b[0m\u001b[1;32m     36\u001b[0m \u001b[0;32melse\u001b[0m\u001b[0;34m:\u001b[0m\u001b[0;34m\u001b[0m\u001b[0;34m\u001b[0m\u001b[0m\n\u001b[1;32m     37\u001b[0m     \u001b[0mprint\u001b[0m\u001b[0;34m(\u001b[0m\u001b[0;34m\"Hoàn tất tải torrent!\"\u001b[0m\u001b[0;34m)\u001b[0m\u001b[0;34m\u001b[0m\u001b[0;34m\u001b[0m\u001b[0m\n",
            "\u001b[0;31mKeyboardInterrupt\u001b[0m: "
          ]
        }
      ],
      "source": [
        "import libtorrent as lt\n",
        "import time\n",
        "\n",
        "ses = lt.session()\n",
        "ses.listen_on(6881, 6891)\n",
        "params = {\n",
        "    'save_path': '/content/torrent_download',\n",
        "    'storage_mode': lt.storage_mode_t(2)\n",
        "}\n",
        "\n",
        "link = \"magnet:?xt=urn:btih:b26970745496b877c9b7e64ef1afd5ddea7851f1&dn=%E3%81%82%E3%82%84%E3%81%BF%E6%97%AC%E6%9E%9C%20%20%E7%84%A1%E4%BF%AE%E6%AD%A3%20%E6%B5%81%E5%87%BA%20Shunka%20Ayami%20Uncensored%20Leaked%20-%20Part%20A&tr=http%3A%2F%2Fsukebei.tracker.wf%3A8888%2Fannounce&tr=udp%3A%2F%2Fopen.stealth.si%3A80%2Fannounce&tr=udp%3A%2F%2Ftracker.opentrackr.org%3A1337%2Fannounce&tr=udp%3A%2F%2Fexodus.desync.com%3A6969%2Fannounce&tr=udp%3A%2F%2Ftracker.torrent.eu.org%3A451%2Fannounce\"\n",
        "handle = lt.add_magnet_uri(ses, link, params)\n",
        "ses.start_dht()\n",
        "\n",
        "while not handle.has_metadata():\n",
        "    time.sleep(1)\n",
        "print(\"Đã lấy metadata...\")\n",
        "\n",
        "# Liệt kê nội dung torrent để kiểm tra\n",
        "torrent_info = handle.get_torrent_info()\n",
        "for file_index, file_info in enumerate(torrent_info.files()):\n",
        "    print(f\"File {file_index}: {file_info.path} (Size: {file_info.size} bytes)\")\n",
        "\n",
        "# Chọn file mong muốn (chỉ số từ 0 đến 4 nếu có 5 file)\n",
        "desired_file_index = 5  # Thay bằng chỉ số bạn muốn (0, 1, 2, 3, hoặc 4)\n",
        "for i in range(torrent_info.num_files()):\n",
        "    handle.file_priority(i, 0)  # Đặt ưu tiên 0 cho tất cả file\n",
        "handle.file_priority(desired_file_index, 1)  # Đặt ưu tiên 1 cho file mong muốn\n",
        "\n",
        "print(\"Bắt đầu tải file được chọn...\")\n",
        "while handle.status().state != lt.torrent_status.seeding:\n",
        "    s = handle.status()\n",
        "    state_str = ['queued', 'checking', 'downloading metadata', 'downloading', 'finished', 'seeding', 'allocating']\n",
        "    print(f\"Tiến độ: {s.progress * 100:.2f}% - Tốc độ: {s.download_rate / 1000:.2f} kB/s - Trạng thái: {state_str[s.state]}\")\n",
        "    time.sleep(5)\n",
        "else:\n",
        "    print(\"Hoàn tất tải torrent!\")\n",
        "\n",
        "# Kiểm tra thư mục sau khi tải\n",
        "!ls -la /content/torrent_download"
      ]
    },
    {
      "cell_type": "code",
      "execution_count": null,
      "metadata": {
        "colab": {
          "base_uri": "https://localhost:8080/",
          "height": 508
        },
        "id": "xVWrSrNs8D_b",
        "outputId": "a919041f-0679-4013-bee1-ebc84cb25371"
      },
      "outputs": [
        {
          "name": "stdout",
          "output_type": "stream",
          "text": [
            "Nhập magnet link (hoặc 'q' để thoát): magnet:?xt=urn:btih:9DE756016D28FECD35DC7AA76B768A5A5D073948&dn=I+Spit+on+Your+Grave+%282010%29+%5B1080p%5D+%5BYTS.MX%5D&tr=udp%3A%2F%2Ftracker.opentrackr.org%3A1337%2Fannounce&tr=udp%3A%2F%2Fopen.tracker.cl%3A1337%2Fannounce&tr=udp%3A%2F%2Fp4p.arenabg.com%3A1337%2Fannounce&tr=udp%3A%2F%2Ftracker.torrent.eu.org%3A451%2Fannounce&tr=udp%3A%2F%2Ftracker.dler.org%3A6969%2Fannounce&tr=udp%3A%2F%2Fopen.stealth.si%3A80%2Fannounce&tr=udp%3A%2F%2Fipv4.tracker.harry.lu%3A80%2Fannounce&tr=https%3A%2F%2Fopentracker.i2p.rocks%3A443%2Fannounce\n",
            "Đã lấy metadata...\n",
            "\n",
            "Nội dung torrent:\n",
            "[0] I Spit on your Grave (2010) [1080p]/I.Spit.On.Your.Grave.2010.1080p.BrRip.x264.bitloks.YIFY.mp4 (Size: 1658.03 MB)\n",
            "[1] I Spit on your Grave (2010) [1080p]/I.Spit.On.Your.Grave.2010.1080p.BrRip.x264.bitloks.YIFY.srt (Size: 0.07 MB)\n",
            "[2] I Spit on your Grave (2010) [1080p]/WWW.YIFY-TORRENTS.COM.jpg (Size: 0.12 MB)\n",
            "\n",
            "Tải toàn bộ (y/n/q)? y\n",
            "Bắt đầu tải toàn bộ torrent...\n",
            "Tiến độ: 7.12% - Tốc độ: 5.39 kB/s - Tốc độ upload: 5.58 kB/s - Peer: 1 - Trạng thái: downloading\n",
            "Tiến độ: 7.39% - Tốc độ: 530.09 kB/s - Tốc độ upload: 24.59 kB/s - Peer: 14 - Trạng thái: downloading\n",
            "Tiến độ: 8.18% - Tốc độ: 2183.81 kB/s - Tốc độ upload: 77.29 kB/s - Peer: 15 - Trạng thái: downloading\n",
            "Tiến độ: 9.24% - Tốc độ: 3328.08 kB/s - Tốc độ upload: 120.89 kB/s - Peer: 19 - Trạng thái: downloading\n",
            "Tiến độ: 10.43% - Tốc độ: 3809.17 kB/s - Tốc độ upload: 123.01 kB/s - Peer: 24 - Trạng thái: downloading\n",
            "Tiến độ: 11.52% - Tốc độ: 3932.46 kB/s - Tốc độ upload: 122.36 kB/s - Peer: 36 - Trạng thái: downloading\n"
          ]
        },
        {
          "ename": "KeyboardInterrupt",
          "evalue": "",
          "output_type": "error",
          "traceback": [
            "\u001b[0;31m---------------------------------------------------------------------------\u001b[0m",
            "\u001b[0;31mKeyboardInterrupt\u001b[0m                         Traceback (most recent call last)",
            "\u001b[0;32m/tmp/ipython-input-35-2179717891.py\u001b[0m in \u001b[0;36m<cell line: 0>\u001b[0;34m()\u001b[0m\n\u001b[1;32m     68\u001b[0m             \u001b[0;32mwhile\u001b[0m \u001b[0mhandle\u001b[0m\u001b[0;34m.\u001b[0m\u001b[0mstatus\u001b[0m\u001b[0;34m(\u001b[0m\u001b[0;34m)\u001b[0m\u001b[0;34m.\u001b[0m\u001b[0mstate\u001b[0m \u001b[0;34m!=\u001b[0m \u001b[0mlt\u001b[0m\u001b[0;34m.\u001b[0m\u001b[0mtorrent_status\u001b[0m\u001b[0;34m.\u001b[0m\u001b[0mseeding\u001b[0m\u001b[0;34m:\u001b[0m\u001b[0;34m\u001b[0m\u001b[0;34m\u001b[0m\u001b[0m\n\u001b[1;32m     69\u001b[0m                 \u001b[0mprint\u001b[0m\u001b[0;34m(\u001b[0m\u001b[0mdisplay_progress\u001b[0m\u001b[0;34m(\u001b[0m\u001b[0mhandle\u001b[0m\u001b[0;34m)\u001b[0m\u001b[0;34m)\u001b[0m\u001b[0;34m\u001b[0m\u001b[0;34m\u001b[0m\u001b[0m\n\u001b[0;32m---> 70\u001b[0;31m                 \u001b[0mtime\u001b[0m\u001b[0;34m.\u001b[0m\u001b[0msleep\u001b[0m\u001b[0;34m(\u001b[0m\u001b[0;36m5\u001b[0m\u001b[0;34m)\u001b[0m\u001b[0;34m\u001b[0m\u001b[0;34m\u001b[0m\u001b[0m\n\u001b[0m\u001b[1;32m     71\u001b[0m             \u001b[0;32melse\u001b[0m\u001b[0;34m:\u001b[0m\u001b[0;34m\u001b[0m\u001b[0;34m\u001b[0m\u001b[0m\n\u001b[1;32m     72\u001b[0m                 \u001b[0mprint\u001b[0m\u001b[0;34m(\u001b[0m\u001b[0;34m\"Hoàn tất tải torrent!\"\u001b[0m\u001b[0;34m)\u001b[0m\u001b[0;34m\u001b[0m\u001b[0;34m\u001b[0m\u001b[0m\n",
            "\u001b[0;31mKeyboardInterrupt\u001b[0m: "
          ]
        }
      ],
      "source": [
        "import libtorrent as lt\n",
        "import time\n",
        "\n",
        "def get_torrent_info(handle):\n",
        "    while not handle.has_metadata():\n",
        "        time.sleep(1)\n",
        "    torrent_info = handle.get_torrent_info()\n",
        "    files = []\n",
        "    for file_index, file_info in enumerate(torrent_info.files()):\n",
        "        files.append((file_index, file_info.path, file_info.size))\n",
        "    return files, torrent_info.num_files()\n",
        "\n",
        "def display_progress(handle):\n",
        "    s = handle.status()\n",
        "    state_str = ['queued', 'checking', 'downloading metadata', 'downloading', 'finished', 'seeding', 'allocating']\n",
        "    return f\"Tiến độ: {s.progress * 100:.2f}% - Tốc độ: {s.download_rate / 1000:.2f} kB/s - Tốc độ upload: {s.upload_rate / 1000:.2f} kB/s - Peer: {s.num_peers} - Trạng thái: {state_str[s.state]}\"\n",
        "\n",
        "# Khởi tạo session\n",
        "ses = lt.session()\n",
        "ses.listen_on(6881, 6891)\n",
        "\n",
        "while True:\n",
        "    # Nhập magnet link\n",
        "    magnet_link = input(\"Nhập magnet link (hoặc 'q' để thoát): \")\n",
        "    if magnet_link.lower() == 'q':\n",
        "        print(\"Đã thoát chương trình!\")\n",
        "        break\n",
        "\n",
        "    # Thêm torrent\n",
        "    params = {'save_path': '/content/torrent_download', 'storage_mode': lt.storage_mode_t(2)}\n",
        "    handle = lt.add_magnet_uri(ses, magnet_link, params)\n",
        "    ses.start_dht()\n",
        "\n",
        "    # Chờ metadata và kiểm tra kết nối\n",
        "    start_time = time.time()\n",
        "    max_wait = 60  # Tối đa 60 giây chờ metadata\n",
        "    while not handle.has_metadata():\n",
        "        if time.time() - start_time > max_wait:\n",
        "            print(\"Không thể kết nối hoặc không có seeder. Vui lòng thử link khác hoặc nhập 'q' để thoát.\")\n",
        "            break\n",
        "        time.sleep(1)\n",
        "    else:\n",
        "        print(\"Đã lấy metadata...\")\n",
        "\n",
        "        # Liệt kê nội dung torrent\n",
        "        files, num_files = get_torrent_info(handle)\n",
        "        if files:\n",
        "            print(\"\\nNội dung torrent:\")\n",
        "            for file_index, path, size in files:\n",
        "                print(f\"[{file_index}] {path} (Size: {size / 1024 / 1024:.2f} MB)\")\n",
        "\n",
        "        # Hỏi chọn tải toàn bộ hay chọn file (UX giống rclone)\n",
        "        while True:\n",
        "            choice = input(\"\\nTải toàn bộ (y/n/q)? \")\n",
        "            if choice.lower() == 'q':\n",
        "                print(\"Đã thoát lựa chọn.\")\n",
        "                break\n",
        "            elif choice.lower() in ['y', 'n']:\n",
        "                break\n",
        "            else:\n",
        "                print(\"Lựa chọn không hợp lệ. Vui lòng nhập 'y' (tải toàn bộ), 'n' (chọn file/thư mục), hoặc 'q' (thoát).\")\n",
        "\n",
        "        if choice.lower() == 'y':\n",
        "            # Tải toàn bộ\n",
        "            for i in range(num_files):\n",
        "                handle.file_priority(i, 1)\n",
        "            print(\"Bắt đầu tải toàn bộ torrent...\")\n",
        "            while handle.status().state != lt.torrent_status.seeding:\n",
        "                print(display_progress(handle))\n",
        "                time.sleep(5)\n",
        "            else:\n",
        "                print(\"Hoàn tất tải torrent!\")\n",
        "        elif choice.lower() == 'n':\n",
        "            # Chọn file/thư mục\n",
        "            while True:\n",
        "                selected_indices = input(\"Nhập các chỉ số file/thư mục muốn tải (ngăn cách bằng dấu phẩy, ví dụ: 0,2,4) hoặc 'q' để thoát: \")\n",
        "                if selected_indices.lower() == 'q':\n",
        "                    print(\"Đã thoát lựa chọn.\")\n",
        "                    break\n",
        "                try:\n",
        "                    indices = [int(i.strip()) for i in selected_indices.split(',')]\n",
        "                    for i in range(num_files):\n",
        "                        handle.file_priority(i, 0)  # Không tải các file khác\n",
        "                    for index in indices:\n",
        "                        if 0 <= index < num_files:\n",
        "                            handle.file_priority(index, 1)  # Tải file được chọn\n",
        "                        else:\n",
        "                            print(f\"Chỉ số {index} không hợp lệ, bỏ qua.\")\n",
        "                    print(\"Bắt đầu tải các file được chọn...\")\n",
        "                    while handle.status().state != lt.torrent_status.seeding:\n",
        "                        s = handle.status()\n",
        "                        state_str = ['queued', 'checking', 'downloading metadata', 'downloading', 'finished', 'seeding', 'allocating']\n",
        "                        if s.num_pieces > 0:  # Đảm bảo có dữ liệu để hiển thị\n",
        "                            for i in range(num_files):\n",
        "                                if handle.file_priority(i) > 0:\n",
        "                                    progress = sum(1 for j in range(s.pieces_size()) if s.piece_priority(j)) / s.num_pieces * 100 if s.num_pieces > 0 else 0\n",
        "                                    print(f\"File {files[i][1]}: Tiến độ {progress:.2f}% - Tốc độ: {s.download_rate / 1000:.2f} kB/s - Peer: {s.num_peers}\")\n",
        "                        time.sleep(5)\n",
        "                    else:\n",
        "                        print(\"Hoàn tất tải các file được chọn!\")\n",
        "                    break\n",
        "                except ValueError:\n",
        "                    print(\"Định dạng không hợp lệ. Vui lòng nhập các số ngăn cách bằng dấu phẩy.\")\n",
        "\n",
        "        # Kiểm tra thư mục sau khi tải\n",
        "        !ls -la /content/torrent_download\n",
        "\n",
        "    if time.time() - start_time > max_wait:\n",
        "        continue  # Quay lại nhập link mới nếu không kết nối được"
      ]
    },
    {
      "cell_type": "markdown",
      "metadata": {
        "id": "4eazjETO4lDZ"
      },
      "source": [
        "**JavaScript giữ kết nối colab**\n",
        "\n",
        "F12 > Console"
      ]
    },
    {
      "cell_type": "code",
      "execution_count": null,
      "metadata": {
        "id": "pzNEGLrK4kiG"
      },
      "outputs": [],
      "source": [
        "function ClickConnect(){\n",
        "    document.querySelector(\"colab-connect-button\").click()\n",
        "}\n",
        "setInterval(ClickConnect, 300000); // 5 phút"
      ]
    }
  ],
  "metadata": {
    "colab": {
      "provenance": [],
      "include_colab_link": true
    },
    "kernelspec": {
      "display_name": "Python 3",
      "name": "python3"
    },
    "language_info": {
      "name": "python"
    }
  },
  "nbformat": 4,
  "nbformat_minor": 0
}