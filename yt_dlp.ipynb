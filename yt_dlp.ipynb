{
  "nbformat": 4,
  "nbformat_minor": 0,
  "metadata": {
    "colab": {
      "provenance": [],
      "mount_file_id": "1m0Ut9WORc4kk5yzS46gTqNAQylbLosmD",
      "authorship_tag": "ABX9TyNOb6CHtDqBSV/ktPm4L8t8",
      "include_colab_link": true
    },
    "kernelspec": {
      "name": "python3",
      "display_name": "Python 3"
    },
    "language_info": {
      "name": "python"
    }
  },
  "cells": [
    {
      "cell_type": "markdown",
      "metadata": {
        "id": "view-in-github",
        "colab_type": "text"
      },
      "source": [
        "<a href=\"https://colab.research.google.com/github/XekoFrontend/google-colab-notebook/blob/main/yt_dlp.ipynb\" target=\"_parent\"><img src=\"https://colab.research.google.com/assets/colab-badge.svg\" alt=\"Open In Colab\"/></a>"
      ]
    },
    {
      "cell_type": "markdown",
      "source": [
        "# **Install yt-dlp & ffmpeg**\n",
        "\n",
        "\n",
        "*   ⚠️Chú ý dùng `!` trước command\n",
        "\n"
      ],
      "metadata": {
        "id": "I1XY90xuKUqu"
      }
    },
    {
      "cell_type": "code",
      "execution_count": null,
      "metadata": {
        "id": "Z-HSmGpDN_AW",
        "collapsed": true
      },
      "outputs": [],
      "source": [
        "pip install -U yt-dlp"
      ]
    },
    {
      "cell_type": "code",
      "source": [
        "!sudo apt install ffmpeg"
      ],
      "metadata": {
        "id": "OEpImJ1fON7u",
        "collapsed": true
      },
      "execution_count": null,
      "outputs": []
    },
    {
      "cell_type": "markdown",
      "source": [
        "# **Get .m3u8**\n",
        "\n",
        "*   yt-dlt Trả về URL của file `.m3u8` hoặc các luồng video khả dụng.\n",
        "*   Nếu không được, thử dùng extension *HLS Downloader*\n",
        "\n"
      ],
      "metadata": {
        "id": "tSLoECabKfXo"
      }
    },
    {
      "cell_type": "code",
      "source": [
        "yt-dlp --get-url \"https://www3.nhk.or.jp/nhkworld/en/shows/4003192/\""
      ],
      "metadata": {
        "id": "OO6vDXHtKdYl"
      },
      "execution_count": null,
      "outputs": []
    },
    {
      "cell_type": "markdown",
      "source": [
        "# **Basic get video**"
      ],
      "metadata": {
        "id": "gQSz3EOLKmaT"
      }
    },
    {
      "cell_type": "code",
      "source": [
        "!yt-dlp https://www3.nhk.or.jp/nhkworld/en/shows/4003192/\n",
        "# -v để xem log"
      ],
      "metadata": {
        "id": "0ODPdKhtQSfr"
      },
      "execution_count": null,
      "outputs": []
    },
    {
      "cell_type": "code",
      "source": [
        "# Kiểm tra định dạng\n",
        "!yt-dlp -F \"https://www3.nhk.or.jp/nhkworld/en/shows/4003192/\""
      ],
      "metadata": {
        "cellView": "code",
        "id": "FmIOwmQeNuW0"
      },
      "execution_count": null,
      "outputs": []
    },
    {
      "cell_type": "code",
      "source": [
        "# Chọn định dạng & download: -f number\n",
        "# Hoặc định dạng cao nhất: -f best\n",
        "!yt-dlp -f 251 -v \"https://www3.nhk.or.jp/nhkworld/en/shows/4003192/\""
      ],
      "metadata": {
        "collapsed": true,
        "cellView": "code",
        "id": "y9XeE2YfPINi"
      },
      "execution_count": null,
      "outputs": []
    },
    {
      "cell_type": "code",
      "source": [
        "# Subtitle download\n",
        "'''\n",
        "--write-subs: Yêu cầu tải phụ đề.\n",
        "--sub-lang en: Chỉ định ngôn ngữ tiếng Anh.\n",
        "--skip-download: Bỏ qua việc tải video, chỉ tải phụ đề\n",
        "'''\n",
        "!yt-dlp --write-subs --sub-lang en --skip-download \"https://www3.nhk.or.jp/nhkworld/en/shows/4003192/\" -o \"Detective_Conan_Aoyama_Gosho\""
      ],
      "metadata": {
        "id": "XL3LYU9LSji8",
        "collapsed": true
      },
      "execution_count": null,
      "outputs": []
    },
    {
      "cell_type": "code",
      "source": [],
      "metadata": {
        "id": "AWNR_z6TfRHk"
      },
      "execution_count": null,
      "outputs": []
    }
  ]
}