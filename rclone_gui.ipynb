{
  "cells": [
    {
      "cell_type": "markdown",
      "metadata": {
        "id": "view-in-github",
        "colab_type": "text"
      },
      "source": [
        "<a href=\"https://colab.research.google.com/github/XekoFrontend/google-colab-notebook/blob/main/rclone_gui.ipynb\" target=\"_parent\"><img src=\"https://colab.research.google.com/assets/colab-badge.svg\" alt=\"Open In Colab\"/></a>"
      ]
    },
    {
      "cell_type": "markdown",
      "metadata": {
        "id": "XpCFwQWZefCH"
      },
      "source": [
        "# 📌 **Install**\n"
      ]
    },
    {
      "cell_type": "code",
      "execution_count": 6,
      "metadata": {
        "collapsed": true,
        "id": "GlikPwUgTvg1",
        "colab": {
          "base_uri": "https://localhost:8080/"
        },
        "outputId": "e3c9a3c3-a95e-4155-c81b-65c2e380ab4a"
      },
      "outputs": [
        {
          "output_type": "stream",
          "name": "stdout",
          "text": [
            "  % Total    % Received % Xferd  Average Speed   Time    Time     Time  Current\n",
            "                                 Dload  Upload   Total   Spent    Left  Speed\n",
            "100  4734  100  4734    0     0   9304      0 --:--:-- --:--:-- --:--:--  9300\n",
            "Archive:  rclone-current-linux-amd64.zip\n",
            "   creating: tmp_unzip_dir_for_rclone/rclone-v1.71.0-linux-amd64/\n",
            "  inflating: tmp_unzip_dir_for_rclone/rclone-v1.71.0-linux-amd64/rclone.1  [text]  \n",
            "  inflating: tmp_unzip_dir_for_rclone/rclone-v1.71.0-linux-amd64/README.html  [text]  \n",
            "  inflating: tmp_unzip_dir_for_rclone/rclone-v1.71.0-linux-amd64/git-log.txt  [text]  \n",
            "  inflating: tmp_unzip_dir_for_rclone/rclone-v1.71.0-linux-amd64/README.txt  [text]  \n",
            "  inflating: tmp_unzip_dir_for_rclone/rclone-v1.71.0-linux-amd64/rclone  [binary]\n",
            "Purging old database entries in /usr/share/man...\n",
            "Processing manual pages under /usr/share/man...\n",
            "Updating index cache for path `/usr/share/man/man1'. Wait...done.\n",
            "Checking for stray cats under /usr/share/man...\n",
            "Checking for stray cats under /var/cache/man...\n",
            "Purging old database entries in /usr/share/man/pl...\n",
            "Processing manual pages under /usr/share/man/pl...\n",
            "Purging old database entries in /usr/share/man/ko...\n",
            "Processing manual pages under /usr/share/man/ko...\n",
            "Purging old database entries in /usr/share/man/tr...\n",
            "Processing manual pages under /usr/share/man/tr...\n",
            "Purging old database entries in /usr/share/man/sl...\n",
            "Processing manual pages under /usr/share/man/sl...\n",
            "Purging old database entries in /usr/share/man/sv...\n",
            "Processing manual pages under /usr/share/man/sv...\n",
            "Purging old database entries in /usr/share/man/it...\n",
            "Processing manual pages under /usr/share/man/it...\n",
            "Purging old database entries in /usr/share/man/pt_BR...\n",
            "Processing manual pages under /usr/share/man/pt_BR...\n",
            "Purging old database entries in /usr/share/man/id...\n",
            "Processing manual pages under /usr/share/man/id...\n",
            "Purging old database entries in /usr/share/man/hu...\n",
            "Processing manual pages under /usr/share/man/hu...\n",
            "Purging old database entries in /usr/share/man/zh_TW...\n",
            "Processing manual pages under /usr/share/man/zh_TW...\n",
            "Purging old database entries in /usr/share/man/pt...\n",
            "Processing manual pages under /usr/share/man/pt...\n",
            "Purging old database entries in /usr/share/man/fr...\n",
            "Processing manual pages under /usr/share/man/fr...\n",
            "Purging old database entries in /usr/share/man/nl...\n",
            "Processing manual pages under /usr/share/man/nl...\n",
            "Purging old database entries in /usr/share/man/da...\n",
            "Processing manual pages under /usr/share/man/da...\n",
            "Purging old database entries in /usr/share/man/zh_CN...\n",
            "Processing manual pages under /usr/share/man/zh_CN...\n",
            "Purging old database entries in /usr/share/man/cs...\n",
            "Processing manual pages under /usr/share/man/cs...\n",
            "Purging old database entries in /usr/share/man/de...\n",
            "Processing manual pages under /usr/share/man/de...\n",
            "Purging old database entries in /usr/share/man/es...\n",
            "Processing manual pages under /usr/share/man/es...\n",
            "Purging old database entries in /usr/share/man/ru...\n",
            "Processing manual pages under /usr/share/man/ru...\n",
            "Purging old database entries in /usr/share/man/ja...\n",
            "Processing manual pages under /usr/share/man/ja...\n",
            "Purging old database entries in /usr/share/man/sr...\n",
            "Processing manual pages under /usr/share/man/sr...\n",
            "Purging old database entries in /usr/share/man/ro...\n",
            "Processing manual pages under /usr/share/man/ro...\n",
            "Purging old database entries in /usr/share/man/uk...\n",
            "Processing manual pages under /usr/share/man/uk...\n",
            "Processing manual pages under /usr/local/man...\n",
            "mandb: can't update index cache /var/cache/man/oldlocal/4824: No such file or directory\n",
            "Updating index cache for path `/usr/local/man/man1'. Wait...done.\n",
            "Checking for stray cats under /usr/local/man...\n",
            "Checking for stray cats under /var/cache/man/oldlocal...\n",
            "2 man subdirectories contained newer manual pages.\n",
            "55 manual pages were added.\n",
            "0 stray cats were added.\n",
            "17 old database entries were purged.\n",
            "\n",
            "rclone v1.71.0 has successfully installed.\n",
            "Now run \"rclone config\" for setup. Check https://rclone.org/docs/ for more details.\n",
            "\n"
          ]
        }
      ],
      "source": [
        "# Cài đặt rClone\n",
        "!sudo -v ; curl https://rclone.org/install.sh | sudo bash"
      ]
    },
    {
      "cell_type": "code",
      "execution_count": 13,
      "metadata": {
        "id": "TVMm_mKlUExj",
        "colab": {
          "base_uri": "https://localhost:8080/"
        },
        "outputId": "5a4b5429-8faa-469d-cd8f-5e872fcd5092"
      },
      "outputs": [
        {
          "output_type": "stream",
          "name": "stdout",
          "text": [
            "archive:\n",
            "onedrive:\n",
            "googledrive1:\n",
            "googledrive2:\n",
            "box:\n"
          ]
        }
      ],
      "source": [
        "# Danh sách remotes đang có\n",
        "!rclone listremotes"
      ]
    },
    {
      "cell_type": "code",
      "execution_count": 8,
      "metadata": {
        "id": "MmyLLIMPT-Ku"
      },
      "outputs": [],
      "source": [
        "# Khôi phục file config\n",
        "!cp \"/content/drive/MyDrive/Colab Notebooks/rclone.conf\" /root/.config/rclone/rclone.conf"
      ]
    },
    {
      "cell_type": "markdown",
      "metadata": {
        "id": "pT6xF6HFUOfd"
      },
      "source": [
        "# ⚙️ **Config remotes**"
      ]
    },
    {
      "cell_type": "markdown",
      "metadata": {
        "id": "RQaFQBLqqCAB"
      },
      "source": [
        "Modify remotes"
      ]
    },
    {
      "cell_type": "code",
      "execution_count": null,
      "metadata": {
        "collapsed": true,
        "id": "7xUNqlKrAHaf"
      },
      "outputs": [],
      "source": [
        "!rclone --version"
      ]
    },
    {
      "cell_type": "code",
      "execution_count": null,
      "metadata": {
        "collapsed": true,
        "id": "fj1w6avIgRNN"
      },
      "outputs": [],
      "source": [
        "# Tạo mới, chỉnh sửa, xóa hoặc kiểm tra remote.\n",
        "!rclone config"
      ]
    },
    {
      "cell_type": "markdown",
      "metadata": {
        "id": "8hPt4gIPp98Y"
      },
      "source": [
        "Backup config"
      ]
    },
    {
      "cell_type": "code",
      "execution_count": null,
      "metadata": {
        "id": "mO5IAMs_gkke"
      },
      "outputs": [],
      "source": [
        "# Backup config\n",
        "!cp /root/.config/rclone/rclone.conf /content/rclone.conf\n",
        "!rclone copy -v \"/content/rclone.conf\" \"/content/drive/MyDrive/Colab Notebooks/backup/rclone-renamed.conf\""
      ]
    },
    {
      "cell_type": "markdown",
      "metadata": {
        "id": "-E3gMs4qiSY0"
      },
      "source": [
        "# 🎯 **Các lệnh Copy**"
      ]
    },
    {
      "cell_type": "code",
      "execution_count": 16,
      "metadata": {
        "collapsed": true,
        "id": "4-5lI6wKiZ9a",
        "colab": {
          "base_uri": "https://localhost:8080/"
        },
        "outputId": "e6bb0b1d-618c-490e-8c6b-cc704156faa9"
      },
      "outputs": [
        {
          "output_type": "stream",
          "name": "stdout",
          "text": [
            "2025/09/11 01:14:17 INFO  : t.txt: Copied (new)\n",
            "2025/09/11 01:14:48 INFO  : 20210711_Vuogle . TVM.webm: Copied (new)\n",
            "2025/09/11 01:15:15 INFO  : \n",
            "Transferred:   \t  239.130 MiB / 418.262 MiB, 57%, 2.114 MiB/s, ETA 1m24s\n",
            "Checks:                 0 / 0, -, Listed 62\n",
            "Transferred:            2 / 3, 67%\n",
            "Elapsed time:       1m0.0s\n",
            "Transferring:\n",
            " *           20210801_Vuogle . TVM 1⧸8⧸2021.webm: 26% /242.253Mi, 1.426Mi/s, 2m5s\n",
            "\n",
            "2025/09/11 01:16:15 INFO  : \n",
            "Transferred:   \t  329.161 MiB / 418.262 MiB, 79%, 1.843 MiB/s, ETA 48s\n",
            "Checks:                 0 / 0, -, Listed 62\n",
            "Transferred:            2 / 3, 67%\n",
            "Elapsed time:       2m0.0s\n",
            "Transferring:\n",
            " *           20210801_Vuogle . TVM 1⧸8⧸2021.webm: 63% /242.253Mi, 1.837Mi/s, 48s\n",
            "\n",
            "2025/09/11 01:16:53 INFO  : 20210801_Vuogle . TVM 1⧸8⧸2021.webm: Copied (new)\n",
            "2025/09/11 01:16:53 INFO  : \n",
            "Transferred:   \t  418.262 MiB / 418.262 MiB, 100%, 2.113 MiB/s, ETA 0s\n",
            "Checks:                 0 / 0, -, Listed 62\n",
            "Transferred:            3 / 3, 100%\n",
            "Elapsed time:      2m38.2s\n",
            "\n"
          ]
        }
      ],
      "source": [
        "# @title Basic: Copy files between Cloud\n",
        "# @markdown **Lưu ý**:\n",
        "# @markdown - nếu thêm `/` ở cuối, chỉ copy nội dung bên trong\n",
        "# @markdown - không dùng `/` ở cuối thì copy cả folder\n",
        "\n",
        "source_remote = \"/content/\" # @param [\"/content/\",\"googledrive1\",\"onedrive\",\"googledrive2\",\"archive\", \"box\"]\n",
        "input_folder = \"audio_downloads\" # @param {\"type\":\"string\",\"placeholder\":\"dùng `/` để phân cấp folder hoặc file, để trống là toàn bộ remote\"}\n",
        "# @markdown ---\n",
        "\n",
        "destination_remote = \"archive\" # @param [\"archive\",\"onedrive\",\"googledrive2\",\"googledrive1\", \"box\",\"/content/\"]\n",
        "destination_folder = \"artpodcastvn/vuogle/\" # @param {\"type\":\"string\",\"placeholder\":\"dùng `/` để phân cấp folder hoặc tạo thư mục trong archive.\"}\n",
        "# @markdown ---\n",
        "\n",
        "option_flag = \"--s3-upload-concurrency 1\" # @param {\"type\":\"string\",\"placeholder\":\"thêm `--flag` nếu cần, dùng space phân cách các flag\"}\n",
        "\n",
        "# Kiểm tra và thực thi lệnh copy\n",
        "if source_remote and destination_remote:\n",
        "    # Xử lý đường dẫn\n",
        "    ## FIX: Xử lý đường dẫn khác nhau cho local vs remote\n",
        "    if source_remote.startswith(\"/\"):\n",
        "        # Local path - không dùng dấu :\n",
        "        source_path = f\"{source_remote}{input_folder}\" if input_folder else source_remote\n",
        "    else:\n",
        "        # Remote path - dùng dấu :\n",
        "        source_path = f\"{source_remote}:{input_folder}\" if input_folder else f\"{source_remote}:\"\n",
        "\n",
        "\n",
        "    #dest_path = f\"{destination_remote}:{destination_folder}\" if destination_folder else f\"{destination_remote}:\"\n",
        "    if destination_remote.startswith(\"/\"):\n",
        "        # Local path - không dùng dấu :\n",
        "        destination_path = f\"{destination_remote}{input_folder}\" if input_folder else destination_remote\n",
        "    else:\n",
        "        # Remote path - dùng dấu :\n",
        "        destination_path = f\"{destination_remote}:{input_folder}\" if input_folder else f\"{destination_remote}:\"\n",
        "\n",
        "    # Xử lý option_flag\n",
        "    if option_flag.strip():\n",
        "        flags = option_flag.strip().split()\n",
        "        command_flags = \"-v \" + \" \".join(flags)  # Kết hợp -v với các flag người dùng nhập\n",
        "    else:\n",
        "        command_flags = \"-v\"  # Mặc định chỉ dùng -v\n",
        "\n",
        "    # Chạy lệnh rclone\n",
        "    !rclone copy {command_flags} \"{source_path}\" \"{dest_path}\"\n",
        "else:\n",
        "    print(\"Lỗi: Vui lòng nhập cả Source Remote và Destination Remote.\")"
      ]
    },
    {
      "cell_type": "markdown",
      "metadata": {
        "id": "Rou0Pj6C2kWR"
      },
      "source": [
        "\n",
        "\n",
        "---\n",
        "\n"
      ]
    },
    {
      "cell_type": "code",
      "execution_count": null,
      "metadata": {
        "collapsed": true,
        "id": "2CbpR4GxZzON"
      },
      "outputs": [],
      "source": [
        "!rclone lsf \"archive:1okrock-liveshow\""
      ]
    },
    {
      "cell_type": "code",
      "execution_count": null,
      "metadata": {
        "id": "JUt0geXVlDjT"
      },
      "outputs": [],
      "source": [
        "!rclone copy -v \"https://data.terabox.app/file/355a8f3d0d448004bfd44760355e9e24?bkt=en-07c9b0a504a3706095b5bed33474fa845279f58cd625ea8c91609d778afe1145613e6382e58cd8cd&xcode=df67ed55c6204494b55f5ec8e654e0c13e79c2291fa72c2d874035aa226821b9059abe7c8628492e4f74607fb2ca4215c8167d68cbed08ac&fid=4399953669262-250528-1045094404813338&time=1755879512&sign=FDTAXUGERLQlBHSKfWaon-DCb740ccc5511e5e8fedcff06b081203-GnmoxutjLrn2n9uJXUDTZH2At0s%3D&to=139&size=14419252790&sta_dx=14419252790&sta_cs=6&sta_ft=rar&sta_ct=7&sta_mt=0&fm2=MH%2Ctky%2CAnywhere%2C%2CSGFub2k%3D%2Cany&region=tky&ctime=1721389741&mtime=1755879490&resv0=-1&resv1=0&resv2=&resv3=&resv4=14419252790&vuk=4399953669262&iv=0&htype=&randtype=&newver=1&newfm=1&secfm=1&flow_ver=3&pkey=en-60a4ed0a949c71f4b2eda5effa64b454a071fd3e07b901278f4021729bdc94457bd6b613a0460ebb&sl=68091977&expires=1755908312&rt=pr&r=586159288&vbdid=-&fin=%5BHaDoanTV.Com%5DLISCFSVH.rar&fn=%5BHaDoanTV.Com%5DLISCFSVH.rar&rtype=1&dp-logid=8886183457023662952&dp-callid=0.1&hps=1&tsl=2000&csl=2000&fsl=-1&csign=Hxn20zAbm7kxnk88YOPGGnuyJYc%3D&so=0&ut=6&uter=4&serv=0&uc=3706416523&ti=9c74a385a1d3afc573a68b6d53825de85e1c8a5eaa922718&tuse=&raw_appid=0&ogr=0&rregion=XVVi&adg=&reqlabel=250528_f_01ef7f5e1a9c16c0008388deeb54fe5a_-1_db7dff196c8e03a1b341f2cd746c4229&ccn=VN&by=themis\" \"/content/torrent_download/\""
      ]
    },
    {
      "cell_type": "markdown",
      "metadata": {
        "id": "8aiNa5o_1gbD"
      },
      "source": [
        "### 🍷 **Ghi chú**\n",
        "\n",
        "**Command**\n",
        "* `copy` : Copy file/thư mục từ nguồn tới đích, bỏ qua file giống nhau\n",
        "* `check` : So sánh nội dung giữa nguồn và đích\n",
        "* `sync` : đồng bộ (dùng --dry-run kiểm tra trước khi chạy thật).\n",
        "* `ls`: Liệt kê file và kích thước (mặc định).\n",
        "* `lsf`: Chỉ hiển thị tên file/thư mục.\n",
        "* `lsd`: Chỉ hiển thị tên thư mục con.\n",
        "* `size`: Hiển thị tổng kích thước của thư mục.\n",
        "\n",
        "---\n",
        "**Flag**\n",
        "\n",
        "* Ghi đè nếu nguồn mới hơn: `--update`. (không dùng được trên archive)\n",
        "* Bỏ qua các file đã tồn tại: `--ignore-existing`. (phù hợp với *archive.org* để tránh gây lỗi, còn lại thì dùng mặc định `copy` là đủ).\n",
        "*\n",
        " * Chọn số luồng copy (nếu không dùng thì mặc định là 4)): `--transfers 8`.\n",
        " * Dùng cho S3 của Amazon: `--s3-upload-concurrency 1`. (archive.org file lớn ưu tiên dùng ✅ 1 luồng, tối đa dùng được 2 luồng).\n",
        "\n",
        "* `--dry-run` : Chạy thử, kiểm tra trước.\n",
        "\n",
        "* `--include \"*.mp4\"` để chỉ copy file .mp4.\n",
        "* `--exclude \"*.tmp`\" để bỏ qua file tạm.\n",
        " * Ex lọc files: `!rclone ls \"archive:cd-luong-bich-huu\" --include \"*.flac\"`\n",
        " * Ex 2: `rclone copy source dest --include \"*.jpg\" --exclude \"*.gif\"`\n",
        "\n",
        "* `--error string` : Báo cáo files lỗi"
      ]
    },
    {
      "cell_type": "markdown",
      "metadata": {
        "id": "1olPxcEBgL07"
      },
      "source": [
        "# 👓 **Xem Nội Dung Remote**"
      ]
    },
    {
      "cell_type": "code",
      "execution_count": null,
      "metadata": {
        "collapsed": true,
        "id": "INrZSJUyUO2m"
      },
      "outputs": [],
      "source": [
        "# @markdown ### Hướng dẫn:\n",
        "# @markdown - **List Mode**: Chọn cách hiển thị nội dung:\n",
        "# @markdown   - `ls`: Liệt kê file và kích thước (mặc định).\n",
        "# @markdown   - `lsf`: Chỉ hiển thị tên file/thư mục.\n",
        "# @markdown   - `lsd`: Chỉ hiển thị tên thư mục con.\n",
        "# @markdown   - `size`: Hiển thị tổng kích thước của thư mục.\n",
        "\n",
        "list_remote = \"box\" # @param [\"/content/drive/MyDrive/\",\"/content/\",\"googledrive1\",\"onedrive\",\"googledrive2\",\"archive\",\"box\"]\n",
        "input_folder = \"\" # @param {\"type\":\"string\"}\n",
        "list_mode = \"lsf\" # @param [\"lsf\",\"lsd\",\"ls\",\"size\"]\n",
        "# @markdown 🔎 Lọc file:\n",
        "file_type = \"\" # @param {\"type\":\"string\"}\n",
        "file_type_sum = \"Default\" # @param [\"Default\", \"Sum\"]\n",
        "\n",
        "# Xử lý file_type_sum thành lệnh phù hợp\n",
        "sum_command = \"\" if file_type_sum == \"Default\" else \" | wc -l\"\n",
        "\n",
        "\n",
        "!rclone {list_mode} \"{list_remote}:{input_folder}\"  | grep \".{file_type}\"  {sum_command}\n",
        "\n",
        "\n",
        "# ======================================\n",
        "# grep \".mp4\": Lọc các dòng có chứa .mp4.\n",
        "# wc -l: Đếm số dòng (tức là số file .mp4)."
      ]
    },
    {
      "cell_type": "markdown",
      "metadata": {
        "id": "SZLqroFMLUs1"
      },
      "source": [
        "# 🗃️ **.Rar .Zip .7zip**"
      ]
    },
    {
      "cell_type": "markdown",
      "metadata": {
        "id": "OgHKr5ZdOw8G"
      },
      "source": [
        "## Rar"
      ]
    },
    {
      "cell_type": "code",
      "execution_count": null,
      "metadata": {
        "id": "EdDZ6Cd5LS-5"
      },
      "outputs": [],
      "source": [
        "# Install unrar\n",
        "!apt-get install unrar"
      ]
    },
    {
      "cell_type": "code",
      "execution_count": null,
      "metadata": {
        "id": "2ea4ZCxIOqCc"
      },
      "outputs": [],
      "source": [
        "# Giải nén với password (ex: DDDTT)\n",
        "!unrar x -pdomdom2010 /content/copy_temp/*.zip /content/copy_temp/extracted/"
      ]
    },
    {
      "cell_type": "markdown",
      "metadata": {
        "id": "aWCGGHmWOrGG"
      },
      "source": [
        "## Zip"
      ]
    },
    {
      "cell_type": "code",
      "execution_count": null,
      "metadata": {
        "id": "QqVLJrLFOiyg"
      },
      "outputs": [],
      "source": [
        "# Install unzip\n",
        "!apt-get install -y unzip"
      ]
    },
    {
      "cell_type": "code",
      "execution_count": null,
      "metadata": {
        "id": "zUjZlcv-QIY6"
      },
      "outputs": [],
      "source": [
        "# Giải nén file .zip với password (nếu có)\n",
        "!unzip -P kirakira /content/copy_temp/Ed01.zip -d /content/copy_temp/extracted/"
      ]
    },
    {
      "cell_type": "code",
      "execution_count": null,
      "metadata": {
        "id": "kkCfqzXFQRG2"
      },
      "outputs": [],
      "source": [
        "# Dùng vòng lặp `for` Giải nén nhiều file .zip trong thư mục với password (nếu có)\n",
        "import os\n",
        "for zip_file in os.listdir(\"/content/copy_temp/2/\"):\n",
        "    if zip_file.endswith(\".zip\"):\n",
        "        !unzip -P domdom2010 \"/content/copy_temp/2/{zip_file}\" -d /content/copy_temp/2/s2/\n",
        "        print(f\"Đã giải nén {zip_file}\")"
      ]
    },
    {
      "cell_type": "markdown",
      "metadata": {
        "id": "gRN3utqAQrb0"
      },
      "source": [
        "---\n",
        "## uncheck"
      ]
    },
    {
      "cell_type": "markdown",
      "metadata": {
        "id": "fZa8y6cPRUGs"
      },
      "source": [
        "rar"
      ]
    },
    {
      "cell_type": "code",
      "execution_count": null,
      "metadata": {
        "id": "3-CAUsowQqYL"
      },
      "outputs": [],
      "source": [
        "# hình như là nén files, hoặc ghép files. cần thử lại.\n",
        "!cat /content/torrent_download/HI1\\ DDDTT.part*.rar > /content/HI1_DDDTT_full.rar"
      ]
    },
    {
      "cell_type": "code",
      "execution_count": null,
      "metadata": {
        "id": "nvKWC3gCQ06K"
      },
      "outputs": [],
      "source": [
        "# Split file nén\n",
        "!split -b 10G /content/HI1_DDDTT_full.rar /content/HI1_DDDTT_part_\n",
        "# copy file trùng tên, chhia theo thứ tự.\n",
        "!rclone copy /content/HI1_DDDTT_part_* archive:tinhhe-lontien-thyetmin/1990/ -v"
      ]
    },
    {
      "cell_type": "markdown",
      "metadata": {
        "id": "R73k0vO5RSOa"
      },
      "source": [
        "7zip\n",
        "* p7zip-full hỗ trợ hầu hết định dạng (.7z, .zip, .rar, .iso, .tar, .gzip, v.v.), nhưng hiệu suất giải nén .rar tốt hơn với unrar."
      ]
    },
    {
      "cell_type": "code",
      "execution_count": null,
      "metadata": {
        "id": "kG5_6xXBRV1b"
      },
      "outputs": [],
      "source": [
        "!apt-get update\n",
        "!apt-get install -y p7zip-full"
      ]
    },
    {
      "cell_type": "code",
      "execution_count": null,
      "metadata": {
        "id": "K7fwezfgTV_u"
      },
      "outputs": [],
      "source": [
        "!7z x /content/file.7z -o/content/extracted/ -pYOUR_PASSWORD"
      ]
    },
    {
      "cell_type": "code",
      "execution_count": null,
      "metadata": {
        "id": "P6XwK6SUTal6"
      },
      "outputs": [],
      "source": [
        "!7z x /content/file.iso -o/content/extracted/"
      ]
    },
    {
      "cell_type": "code",
      "execution_count": null,
      "metadata": {
        "id": "0yTQktWCRYHU"
      },
      "outputs": [],
      "source": [
        "import os\n",
        "\n",
        "# Đường dẫn thư mục chứa file nén\n",
        "source_folder = \"/content/copy_temp/2/\"\n",
        "extract_folder = \"/content/copy_temp/2/zip2/\"\n",
        "password = \"domdom2010\"  # Thay bằng password thực tế\n",
        "\n",
        "# Tạo thư mục đích nếu chưa có\n",
        "!mkdir -p {extract_folder}\n",
        "\n",
        "# Lặp qua các file trong thư mục\n",
        "for filename in os.listdir(source_folder):\n",
        "    if filename.endswith(\".zip\"):\n",
        "        file_path = os.path.join(source_folder, filename)\n",
        "        # Sử dụng 7z để giải nén\n",
        "        !7z x \"{file_path}\" -o\"{extract_folder}\" -p{password} -y\n",
        "        if os.path.exists(os.path.join(extract_folder, filename.replace(\".zip\", \"\"))):\n",
        "            print(f\"Đã giải nén {filename} thành công\")\n",
        "        else:\n",
        "            print(f\"Lỗi: Không thể giải nén {filename}. Kiểm tra file hoặc password!\")"
      ]
    },
    {
      "cell_type": "markdown",
      "metadata": {
        "id": "31GgEVLpTF0Z"
      },
      "source": [
        "cai đặt cả 3"
      ]
    },
    {
      "cell_type": "code",
      "execution_count": null,
      "metadata": {
        "id": "z2eZwK8FTJ_3"
      },
      "outputs": [],
      "source": [
        "# Cài đặt các công cụ giải nén\n",
        "!apt-get update\n",
        "!apt-get install -y unrar unzip p7zip-full"
      ]
    },
    {
      "cell_type": "markdown",
      "metadata": {
        "id": "5DJokz_NBxm3"
      },
      "source": [
        "# 📺 **yt-dlp**"
      ]
    },
    {
      "cell_type": "markdown",
      "metadata": {
        "id": "SOwK2NyFCGc7"
      },
      "source": [
        "## ⚙️ Install yt-dlp & ffmpeg\n",
        "* ⚠️Chú ý dùng ! trước command\n",
        "* Nếu lỗi 403 Forbidden, thêm --geo-bypass"
      ]
    },
    {
      "cell_type": "code",
      "execution_count": 1,
      "metadata": {
        "colab": {
          "base_uri": "https://localhost:8080/"
        },
        "id": "lDiNbMjZB7l4",
        "outputId": "d088be7d-24de-4e2e-cdf8-b68b1c64bd4d"
      },
      "outputs": [
        {
          "output_type": "stream",
          "name": "stdout",
          "text": [
            "Collecting yt-dlp\n",
            "  Downloading yt_dlp-2025.9.5-py3-none-any.whl.metadata (177 kB)\n",
            "\u001b[?25l     \u001b[90m━━━━━━━━━━━━━━━━━━━━━━━━━━━━━━━━━━━━━━━━\u001b[0m \u001b[32m0.0/177.1 kB\u001b[0m \u001b[31m?\u001b[0m eta \u001b[36m-:--:--\u001b[0m\r\u001b[2K     \u001b[91m━━━━━━━━━━━━━━━━━━━━━━━━━━━\u001b[0m\u001b[90m╺\u001b[0m\u001b[90m━━━━━━━━━━━\u001b[0m \u001b[32m122.9/177.1 kB\u001b[0m \u001b[31m4.8 MB/s\u001b[0m eta \u001b[36m0:00:01\u001b[0m\r\u001b[2K     \u001b[90m━━━━━━━━━━━━━━━━━━━━━━━━━━━━━━━━━━━━━━━\u001b[0m \u001b[32m177.1/177.1 kB\u001b[0m \u001b[31m3.5 MB/s\u001b[0m eta \u001b[36m0:00:00\u001b[0m\n",
            "\u001b[?25hDownloading yt_dlp-2025.9.5-py3-none-any.whl (3.3 MB)\n",
            "\u001b[2K   \u001b[90m━━━━━━━━━━━━━━━━━━━━━━━━━━━━━━━━━━━━━━━━\u001b[0m \u001b[32m3.3/3.3 MB\u001b[0m \u001b[31m18.1 MB/s\u001b[0m eta \u001b[36m0:00:00\u001b[0m\n",
            "\u001b[?25hInstalling collected packages: yt-dlp\n",
            "Successfully installed yt-dlp-2025.9.5\n"
          ]
        }
      ],
      "source": [
        "pip install -U yt-dlp"
      ]
    },
    {
      "cell_type": "code",
      "execution_count": 2,
      "metadata": {
        "colab": {
          "base_uri": "https://localhost:8080/"
        },
        "id": "Qcwcr6HWCC0S",
        "outputId": "50a549b8-ab0c-4bba-bc5a-923e3105c026"
      },
      "outputs": [
        {
          "output_type": "stream",
          "name": "stdout",
          "text": [
            "Reading package lists... Done\n",
            "Building dependency tree... Done\n",
            "Reading state information... Done\n",
            "ffmpeg is already the newest version (7:4.4.2-0ubuntu0.22.04.1).\n",
            "0 upgraded, 0 newly installed, 0 to remove and 35 not upgraded.\n"
          ]
        }
      ],
      "source": [
        "!sudo apt install ffmpeg"
      ]
    },
    {
      "cell_type": "markdown",
      "metadata": {
        "id": "V9te11yFCsHx"
      },
      "source": [
        "## ⏬ Hướng dẫn\n",
        "\n",
        "\n",
        "*   `!yt-dlp`: không dùng flag thì tự chọn định dạng tốt nhất\n",
        "*   `-v`: để xem log\n",
        "*   Subtitle:\n",
        " *   `--write-subs --sub-lang en`: tải 1 hoặc nhiều subtitles `en,vi,kr`. (ex: *en = english*)\n",
        " *   `--all-subs`: tải file và tất cả subtitles.\n",
        " *   `--list-subs`: danh sách các subtitles.\n",
        " *   `--skip-download`: bỏ qua không tải files, nếu chỉ tải subtitle.\n",
        "\n",
        "*   `-F`: xem tất cả định dạng\n",
        "*   `-f`: chọn tải định dạng (ex: `-f 251`)\n",
        "\n",
        "*   `--get-urlurl`: tải .m3u8\n",
        "\n",
        "*   `-o`: đặt tên file.\n",
        "*   `-P`: path đường dẫn để lưu file.\n",
        "\n",
        "---\n",
        "`--postprocessor-args \"-ss 00:00 -to 00:55\"`: cắt âm thanh <~ chua test\n"
      ]
    },
    {
      "cell_type": "markdown",
      "metadata": {
        "id": "VUDIzaPeIOeG"
      },
      "source": [
        "## command"
      ]
    },
    {
      "cell_type": "code",
      "execution_count": null,
      "metadata": {
        "id": "1i7aoGSoCvzC"
      },
      "outputs": [],
      "source": [
        "!yt-dlp --all-subs \"https://wetv.vip/vi/play/87t5rpu3kbh1qm8/\" -o \"Xin_Hay_Yeu_Em_E7\" -P \"Dame na Watashi ni Koishite Kudasai 2016\""
      ]
    },
    {
      "cell_type": "code",
      "execution_count": null,
      "metadata": {
        "colab": {
          "background_save": true,
          "base_uri": "https://localhost:8080/"
        },
        "id": "xKivvJesMnk1",
        "collapsed": true,
        "outputId": "0648927f-b839-4af6-d729-82d47e28036e"
      },
      "outputs": [
        {
          "name": "stdout",
          "output_type": "stream",
          "text": [
            "[youtube:tab] Extracting URL: https://www.youtube.com/@vuogle/streams\n",
            "[youtube:tab] @vuogle/streams: Downloading webpage\n",
            "[download] Downloading playlist: vuogle - Live\n",
            "[youtube:tab] UCxDlVC6qhn_w_flaOInl4TQ page 1: Downloading API JSON\n",
            "[youtube:tab] Playlist vuogle - Live: Downloading 59 items of 59\n",
            "[download] Downloading item \u001b[0;32m1\u001b[0m of \u001b[0;94m59\u001b[0m\n",
            "[youtube] Extracting URL: https://www.youtube.com/watch?v=JXnEbFAReLE\n",
            "[youtube] JXnEbFAReLE: Downloading webpage\n",
            "[youtube] JXnEbFAReLE: Downloading tv simply player API JSON\n",
            "[youtube] JXnEbFAReLE: Downloading tv client config\n",
            "[youtube] JXnEbFAReLE: Downloading tv player API JSON\n",
            "[info] JXnEbFAReLE: Downloading 1 format(s): 251\n",
            "[download] /content/drive/MyDrive/audio_downloads/20250715_Vuogle 15⧸7⧸2025.webm has already been downloaded\n",
            "\u001b[K[download] 100% of  175.66MiB\n",
            "[download] Downloading item \u001b[0;32m2\u001b[0m of \u001b[0;94m59\u001b[0m\n",
            "[youtube] Extracting URL: https://www.youtube.com/watch?v=Zzypi0Af2gc\n",
            "[youtube] Zzypi0Af2gc: Downloading webpage\n",
            "[youtube] Zzypi0Af2gc: Downloading tv simply player API JSON\n",
            "[youtube] Zzypi0Af2gc: Downloading tv client config\n",
            "[youtube] Zzypi0Af2gc: Downloading tv player API JSON\n",
            "[info] Zzypi0Af2gc: Downloading 1 format(s): 251\n",
            "[download] /content/drive/MyDrive/audio_downloads/20250714_Vuogle 14⧸7⧸2025.webm has already been downloaded\n",
            "\u001b[K[download] 100% of  169.15MiB\n",
            "[download] Downloading item \u001b[0;32m3\u001b[0m of \u001b[0;94m59\u001b[0m\n",
            "[youtube] Extracting URL: https://www.youtube.com/watch?v=j2MjMKcvG_Y\n",
            "[youtube] j2MjMKcvG_Y: Downloading webpage\n",
            "[youtube] j2MjMKcvG_Y: Downloading tv simply player API JSON\n",
            "[youtube] j2MjMKcvG_Y: Downloading tv client config\n",
            "[youtube] j2MjMKcvG_Y: Downloading tv player API JSON\n",
            "[info] j2MjMKcvG_Y: Downloading 1 format(s): 251\n",
            "[download] /content/drive/MyDrive/audio_downloads/20250712_Vuogle 12⧸7⧸2025.webm has already been downloaded\n",
            "\u001b[K[download] 100% of  180.66MiB\n",
            "[download] Downloading item \u001b[0;32m4\u001b[0m of \u001b[0;94m59\u001b[0m\n",
            "[youtube] Extracting URL: https://www.youtube.com/watch?v=7I0FbB3sTdY\n",
            "[youtube] 7I0FbB3sTdY: Downloading webpage\n",
            "[youtube] 7I0FbB3sTdY: Downloading tv simply player API JSON\n",
            "[youtube] 7I0FbB3sTdY: Downloading tv client config\n",
            "[youtube] 7I0FbB3sTdY: Downloading tv player API JSON\n",
            "[info] 7I0FbB3sTdY: Downloading 1 format(s): 251\n",
            "[download] /content/drive/MyDrive/audio_downloads/20250706_Vuogle 6⧸7⧸2025.webm has already been downloaded\n",
            "\u001b[K[download] 100% of  194.91MiB\n",
            "[download] Downloading item \u001b[0;32m5\u001b[0m of \u001b[0;94m59\u001b[0m\n",
            "[youtube] Extracting URL: https://www.youtube.com/watch?v=CCAw1QQHL8I\n",
            "[youtube] CCAw1QQHL8I: Downloading webpage\n",
            "[youtube] CCAw1QQHL8I: Downloading tv simply player API JSON\n",
            "[youtube] CCAw1QQHL8I: Downloading tv client config\n",
            "[youtube] CCAw1QQHL8I: Downloading tv player API JSON\n",
            "[info] CCAw1QQHL8I: Downloading 1 format(s): 251\n",
            "[download] /content/drive/MyDrive/audio_downloads/20250630_Vuogle 30⧸6⧸2025.webm has already been downloaded\n",
            "\u001b[K[download] 100% of  129.85MiB\n",
            "[download] Downloading item \u001b[0;32m6\u001b[0m of \u001b[0;94m59\u001b[0m\n",
            "[youtube] Extracting URL: https://www.youtube.com/watch?v=6JdDr2ZMVtY\n",
            "[youtube] 6JdDr2ZMVtY: Downloading webpage\n",
            "[youtube] 6JdDr2ZMVtY: Downloading tv simply player API JSON\n",
            "[youtube] 6JdDr2ZMVtY: Downloading tv client config\n",
            "[youtube] 6JdDr2ZMVtY: Downloading tv player API JSON\n",
            "[info] 6JdDr2ZMVtY: Downloading 1 format(s): 251\n",
            "[download] /content/drive/MyDrive/audio_downloads/20250628_Vuogle 28⧸6⧸2025.webm has already been downloaded\n",
            "\u001b[K[download] 100% of  173.47MiB\n",
            "[download] Downloading item \u001b[0;32m7\u001b[0m of \u001b[0;94m59\u001b[0m\n",
            "[youtube] Extracting URL: https://www.youtube.com/watch?v=oXb4KCTQ08M\n",
            "[youtube] oXb4KCTQ08M: Downloading webpage\n",
            "[youtube] oXb4KCTQ08M: Downloading tv simply player API JSON\n",
            "[youtube] oXb4KCTQ08M: Downloading tv client config\n",
            "[youtube] oXb4KCTQ08M: Downloading tv player API JSON\n",
            "[info] oXb4KCTQ08M: Downloading 1 format(s): 251\n",
            "[download] /content/drive/MyDrive/audio_downloads/20250612_Vuogle 12⧸6⧸2025.webm has already been downloaded\n",
            "\u001b[K[download] 100% of  225.19MiB\n",
            "[download] Downloading item \u001b[0;32m8\u001b[0m of \u001b[0;94m59\u001b[0m\n",
            "[youtube] Extracting URL: https://www.youtube.com/watch?v=dxxDZDoORLM\n",
            "[youtube] dxxDZDoORLM: Downloading webpage\n",
            "[youtube] dxxDZDoORLM: Downloading tv simply player API JSON\n",
            "[youtube] dxxDZDoORLM: Downloading tv client config\n",
            "[youtube] dxxDZDoORLM: Downloading tv player API JSON\n",
            "[info] dxxDZDoORLM: Downloading 1 format(s): 251\n",
            "[download] /content/drive/MyDrive/audio_downloads/20250609_Vuogle 9⧸6⧸2025.webm has already been downloaded\n",
            "\u001b[K[download] 100% of  329.00MiB\n",
            "[download] Downloading item \u001b[0;32m9\u001b[0m of \u001b[0;94m59\u001b[0m\n",
            "[youtube] Extracting URL: https://www.youtube.com/watch?v=rZbKSB8Wbig\n",
            "[youtube] rZbKSB8Wbig: Downloading webpage\n",
            "[youtube] rZbKSB8Wbig: Downloading tv simply player API JSON\n",
            "[youtube] rZbKSB8Wbig: Downloading tv client config\n",
            "[youtube] rZbKSB8Wbig: Downloading tv player API JSON\n",
            "[info] rZbKSB8Wbig: Downloading 1 format(s): 251\n",
            "[download] /content/drive/MyDrive/audio_downloads/20250605_Vuogle 5⧸6⧸2025.webm has already been downloaded\n",
            "\u001b[K[download] 100% of  231.37MiB\n",
            "[download] Downloading item \u001b[0;32m10\u001b[0m of \u001b[0;94m59\u001b[0m\n",
            "[youtube] Extracting URL: https://www.youtube.com/watch?v=WVyWtIFXUPg\n",
            "[youtube] WVyWtIFXUPg: Downloading webpage\n",
            "[youtube] WVyWtIFXUPg: Downloading tv simply player API JSON\n",
            "[youtube] WVyWtIFXUPg: Downloading tv client config\n",
            "[youtube] WVyWtIFXUPg: Downloading tv player API JSON\n",
            "[info] WVyWtIFXUPg: Downloading 1 format(s): 251\n",
            "[download] /content/drive/MyDrive/audio_downloads/20250604_Vuogle - 4⧸6⧸2025.webm has already been downloaded\n",
            "\u001b[K[download] 100% of  256.36MiB\n",
            "[download] Downloading item \u001b[0;32m11\u001b[0m of \u001b[0;94m59\u001b[0m\n",
            "[youtube] Extracting URL: https://www.youtube.com/watch?v=PYYviZqLDcM\n",
            "[youtube] PYYviZqLDcM: Downloading webpage\n",
            "[youtube] PYYviZqLDcM: Downloading tv simply player API JSON\n",
            "[youtube] PYYviZqLDcM: Downloading tv client config\n",
            "[youtube] PYYviZqLDcM: Downloading tv player API JSON\n",
            "[info] PYYviZqLDcM: Downloading 1 format(s): 251\n",
            "[download] /content/drive/MyDrive/audio_downloads/20250531_Vuogle - 31⧸5⧸2025.webm has already been downloaded\n",
            "\u001b[K[download] 100% of  231.08MiB\n",
            "[download] Downloading item \u001b[0;32m12\u001b[0m of \u001b[0;94m59\u001b[0m\n",
            "[youtube] Extracting URL: https://www.youtube.com/watch?v=SkdFcXHBtJM\n",
            "[youtube] SkdFcXHBtJM: Downloading webpage\n",
            "[youtube] SkdFcXHBtJM: Downloading tv simply player API JSON\n",
            "[youtube] SkdFcXHBtJM: Downloading tv client config\n",
            "[youtube] SkdFcXHBtJM: Downloading tv player API JSON\n",
            "[info] SkdFcXHBtJM: Downloading 1 format(s): 251\n",
            "[download] /content/drive/MyDrive/audio_downloads/20250530_Vuogle - 30⧸5⧸2025.webm has already been downloaded\n",
            "\u001b[K[download] 100% of  174.50MiB\n",
            "[download] Downloading item \u001b[0;32m13\u001b[0m of \u001b[0;94m59\u001b[0m\n",
            "[youtube] Extracting URL: https://www.youtube.com/watch?v=1h3G1s5KYk8\n",
            "[youtube] 1h3G1s5KYk8: Downloading webpage\n",
            "[youtube] 1h3G1s5KYk8: Downloading tv simply player API JSON\n",
            "[youtube] 1h3G1s5KYk8: Downloading tv client config\n",
            "[youtube] 1h3G1s5KYk8: Downloading tv player API JSON\n",
            "[info] 1h3G1s5KYk8: Downloading 1 format(s): 251\n",
            "[download] /content/drive/MyDrive/audio_downloads/20250523_Vuogle - 23⧸5⧸2025.webm has already been downloaded\n",
            "\u001b[K[download] 100% of  187.78MiB\n",
            "[download] Downloading item \u001b[0;32m14\u001b[0m of \u001b[0;94m59\u001b[0m\n",
            "[youtube] Extracting URL: https://www.youtube.com/watch?v=cJ9oreoAHr4\n",
            "[youtube] cJ9oreoAHr4: Downloading webpage\n",
            "[youtube] cJ9oreoAHr4: Downloading tv simply player API JSON\n",
            "[youtube] cJ9oreoAHr4: Downloading tv client config\n",
            "[youtube] cJ9oreoAHr4: Downloading tv player API JSON\n",
            "[info] cJ9oreoAHr4: Downloading 1 format(s): 251\n",
            "[download] /content/drive/MyDrive/audio_downloads/20250513_Vuogle - 13⧸5⧸2025.webm has already been downloaded\n",
            "\u001b[K[download] 100% of  169.23MiB\n",
            "[download] Downloading item \u001b[0;32m15\u001b[0m of \u001b[0;94m59\u001b[0m\n",
            "[youtube] Extracting URL: https://www.youtube.com/watch?v=YYWiHlDyO7U\n",
            "[youtube] YYWiHlDyO7U: Downloading webpage\n",
            "[youtube] YYWiHlDyO7U: Downloading tv simply player API JSON\n",
            "[youtube] YYWiHlDyO7U: Downloading tv client config\n",
            "[youtube] YYWiHlDyO7U: Downloading tv player API JSON\n",
            "[info] YYWiHlDyO7U: Downloading 1 format(s): 251\n",
            "[download] /content/drive/MyDrive/audio_downloads/20250417_Vuogle - 17⧸4⧸2025.webm has already been downloaded\n",
            "\u001b[K[download] 100% of  177.31MiB\n",
            "[download] Downloading item \u001b[0;32m16\u001b[0m of \u001b[0;94m59\u001b[0m\n",
            "[youtube] Extracting URL: https://www.youtube.com/watch?v=tQ9d6DqaZjw\n",
            "[youtube] tQ9d6DqaZjw: Downloading webpage\n",
            "[youtube] tQ9d6DqaZjw: Downloading tv simply player API JSON\n",
            "[youtube] tQ9d6DqaZjw: Downloading tv client config\n",
            "[youtube] tQ9d6DqaZjw: Downloading tv player API JSON\n",
            "[info] tQ9d6DqaZjw: Downloading 1 format(s): 251\n",
            "[download] /content/drive/MyDrive/audio_downloads/20250411_Vuogle - 11⧸4⧸2025.webm has already been downloaded\n",
            "\u001b[K[download] 100% of  181.19MiB\n",
            "[download] Downloading item \u001b[0;32m17\u001b[0m of \u001b[0;94m59\u001b[0m\n",
            "[youtube] Extracting URL: https://www.youtube.com/watch?v=jwF87C3kANk\n",
            "[youtube] jwF87C3kANk: Downloading webpage\n",
            "[youtube] jwF87C3kANk: Downloading tv simply player API JSON\n",
            "[youtube] jwF87C3kANk: Downloading tv client config\n",
            "[youtube] jwF87C3kANk: Downloading tv player API JSON\n",
            "[info] jwF87C3kANk: Downloading 1 format(s): 251\n",
            "[download] /content/drive/MyDrive/audio_downloads/20250408_Vuogle - 8⧸4⧸2025.webm has already been downloaded\n",
            "\u001b[K[download] 100% of  197.73MiB\n",
            "[download] Downloading item \u001b[0;32m18\u001b[0m of \u001b[0;94m59\u001b[0m\n",
            "[youtube] Extracting URL: https://www.youtube.com/watch?v=FXAcdXtOnf4\n",
            "[youtube] FXAcdXtOnf4: Downloading webpage\n",
            "[youtube] FXAcdXtOnf4: Downloading tv simply player API JSON\n",
            "[youtube] FXAcdXtOnf4: Downloading tv client config\n",
            "[youtube] FXAcdXtOnf4: Downloading tv player API JSON\n",
            "[info] FXAcdXtOnf4: Downloading 1 format(s): 251\n",
            "[download] /content/drive/MyDrive/audio_downloads/20250403_Vuogle - Anh Hào phòng chống tội phạm 3⧸4⧸2025.webm has already been downloaded\n",
            "\u001b[K[download] 100% of  197.77MiB\n",
            "[download] Downloading item \u001b[0;32m19\u001b[0m of \u001b[0;94m59\u001b[0m\n",
            "[youtube] Extracting URL: https://www.youtube.com/watch?v=i7qBcVOrTZ4\n",
            "[youtube] i7qBcVOrTZ4: Downloading webpage\n",
            "[youtube] i7qBcVOrTZ4: Downloading tv simply player API JSON\n",
            "[youtube] i7qBcVOrTZ4: Downloading tv client config\n",
            "[youtube] i7qBcVOrTZ4: Downloading tv player API JSON\n",
            "[info] i7qBcVOrTZ4: Downloading 1 format(s): 251\n",
            "[download] /content/drive/MyDrive/audio_downloads/20250327_Vuogle - Xong deadline rồi live thôi ：D 27⧸3⧸2025.webm has already been downloaded\n",
            "\u001b[K[download] 100% of  321.82MiB\n",
            "[download] Downloading item \u001b[0;32m20\u001b[0m of \u001b[0;94m59\u001b[0m\n",
            "[youtube] Extracting URL: https://www.youtube.com/watch?v=bnbmwDt2PMQ\n",
            "[youtube] bnbmwDt2PMQ: Downloading webpage\n",
            "[youtube] bnbmwDt2PMQ: Downloading tv simply player API JSON\n",
            "[youtube] bnbmwDt2PMQ: Downloading tv client config\n",
            "[youtube] bnbmwDt2PMQ: Downloading tv player API JSON\n",
            "[info] bnbmwDt2PMQ: Downloading 1 format(s): 251\n",
            "[download] /content/drive/MyDrive/audio_downloads/20250310_Vuogle - Live 10⧸3⧸2025.webm has already been downloaded\n",
            "\u001b[K[download] 100% of  136.69MiB\n",
            "[download] Downloading item \u001b[0;32m21\u001b[0m of \u001b[0;94m59\u001b[0m\n",
            "[youtube] Extracting URL: https://www.youtube.com/watch?v=zmty8nQwAgY\n",
            "[youtube] zmty8nQwAgY: Downloading webpage\n",
            "[youtube] zmty8nQwAgY: Downloading tv simply player API JSON\n",
            "[youtube] zmty8nQwAgY: Downloading tv client config\n",
            "[youtube] zmty8nQwAgY: Downloading tv player API JSON\n",
            "[info] zmty8nQwAgY: Downloading 1 format(s): 251\n",
            "[download] /content/drive/MyDrive/audio_downloads/20250307_Vuogle - Live 7⧸3⧸2025.webm has already been downloaded\n",
            "\u001b[K[download] 100% of   89.58MiB\n",
            "[download] Downloading item \u001b[0;32m22\u001b[0m of \u001b[0;94m59\u001b[0m\n",
            "[youtube] Extracting URL: https://www.youtube.com/watch?v=PQYXh0-7Vvs\n",
            "[youtube] PQYXh0-7Vvs: Downloading webpage\n",
            "[youtube] PQYXh0-7Vvs: Downloading tv simply player API JSON\n",
            "[youtube] PQYXh0-7Vvs: Downloading tv client config\n",
            "[youtube] PQYXh0-7Vvs: Downloading tv player API JSON\n",
            "[info] PQYXh0-7Vvs: Downloading 1 format(s): 251\n",
            "[download] /content/drive/MyDrive/audio_downloads/20250306_Vuogle - Live 6⧸3⧸2025.webm has already been downloaded\n",
            "\u001b[K[download] 100% of  240.20MiB\n",
            "[download] Downloading item \u001b[0;32m23\u001b[0m of \u001b[0;94m59\u001b[0m\n",
            "[youtube] Extracting URL: https://www.youtube.com/watch?v=Jo1Q85IC-ic\n",
            "[youtube] Jo1Q85IC-ic: Downloading webpage\n",
            "[youtube] Jo1Q85IC-ic: Downloading tv simply player API JSON\n",
            "[youtube] Jo1Q85IC-ic: Downloading tv client config\n",
            "[youtube] Jo1Q85IC-ic: Downloading tv player API JSON\n",
            "[info] Jo1Q85IC-ic: Downloading 1 format(s): 251\n",
            "[download] /content/drive/MyDrive/audio_downloads/20250302_Vuogle - Live 2⧸3⧸2025.webm has already been downloaded\n",
            "\u001b[K[download] 100% of  203.92MiB\n",
            "[download] Downloading item \u001b[0;32m24\u001b[0m of \u001b[0;94m59\u001b[0m\n",
            "[youtube] Extracting URL: https://www.youtube.com/watch?v=YWYsWJeMv8U\n",
            "[youtube] YWYsWJeMv8U: Downloading webpage\n",
            "[youtube] YWYsWJeMv8U: Downloading tv simply player API JSON\n",
            "[youtube] YWYsWJeMv8U: Downloading tv client config\n",
            "[youtube] YWYsWJeMv8U: Downloading tv player API JSON\n",
            "[info] YWYsWJeMv8U: Downloading 1 format(s): 251\n",
            "[download] /content/drive/MyDrive/audio_downloads/20250228_Vuogle - Live 28⧸2⧸2025.webm has already been downloaded\n",
            "\u001b[K[download] 100% of  168.83MiB\n",
            "[download] Downloading item \u001b[0;32m25\u001b[0m of \u001b[0;94m59\u001b[0m\n",
            "[youtube] Extracting URL: https://www.youtube.com/watch?v=EqQrTCPjvno\n",
            "[youtube] EqQrTCPjvno: Downloading webpage\n",
            "[youtube] EqQrTCPjvno: Downloading tv simply player API JSON\n",
            "[youtube] EqQrTCPjvno: Downloading tv client config\n",
            "[youtube] EqQrTCPjvno: Downloading tv player API JSON\n",
            "[info] EqQrTCPjvno: Downloading 1 format(s): 251\n",
            "[download] /content/drive/MyDrive/audio_downloads/20250225_Vuogle - Live 25⧸2⧸2025.webm has already been downloaded\n",
            "\u001b[K[download] 100% of  127.73MiB\n",
            "[download] Downloading item \u001b[0;32m26\u001b[0m of \u001b[0;94m59\u001b[0m\n",
            "[youtube] Extracting URL: https://www.youtube.com/watch?v=cxvAwmDg-sU\n",
            "[youtube] cxvAwmDg-sU: Downloading webpage\n",
            "[youtube] cxvAwmDg-sU: Downloading tv simply player API JSON\n",
            "[youtube] cxvAwmDg-sU: Downloading tv client config\n",
            "[youtube] cxvAwmDg-sU: Downloading tv player API JSON\n",
            "[info] cxvAwmDg-sU: Downloading 1 format(s): 251\n",
            "[download] /content/drive/MyDrive/audio_downloads/20250223_Vuogle - Live 23⧸2⧸2025.webm has already been downloaded\n",
            "\u001b[K[download] 100% of  215.45MiB\n",
            "[download] Downloading item \u001b[0;32m27\u001b[0m of \u001b[0;94m59\u001b[0m\n",
            "[youtube] Extracting URL: https://www.youtube.com/watch?v=XkaX2Z-kVbE\n",
            "[youtube] XkaX2Z-kVbE: Downloading webpage\n",
            "[youtube] XkaX2Z-kVbE: Downloading tv simply player API JSON\n",
            "[youtube] XkaX2Z-kVbE: Downloading tv client config\n",
            "[youtube] XkaX2Z-kVbE: Downloading tv player API JSON\n",
            "[info] XkaX2Z-kVbE: Downloading 1 format(s): 251\n",
            "[download] /content/drive/MyDrive/audio_downloads/20250220_Vuogle - Live 20⧸2⧸2025.webm has already been downloaded\n",
            "\u001b[K[download] 100% of  113.25MiB\n",
            "[download] Downloading item \u001b[0;32m28\u001b[0m of \u001b[0;94m59\u001b[0m\n",
            "[youtube] Extracting URL: https://www.youtube.com/watch?v=4HE_oqdSpls\n",
            "[youtube] 4HE_oqdSpls: Downloading webpage\n",
            "[youtube] 4HE_oqdSpls: Downloading tv simply player API JSON\n",
            "[youtube] 4HE_oqdSpls: Downloading tv client config\n",
            "[youtube] 4HE_oqdSpls: Downloading tv player API JSON\n",
            "[info] 4HE_oqdSpls: Downloading 1 format(s): 251\n",
            "[download] /content/drive/MyDrive/audio_downloads/20250214_Vuogle - Live giveaway mấy thứ lặt vặt  14⧸2⧸2025.webm has already been downloaded\n",
            "\u001b[K[download] 100% of  226.96MiB\n",
            "[download] Downloading item \u001b[0;32m29\u001b[0m of \u001b[0;94m59\u001b[0m\n",
            "[youtube] Extracting URL: https://www.youtube.com/watch?v=auSrxGNNVI4\n",
            "[youtube] auSrxGNNVI4: Downloading webpage\n",
            "[youtube] auSrxGNNVI4: Downloading tv simply player API JSON\n",
            "[youtube] auSrxGNNVI4: Downloading tv client config\n",
            "[youtube] auSrxGNNVI4: Downloading tv player API JSON\n",
            "[info] auSrxGNNVI4: Downloading 1 format(s): 251\n",
            "[download] /content/drive/MyDrive/audio_downloads/20250113_Vuogle - Live 13⧸1⧸2025.webm has already been downloaded\n",
            "\u001b[K[download] 100% of  173.54MiB\n",
            "[download] Downloading item \u001b[0;32m30\u001b[0m of \u001b[0;94m59\u001b[0m\n",
            "[youtube] Extracting URL: https://www.youtube.com/watch?v=RQvd1G89470\n",
            "[youtube] RQvd1G89470: Downloading webpage\n",
            "[youtube] RQvd1G89470: Downloading tv simply player API JSON\n",
            "[youtube] RQvd1G89470: Downloading tv client config\n",
            "[youtube] RQvd1G89470: Downloading tv player API JSON\n",
            "[info] RQvd1G89470: Downloading 1 format(s): 251\n",
            "[download] /content/drive/MyDrive/audio_downloads/20241203_Vuogle - Live 3⧸12⧸2024 Drama Drama Drama.webm has already been downloaded\n",
            "\u001b[K[download] 100% of   54.98MiB\n",
            "[download] Downloading item \u001b[0;32m31\u001b[0m of \u001b[0;94m59\u001b[0m\n",
            "[youtube] Extracting URL: https://www.youtube.com/watch?v=67YwTqHo1go\n",
            "[youtube] 67YwTqHo1go: Downloading webpage\n",
            "[youtube] 67YwTqHo1go: Downloading tv simply player API JSON\n",
            "[youtube] 67YwTqHo1go: Downloading tv client config\n",
            "[youtube] 67YwTqHo1go: Downloading tv player API JSON\n",
            "[info] 67YwTqHo1go: Downloading 1 format(s): 251\n",
            "[download] Sleeping 4.00 seconds as required by the site...\n",
            "[download] Resuming download at byte 133120496\n",
            "[download] Destination: /content/drive/MyDrive/audio_downloads/20241114_Vuogle - Live 14⧸11⧸2024.webm\n",
            "\u001b[K[download] 100% of  155.80MiB in \u001b[1;37m00:00:04\u001b[0m at \u001b[0;32m37.38MiB/s\u001b[0m\n",
            "[download] Downloading item \u001b[0;32m32\u001b[0m of \u001b[0;94m59\u001b[0m\n",
            "[youtube] Extracting URL: https://www.youtube.com/watch?v=sRs9Q47S3Ek\n",
            "[youtube] sRs9Q47S3Ek: Downloading webpage\n",
            "[youtube] sRs9Q47S3Ek: Downloading tv simply player API JSON\n",
            "[youtube] sRs9Q47S3Ek: Downloading tv client config\n",
            "[youtube] sRs9Q47S3Ek: Downloading tv player API JSON\n",
            "[info] sRs9Q47S3Ek: Downloading 1 format(s): 251\n",
            "[download] Sleeping 3.00 seconds as required by the site...\n",
            "[download] Destination: /content/drive/MyDrive/audio_downloads/20240816_Vuogle - Live 16⧸8⧸2024.webm\n",
            "\u001b[K[download] 100% of  141.61MiB in \u001b[1;37m00:00:34\u001b[0m at \u001b[0;32m4.16MiB/s\u001b[0m\n",
            "[download] Downloading item \u001b[0;32m33\u001b[0m of \u001b[0;94m59\u001b[0m\n",
            "[youtube] Extracting URL: https://www.youtube.com/watch?v=b5iEqovBn5g\n",
            "[youtube] b5iEqovBn5g: Downloading webpage\n",
            "[youtube] b5iEqovBn5g: Downloading tv simply player API JSON\n",
            "[youtube] b5iEqovBn5g: Downloading tv client config\n",
            "[youtube] b5iEqovBn5g: Downloading tv player API JSON\n",
            "[info] b5iEqovBn5g: Downloading 1 format(s): 251\n",
            "[download] Sleeping 4.00 seconds as required by the site...\n",
            "[download] Destination: /content/drive/MyDrive/audio_downloads/20240803_Vuogle - Live 3⧸8⧸2024 Bốc phét..webm\n",
            "\u001b[K[download] 100% of  116.66MiB in \u001b[1;37m00:00:14\u001b[0m at \u001b[0;32m7.94MiB/s\u001b[0m\n",
            "[download] Downloading item \u001b[0;32m34\u001b[0m of \u001b[0;94m59\u001b[0m\n",
            "[youtube] Extracting URL: https://www.youtube.com/watch?v=OymQWD9KkHQ\n",
            "[youtube] OymQWD9KkHQ: Downloading webpage\n",
            "[youtube] OymQWD9KkHQ: Downloading tv simply player API JSON\n",
            "[youtube] OymQWD9KkHQ: Downloading tv client config\n",
            "[youtube] OymQWD9KkHQ: Downloading tv player API JSON\n",
            "[info] OymQWD9KkHQ: Downloading 1 format(s): 251\n",
            "[download] Sleeping 2.83 seconds as required by the site...\n",
            "[download] Destination: /content/drive/MyDrive/audio_downloads/20240712_Vuogle - Live 12⧸7⧸2024 Chán quá ko biết làm gì ：D.webm\n",
            "\u001b[K[download] 100% of   77.70MiB in \u001b[1;37m00:00:22\u001b[0m at \u001b[0;32m3.42MiB/s\u001b[0m\n",
            "[download] Downloading item \u001b[0;32m35\u001b[0m of \u001b[0;94m59\u001b[0m\n",
            "[youtube] Extracting URL: https://www.youtube.com/watch?v=1M1nT5ACiIA\n",
            "[youtube] 1M1nT5ACiIA: Downloading webpage\n",
            "[youtube] 1M1nT5ACiIA: Downloading tv simply player API JSON\n",
            "[youtube] 1M1nT5ACiIA: Downloading tv client config\n",
            "[youtube] 1M1nT5ACiIA: Downloading tv player API JSON\n",
            "[info] 1M1nT5ACiIA: Downloading 1 format(s): 251\n",
            "[download] Sleeping 3.00 seconds as required by the site...\n",
            "[download] Destination: /content/drive/MyDrive/audio_downloads/20240523_Vuogle - Live thanh lý mấy cái bảng vẽ.webm\n",
            "\u001b[K[download] 100% of   67.43MiB in \u001b[1;37m00:00:22\u001b[0m at \u001b[0;32m2.93MiB/s\u001b[0m\n",
            "[download] Downloading item \u001b[0;32m36\u001b[0m of \u001b[0;94m59\u001b[0m\n",
            "[youtube] Extracting URL: https://www.youtube.com/watch?v=fKknb0CLHn0\n",
            "[youtube] fKknb0CLHn0: Downloading webpage\n",
            "[youtube] fKknb0CLHn0: Downloading tv simply player API JSON\n",
            "[youtube] fKknb0CLHn0: Downloading tv client config\n",
            "[youtube] fKknb0CLHn0: Downloading tv player API JSON\n",
            "[info] fKknb0CLHn0: Downloading 1 format(s): 251\n",
            "[download] Sleeping 4.00 seconds as required by the site...\n",
            "[download] Destination: /content/drive/MyDrive/audio_downloads/20240106_Năm mới 6⧸1⧸2024.webm\n",
            "\u001b[K[download] 100% of   83.43MiB in \u001b[1;37m00:00:14\u001b[0m at \u001b[0;32m5.65MiB/s\u001b[0m\n",
            "[download] Downloading item \u001b[0;32m37\u001b[0m of \u001b[0;94m59\u001b[0m\n",
            "[youtube] Extracting URL: https://www.youtube.com/watch?v=BSm8co_7xpA\n",
            "[youtube] BSm8co_7xpA: Downloading webpage\n",
            "[youtube] BSm8co_7xpA: Downloading tv simply player API JSON\n",
            "[youtube] BSm8co_7xpA: Downloading tv client config\n",
            "[youtube] BSm8co_7xpA: Downloading tv player API JSON\n",
            "[info] BSm8co_7xpA: Downloading 1 format(s): 251\n",
            "[download] Sleeping 3.00 seconds as required by the site...\n",
            "[download] Destination: /content/drive/MyDrive/audio_downloads/20230116_Live Tết - 16⧸01⧸2023.webm\n",
            "\u001b[K[download] 100% of  168.96MiB in \u001b[1;37m00:00:24\u001b[0m at \u001b[0;32m7.00MiB/s\u001b[0m\n",
            "[download] Downloading item \u001b[0;32m38\u001b[0m of \u001b[0;94m59\u001b[0m\n",
            "[youtube] Extracting URL: https://www.youtube.com/watch?v=mZ9Xrs9Q8dY\n",
            "[youtube] mZ9Xrs9Q8dY: Downloading webpage\n",
            "[youtube] mZ9Xrs9Q8dY: Downloading tv simply player API JSON\n",
            "[youtube] mZ9Xrs9Q8dY: Downloading tv client config\n",
            "[youtube] mZ9Xrs9Q8dY: Downloading tv player API JSON\n",
            "[info] mZ9Xrs9Q8dY: Downloading 1 format(s): 251\n",
            "[download] Sleeping 4.00 seconds as required by the site...\n",
            "[download] Destination: /content/drive/MyDrive/audio_downloads/20220625_Vuogle 25⧸6⧸2022.webm\n",
            "\u001b[K[download] 100% of  200.44MiB in \u001b[1;37m00:00:19\u001b[0m at \u001b[0;32m10.50MiB/s\u001b[0m\n",
            "[download] Downloading item \u001b[0;32m39\u001b[0m of \u001b[0;94m59\u001b[0m\n",
            "[youtube] Extracting URL: https://www.youtube.com/watch?v=jQWiec7fByc\n",
            "[youtube] jQWiec7fByc: Downloading webpage\n",
            "[youtube] jQWiec7fByc: Downloading tv simply player API JSON\n",
            "[youtube] jQWiec7fByc: Downloading tv client config\n",
            "[youtube] jQWiec7fByc: Downloading tv player API JSON\n",
            "[info] jQWiec7fByc: Downloading 1 format(s): 251\n",
            "[download] Sleeping 4.00 seconds as required by the site...\n",
            "[download] Destination: /content/drive/MyDrive/audio_downloads/20220102_Vuogle 02⧸01⧸2022 Live năm mới ：D.webm\n",
            "\u001b[K[download] 100% of   95.74MiB in \u001b[1;37m00:00:13\u001b[0m at \u001b[0;32m7.04MiB/s\u001b[0m\n",
            "[download] Downloading item \u001b[0;32m40\u001b[0m of \u001b[0;94m59\u001b[0m\n",
            "[youtube] Extracting URL: https://www.youtube.com/watch?v=4A8IVbfVNqw\n",
            "[youtube] 4A8IVbfVNqw: Downloading webpage\n",
            "[youtube] 4A8IVbfVNqw: Downloading tv simply player API JSON\n",
            "[youtube] 4A8IVbfVNqw: Downloading tv client config\n",
            "[youtube] 4A8IVbfVNqw: Downloading tv player API JSON\n",
            "[info] 4A8IVbfVNqw: Downloading 1 format(s): 251\n",
            "[download] Sleeping 2.78 seconds as required by the site...\n",
            "[download] Destination: /content/drive/MyDrive/audio_downloads/20211205_Vuogle 5⧸12⧸2021 Cần tìm vài artist 2D,3D ngồi làm cùng..webm\n",
            "\u001b[K[download] 100% of   79.51MiB in \u001b[1;37m00:00:12\u001b[0m at \u001b[0;32m6.58MiB/s\u001b[0m\n",
            "[download] Downloading item \u001b[0;32m41\u001b[0m of \u001b[0;94m59\u001b[0m\n",
            "[youtube] Extracting URL: https://www.youtube.com/watch?v=4tzfPM7vLlk\n",
            "[youtube] 4tzfPM7vLlk: Downloading webpage\n",
            "[youtube] 4tzfPM7vLlk: Downloading tv simply player API JSON\n",
            "[youtube] 4tzfPM7vLlk: Downloading tv client config\n",
            "[youtube] 4tzfPM7vLlk: Downloading tv player API JSON\n",
            "[info] 4tzfPM7vLlk: Downloading 1 format(s): 251\n",
            "[download] Sleeping 4.00 seconds as required by the site...\n",
            "[download] Destination: /content/drive/MyDrive/audio_downloads/20211128_Vuogle 28⧸11⧸2021 Hỏi đáp, giao lưu..webm\n",
            "\u001b[K[download] 100% of  160.76MiB in \u001b[1;37m00:00:26\u001b[0m at \u001b[0;32m6.16MiB/s\u001b[0m\n",
            "[download] Downloading item \u001b[0;32m42\u001b[0m of \u001b[0;94m59\u001b[0m\n",
            "[youtube] Extracting URL: https://www.youtube.com/watch?v=4DHvT1EroGU\n",
            "[youtube] 4DHvT1EroGU: Downloading webpage\n",
            "[youtube] 4DHvT1EroGU: Downloading tv simply player API JSON\n",
            "[youtube] 4DHvT1EroGU: Downloading tv client config\n",
            "[youtube] 4DHvT1EroGU: Downloading tv player API JSON\n",
            "[info] 4DHvT1EroGU: Downloading 1 format(s): 251\n",
            "[download] Sleeping 2.75 seconds as required by the site...\n",
            "[download] Destination: /content/drive/MyDrive/audio_downloads/20211125_Vuogle 25⧸11⧸2021 Hỏi đáp, giao lưu..webm\n",
            "\u001b[K[download] 100% of   93.56MiB in \u001b[1;37m00:00:40\u001b[0m at \u001b[0;32m2.29MiB/s\u001b[0m\n",
            "[download] Downloading item \u001b[0;32m43\u001b[0m of \u001b[0;94m59\u001b[0m\n",
            "[youtube] Extracting URL: https://www.youtube.com/watch?v=fdUUYJ7EnOU\n",
            "[youtube] fdUUYJ7EnOU: Downloading webpage\n",
            "[youtube] fdUUYJ7EnOU: Downloading tv simply player API JSON\n",
            "[youtube] fdUUYJ7EnOU: Downloading tv client config\n",
            "[youtube] fdUUYJ7EnOU: Downloading tv player API JSON\n",
            "[info] fdUUYJ7EnOU: Downloading 1 format(s): 251\n",
            "[download] Sleeping 3.00 seconds as required by the site...\n",
            "[download] Destination: /content/drive/MyDrive/audio_downloads/20211122_Vuogle 22⧸11⧸2021 Hỏi đáp, giao lưu..webm\n",
            "\u001b[K[download] 100% of  239.46MiB in \u001b[1;37m00:01:24\u001b[0m at \u001b[0;32m2.84MiB/s\u001b[0m\n",
            "[download] Downloading item \u001b[0;32m44\u001b[0m of \u001b[0;94m59\u001b[0m\n",
            "[youtube] Extracting URL: https://www.youtube.com/watch?v=xgEcHkGPqnk\n",
            "[youtube] xgEcHkGPqnk: Downloading webpage\n",
            "[youtube] xgEcHkGPqnk: Downloading tv simply player API JSON\n",
            "[youtube] xgEcHkGPqnk: Downloading tv client config\n",
            "[youtube] xgEcHkGPqnk: Downloading tv player API JSON\n",
            "[info] xgEcHkGPqnk: Downloading 1 format(s): 251\n",
            "[download] Sleeping 4.00 seconds as required by the site...\n",
            "[download] Destination: /content/drive/MyDrive/audio_downloads/20211112_Vuogle 12⧸11⧸2021 Hỏi đáp, giao lưu..webm\n",
            "\u001b[K[download] 100% of  255.86MiB in \u001b[1;37m00:01:02\u001b[0m at \u001b[0;32m4.09MiB/s\u001b[0m\n",
            "[download] Downloading item \u001b[0;32m45\u001b[0m of \u001b[0;94m59\u001b[0m\n",
            "[youtube] Extracting URL: https://www.youtube.com/watch?v=_AQFjSTtYGg\n",
            "[youtube] _AQFjSTtYGg: Downloading webpage\n",
            "[youtube] _AQFjSTtYGg: Downloading tv simply player API JSON\n",
            "[youtube] _AQFjSTtYGg: Downloading tv client config\n",
            "[youtube] _AQFjSTtYGg: Downloading tv player API JSON\n",
            "[info] _AQFjSTtYGg: Downloading 1 format(s): 251\n",
            "[download] Sleeping 3.00 seconds as required by the site...\n",
            "[download] Destination: /content/drive/MyDrive/audio_downloads/20211105_Vuogle 5⧸11⧸2021 Landscape painting.webm\n",
            "\u001b[K[download] 100% of  182.02MiB in \u001b[1;37m00:00:36\u001b[0m at \u001b[0;32m4.96MiB/s\u001b[0m\n",
            "[download] Downloading item \u001b[0;32m46\u001b[0m of \u001b[0;94m59\u001b[0m\n",
            "[youtube] Extracting URL: https://www.youtube.com/watch?v=qis2SRWmjAY\n",
            "[youtube] qis2SRWmjAY: Downloading webpage\n",
            "[youtube] qis2SRWmjAY: Downloading tv simply player API JSON\n",
            "[youtube] qis2SRWmjAY: Downloading tv client config\n",
            "[youtube] qis2SRWmjAY: Downloading tv player API JSON\n",
            "[info] qis2SRWmjAY: Downloading 1 format(s): 251\n",
            "[download] Sleeping 3.00 seconds as required by the site...\n",
            "[download] Destination: /content/drive/MyDrive/audio_downloads/20211031_Tổng kết event Halloween XP-Pen Việt Nam x TVM Group 31⧸10⧸2021.webm\n",
            "\u001b[K[download] 100% of  121.86MiB in \u001b[1;37m00:00:46\u001b[0m at \u001b[0;32m2.62MiB/s\u001b[0m\n",
            "[download] Downloading item \u001b[0;32m47\u001b[0m of \u001b[0;94m59\u001b[0m\n",
            "[youtube] Extracting URL: https://www.youtube.com/watch?v=pzk6cSy5wAs\n",
            "[youtube] pzk6cSy5wAs: Downloading webpage\n",
            "[youtube] pzk6cSy5wAs: Downloading tv simply player API JSON\n",
            "[youtube] pzk6cSy5wAs: Downloading tv client config\n",
            "[youtube] pzk6cSy5wAs: Downloading tv player API JSON\n",
            "[info] pzk6cSy5wAs: Downloading 1 format(s): 251\n",
            "[download] Sleeping 4.00 seconds as required by the site...\n",
            "[download] Destination: /content/drive/MyDrive/audio_downloads/20211030_Chém gió khoảng 1 tiếng thôi ：D.webm\n",
            "\u001b[K[download] 100% of   32.91MiB in \u001b[1;37m00:00:10\u001b[0m at \u001b[0;32m3.22MiB/s\u001b[0m\n",
            "[download] Downloading item \u001b[0;32m48\u001b[0m of \u001b[0;94m59\u001b[0m\n",
            "[youtube] Extracting URL: https://www.youtube.com/watch?v=48zWctwIaZ4\n",
            "[youtube] 48zWctwIaZ4: Downloading webpage\n",
            "[youtube] 48zWctwIaZ4: Downloading tv simply player API JSON\n",
            "[youtube] 48zWctwIaZ4: Downloading tv client config\n",
            "[youtube] 48zWctwIaZ4: Downloading tv player API JSON\n",
            "[info] 48zWctwIaZ4: Downloading 1 format(s): 251\n",
            "[download] Sleeping 3.00 seconds as required by the site...\n",
            "[download] Destination: /content/drive/MyDrive/audio_downloads/20211029_Vuogle Livestream 29⧸10⧸2021 Xem tranh event TVM halloween.webm\n",
            "\u001b[K[download] 100% of  195.61MiB in \u001b[1;37m00:00:30\u001b[0m at \u001b[0;32m6.45MiB/s\u001b[0m\n",
            "[download] Downloading item \u001b[0;32m49\u001b[0m of \u001b[0;94m59\u001b[0m\n",
            "[youtube] Extracting URL: https://www.youtube.com/watch?v=hCV56Zpl_tc\n",
            "[youtube] hCV56Zpl_tc: Downloading webpage\n",
            "[youtube] hCV56Zpl_tc: Downloading tv simply player API JSON\n",
            "[youtube] hCV56Zpl_tc: Downloading tv client config\n",
            "[youtube] hCV56Zpl_tc: Downloading tv player API JSON\n",
            "[info] hCV56Zpl_tc: Downloading 1 format(s): 251\n",
            "[download] Sleeping 3.00 seconds as required by the site...\n",
            "[download] Destination: /content/drive/MyDrive/audio_downloads/20211028_Vuogle Livestream 28⧸10⧸2020 Illustrations for Tellstones： King’s Gambit ｜ Riot Games Part 4⧸ Final.webm\n",
            "\u001b[K[download] 100% of  263.72MiB in \u001b[1;37m00:00:53\u001b[0m at \u001b[0;32m4.95MiB/s\u001b[0m\n",
            "[download] Downloading item \u001b[0;32m50\u001b[0m of \u001b[0;94m59\u001b[0m\n",
            "[youtube] Extracting URL: https://www.youtube.com/watch?v=B5yeUZzfuTg\n",
            "[youtube] B5yeUZzfuTg: Downloading webpage\n",
            "[youtube] B5yeUZzfuTg: Downloading tv simply player API JSON\n",
            "[youtube] B5yeUZzfuTg: Downloading tv client config\n",
            "[youtube] B5yeUZzfuTg: Downloading tv player API JSON\n",
            "[info] B5yeUZzfuTg: Downloading 1 format(s): 251\n",
            "[download] Sleeping 4.00 seconds as required by the site...\n",
            "[download] Destination: /content/drive/MyDrive/audio_downloads/20211027_Vuogle Livestream 27⧸10⧸2020 Illustrations for Tellstones： King’s Gambit ｜ Riot Games Part 3.webm\n",
            "\u001b[K[download] 100% of  186.58MiB in \u001b[1;37m00:00:53\u001b[0m at \u001b[0;32m3.48MiB/s\u001b[0m\n",
            "[download] Downloading item \u001b[0;32m51\u001b[0m of \u001b[0;94m59\u001b[0m\n",
            "[youtube] Extracting URL: https://www.youtube.com/watch?v=e2kFgxl7oG4\n",
            "[youtube] e2kFgxl7oG4: Downloading webpage\n",
            "[youtube] e2kFgxl7oG4: Downloading tv simply player API JSON\n",
            "[youtube] e2kFgxl7oG4: Downloading tv client config\n",
            "[youtube] e2kFgxl7oG4: Downloading tv player API JSON\n",
            "[info] e2kFgxl7oG4: Downloading 1 format(s): 251\n",
            "[download] Sleeping 3.00 seconds as required by the site...\n",
            "[download] Destination: /content/drive/MyDrive/audio_downloads/20211026_Vuogle Livestream 26⧸10⧸2020 Illustrations for Tellstones： King’s Gambit ｜ Riot Games Part 2.webm\n",
            "\u001b[K[download] 100% of  222.97MiB in \u001b[1;37m00:01:26\u001b[0m at \u001b[0;32m2.58MiB/s\u001b[0m\n",
            "[download] Downloading item \u001b[0;32m52\u001b[0m of \u001b[0;94m59\u001b[0m\n",
            "[youtube] Extracting URL: https://www.youtube.com/watch?v=Qh75gAvz8HM\n",
            "[youtube] Qh75gAvz8HM: Downloading webpage\n",
            "[youtube] Qh75gAvz8HM: Downloading tv simply player API JSON\n",
            "[youtube] Qh75gAvz8HM: Downloading tv client config\n",
            "[youtube] Qh75gAvz8HM: Downloading tv player API JSON\n",
            "[info] Qh75gAvz8HM: Downloading 1 format(s): 251\n",
            "[download] Sleeping 3.00 seconds as required by the site...\n",
            "[download] Destination: /content/drive/MyDrive/audio_downloads/20211024_Vuogle Livestream 23⧸10⧸2020 Illustrations for Tellstones： King’s Gambit ｜ Riot Games Part 1.webm\n",
            "\u001b[K[download] 100% of  131.31MiB in \u001b[1;37m00:00:51\u001b[0m at \u001b[0;32m2.54MiB/s\u001b[0m\n",
            "[download] Downloading item \u001b[0;32m53\u001b[0m of \u001b[0;94m59\u001b[0m\n",
            "[youtube] Extracting URL: https://www.youtube.com/watch?v=0YlxbXuM3Tk\n",
            "[youtube] 0YlxbXuM3Tk: Downloading webpage\n",
            "[youtube] 0YlxbXuM3Tk: Downloading tv simply player API JSON\n",
            "[youtube] 0YlxbXuM3Tk: Downloading tv client config\n",
            "[youtube] 0YlxbXuM3Tk: Downloading tv player API JSON\n",
            "[info] 0YlxbXuM3Tk: Downloading 1 format(s): 251\n",
            "[download] Sleeping 3.00 seconds as required by the site...\n",
            "[download] Destination: /content/drive/MyDrive/audio_downloads/20211018_Vuogle . TVM 18⧸10⧸2021.webm\n",
            "\u001b[K[download] 100% of  205.57MiB in \u001b[1;37m00:00:48\u001b[0m at \u001b[0;32m4.20MiB/s\u001b[0m\n",
            "[download] Downloading item \u001b[0;32m54\u001b[0m of \u001b[0;94m59\u001b[0m\n",
            "[youtube] Extracting URL: https://www.youtube.com/watch?v=UYMzWB96dSQ\n",
            "[youtube] UYMzWB96dSQ: Downloading webpage\n",
            "[youtube] UYMzWB96dSQ: Downloading tv simply player API JSON\n",
            "[youtube] UYMzWB96dSQ: Downloading tv client config\n",
            "[youtube] UYMzWB96dSQ: Downloading tv player API JSON\n",
            "[info] UYMzWB96dSQ: Downloading 1 format(s): 251\n",
            "[download] Sleeping 4.00 seconds as required by the site...\n",
            "[download] Destination: /content/drive/MyDrive/audio_downloads/20211014_Vuogle . TVM 14⧸10⧸2021.webm\n",
            "\u001b[K[download] 100% of  239.98MiB in \u001b[1;37m00:01:27\u001b[0m at \u001b[0;32m2.73MiB/s\u001b[0m\n",
            "[download] Downloading item \u001b[0;32m55\u001b[0m of \u001b[0;94m59\u001b[0m\n",
            "[youtube] Extracting URL: https://www.youtube.com/watch?v=DLE0m4nj1MI\n",
            "[youtube] DLE0m4nj1MI: Downloading webpage\n",
            "[youtube] DLE0m4nj1MI: Downloading tv simply player API JSON\n",
            "[youtube] DLE0m4nj1MI: Downloading tv client config\n",
            "[youtube] DLE0m4nj1MI: Downloading tv player API JSON\n",
            "[info] DLE0m4nj1MI: Downloading 1 format(s): 251\n",
            "[download] Sleeping 4.00 seconds as required by the site...\n",
            "[download] Destination: /content/drive/MyDrive/audio_downloads/20210808_Vuogle . TVM 8⧸8⧸2021.webm\n",
            "\u001b[K[download] 100% of  248.41MiB in \u001b[1;37m00:00:38\u001b[0m at \u001b[0;32m6.42MiB/s\u001b[0m\n",
            "[download] Downloading item \u001b[0;32m56\u001b[0m of \u001b[0;94m59\u001b[0m\n",
            "[youtube] Extracting URL: https://www.youtube.com/watch?v=sRKP7_LTDGA\n",
            "[youtube] sRKP7_LTDGA: Downloading webpage\n",
            "[youtube] sRKP7_LTDGA: Downloading tv simply player API JSON\n",
            "[youtube] sRKP7_LTDGA: Downloading tv client config\n",
            "[youtube] sRKP7_LTDGA: Downloading tv player API JSON\n",
            "[info] sRKP7_LTDGA: Downloading 1 format(s): 251\n",
            "[download] Sleeping 4.00 seconds as required by the site...\n",
            "[download] Destination: /content/drive/MyDrive/audio_downloads/20210801_Vuogle . TVM 1⧸8⧸2021.webm\n",
            "\u001b[K[download] \u001b[0;94m 60.1%\u001b[0m of  242.25MiB at \u001b[0;32m   2.49MiB/s\u001b[0m ETA \u001b[0;33m00:38\u001b[0m[download] Got error: <urllib3.connection.HTTPSConnection object at 0x7d4475773110>: Failed to establish a new connection: [Errno 111] Connection refused. Retrying (1/10)...\n",
            "[download] Got error: <urllib3.connection.HTTPSConnection object at 0x7d44755ab590>: Failed to establish a new connection: [Errno 111] Connection refused. Retrying (2/10)...\n",
            "[download] Got error: <urllib3.connection.HTTPSConnection object at 0x7d447599fd70>: Failed to establish a new connection: [Errno 111] Connection refused. Retrying (3/10)...\n",
            "[download] Got error: <urllib3.connection.HTTPSConnection object at 0x7d4475771850>: Failed to establish a new connection: [Errno 111] Connection refused. Retrying (4/10)...\n",
            "[download] Got error: <urllib3.connection.HTTPSConnection object at 0x7d4475772d20>: Failed to establish a new connection: [Errno 111] Connection refused. Retrying (5/10)...\n",
            "[download] Got error: <urllib3.connection.HTTPSConnection object at 0x7d44758a34a0>: Failed to establish a new connection: [Errno 111] Connection refused. Retrying (6/10)...\n",
            "[download] Got error: <urllib3.connection.HTTPSConnection object at 0x7d44754de5a0>: Failed to establish a new connection: [Errno 111] Connection refused. Retrying (7/10)...\n",
            "[download] Got error: <urllib3.connection.HTTPSConnection object at 0x7d447599fbc0>: Failed to establish a new connection: [Errno 111] Connection refused. Retrying (8/10)...\n",
            "[download] Got error: <urllib3.connection.HTTPSConnection object at 0x7d44758a26f0>: Failed to establish a new connection: [Errno 111] Connection refused. Retrying (9/10)...\n",
            "[download] Got error: <urllib3.connection.HTTPSConnection object at 0x7d4475772f90>: Failed to establish a new connection: [Errno 111] Connection refused. Retrying (10/10)...\n",
            "[download] Got error: <urllib3.connection.HTTPSConnection object at 0x7d447577c200>: Failed to establish a new connection: [Errno 111] Connection refused. Giving up after 10 retries\n",
            "\n",
            "[download] Downloading item \u001b[0;32m57\u001b[0m of \u001b[0;94m59\u001b[0m\n",
            "[youtube] Extracting URL: https://www.youtube.com/watch?v=XedRAWKghto\n",
            "[youtube] XedRAWKghto: Downloading webpage\n",
            "[youtube] XedRAWKghto: Downloading tv simply player API JSON\n",
            "[youtube] XedRAWKghto: Downloading tv client config\n",
            "[youtube] XedRAWKghto: Downloading tv player API JSON\n",
            "[info] XedRAWKghto: Downloading 1 format(s): 251\n",
            "[download] Sleeping 2.17 seconds as required by the site...\n",
            "[download] Destination: /content/drive/MyDrive/audio_downloads/20210724_Vuogle . TVM 24⧸7⧸2021.webm\n",
            "\u001b[K[download] 100% of  277.88MiB in \u001b[1;37m00:01:25\u001b[0m at \u001b[0;32m3.25MiB/s\u001b[0m\n",
            "[download] Downloading item \u001b[0;32m58\u001b[0m of \u001b[0;94m59\u001b[0m\n",
            "[youtube] Extracting URL: https://www.youtube.com/watch?v=pNq1HVR0kJw\n",
            "[youtube] pNq1HVR0kJw: Downloading webpage\n",
            "[youtube] pNq1HVR0kJw: Downloading tv simply player API JSON\n",
            "[youtube] pNq1HVR0kJw: Downloading tv client config\n",
            "[youtube] pNq1HVR0kJw: Downloading tv player API JSON\n",
            "[info] pNq1HVR0kJw: Downloading 1 format(s): 251\n",
            "[download] Sleeping 3.00 seconds as required by the site...\n",
            "[download] Destination: /content/drive/MyDrive/audio_downloads/20210711_Vuogle . TVM.webm\n",
            "\u001b[K[download] \u001b[0;94m 60.6%\u001b[0m of  176.01MiB at \u001b[0;32m   4.11MiB/s\u001b[0m ETA \u001b[0;33m00:16\u001b[0m[download] Got error: <urllib3.connection.HTTPSConnection object at 0x7d4475948080>: Failed to establish a new connection: [Errno 111] Connection refused. Retrying (1/10)...\n",
            "[download] Got error: <urllib3.connection.HTTPSConnection object at 0x7d4475948530>: Failed to establish a new connection: [Errno 111] Connection refused. Retrying (2/10)...\n",
            "[download] Got error: <urllib3.connection.HTTPSConnection object at 0x7d4475949910>: Failed to establish a new connection: [Errno 111] Connection refused. Retrying (3/10)...\n",
            "[download] Got error: <urllib3.connection.HTTPSConnection object at 0x7d4475494e90>: Failed to establish a new connection: [Errno 111] Connection refused. Retrying (4/10)...\n",
            "[download] Got error: <urllib3.connection.HTTPSConnection object at 0x7d44756f85f0>: Failed to establish a new connection: [Errno 111] Connection refused. Retrying (5/10)...\n",
            "[download] Got error: <urllib3.connection.HTTPSConnection object at 0x7d447594acc0>: Failed to establish a new connection: [Errno 111] Connection refused. Retrying (6/10)...\n",
            "[download] Got error: <urllib3.connection.HTTPSConnection object at 0x7d447599f6e0>: Failed to establish a new connection: [Errno 111] Connection refused. Retrying (7/10)...\n",
            "[download] Got error: <urllib3.connection.HTTPSConnection object at 0x7d44755aa000>: Failed to establish a new connection: [Errno 111] Connection refused. Retrying (8/10)...\n",
            "[download] Got error: <urllib3.connection.HTTPSConnection object at 0x7d447599f680>: Failed to establish a new connection: [Errno 111] Connection refused. Retrying (9/10)...\n",
            "[download] Got error: <urllib3.connection.HTTPSConnection object at 0x7d4475a29e50>: Failed to establish a new connection: [Errno 111] Connection refused. Retrying (10/10)...\n",
            "[download] Got error: <urllib3.connection.HTTPSConnection object at 0x7d4475948ce0>: Failed to establish a new connection: [Errno 111] Connection refused. Giving up after 10 retries\n",
            "\n",
            "[download] Downloading item \u001b[0;32m59\u001b[0m of \u001b[0;94m59\u001b[0m\n",
            "[youtube] Extracting URL: https://www.youtube.com/watch?v=KBQhh5oNhiA\n",
            "[youtube] KBQhh5oNhiA: Downloading webpage\n",
            "[youtube] KBQhh5oNhiA: Downloading tv simply player API JSON\n",
            "[youtube] KBQhh5oNhiA: Downloading tv client config\n",
            "[youtube] KBQhh5oNhiA: Downloading tv player API JSON\n",
            "[info] KBQhh5oNhiA: Downloading 1 format(s): 251\n",
            "[download] Sleeping 3.00 seconds as required by the site...\n",
            "[download] Destination: /content/drive/MyDrive/audio_downloads/20210703_Vuogle . TVM.webm\n",
            "\u001b[K[download] 100% of  205.63MiB in \u001b[1;37m00:00:49\u001b[0m at \u001b[0;32m4.16MiB/s\u001b[0m\n",
            "[download] Finished downloading playlist: vuogle - Live\n"
          ]
        }
      ],
      "source": [
        "!yt-dlp -f \"bestaudio\" \\\n",
        "  -o \"/content/drive/MyDrive/audio_downloads/%(upload_date)s_%(title)s.%(ext)s\" \\\n",
        "  --ignore-errors \\\n",
        "  --user-agent \"Mozilla/5.0 (Windows NT 10.0; Win64; x64) AppleWebKit/537.36\" \\\n",
        "  --sleep-interval 1 \\\n",
        "  --max-sleep-interval 3 \\\n",
        "  \"https://www.youtube.com/@vuogle/streams\""
      ]
    },
    {
      "cell_type": "markdown",
      "metadata": {
        "id": "WRz3f8ReXWDA"
      },
      "source": [
        "# 🚄 Torrent\n",
        "\n",
        "\n",
        "*   ⚠️ Không nên dùng vì vi phạm chính sách Colab\n",
        "\n"
      ]
    },
    {
      "cell_type": "code",
      "execution_count": null,
      "metadata": {
        "cellView": "form",
        "id": "NXEb3zsgXW7W"
      },
      "outputs": [],
      "source": [
        "# @title 📌 Install torrent\n",
        "#  install\n",
        "!pip install lbry-libtorrent"
      ]
    },
    {
      "cell_type": "markdown",
      "metadata": {
        "id": "JaBidLySaz5O"
      },
      "source": [
        "Nếu không được thì thử cài libtorrent\n",
        "\n",
        "```\n",
        "# Kiểm tra phiên bản Python\n",
        "import sys; print(sys.version)\n",
        "# Nếu Python 3.12: thử bản chính thức mới\n",
        "!pip -q install -U \"libtorrent>=2.0.11\"\n",
        "```"
      ]
    },
    {
      "cell_type": "code",
      "execution_count": null,
      "metadata": {
        "cellView": "form",
        "collapsed": true,
        "id": "_a1gpPfELxZF"
      },
      "outputs": [],
      "source": [
        "# @title ⏬ Dowload Torent\n",
        "import os, time, libtorrent as lt\n",
        "\n",
        "SAVE_PATH = \"/content/torrent_download\"\n",
        "os.makedirs(SAVE_PATH, exist_ok=True)\n",
        "\n",
        "def display_progress(h):\n",
        "    s = h.status()\n",
        "    state_str = [\n",
        "        'queued', 'checking', 'downloading metadata', 'downloading',\n",
        "        'finished', 'seeding', 'allocating', 'checking fastresume'\n",
        "    ]\n",
        "    state = state_str[s.state] if 0 <= s.state < len(state_str) else f\"state:{s.state}\"\n",
        "    return (f\"Tiến độ: {s.progress*100:.2f}% | Down: {s.download_rate/1024:.1f} KB/s | \"\n",
        "            f\"Up: {s.upload_rate/1024:.1f} KB/s | Peer: {s.num_peers} | {state}\")\n",
        "\n",
        "def list_files(h):\n",
        "    ti = h.get_torrent_info()\n",
        "    fs = ti.files()\n",
        "    n = fs.num_files()\n",
        "    return [(i, fs.file_path(i), fs.file_size(i)) for i in range(n)]\n",
        "\n",
        "def file_progress_bytes(h):\n",
        "    # v2: trả về list bytes đã tải cho từng file\n",
        "    try:\n",
        "        return h.file_progress()\n",
        "    except TypeError:\n",
        "        return h.file_progress(0)\n",
        "\n",
        "# --- session ---\n",
        "ses = lt.session()\n",
        "try:\n",
        "    ses.listen_on(6881, 6891)\n",
        "except Exception:\n",
        "    pass\n",
        "ses.start_dht()\n",
        "\n",
        "# --- add magnet ---\n",
        "magnet = input(\"Nhập magnet (q để thoát): \").strip()\n",
        "if magnet.lower() == 'q':\n",
        "    raise SystemExit\n",
        "\n",
        "# thêm flag sequential cho ổn định streaming (tùy chọn)\n",
        "atp = lt.parse_magnet_uri(magnet)\n",
        "atp.save_path = SAVE_PATH\n",
        "if hasattr(lt.torrent_flags, \"sequential_download\"):\n",
        "    atp.flags |= lt.torrent_flags.sequential_download\n",
        "\n",
        "# (tùy chọn) thêm tracker để bắt metadata nhanh\n",
        "atp.trackers = [\n",
        "    \"udp://tracker.opentrackr.org:1337/announce\",\n",
        "    \"udp://open.stealth.si:80/announce\",\n",
        "    \"udp://tracker.openbittorrent.com:6969/announce\",\n",
        "]\n",
        "\n",
        "h = ses.add_torrent(atp)\n",
        "\n",
        "# --- chờ metadata ---\n",
        "t0 = time.time()\n",
        "while not h.has_metadata():\n",
        "    if time.time() - t0 > 90:\n",
        "        print(\"Timeout lấy metadata (ít peer/seeder).\")\n",
        "        raise SystemExit\n",
        "    time.sleep(1)\n",
        "print(\"Đã lấy metadata.\")\n",
        "\n",
        "# --- liệt kê file ---\n",
        "files = list_files(h)\n",
        "for i, p, sz in files:\n",
        "    print(f\"[{i}] {p} ({sz/1024/1024:.2f} MB)\")\n",
        "\n",
        "# --- chọn tải ---\n",
        "choice = input(\"Tải toàn bộ (y) hay chọn file (n)? \").strip().lower()\n",
        "selected = None\n",
        "if choice == 'n':\n",
        "    raw = input(\"Nhập index, ví dụ 0,2,4: \")\n",
        "    idxs = []\n",
        "    for x in raw.split(','):\n",
        "        x = x.strip()\n",
        "        if x.isdigit() and 0 <= int(x) < len(files):\n",
        "            idxs.append(int(x))\n",
        "    selected = sorted(set(idxs))\n",
        "\n",
        "# --- đặt ưu tiên file ---\n",
        "num_files = len(files)\n",
        "if selected:\n",
        "    prio = [0]*num_files\n",
        "    for i in selected: prio[i] = 1\n",
        "else:\n",
        "    prio = [1]*num_files\n",
        "\n",
        "try:\n",
        "    h.prioritize_files(prio)\n",
        "except AttributeError:\n",
        "    for i, p in enumerate(prio):\n",
        "        h.file_priority(i, p)\n",
        "\n",
        "print(\"Bắt đầu tải...\")\n",
        "last = 0\n",
        "while True:\n",
        "    s = h.status()\n",
        "    now = time.time()\n",
        "    if now - last >= 5:\n",
        "        print(display_progress(h))\n",
        "        if selected:\n",
        "            prog = file_progress_bytes(h)\n",
        "            for i in selected:\n",
        "                done = prog[i] if i < len(prog) else 0\n",
        "                size = files[i][2]\n",
        "                pct = (done/size*100) if size else 0\n",
        "                print(f\"  - [{i}] {files[i][1]}: {pct:.2f}% ({done/1024/1024:.2f}/{size/1024/1024:.2f} MB)\")\n",
        "        last = now\n",
        "    if s.state in (lt.torrent_status.seeding, lt.torrent_status.finished):\n",
        "        print(\"Hoàn tất.\")\n",
        "        break\n",
        "    time.sleep(1)\n",
        "\n",
        "# liệt kê file kết quả\n",
        "for root, _, fns in os.walk(SAVE_PATH):\n",
        "    for f in fns:\n",
        "        p = os.path.join(root, f)\n",
        "        print(\"- \", p)\n"
      ]
    },
    {
      "cell_type": "markdown",
      "metadata": {
        "id": "Ooweq3CaYPF9"
      },
      "source": [
        "# JavaScript giữ kết nối colab\n",
        "\n",
        "\n",
        "```\n",
        "# F12 > Console\n",
        "function ClickConnect(){\n",
        "    document.querySelector(\"colab-connect-button\").click()\n",
        "}\n",
        "setInterval(ClickConnect, 300000); // 5 phút\n",
        "```\n",
        "\n"
      ]
    },
    {
      "cell_type": "markdown",
      "metadata": {
        "id": "Z3kc7LmjMiTw"
      },
      "source": [
        "\n",
        "\n",
        "---\n",
        "# lung tung chua test 👇\n"
      ]
    },
    {
      "cell_type": "markdown",
      "metadata": {
        "id": "qo1xCHt0q0XN"
      },
      "source": [
        "## Tải audio (mp3) cho 5 link cùng lúc\n",
        "\n",
        "*   Chỉ cần thay LINK_1 … LINK_5 bằng 5 link của bạn (có thể dán xuống dòng cũng được).\n",
        "\n",
        "```\n",
        "!yt-dlp -x --audio-format m4a --audio-quality 0 \\\n",
        "  --embed-thumbnail --add-metadata \\\n",
        "  -o \"%(title)s.%(ext)s\" \\\n",
        "  \"LINK_1\" \"LINK_2\" \"LINK_3\" \"LINK_4\" \"LINK_5\"\n",
        "  -P \"/content/drive/MyDrive/YoutubeAudio\"\n",
        "```\n",
        "\n",
        "\n"
      ]
    }
  ],
  "metadata": {
    "colab": {
      "collapsed_sections": [
        "XpCFwQWZefCH",
        "pT6xF6HFUOfd",
        "8aiNa5o_1gbD",
        "1olPxcEBgL07",
        "SZLqroFMLUs1",
        "OgHKr5ZdOw8G",
        "aWCGGHmWOrGG",
        "gRN3utqAQrb0",
        "5DJokz_NBxm3",
        "SOwK2NyFCGc7",
        "WRz3f8ReXWDA",
        "Z3kc7LmjMiTw"
      ],
      "provenance": [],
      "mount_file_id": "1k2RYHOtIpApLte1iPpoOFFmFK5BKD-mZ",
      "authorship_tag": "ABX9TyNyabH1jOoXpUcBJqmIVXxn",
      "include_colab_link": true
    },
    "kernelspec": {
      "display_name": "Python 3",
      "name": "python3"
    },
    "language_info": {
      "name": "python"
    }
  },
  "nbformat": 4,
  "nbformat_minor": 0
}