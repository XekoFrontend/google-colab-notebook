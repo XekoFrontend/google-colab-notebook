{
  "nbformat": 4,
  "nbformat_minor": 0,
  "metadata": {
    "colab": {
      "provenance": [],
      "collapsed_sections": [
        "XpCFwQWZefCH",
        "pT6xF6HFUOfd",
        "-E3gMs4qiSY0",
        "8aiNa5o_1gbD",
        "1olPxcEBgL07",
        "SZLqroFMLUs1",
        "OgHKr5ZdOw8G",
        "aWCGGHmWOrGG",
        "gRN3utqAQrb0",
        "SOwK2NyFCGc7",
        "WRz3f8ReXWDA",
        "Z3kc7LmjMiTw"
      ],
      "mount_file_id": "1k2RYHOtIpApLte1iPpoOFFmFK5BKD-mZ",
      "authorship_tag": "ABX9TyON4grYMR5HGCPnquwDggJe",
      "include_colab_link": true
    },
    "kernelspec": {
      "name": "python3",
      "display_name": "Python 3"
    },
    "language_info": {
      "name": "python"
    }
  },
  "cells": [
    {
      "cell_type": "markdown",
      "metadata": {
        "id": "view-in-github",
        "colab_type": "text"
      },
      "source": [
        "<a href=\"https://colab.research.google.com/github/XekoFrontend/google-colab-notebook/blob/main/rclone_gui.ipynb\" target=\"_parent\"><img src=\"https://colab.research.google.com/assets/colab-badge.svg\" alt=\"Open In Colab\"/></a>"
      ]
    },
    {
      "cell_type": "markdown",
      "source": [
        "# 📌 **Install**\n"
      ],
      "metadata": {
        "id": "XpCFwQWZefCH"
      }
    },
    {
      "cell_type": "code",
      "execution_count": null,
      "metadata": {
        "collapsed": true,
        "id": "GlikPwUgTvg1"
      },
      "outputs": [],
      "source": [
        "# Cài đặt rClone\n",
        "!sudo -v ; curl https://rclone.org/install.sh | sudo bash"
      ]
    },
    {
      "cell_type": "code",
      "source": [
        "# Danh sách remotes đang có\n",
        "!rclone listremotes"
      ],
      "metadata": {
        "id": "TVMm_mKlUExj"
      },
      "execution_count": null,
      "outputs": []
    },
    {
      "cell_type": "code",
      "source": [
        "# Khôi phục file config\n",
        "!cp \"/content/drive/MyDrive/Colab Notebooks/rclone.conf\" /root/.config/rclone/rclone.conf"
      ],
      "metadata": {
        "id": "MmyLLIMPT-Ku"
      },
      "execution_count": null,
      "outputs": []
    },
    {
      "cell_type": "markdown",
      "source": [
        "# ⚙️ **Config remotes**"
      ],
      "metadata": {
        "id": "pT6xF6HFUOfd"
      }
    },
    {
      "cell_type": "markdown",
      "source": [
        "Modify remotes"
      ],
      "metadata": {
        "id": "RQaFQBLqqCAB"
      }
    },
    {
      "cell_type": "code",
      "source": [
        "!rclone --version"
      ],
      "metadata": {
        "collapsed": true,
        "id": "7xUNqlKrAHaf"
      },
      "execution_count": null,
      "outputs": []
    },
    {
      "cell_type": "code",
      "source": [
        "# Tạo mới, chỉnh sửa, xóa hoặc kiểm tra remote.\n",
        "!rclone config"
      ],
      "metadata": {
        "id": "fj1w6avIgRNN",
        "collapsed": true
      },
      "execution_count": null,
      "outputs": []
    },
    {
      "cell_type": "markdown",
      "source": [
        "Backup config"
      ],
      "metadata": {
        "id": "8hPt4gIPp98Y"
      }
    },
    {
      "cell_type": "code",
      "source": [
        "# Backup config\n",
        "!cp /root/.config/rclone/rclone.conf /content/rclone.conf\n",
        "!rclone copy -v \"/content/rclone.conf\" \"/content/drive/MyDrive/Colab Notebooks/backup/rclone-renamed.conf\""
      ],
      "metadata": {
        "id": "mO5IAMs_gkke"
      },
      "execution_count": null,
      "outputs": []
    },
    {
      "cell_type": "markdown",
      "source": [
        "# 🎯 **Các lệnh Copy**"
      ],
      "metadata": {
        "id": "-E3gMs4qiSY0"
      }
    },
    {
      "cell_type": "code",
      "source": [
        "# @title Basic: Copy files between Cloud\n",
        "# @markdown **Lưu ý**:\n",
        "# @markdown - nếu thêm `/` ở cuối, chỉ copy nội dung bên trong\n",
        "# @markdown - không dùng `/` ở cuối thì copy cả folder\n",
        "\n",
        "source_remote = \"box\" # @param [\"/content/drive/MyDrive/\",\"/content/\",\"googledrive1\",\"onedrive\",\"googledrive2\",\"archive\", \"box\"]\n",
        "input_folder = \"3DsMAX/3D mr.Hoang\" # @param {\"type\":\"string\",\"placeholder\":\"dùng `/` để phân cấp folder hoặc file, để trống là toàn bộ remote\"}\n",
        "# @markdown ---\n",
        "\n",
        "destination_remote = \"archive\" # @param [\"archive\",\"onedrive\",\"googledrive2\",\"googledrive1\", \"box\",\"/content/drive/MyDrive/\",\"/content/\"]\n",
        "destination_folder = \"3DsMAX-mrHoang-baigiang/soongsilacademy\" # @param {\"type\":\"string\",\"placeholder\":\"dùng `/` để phân cấp folder hoặc tạo thư mục trong archive.\"}\n",
        "# @markdown ---\n",
        "\n",
        "option_flag = \"--s3-upload-concurrency 1\" # @param {\"type\":\"string\",\"placeholder\":\"thêm `--flag` nếu cần, dùng space phân cách các flag\"}\n",
        "\n",
        "# Kiểm tra và thực thi lệnh copy\n",
        "if source_remote and destination_remote:\n",
        "    # Xử lý đường dẫn\n",
        "    source_path = f\"{source_remote}:{input_folder}\" if input_folder else f\"{source_remote}:\"\n",
        "    dest_path = f\"{destination_remote}:{destination_folder}\" if destination_folder else f\"{destination_remote}:\"\n",
        "\n",
        "    # Xử lý option_flag\n",
        "    if option_flag.strip():\n",
        "        flags = option_flag.strip().split()\n",
        "        command_flags = \"-v \" + \" \".join(flags)  # Kết hợp -v với các flag người dùng nhập\n",
        "    else:\n",
        "        command_flags = \"-v\"  # Mặc định chỉ dùng -v\n",
        "\n",
        "    # Chạy lệnh rclone\n",
        "    !rclone copy {command_flags} \"{source_path}\" \"{dest_path}\"\n",
        "else:\n",
        "    print(\"Lỗi: Vui lòng nhập cả Source Remote và Destination Remote.\")"
      ],
      "metadata": {
        "id": "4-5lI6wKiZ9a",
        "cellView": "form",
        "collapsed": true
      },
      "execution_count": null,
      "outputs": []
    },
    {
      "cell_type": "markdown",
      "source": [
        "\n",
        "\n",
        "---\n",
        "\n"
      ],
      "metadata": {
        "id": "Rou0Pj6C2kWR"
      }
    },
    {
      "cell_type": "code",
      "source": [
        "!rclone lsf \"archive:1okrock-liveshow\""
      ],
      "metadata": {
        "id": "2CbpR4GxZzON",
        "collapsed": true
      },
      "execution_count": null,
      "outputs": []
    },
    {
      "cell_type": "code",
      "source": [
        "!rclone copy -v \"https://data.terabox.app/file/355a8f3d0d448004bfd44760355e9e24?bkt=en-07c9b0a504a3706095b5bed33474fa845279f58cd625ea8c91609d778afe1145613e6382e58cd8cd&xcode=df67ed55c6204494b55f5ec8e654e0c13e79c2291fa72c2d874035aa226821b9059abe7c8628492e4f74607fb2ca4215c8167d68cbed08ac&fid=4399953669262-250528-1045094404813338&time=1755879512&sign=FDTAXUGERLQlBHSKfWaon-DCb740ccc5511e5e8fedcff06b081203-GnmoxutjLrn2n9uJXUDTZH2At0s%3D&to=139&size=14419252790&sta_dx=14419252790&sta_cs=6&sta_ft=rar&sta_ct=7&sta_mt=0&fm2=MH%2Ctky%2CAnywhere%2C%2CSGFub2k%3D%2Cany&region=tky&ctime=1721389741&mtime=1755879490&resv0=-1&resv1=0&resv2=&resv3=&resv4=14419252790&vuk=4399953669262&iv=0&htype=&randtype=&newver=1&newfm=1&secfm=1&flow_ver=3&pkey=en-60a4ed0a949c71f4b2eda5effa64b454a071fd3e07b901278f4021729bdc94457bd6b613a0460ebb&sl=68091977&expires=1755908312&rt=pr&r=586159288&vbdid=-&fin=%5BHaDoanTV.Com%5DLISCFSVH.rar&fn=%5BHaDoanTV.Com%5DLISCFSVH.rar&rtype=1&dp-logid=8886183457023662952&dp-callid=0.1&hps=1&tsl=2000&csl=2000&fsl=-1&csign=Hxn20zAbm7kxnk88YOPGGnuyJYc%3D&so=0&ut=6&uter=4&serv=0&uc=3706416523&ti=9c74a385a1d3afc573a68b6d53825de85e1c8a5eaa922718&tuse=&raw_appid=0&ogr=0&rregion=XVVi&adg=&reqlabel=250528_f_01ef7f5e1a9c16c0008388deeb54fe5a_-1_db7dff196c8e03a1b341f2cd746c4229&ccn=VN&by=themis\" \"/content/torrent_download/\""
      ],
      "metadata": {
        "id": "JUt0geXVlDjT"
      },
      "execution_count": null,
      "outputs": []
    },
    {
      "cell_type": "markdown",
      "source": [
        "### 🍷 **Ghi chú**\n",
        "\n",
        "**Command**\n",
        "* `copy` : Copy file/thư mục từ nguồn tới đích, bỏ qua file giống nhau\n",
        "* `check` : So sánh nội dung giữa nguồn và đích\n",
        "* `sync` : đồng bộ (dùng --dry-run kiểm tra trước khi chạy thật).\n",
        "* `ls`: Liệt kê file và kích thước (mặc định).\n",
        "* `lsf`: Chỉ hiển thị tên file/thư mục.\n",
        "* `lsd`: Chỉ hiển thị tên thư mục con.\n",
        "* `size`: Hiển thị tổng kích thước của thư mục.\n",
        "\n",
        "---\n",
        "**Flag**\n",
        "\n",
        "* Ghi đè nếu nguồn mới hơn: `--update`. (không dùng được trên archive)\n",
        "* Bỏ qua các file đã tồn tại: `--ignore-existing`. (phù hợp với *archive.org* để tránh gây lỗi, còn lại thì dùng mặc định `copy` là đủ).\n",
        "*\n",
        " * Chọn số luồng copy (nếu không dùng thì mặc định là 4)): `--transfers 8`.\n",
        " * Dùng cho S3 của Amazon: `--s3-upload-concurrency 1`. (archive.org file lớn ưu tiên dùng ✅ 1 luồng, tối đa dùng được 2 luồng).\n",
        "\n",
        "* `--dry-run` : Chạy thử, kiểm tra trước.\n",
        "\n",
        "* `--include \"*.mp4\"` để chỉ copy file .mp4.\n",
        "* `--exclude \"*.tmp`\" để bỏ qua file tạm.\n",
        " * Ex lọc files: `!rclone ls \"archive:cd-luong-bich-huu\" --include \"*.flac\"`\n",
        " * Ex 2: `rclone copy source dest --include \"*.jpg\" --exclude \"*.gif\"`\n",
        "\n",
        "* `--error string` : Báo cáo files lỗi"
      ],
      "metadata": {
        "id": "8aiNa5o_1gbD"
      }
    },
    {
      "cell_type": "markdown",
      "source": [
        "# 👓 **Xem Nội Dung Remote**"
      ],
      "metadata": {
        "id": "1olPxcEBgL07"
      }
    },
    {
      "cell_type": "code",
      "source": [
        "# @markdown ### Hướng dẫn:\n",
        "# @markdown - **List Mode**: Chọn cách hiển thị nội dung:\n",
        "# @markdown   - `ls`: Liệt kê file và kích thước (mặc định).\n",
        "# @markdown   - `lsf`: Chỉ hiển thị tên file/thư mục.\n",
        "# @markdown   - `lsd`: Chỉ hiển thị tên thư mục con.\n",
        "# @markdown   - `size`: Hiển thị tổng kích thước của thư mục.\n",
        "\n",
        "list_remote = \"/content/\" # @param [\"/content/drive/MyDrive/\",\"/content/\",\"googledrive1\",\"onedrive\",\"googledrive2\",\"archive\",\"box\"]\n",
        "input_folder = \"audio_downloads\" # @param {\"type\":\"string\"}\n",
        "list_mode = \"lsf\" # @param [\"lsf\",\"lsd\",\"ls\",\"size\"]\n",
        "# @markdown 🔎 Lọc file:\n",
        "file_type = \"\" # @param {\"type\":\"string\"}\n",
        "file_type_sum = \"Sum\" # @param [\"Default\", \"Sum\"]\n",
        "\n",
        "# Xử lý file_type_sum thành lệnh phù hợp\n",
        "sum_command = \"\" if file_type_sum == \"Default\" else \" | wc -l\"\n",
        "\n",
        "\n",
        "!rclone {list_mode} \"{list_remote}:{input_folder}\"  | grep \".{file_type}\"  {sum_command}\n",
        "\n",
        "\n",
        "# ======================================\n",
        "# grep \".mp4\": Lọc các dòng có chứa .mp4.\n",
        "# wc -l: Đếm số dòng (tức là số file .mp4)."
      ],
      "metadata": {
        "collapsed": true,
        "id": "INrZSJUyUO2m",
        "colab": {
          "base_uri": "https://localhost:8080/"
        },
        "outputId": "95dfcade-15a4-4a18-deff-d41b7a9e483c"
      },
      "execution_count": 17,
      "outputs": [
        {
          "output_type": "stream",
          "name": "stdout",
          "text": [
            "/bin/bash: line 1: rclone: command not found\n",
            "0\n"
          ]
        }
      ]
    },
    {
      "cell_type": "markdown",
      "source": [
        "# 🗃️ **.Rar .Zip .7zip**"
      ],
      "metadata": {
        "id": "SZLqroFMLUs1"
      }
    },
    {
      "cell_type": "markdown",
      "source": [
        "## Rar"
      ],
      "metadata": {
        "id": "OgHKr5ZdOw8G"
      }
    },
    {
      "cell_type": "code",
      "source": [
        "# Install unrar\n",
        "!apt-get install unrar"
      ],
      "metadata": {
        "id": "EdDZ6Cd5LS-5"
      },
      "execution_count": null,
      "outputs": []
    },
    {
      "cell_type": "code",
      "source": [
        "# Giải nén với password (ex: DDDTT)\n",
        "!unrar x -pdomdom2010 /content/copy_temp/*.zip /content/copy_temp/extracted/"
      ],
      "metadata": {
        "id": "2ea4ZCxIOqCc"
      },
      "execution_count": null,
      "outputs": []
    },
    {
      "cell_type": "markdown",
      "source": [
        "## Zip"
      ],
      "metadata": {
        "id": "aWCGGHmWOrGG"
      }
    },
    {
      "cell_type": "code",
      "source": [
        "# Install unzip\n",
        "!apt-get install -y unzip"
      ],
      "metadata": {
        "id": "QqVLJrLFOiyg"
      },
      "execution_count": null,
      "outputs": []
    },
    {
      "cell_type": "code",
      "source": [
        "# Giải nén file .zip với password (nếu có)\n",
        "!unzip -P kirakira /content/copy_temp/Ed01.zip -d /content/copy_temp/extracted/"
      ],
      "metadata": {
        "id": "zUjZlcv-QIY6"
      },
      "execution_count": null,
      "outputs": []
    },
    {
      "cell_type": "code",
      "source": [
        "# Dùng vòng lặp `for` Giải nén nhiều file .zip trong thư mục với password (nếu có)\n",
        "import os\n",
        "for zip_file in os.listdir(\"/content/copy_temp/2/\"):\n",
        "    if zip_file.endswith(\".zip\"):\n",
        "        !unzip -P domdom2010 \"/content/copy_temp/2/{zip_file}\" -d /content/copy_temp/2/s2/\n",
        "        print(f\"Đã giải nén {zip_file}\")"
      ],
      "metadata": {
        "id": "kkCfqzXFQRG2"
      },
      "execution_count": null,
      "outputs": []
    },
    {
      "cell_type": "markdown",
      "source": [
        "---\n",
        "## uncheck"
      ],
      "metadata": {
        "id": "gRN3utqAQrb0"
      }
    },
    {
      "cell_type": "markdown",
      "source": [
        "rar"
      ],
      "metadata": {
        "id": "fZa8y6cPRUGs"
      }
    },
    {
      "cell_type": "code",
      "source": [
        "# hình như là nén files, hoặc ghép files. cần thử lại.\n",
        "!cat /content/torrent_download/HI1\\ DDDTT.part*.rar > /content/HI1_DDDTT_full.rar"
      ],
      "metadata": {
        "id": "3-CAUsowQqYL"
      },
      "execution_count": null,
      "outputs": []
    },
    {
      "cell_type": "code",
      "source": [
        "# Split file nén\n",
        "!split -b 10G /content/HI1_DDDTT_full.rar /content/HI1_DDDTT_part_\n",
        "# copy file trùng tên, chhia theo thứ tự.\n",
        "!rclone copy /content/HI1_DDDTT_part_* archive:tinhhe-lontien-thyetmin/1990/ -v"
      ],
      "metadata": {
        "id": "nvKWC3gCQ06K"
      },
      "execution_count": null,
      "outputs": []
    },
    {
      "cell_type": "markdown",
      "source": [
        "7zip\n",
        "* p7zip-full hỗ trợ hầu hết định dạng (.7z, .zip, .rar, .iso, .tar, .gzip, v.v.), nhưng hiệu suất giải nén .rar tốt hơn với unrar."
      ],
      "metadata": {
        "id": "R73k0vO5RSOa"
      }
    },
    {
      "cell_type": "code",
      "source": [
        "!apt-get update\n",
        "!apt-get install -y p7zip-full"
      ],
      "metadata": {
        "id": "kG5_6xXBRV1b"
      },
      "execution_count": null,
      "outputs": []
    },
    {
      "cell_type": "code",
      "source": [
        "!7z x /content/file.7z -o/content/extracted/ -pYOUR_PASSWORD"
      ],
      "metadata": {
        "id": "K7fwezfgTV_u"
      },
      "execution_count": null,
      "outputs": []
    },
    {
      "cell_type": "code",
      "source": [
        "!7z x /content/file.iso -o/content/extracted/"
      ],
      "metadata": {
        "id": "P6XwK6SUTal6"
      },
      "execution_count": null,
      "outputs": []
    },
    {
      "cell_type": "code",
      "source": [
        "import os\n",
        "\n",
        "# Đường dẫn thư mục chứa file nén\n",
        "source_folder = \"/content/copy_temp/2/\"\n",
        "extract_folder = \"/content/copy_temp/2/zip2/\"\n",
        "password = \"domdom2010\"  # Thay bằng password thực tế\n",
        "\n",
        "# Tạo thư mục đích nếu chưa có\n",
        "!mkdir -p {extract_folder}\n",
        "\n",
        "# Lặp qua các file trong thư mục\n",
        "for filename in os.listdir(source_folder):\n",
        "    if filename.endswith(\".zip\"):\n",
        "        file_path = os.path.join(source_folder, filename)\n",
        "        # Sử dụng 7z để giải nén\n",
        "        !7z x \"{file_path}\" -o\"{extract_folder}\" -p{password} -y\n",
        "        if os.path.exists(os.path.join(extract_folder, filename.replace(\".zip\", \"\"))):\n",
        "            print(f\"Đã giải nén {filename} thành công\")\n",
        "        else:\n",
        "            print(f\"Lỗi: Không thể giải nén {filename}. Kiểm tra file hoặc password!\")"
      ],
      "metadata": {
        "id": "0yTQktWCRYHU"
      },
      "execution_count": null,
      "outputs": []
    },
    {
      "cell_type": "markdown",
      "source": [
        "cai đặt cả 3"
      ],
      "metadata": {
        "id": "31GgEVLpTF0Z"
      }
    },
    {
      "cell_type": "code",
      "source": [
        "# Cài đặt các công cụ giải nén\n",
        "!apt-get update\n",
        "!apt-get install -y unrar unzip p7zip-full"
      ],
      "metadata": {
        "id": "z2eZwK8FTJ_3"
      },
      "execution_count": null,
      "outputs": []
    },
    {
      "cell_type": "markdown",
      "source": [
        "# 📺 **yt-dlp**"
      ],
      "metadata": {
        "id": "5DJokz_NBxm3"
      }
    },
    {
      "cell_type": "markdown",
      "source": [
        "## ⚙️ Install yt-dlp & ffmpeg\n",
        "* ⚠️Chú ý dùng ! trước command\n",
        "* Nếu lỗi 403 Forbidden, thêm --geo-bypass"
      ],
      "metadata": {
        "id": "SOwK2NyFCGc7"
      }
    },
    {
      "cell_type": "code",
      "source": [
        "pip install -U yt-dlp"
      ],
      "metadata": {
        "id": "lDiNbMjZB7l4",
        "colab": {
          "base_uri": "https://localhost:8080/"
        },
        "outputId": "6de6b136-d134-43f8-9546-e1bba5fa67e5"
      },
      "execution_count": 1,
      "outputs": [
        {
          "output_type": "stream",
          "name": "stdout",
          "text": [
            "Collecting yt-dlp\n",
            "  Downloading yt_dlp-2025.9.5-py3-none-any.whl.metadata (177 kB)\n",
            "\u001b[?25l     \u001b[90m━━━━━━━━━━━━━━━━━━━━━━━━━━━━━━━━━━━━━━━━\u001b[0m \u001b[32m0.0/177.1 kB\u001b[0m \u001b[31m?\u001b[0m eta \u001b[36m-:--:--\u001b[0m\r\u001b[2K     \u001b[91m━━━━━━━━━━━━━━━━━━━━━━━━━━━━━━━━━━━━━━\u001b[0m\u001b[90m╺\u001b[0m \u001b[32m174.1/177.1 kB\u001b[0m \u001b[31m4.9 MB/s\u001b[0m eta \u001b[36m0:00:01\u001b[0m\r\u001b[2K     \u001b[90m━━━━━━━━━━━━━━━━━━━━━━━━━━━━━━━━━━━━━━━\u001b[0m \u001b[32m177.1/177.1 kB\u001b[0m \u001b[31m3.7 MB/s\u001b[0m eta \u001b[36m0:00:00\u001b[0m\n",
            "\u001b[?25hDownloading yt_dlp-2025.9.5-py3-none-any.whl (3.3 MB)\n",
            "\u001b[2K   \u001b[90m━━━━━━━━━━━━━━━━━━━━━━━━━━━━━━━━━━━━━━━━\u001b[0m \u001b[32m3.3/3.3 MB\u001b[0m \u001b[31m49.8 MB/s\u001b[0m eta \u001b[36m0:00:00\u001b[0m\n",
            "\u001b[?25hInstalling collected packages: yt-dlp\n",
            "Successfully installed yt-dlp-2025.9.5\n"
          ]
        }
      ]
    },
    {
      "cell_type": "code",
      "source": [
        "!sudo apt install ffmpeg"
      ],
      "metadata": {
        "id": "Qcwcr6HWCC0S",
        "colab": {
          "base_uri": "https://localhost:8080/"
        },
        "outputId": "45978e8f-67ce-4515-d9a0-659a2f5d3273"
      },
      "execution_count": 2,
      "outputs": [
        {
          "output_type": "stream",
          "name": "stdout",
          "text": [
            "Reading package lists... Done\n",
            "Building dependency tree... Done\n",
            "Reading state information... Done\n",
            "ffmpeg is already the newest version (7:4.4.2-0ubuntu0.22.04.1).\n",
            "0 upgraded, 0 newly installed, 0 to remove and 35 not upgraded.\n"
          ]
        }
      ]
    },
    {
      "cell_type": "markdown",
      "source": [
        "## ⏬ Hướng dẫn\n",
        "\n",
        "\n",
        "*   `!yt-dlp`: không dùng flag thì tự chọn định dạng tốt nhất\n",
        "*   `-v`: để xem log\n",
        "*   Subtitle:\n",
        " *   `--write-subs --sub-lang en`: tải 1 hoặc nhiều subtitles `en,vi,kr`. (ex: *en = english*)\n",
        " *   `--all-subs`: tải file và tất cả subtitles.\n",
        " *   `--list-subs`: danh sách các subtitles.\n",
        " *   `--skip-download`: bỏ qua không tải files, nếu chỉ tải subtitle.\n",
        "\n",
        "*   `-F`: xem tất cả định dạng\n",
        "*   `-f`: chọn tải định dạng (ex: `-f 251`)\n",
        "\n",
        "*   `--get-urlurl`: tải .m3u8\n",
        "\n",
        "*   `-o`: đặt tên file.\n",
        "*   `-P`: path đường dẫn để lưu file.\n",
        "\n",
        "---\n",
        "`--postprocessor-args \"-ss 00:00 -to 00:55\"`: cắt âm thanh <~ chua test\n"
      ],
      "metadata": {
        "id": "V9te11yFCsHx"
      }
    },
    {
      "cell_type": "code",
      "source": [
        "!yt-dlp --all-subs \"https://wetv.vip/vi/play/87t5rpu3kbh1qm8/\" -o \"Xin_Hay_Yeu_Em_E7\" -P \"Dame na Watashi ni Koishite Kudasai 2016\""
      ],
      "metadata": {
        "id": "1i7aoGSoCvzC"
      },
      "execution_count": null,
      "outputs": []
    },
    {
      "cell_type": "code",
      "source": [
        "!yt-dlp --flat-playlist --print \"%(webpage_url)s\" --skip-download \\\n",
        "  \"https://www.youtube.com/@vuogle/streams\" > /content/livestream_links.txt\n"
      ],
      "metadata": {
        "colab": {
          "base_uri": "https://localhost:8080/"
        },
        "collapsed": true,
        "id": "7tgnWw5YFd8I",
        "outputId": "ab46104b-72e7-464d-b232-35159729461f"
      },
      "execution_count": 7,
      "outputs": [
        {
          "output_type": "stream",
          "name": "stdout",
          "text": [
            "[debug] Command-line config: ['-v', '-f', 'bestaudio[acodec!=none]', '--match-filter', \"live_status='was_live'\", '-o', '%(title)s [%(id)s].%(ext)s', 'https://www.youtube.com/@vuogle']\n",
            "[debug] Encodings: locale utf-8, fs utf-8, pref utf-8, out utf-8 (No ANSI), error utf-8, screen utf-8 (No ANSI)\n",
            "[debug] yt-dlp version stable@2025.09.05 from yt-dlp/yt-dlp [50136eeeb] (pip)\n",
            "[debug] Python 3.12.11 (CPython x86_64 64bit) - Linux-6.1.123+-x86_64-with-glibc2.35 (OpenSSL 3.0.2 15 Mar 2022, glibc 2.35)\n",
            "[debug] exe versions: ffmpeg 4.4.2 (setts), ffprobe 4.4.2\n",
            "[debug] Optional libraries: Cryptodome-3.23.0, brotli-1.1.0, certifi-2025.08.03, curl_cffi-0.13.0, requests-2.32.4, secretstorage-3.3.3, sqlite3-3.37.2, urllib3-2.5.0, websockets-15.0.1\n",
            "[debug] Proxy map: {'colab_language_server': '/usr/colab/bin/language_service'}\n",
            "[debug] Request Handlers: urllib, requests, websockets, curl_cffi\n",
            "[debug] Plugin directories: none\n",
            "[debug] Loaded 1842 extractors\n",
            "[youtube:tab] Extracting URL: https://www.youtube.com/@vuogle\n",
            "[youtube:tab] @vuogle: Downloading webpage\n",
            "[debug] [youtube:tab] Selected tab: 'videos' (videos), Requested tab: ''\n",
            "[youtube:tab] Downloading all uploads of the channel. To download only the videos in a specific tab, pass the tab's URL\n",
            "[youtube:tab] @vuogle/streams: Downloading webpage\n",
            "[debug] [youtube:tab] Selected tab: 'streams' (live), Requested tab: 'streams'\n",
            "[youtube:tab] @vuogle/shorts: Downloading webpage\n",
            "[debug] [youtube:tab] Selected tab: 'shorts' (shorts), Requested tab: 'shorts'\n",
            "[youtube:tab] Downloading as multiple playlists, separated by tabs. To download as a single playlist instead, pass https://www.youtube.com/playlist?list=UUxDlVC6qhn_w_flaOInl4TQ\n",
            "[download] Downloading playlist: vuogle\n",
            "[youtube:tab] Playlist vuogle: Downloading 3 items of 3\n",
            "[download] Downloading item 1 of 3\n",
            "[download] Downloading playlist: vuogle - Videos\n",
            "[youtube:tab] Playlist vuogle - Videos: Downloading 20 items of 20\n",
            "[download] Downloading item 1 of 20\n",
            "[debug] [youtube] [pot] PO Token Providers: none\n",
            "[debug] [youtube] [pot] PO Token Cache Providers: memory\n",
            "[debug] [youtube] [pot] PO Token Cache Spec Providers: webpo\n",
            "[youtube] Extracting URL: https://www.youtube.com/watch?v=DOjDNqJ3YN0\n",
            "[youtube] DOjDNqJ3YN0: Downloading webpage\n",
            "[youtube] DOjDNqJ3YN0: Downloading tv simply player API JSON\n",
            "[youtube] DOjDNqJ3YN0: Downloading tv client config\n",
            "[youtube] DOjDNqJ3YN0: Downloading player 885548d3-main\n",
            "[debug] Saving youtube-sts.885548d3-main to cache\n",
            "[youtube] DOjDNqJ3YN0: Downloading tv player API JSON\n",
            "[debug] [youtube] Decrypted nsig _YS3DU9_eqWITOLdNl => H5LvXKylBtNoNw\n",
            "[debug] Saving youtube-nsig.885548d3-main to cache\n",
            "[debug] [youtube] Decrypted nsig OZjA-AVbBfzBR91M4H => FKoI80t4dMhAgA\n",
            "[debug] Sort order given by extractor: quality, res, fps, hdr:12, source, vcodec, channels, acodec, lang, proto\n",
            "[debug] Formats sorted by: hasvid, ie_pref, quality, res, fps, hdr:12(7), source, vcodec, channels, acodec, lang, proto, size, br, asr, vext, aext, hasaud, id\n",
            "[download] Vuogle Digital Painting Class - Khóa Basic 23 / Buổi 1 does not pass filter (live_status='was_live'), skipping ..\n",
            "[download] Downloading item 2 of 20\n",
            "[youtube] Extracting URL: https://www.youtube.com/watch?v=_PR255TD3P0\n",
            "[youtube] _PR255TD3P0: Downloading webpage\n",
            "[youtube] _PR255TD3P0: Downloading tv simply player API JSON\n",
            "[youtube] _PR255TD3P0: Downloading tv client config\n",
            "[youtube] _PR255TD3P0: Downloading tv player API JSON\n",
            "[debug] [youtube] Decrypted nsig t_5wnWHG7T64wgMZJG => kgvRXHYFopVE4w\n",
            "[debug] [youtube] Decrypted nsig 6SUUAiEmD2VZhCgP28 => V7KUuF6OkPAoeA\n",
            "[debug] Sort order given by extractor: quality, res, fps, hdr:12, source, vcodec, channels, acodec, lang, proto\n",
            "[debug] Formats sorted by: hasvid, ie_pref, quality, res, fps, hdr:12(7), source, vcodec, channels, acodec, lang, proto, size, br, asr, vext, aext, hasaud, id\n",
            "[download] Vuogle - The City Of GET Protocol does not pass filter (live_status='was_live'), skipping ..\n",
            "[download] Downloading item 3 of 20\n",
            "[youtube] Extracting URL: https://www.youtube.com/watch?v=eYMbmyr9_Rw\n",
            "[youtube] eYMbmyr9_Rw: Downloading webpage\n",
            "[youtube] eYMbmyr9_Rw: Downloading tv simply player API JSON\n",
            "[youtube] eYMbmyr9_Rw: Downloading tv client config\n",
            "[youtube] eYMbmyr9_Rw: Downloading tv player API JSON\n",
            "[debug] [youtube] Decrypted nsig p4ZJfVownLN0_rqqkD => zACf0fm2EqDunA\n",
            "[debug] [youtube] Decrypted nsig 8IG8kKXmEz2ns7QF2P => gtrRk3s5kFQ9XA\n",
            "[debug] Sort order given by extractor: quality, res, fps, hdr:12, source, vcodec, channels, acodec, lang, proto\n",
            "[debug] Formats sorted by: hasvid, ie_pref, quality, res, fps, hdr:12(7), source, vcodec, channels, acodec, lang, proto, size, br, asr, vext, aext, hasaud, id\n",
            "[download] Huion KAMVAS 16 ( 2021 ) Graphic Tablet Review and Digital Painting Process does not pass filter (live_status='was_live'), skipping ..\n",
            "[download] Downloading item 4 of 20\n",
            "[youtube] Extracting URL: https://www.youtube.com/watch?v=LWokHcvoDaI\n",
            "[youtube] LWokHcvoDaI: Downloading webpage\n",
            "[youtube] LWokHcvoDaI: Downloading tv simply player API JSON\n",
            "[youtube] LWokHcvoDaI: Downloading tv client config\n",
            "[youtube] LWokHcvoDaI: Downloading tv player API JSON\n",
            "[debug] [youtube] Decrypted nsig St9jYhg3-oipn78vH4 => bkX1j0JsKvJbxA\n",
            "[debug] [youtube] Decrypted nsig 4cvj9uxGpjhaT0ssPz => HWWhinbN68dC6w\n",
            "[debug] Sort order given by extractor: quality, res, fps, hdr:12, source, vcodec, channels, acodec, lang, proto\n",
            "[debug] Formats sorted by: hasvid, ie_pref, quality, res, fps, hdr:12(7), source, vcodec, channels, acodec, lang, proto, size, br, asr, vext, aext, hasaud, id\n",
            "[download] Tôi muốn vẽ một bức tranh hoành tráng???? does not pass filter (live_status='was_live'), skipping ..\n",
            "[download] Downloading item 5 of 20\n",
            "[youtube] Extracting URL: https://www.youtube.com/watch?v=ObzaYaeu9jM\n",
            "[youtube] ObzaYaeu9jM: Downloading webpage\n",
            "[youtube] ObzaYaeu9jM: Downloading tv simply player API JSON\n",
            "[youtube] ObzaYaeu9jM: Downloading tv client config\n",
            "[youtube] ObzaYaeu9jM: Downloading tv player API JSON\n",
            "[debug] [youtube] Decrypted nsig 3wYvOOYaZDYdaA_Qcf => O_NtLPLhlgs7bw\n",
            "[debug] [youtube] Decrypted nsig DeM_Cgbx27vN8N0gTI => wzkOGP3SYwMB1w\n",
            "[debug] Sort order given by extractor: quality, res, fps, hdr:12, source, vcodec, channels, acodec, lang, proto\n",
            "[debug] Formats sorted by: hasvid, ie_pref, quality, res, fps, hdr:12(7), source, vcodec, channels, acodec, lang, proto, size, br, asr, vext, aext, hasaud, id\n",
            "[download] Kỹ năng và kiến thức trong Digital Painting does not pass filter (live_status='was_live'), skipping ..\n",
            "[download] Downloading item 6 of 20\n",
            "[youtube] Extracting URL: https://www.youtube.com/watch?v=Th9oW6gMXto\n",
            "[youtube] Th9oW6gMXto: Downloading webpage\n",
            "[youtube] Th9oW6gMXto: Downloading tv simply player API JSON\n",
            "[youtube] Th9oW6gMXto: Downloading tv client config\n",
            "[youtube] Th9oW6gMXto: Downloading tv player API JSON\n",
            "[debug] [youtube] Decrypted nsig oGL3dPmaLj7LPEK8mH => DywNIr2C-MykGw\n",
            "[debug] [youtube] Decrypted nsig iJ4vJWrzPb1c7d1lF_ => vfqsgqBqpFhb0g\n",
            "[debug] Sort order given by extractor: quality, res, fps, hdr:12, source, vcodec, channels, acodec, lang, proto\n",
            "[debug] Formats sorted by: hasvid, ie_pref, quality, res, fps, hdr:12(7), source, vcodec, channels, acodec, lang, proto, size, br, asr, vext, aext, hasaud, id\n",
            "[download] Phong cách của họa sĩ, tìm nó bằng cách nào? does not pass filter (live_status='was_live'), skipping ..\n",
            "[download] Downloading item 7 of 20\n",
            "[youtube] Extracting URL: https://www.youtube.com/watch?v=JzZ_BmCp5H8\n",
            "[youtube] JzZ_BmCp5H8: Downloading webpage\n",
            "[youtube] JzZ_BmCp5H8: Downloading tv simply player API JSON\n",
            "[youtube] JzZ_BmCp5H8: Downloading tv client config\n",
            "[youtube] JzZ_BmCp5H8: Downloading tv player API JSON\n",
            "[debug] [youtube] Decrypted nsig 6AbXK03hvRxiOqwfQL => CCm0tIRATPpQXQ\n",
            "\n",
            "ERROR: Interrupted by user\n"
          ]
        }
      ]
    },
    {
      "cell_type": "code",
      "source": [
        "!yt-dlp -f \"bestaudio\" \\\n",
        "  -o \"/content/audio_downloads/%(upload_date)s_%(title)s.%(ext)s\" \\\n",
        "  --ignore-errors \\\n",
        "  \"https://www.youtube.com/@vuogle/streams\""
      ],
      "metadata": {
        "colab": {
          "base_uri": "https://localhost:8080/"
        },
        "collapsed": true,
        "id": "xKivvJesMnk1",
        "outputId": "4ea75679-0f0f-4688-88a4-9899cd7604f8"
      },
      "execution_count": 11,
      "outputs": [
        {
          "output_type": "stream",
          "name": "stdout",
          "text": [
            "[youtube:tab] Extracting URL: https://www.youtube.com/@vuogle/streams\n",
            "[youtube:tab] @vuogle/streams: Downloading webpage\n",
            "[download] Downloading playlist: vuogle - Live\n",
            "[youtube:tab] UCxDlVC6qhn_w_flaOInl4TQ page 1: Downloading API JSON\n",
            "[youtube:tab] Playlist vuogle - Live: Downloading 59 items of 59\n",
            "[download] Downloading item \u001b[0;32m1\u001b[0m of \u001b[0;94m59\u001b[0m\n",
            "[youtube] Extracting URL: https://www.youtube.com/watch?v=JXnEbFAReLE\n",
            "[youtube] JXnEbFAReLE: Downloading webpage\n",
            "[youtube] JXnEbFAReLE: Downloading tv simply player API JSON\n",
            "[youtube] JXnEbFAReLE: Downloading tv client config\n",
            "[youtube] JXnEbFAReLE: Downloading tv player API JSON\n",
            "\u001b[0;31mERROR:\u001b[0m [youtube] JXnEbFAReLE: Sign in to confirm you’re not a bot. Use --cookies-from-browser or --cookies for the authentication. See  https://github.com/yt-dlp/yt-dlp/wiki/FAQ#how-do-i-pass-cookies-to-yt-dlp  for how to manually pass cookies. Also see  https://github.com/yt-dlp/yt-dlp/wiki/Extractors#exporting-youtube-cookies  for tips on effectively exporting YouTube cookies\n",
            "[download] Downloading item \u001b[0;32m2\u001b[0m of \u001b[0;94m59\u001b[0m\n",
            "[youtube] Extracting URL: https://www.youtube.com/watch?v=Zzypi0Af2gc\n",
            "[youtube] Zzypi0Af2gc: Downloading webpage\n",
            "[youtube] Zzypi0Af2gc: Downloading tv simply player API JSON\n",
            "[youtube] Zzypi0Af2gc: Downloading tv client config\n",
            "[youtube] Zzypi0Af2gc: Downloading tv player API JSON\n",
            "\u001b[0;31mERROR:\u001b[0m [youtube] Zzypi0Af2gc: Sign in to confirm you’re not a bot. Use --cookies-from-browser or --cookies for the authentication. See  https://github.com/yt-dlp/yt-dlp/wiki/FAQ#how-do-i-pass-cookies-to-yt-dlp  for how to manually pass cookies. Also see  https://github.com/yt-dlp/yt-dlp/wiki/Extractors#exporting-youtube-cookies  for tips on effectively exporting YouTube cookies\n",
            "[download] Downloading item \u001b[0;32m3\u001b[0m of \u001b[0;94m59\u001b[0m\n",
            "[youtube] Extracting URL: https://www.youtube.com/watch?v=j2MjMKcvG_Y\n",
            "[youtube] j2MjMKcvG_Y: Downloading webpage\n",
            "[youtube] j2MjMKcvG_Y: Downloading tv simply player API JSON\n",
            "[youtube] j2MjMKcvG_Y: Downloading tv client config\n",
            "[youtube] j2MjMKcvG_Y: Downloading tv player API JSON\n",
            "\u001b[0;31mERROR:\u001b[0m [youtube] j2MjMKcvG_Y: Sign in to confirm you’re not a bot. Use --cookies-from-browser or --cookies for the authentication. See  https://github.com/yt-dlp/yt-dlp/wiki/FAQ#how-do-i-pass-cookies-to-yt-dlp  for how to manually pass cookies. Also see  https://github.com/yt-dlp/yt-dlp/wiki/Extractors#exporting-youtube-cookies  for tips on effectively exporting YouTube cookies\n",
            "[download] Downloading item \u001b[0;32m4\u001b[0m of \u001b[0;94m59\u001b[0m\n",
            "[youtube] Extracting URL: https://www.youtube.com/watch?v=7I0FbB3sTdY\n",
            "[youtube] 7I0FbB3sTdY: Downloading webpage\n",
            "[youtube] 7I0FbB3sTdY: Downloading tv simply player API JSON\n",
            "[youtube] 7I0FbB3sTdY: Downloading tv client config\n",
            "[youtube] 7I0FbB3sTdY: Downloading tv player API JSON\n",
            "\u001b[0;31mERROR:\u001b[0m [youtube] 7I0FbB3sTdY: Sign in to confirm you’re not a bot. Use --cookies-from-browser or --cookies for the authentication. See  https://github.com/yt-dlp/yt-dlp/wiki/FAQ#how-do-i-pass-cookies-to-yt-dlp  for how to manually pass cookies. Also see  https://github.com/yt-dlp/yt-dlp/wiki/Extractors#exporting-youtube-cookies  for tips on effectively exporting YouTube cookies\n",
            "[download] Downloading item \u001b[0;32m5\u001b[0m of \u001b[0;94m59\u001b[0m\n",
            "[youtube] Extracting URL: https://www.youtube.com/watch?v=CCAw1QQHL8I\n",
            "[youtube] CCAw1QQHL8I: Downloading webpage\n",
            "[youtube] CCAw1QQHL8I: Downloading tv simply player API JSON\n",
            "[youtube] CCAw1QQHL8I: Downloading tv client config\n",
            "[youtube] CCAw1QQHL8I: Downloading tv player API JSON\n",
            "\u001b[0;31mERROR:\u001b[0m [youtube] CCAw1QQHL8I: Sign in to confirm you’re not a bot. Use --cookies-from-browser or --cookies for the authentication. See  https://github.com/yt-dlp/yt-dlp/wiki/FAQ#how-do-i-pass-cookies-to-yt-dlp  for how to manually pass cookies. Also see  https://github.com/yt-dlp/yt-dlp/wiki/Extractors#exporting-youtube-cookies  for tips on effectively exporting YouTube cookies\n",
            "[download] Downloading item \u001b[0;32m6\u001b[0m of \u001b[0;94m59\u001b[0m\n",
            "[youtube] Extracting URL: https://www.youtube.com/watch?v=6JdDr2ZMVtY\n",
            "[youtube] 6JdDr2ZMVtY: Downloading webpage\n",
            "[youtube] 6JdDr2ZMVtY: Downloading tv simply player API JSON\n",
            "[youtube] 6JdDr2ZMVtY: Downloading tv client config\n",
            "[youtube] 6JdDr2ZMVtY: Downloading tv player API JSON\n",
            "\u001b[0;31mERROR:\u001b[0m [youtube] 6JdDr2ZMVtY: Sign in to confirm you’re not a bot. Use --cookies-from-browser or --cookies for the authentication. See  https://github.com/yt-dlp/yt-dlp/wiki/FAQ#how-do-i-pass-cookies-to-yt-dlp  for how to manually pass cookies. Also see  https://github.com/yt-dlp/yt-dlp/wiki/Extractors#exporting-youtube-cookies  for tips on effectively exporting YouTube cookies\n",
            "[download] Downloading item \u001b[0;32m7\u001b[0m of \u001b[0;94m59\u001b[0m\n",
            "[youtube] Extracting URL: https://www.youtube.com/watch?v=oXb4KCTQ08M\n",
            "[youtube] oXb4KCTQ08M: Downloading webpage\n",
            "[youtube] oXb4KCTQ08M: Downloading tv simply player API JSON\n",
            "[youtube] oXb4KCTQ08M: Downloading tv client config\n",
            "[youtube] oXb4KCTQ08M: Downloading tv player API JSON\n",
            "\u001b[0;31mERROR:\u001b[0m [youtube] oXb4KCTQ08M: Sign in to confirm you’re not a bot. Use --cookies-from-browser or --cookies for the authentication. See  https://github.com/yt-dlp/yt-dlp/wiki/FAQ#how-do-i-pass-cookies-to-yt-dlp  for how to manually pass cookies. Also see  https://github.com/yt-dlp/yt-dlp/wiki/Extractors#exporting-youtube-cookies  for tips on effectively exporting YouTube cookies\n",
            "[download] Downloading item \u001b[0;32m8\u001b[0m of \u001b[0;94m59\u001b[0m\n",
            "[youtube] Extracting URL: https://www.youtube.com/watch?v=dxxDZDoORLM\n",
            "[youtube] dxxDZDoORLM: Downloading webpage\n",
            "[youtube] dxxDZDoORLM: Downloading tv simply player API JSON\n",
            "[youtube] dxxDZDoORLM: Downloading tv client config\n",
            "[youtube] dxxDZDoORLM: Downloading tv player API JSON\n",
            "\u001b[0;31mERROR:\u001b[0m [youtube] dxxDZDoORLM: Sign in to confirm you’re not a bot. Use --cookies-from-browser or --cookies for the authentication. See  https://github.com/yt-dlp/yt-dlp/wiki/FAQ#how-do-i-pass-cookies-to-yt-dlp  for how to manually pass cookies. Also see  https://github.com/yt-dlp/yt-dlp/wiki/Extractors#exporting-youtube-cookies  for tips on effectively exporting YouTube cookies\n",
            "[download] Downloading item \u001b[0;32m9\u001b[0m of \u001b[0;94m59\u001b[0m\n",
            "[youtube] Extracting URL: https://www.youtube.com/watch?v=rZbKSB8Wbig\n",
            "[youtube] rZbKSB8Wbig: Downloading webpage\n",
            "[youtube] rZbKSB8Wbig: Downloading tv simply player API JSON\n",
            "[youtube] rZbKSB8Wbig: Downloading tv client config\n",
            "[youtube] rZbKSB8Wbig: Downloading tv player API JSON\n",
            "\u001b[0;31mERROR:\u001b[0m [youtube] rZbKSB8Wbig: Sign in to confirm you’re not a bot. Use --cookies-from-browser or --cookies for the authentication. See  https://github.com/yt-dlp/yt-dlp/wiki/FAQ#how-do-i-pass-cookies-to-yt-dlp  for how to manually pass cookies. Also see  https://github.com/yt-dlp/yt-dlp/wiki/Extractors#exporting-youtube-cookies  for tips on effectively exporting YouTube cookies\n",
            "[download] Downloading item \u001b[0;32m10\u001b[0m of \u001b[0;94m59\u001b[0m\n",
            "[youtube] Extracting URL: https://www.youtube.com/watch?v=WVyWtIFXUPg\n",
            "[youtube] WVyWtIFXUPg: Downloading webpage\n",
            "[youtube] WVyWtIFXUPg: Downloading tv simply player API JSON\n",
            "[youtube] WVyWtIFXUPg: Downloading tv client config\n",
            "[youtube] WVyWtIFXUPg: Downloading tv player API JSON\n",
            "\u001b[0;31mERROR:\u001b[0m [youtube] WVyWtIFXUPg: Sign in to confirm you’re not a bot. Use --cookies-from-browser or --cookies for the authentication. See  https://github.com/yt-dlp/yt-dlp/wiki/FAQ#how-do-i-pass-cookies-to-yt-dlp  for how to manually pass cookies. Also see  https://github.com/yt-dlp/yt-dlp/wiki/Extractors#exporting-youtube-cookies  for tips on effectively exporting YouTube cookies\n",
            "[download] Downloading item \u001b[0;32m11\u001b[0m of \u001b[0;94m59\u001b[0m\n",
            "[youtube] Extracting URL: https://www.youtube.com/watch?v=PYYviZqLDcM\n",
            "[youtube] PYYviZqLDcM: Downloading webpage\n",
            "[youtube] PYYviZqLDcM: Downloading tv simply player API JSON\n",
            "[youtube] PYYviZqLDcM: Downloading tv client config\n",
            "[youtube] PYYviZqLDcM: Downloading tv player API JSON\n",
            "\u001b[0;31mERROR:\u001b[0m [youtube] PYYviZqLDcM: Sign in to confirm you’re not a bot. Use --cookies-from-browser or --cookies for the authentication. See  https://github.com/yt-dlp/yt-dlp/wiki/FAQ#how-do-i-pass-cookies-to-yt-dlp  for how to manually pass cookies. Also see  https://github.com/yt-dlp/yt-dlp/wiki/Extractors#exporting-youtube-cookies  for tips on effectively exporting YouTube cookies\n",
            "[download] Downloading item \u001b[0;32m12\u001b[0m of \u001b[0;94m59\u001b[0m\n",
            "[youtube] Extracting URL: https://www.youtube.com/watch?v=SkdFcXHBtJM\n",
            "[youtube] SkdFcXHBtJM: Downloading webpage\n",
            "[youtube] SkdFcXHBtJM: Downloading tv simply player API JSON\n",
            "[youtube] SkdFcXHBtJM: Downloading tv client config\n",
            "[youtube] SkdFcXHBtJM: Downloading tv player API JSON\n",
            "\u001b[0;31mERROR:\u001b[0m [youtube] SkdFcXHBtJM: Sign in to confirm you’re not a bot. Use --cookies-from-browser or --cookies for the authentication. See  https://github.com/yt-dlp/yt-dlp/wiki/FAQ#how-do-i-pass-cookies-to-yt-dlp  for how to manually pass cookies. Also see  https://github.com/yt-dlp/yt-dlp/wiki/Extractors#exporting-youtube-cookies  for tips on effectively exporting YouTube cookies\n",
            "[download] Downloading item \u001b[0;32m13\u001b[0m of \u001b[0;94m59\u001b[0m\n",
            "[youtube] Extracting URL: https://www.youtube.com/watch?v=1h3G1s5KYk8\n",
            "[youtube] 1h3G1s5KYk8: Downloading webpage\n",
            "[youtube] 1h3G1s5KYk8: Downloading tv simply player API JSON\n",
            "[youtube] 1h3G1s5KYk8: Downloading tv client config\n",
            "[youtube] 1h3G1s5KYk8: Downloading tv player API JSON\n",
            "\u001b[0;31mERROR:\u001b[0m [youtube] 1h3G1s5KYk8: Sign in to confirm you’re not a bot. Use --cookies-from-browser or --cookies for the authentication. See  https://github.com/yt-dlp/yt-dlp/wiki/FAQ#how-do-i-pass-cookies-to-yt-dlp  for how to manually pass cookies. Also see  https://github.com/yt-dlp/yt-dlp/wiki/Extractors#exporting-youtube-cookies  for tips on effectively exporting YouTube cookies\n",
            "[download] Downloading item \u001b[0;32m14\u001b[0m of \u001b[0;94m59\u001b[0m\n",
            "[youtube] Extracting URL: https://www.youtube.com/watch?v=cJ9oreoAHr4\n",
            "[youtube] cJ9oreoAHr4: Downloading webpage\n",
            "[youtube] cJ9oreoAHr4: Downloading tv simply player API JSON\n",
            "[youtube] cJ9oreoAHr4: Downloading tv client config\n",
            "[youtube] cJ9oreoAHr4: Downloading tv player API JSON\n",
            "\u001b[0;31mERROR:\u001b[0m [youtube] cJ9oreoAHr4: Sign in to confirm you’re not a bot. Use --cookies-from-browser or --cookies for the authentication. See  https://github.com/yt-dlp/yt-dlp/wiki/FAQ#how-do-i-pass-cookies-to-yt-dlp  for how to manually pass cookies. Also see  https://github.com/yt-dlp/yt-dlp/wiki/Extractors#exporting-youtube-cookies  for tips on effectively exporting YouTube cookies\n",
            "[download] Downloading item \u001b[0;32m15\u001b[0m of \u001b[0;94m59\u001b[0m\n",
            "[youtube] Extracting URL: https://www.youtube.com/watch?v=YYWiHlDyO7U\n",
            "[youtube] YYWiHlDyO7U: Downloading webpage\n",
            "[youtube] YYWiHlDyO7U: Downloading tv simply player API JSON\n",
            "[youtube] YYWiHlDyO7U: Downloading tv client config\n",
            "[youtube] YYWiHlDyO7U: Downloading tv player API JSON\n",
            "\u001b[0;31mERROR:\u001b[0m [youtube] YYWiHlDyO7U: Sign in to confirm you’re not a bot. Use --cookies-from-browser or --cookies for the authentication. See  https://github.com/yt-dlp/yt-dlp/wiki/FAQ#how-do-i-pass-cookies-to-yt-dlp  for how to manually pass cookies. Also see  https://github.com/yt-dlp/yt-dlp/wiki/Extractors#exporting-youtube-cookies  for tips on effectively exporting YouTube cookies\n",
            "[download] Downloading item \u001b[0;32m16\u001b[0m of \u001b[0;94m59\u001b[0m\n",
            "[youtube] Extracting URL: https://www.youtube.com/watch?v=tQ9d6DqaZjw\n",
            "[youtube] tQ9d6DqaZjw: Downloading webpage\n",
            "[youtube] tQ9d6DqaZjw: Downloading tv simply player API JSON\n",
            "[youtube] tQ9d6DqaZjw: Downloading tv client config\n",
            "[youtube] tQ9d6DqaZjw: Downloading tv player API JSON\n",
            "\u001b[0;31mERROR:\u001b[0m [youtube] tQ9d6DqaZjw: Sign in to confirm you’re not a bot. Use --cookies-from-browser or --cookies for the authentication. See  https://github.com/yt-dlp/yt-dlp/wiki/FAQ#how-do-i-pass-cookies-to-yt-dlp  for how to manually pass cookies. Also see  https://github.com/yt-dlp/yt-dlp/wiki/Extractors#exporting-youtube-cookies  for tips on effectively exporting YouTube cookies\n",
            "[download] Downloading item \u001b[0;32m17\u001b[0m of \u001b[0;94m59\u001b[0m\n",
            "[youtube] Extracting URL: https://www.youtube.com/watch?v=jwF87C3kANk\n",
            "[youtube] jwF87C3kANk: Downloading webpage\n",
            "[youtube] jwF87C3kANk: Downloading tv simply player API JSON\n",
            "[youtube] jwF87C3kANk: Downloading tv client config\n",
            "[youtube] jwF87C3kANk: Downloading tv player API JSON\n",
            "\u001b[0;31mERROR:\u001b[0m [youtube] jwF87C3kANk: Sign in to confirm you’re not a bot. Use --cookies-from-browser or --cookies for the authentication. See  https://github.com/yt-dlp/yt-dlp/wiki/FAQ#how-do-i-pass-cookies-to-yt-dlp  for how to manually pass cookies. Also see  https://github.com/yt-dlp/yt-dlp/wiki/Extractors#exporting-youtube-cookies  for tips on effectively exporting YouTube cookies\n",
            "[download] Downloading item \u001b[0;32m18\u001b[0m of \u001b[0;94m59\u001b[0m\n",
            "[youtube] Extracting URL: https://www.youtube.com/watch?v=FXAcdXtOnf4\n",
            "[youtube] FXAcdXtOnf4: Downloading webpage\n",
            "[youtube] FXAcdXtOnf4: Downloading tv simply player API JSON\n",
            "[youtube] FXAcdXtOnf4: Downloading tv client config\n",
            "[youtube] FXAcdXtOnf4: Downloading tv player API JSON\n",
            "\u001b[0;31mERROR:\u001b[0m [youtube] FXAcdXtOnf4: Sign in to confirm you’re not a bot. Use --cookies-from-browser or --cookies for the authentication. See  https://github.com/yt-dlp/yt-dlp/wiki/FAQ#how-do-i-pass-cookies-to-yt-dlp  for how to manually pass cookies. Also see  https://github.com/yt-dlp/yt-dlp/wiki/Extractors#exporting-youtube-cookies  for tips on effectively exporting YouTube cookies\n",
            "[download] Downloading item \u001b[0;32m19\u001b[0m of \u001b[0;94m59\u001b[0m\n",
            "[youtube] Extracting URL: https://www.youtube.com/watch?v=i7qBcVOrTZ4\n",
            "[youtube] i7qBcVOrTZ4: Downloading webpage\n",
            "[youtube] i7qBcVOrTZ4: Downloading tv simply player API JSON\n",
            "[youtube] i7qBcVOrTZ4: Downloading tv client config\n",
            "[youtube] i7qBcVOrTZ4: Downloading tv player API JSON\n",
            "\u001b[0;31mERROR:\u001b[0m [youtube] i7qBcVOrTZ4: Sign in to confirm you’re not a bot. Use --cookies-from-browser or --cookies for the authentication. See  https://github.com/yt-dlp/yt-dlp/wiki/FAQ#how-do-i-pass-cookies-to-yt-dlp  for how to manually pass cookies. Also see  https://github.com/yt-dlp/yt-dlp/wiki/Extractors#exporting-youtube-cookies  for tips on effectively exporting YouTube cookies\n",
            "[download] Downloading item \u001b[0;32m20\u001b[0m of \u001b[0;94m59\u001b[0m\n",
            "[youtube] Extracting URL: https://www.youtube.com/watch?v=bnbmwDt2PMQ\n",
            "[youtube] bnbmwDt2PMQ: Downloading webpage\n",
            "[youtube] bnbmwDt2PMQ: Downloading tv simply player API JSON\n",
            "[youtube] bnbmwDt2PMQ: Downloading tv client config\n",
            "[youtube] bnbmwDt2PMQ: Downloading tv player API JSON\n",
            "\u001b[0;31mERROR:\u001b[0m [youtube] bnbmwDt2PMQ: Sign in to confirm you’re not a bot. Use --cookies-from-browser or --cookies for the authentication. See  https://github.com/yt-dlp/yt-dlp/wiki/FAQ#how-do-i-pass-cookies-to-yt-dlp  for how to manually pass cookies. Also see  https://github.com/yt-dlp/yt-dlp/wiki/Extractors#exporting-youtube-cookies  for tips on effectively exporting YouTube cookies\n",
            "[download] Downloading item \u001b[0;32m21\u001b[0m of \u001b[0;94m59\u001b[0m\n",
            "[youtube] Extracting URL: https://www.youtube.com/watch?v=zmty8nQwAgY\n",
            "[youtube] zmty8nQwAgY: Downloading webpage\n",
            "[youtube] zmty8nQwAgY: Downloading tv simply player API JSON\n",
            "[youtube] zmty8nQwAgY: Downloading tv client config\n",
            "[youtube] zmty8nQwAgY: Downloading tv player API JSON\n",
            "\u001b[0;31mERROR:\u001b[0m [youtube] zmty8nQwAgY: Sign in to confirm you’re not a bot. Use --cookies-from-browser or --cookies for the authentication. See  https://github.com/yt-dlp/yt-dlp/wiki/FAQ#how-do-i-pass-cookies-to-yt-dlp  for how to manually pass cookies. Also see  https://github.com/yt-dlp/yt-dlp/wiki/Extractors#exporting-youtube-cookies  for tips on effectively exporting YouTube cookies\n",
            "[download] Downloading item \u001b[0;32m22\u001b[0m of \u001b[0;94m59\u001b[0m\n",
            "[youtube] Extracting URL: https://www.youtube.com/watch?v=PQYXh0-7Vvs\n",
            "[youtube] PQYXh0-7Vvs: Downloading webpage\n",
            "[youtube] PQYXh0-7Vvs: Downloading tv simply player API JSON\n",
            "[youtube] PQYXh0-7Vvs: Downloading tv client config\n",
            "[youtube] PQYXh0-7Vvs: Downloading tv player API JSON\n",
            "\u001b[0;31mERROR:\u001b[0m [youtube] PQYXh0-7Vvs: Sign in to confirm you’re not a bot. Use --cookies-from-browser or --cookies for the authentication. See  https://github.com/yt-dlp/yt-dlp/wiki/FAQ#how-do-i-pass-cookies-to-yt-dlp  for how to manually pass cookies. Also see  https://github.com/yt-dlp/yt-dlp/wiki/Extractors#exporting-youtube-cookies  for tips on effectively exporting YouTube cookies\n",
            "[download] Downloading item \u001b[0;32m23\u001b[0m of \u001b[0;94m59\u001b[0m\n",
            "[youtube] Extracting URL: https://www.youtube.com/watch?v=Jo1Q85IC-ic\n",
            "[youtube] Jo1Q85IC-ic: Downloading webpage\n",
            "[youtube] Jo1Q85IC-ic: Downloading tv simply player API JSON\n",
            "[youtube] Jo1Q85IC-ic: Downloading tv client config\n",
            "[youtube] Jo1Q85IC-ic: Downloading tv player API JSON\n",
            "\u001b[0;31mERROR:\u001b[0m [youtube] Jo1Q85IC-ic: Sign in to confirm you’re not a bot. Use --cookies-from-browser or --cookies for the authentication. See  https://github.com/yt-dlp/yt-dlp/wiki/FAQ#how-do-i-pass-cookies-to-yt-dlp  for how to manually pass cookies. Also see  https://github.com/yt-dlp/yt-dlp/wiki/Extractors#exporting-youtube-cookies  for tips on effectively exporting YouTube cookies\n",
            "[download] Downloading item \u001b[0;32m24\u001b[0m of \u001b[0;94m59\u001b[0m\n",
            "[youtube] Extracting URL: https://www.youtube.com/watch?v=YWYsWJeMv8U\n",
            "[youtube] YWYsWJeMv8U: Downloading webpage\n",
            "[youtube] YWYsWJeMv8U: Downloading tv simply player API JSON\n",
            "[youtube] YWYsWJeMv8U: Downloading tv client config\n",
            "[youtube] YWYsWJeMv8U: Downloading tv player API JSON\n",
            "\u001b[0;31mERROR:\u001b[0m [youtube] YWYsWJeMv8U: Sign in to confirm you’re not a bot. Use --cookies-from-browser or --cookies for the authentication. See  https://github.com/yt-dlp/yt-dlp/wiki/FAQ#how-do-i-pass-cookies-to-yt-dlp  for how to manually pass cookies. Also see  https://github.com/yt-dlp/yt-dlp/wiki/Extractors#exporting-youtube-cookies  for tips on effectively exporting YouTube cookies\n",
            "[download] Downloading item \u001b[0;32m25\u001b[0m of \u001b[0;94m59\u001b[0m\n",
            "[youtube] Extracting URL: https://www.youtube.com/watch?v=EqQrTCPjvno\n",
            "[youtube] EqQrTCPjvno: Downloading webpage\n",
            "[youtube] EqQrTCPjvno: Downloading tv simply player API JSON\n",
            "[youtube] EqQrTCPjvno: Downloading tv client config\n",
            "[youtube] EqQrTCPjvno: Downloading tv player API JSON\n",
            "\u001b[0;31mERROR:\u001b[0m [youtube] EqQrTCPjvno: Sign in to confirm you’re not a bot. Use --cookies-from-browser or --cookies for the authentication. See  https://github.com/yt-dlp/yt-dlp/wiki/FAQ#how-do-i-pass-cookies-to-yt-dlp  for how to manually pass cookies. Also see  https://github.com/yt-dlp/yt-dlp/wiki/Extractors#exporting-youtube-cookies  for tips on effectively exporting YouTube cookies\n",
            "[download] Downloading item \u001b[0;32m26\u001b[0m of \u001b[0;94m59\u001b[0m\n",
            "[youtube] Extracting URL: https://www.youtube.com/watch?v=cxvAwmDg-sU\n",
            "[youtube] cxvAwmDg-sU: Downloading webpage\n",
            "[youtube] cxvAwmDg-sU: Downloading tv simply player API JSON\n",
            "[youtube] cxvAwmDg-sU: Downloading tv client config\n",
            "[youtube] cxvAwmDg-sU: Downloading tv player API JSON\n",
            "\u001b[0;31mERROR:\u001b[0m [youtube] cxvAwmDg-sU: Sign in to confirm you’re not a bot. Use --cookies-from-browser or --cookies for the authentication. See  https://github.com/yt-dlp/yt-dlp/wiki/FAQ#how-do-i-pass-cookies-to-yt-dlp  for how to manually pass cookies. Also see  https://github.com/yt-dlp/yt-dlp/wiki/Extractors#exporting-youtube-cookies  for tips on effectively exporting YouTube cookies\n",
            "[download] Downloading item \u001b[0;32m27\u001b[0m of \u001b[0;94m59\u001b[0m\n",
            "[youtube] Extracting URL: https://www.youtube.com/watch?v=XkaX2Z-kVbE\n",
            "[youtube] XkaX2Z-kVbE: Downloading webpage\n",
            "[youtube] XkaX2Z-kVbE: Downloading tv simply player API JSON\n",
            "[youtube] XkaX2Z-kVbE: Downloading tv client config\n",
            "[youtube] XkaX2Z-kVbE: Downloading tv player API JSON\n",
            "\u001b[0;31mERROR:\u001b[0m [youtube] XkaX2Z-kVbE: Sign in to confirm you’re not a bot. Use --cookies-from-browser or --cookies for the authentication. See  https://github.com/yt-dlp/yt-dlp/wiki/FAQ#how-do-i-pass-cookies-to-yt-dlp  for how to manually pass cookies. Also see  https://github.com/yt-dlp/yt-dlp/wiki/Extractors#exporting-youtube-cookies  for tips on effectively exporting YouTube cookies\n",
            "[download] Downloading item \u001b[0;32m28\u001b[0m of \u001b[0;94m59\u001b[0m\n",
            "[youtube] Extracting URL: https://www.youtube.com/watch?v=4HE_oqdSpls\n",
            "[youtube] 4HE_oqdSpls: Downloading webpage\n",
            "[youtube] 4HE_oqdSpls: Downloading tv simply player API JSON\n",
            "[youtube] 4HE_oqdSpls: Downloading tv client config\n",
            "[youtube] 4HE_oqdSpls: Downloading tv player API JSON\n",
            "\u001b[0;31mERROR:\u001b[0m [youtube] 4HE_oqdSpls: Sign in to confirm you’re not a bot. Use --cookies-from-browser or --cookies for the authentication. See  https://github.com/yt-dlp/yt-dlp/wiki/FAQ#how-do-i-pass-cookies-to-yt-dlp  for how to manually pass cookies. Also see  https://github.com/yt-dlp/yt-dlp/wiki/Extractors#exporting-youtube-cookies  for tips on effectively exporting YouTube cookies\n",
            "[download] Downloading item \u001b[0;32m29\u001b[0m of \u001b[0;94m59\u001b[0m\n",
            "[youtube] Extracting URL: https://www.youtube.com/watch?v=auSrxGNNVI4\n",
            "[youtube] auSrxGNNVI4: Downloading webpage\n",
            "[youtube] auSrxGNNVI4: Downloading tv simply player API JSON\n",
            "[youtube] auSrxGNNVI4: Downloading tv client config\n",
            "[youtube] auSrxGNNVI4: Downloading tv player API JSON\n",
            "\u001b[0;31mERROR:\u001b[0m [youtube] auSrxGNNVI4: Sign in to confirm you’re not a bot. Use --cookies-from-browser or --cookies for the authentication. See  https://github.com/yt-dlp/yt-dlp/wiki/FAQ#how-do-i-pass-cookies-to-yt-dlp  for how to manually pass cookies. Also see  https://github.com/yt-dlp/yt-dlp/wiki/Extractors#exporting-youtube-cookies  for tips on effectively exporting YouTube cookies\n",
            "[download] Downloading item \u001b[0;32m30\u001b[0m of \u001b[0;94m59\u001b[0m\n",
            "[youtube] Extracting URL: https://www.youtube.com/watch?v=RQvd1G89470\n",
            "[youtube] RQvd1G89470: Downloading webpage\n",
            "[youtube] RQvd1G89470: Downloading tv simply player API JSON\n",
            "[youtube] RQvd1G89470: Downloading tv client config\n",
            "[youtube] RQvd1G89470: Downloading tv player API JSON\n",
            "\u001b[0;31mERROR:\u001b[0m [youtube] RQvd1G89470: Sign in to confirm you’re not a bot. Use --cookies-from-browser or --cookies for the authentication. See  https://github.com/yt-dlp/yt-dlp/wiki/FAQ#how-do-i-pass-cookies-to-yt-dlp  for how to manually pass cookies. Also see  https://github.com/yt-dlp/yt-dlp/wiki/Extractors#exporting-youtube-cookies  for tips on effectively exporting YouTube cookies\n",
            "[download] Downloading item \u001b[0;32m31\u001b[0m of \u001b[0;94m59\u001b[0m\n",
            "[youtube] Extracting URL: https://www.youtube.com/watch?v=67YwTqHo1go\n",
            "[youtube] 67YwTqHo1go: Downloading webpage\n",
            "[youtube] 67YwTqHo1go: Downloading tv simply player API JSON\n",
            "[youtube] 67YwTqHo1go: Downloading tv client config\n",
            "[youtube] 67YwTqHo1go: Downloading tv player API JSON\n",
            "\u001b[0;31mERROR:\u001b[0m [youtube] 67YwTqHo1go: Sign in to confirm you’re not a bot. Use --cookies-from-browser or --cookies for the authentication. See  https://github.com/yt-dlp/yt-dlp/wiki/FAQ#how-do-i-pass-cookies-to-yt-dlp  for how to manually pass cookies. Also see  https://github.com/yt-dlp/yt-dlp/wiki/Extractors#exporting-youtube-cookies  for tips on effectively exporting YouTube cookies\n",
            "[download] Downloading item \u001b[0;32m32\u001b[0m of \u001b[0;94m59\u001b[0m\n",
            "[youtube] Extracting URL: https://www.youtube.com/watch?v=sRs9Q47S3Ek\n",
            "[youtube] sRs9Q47S3Ek: Downloading webpage\n",
            "[youtube] sRs9Q47S3Ek: Downloading tv simply player API JSON\n",
            "[youtube] sRs9Q47S3Ek: Downloading tv client config\n",
            "[youtube] sRs9Q47S3Ek: Downloading tv player API JSON\n",
            "\u001b[0;31mERROR:\u001b[0m [youtube] sRs9Q47S3Ek: Sign in to confirm you’re not a bot. Use --cookies-from-browser or --cookies for the authentication. See  https://github.com/yt-dlp/yt-dlp/wiki/FAQ#how-do-i-pass-cookies-to-yt-dlp  for how to manually pass cookies. Also see  https://github.com/yt-dlp/yt-dlp/wiki/Extractors#exporting-youtube-cookies  for tips on effectively exporting YouTube cookies\n",
            "[download] Downloading item \u001b[0;32m33\u001b[0m of \u001b[0;94m59\u001b[0m\n",
            "[youtube] Extracting URL: https://www.youtube.com/watch?v=b5iEqovBn5g\n",
            "[youtube] b5iEqovBn5g: Downloading webpage\n",
            "[youtube] b5iEqovBn5g: Downloading tv simply player API JSON\n",
            "[youtube] b5iEqovBn5g: Downloading tv client config\n",
            "[youtube] b5iEqovBn5g: Downloading tv player API JSON\n",
            "\u001b[0;31mERROR:\u001b[0m [youtube] b5iEqovBn5g: Sign in to confirm you’re not a bot. Use --cookies-from-browser or --cookies for the authentication. See  https://github.com/yt-dlp/yt-dlp/wiki/FAQ#how-do-i-pass-cookies-to-yt-dlp  for how to manually pass cookies. Also see  https://github.com/yt-dlp/yt-dlp/wiki/Extractors#exporting-youtube-cookies  for tips on effectively exporting YouTube cookies\n",
            "[download] Downloading item \u001b[0;32m34\u001b[0m of \u001b[0;94m59\u001b[0m\n",
            "[youtube] Extracting URL: https://www.youtube.com/watch?v=OymQWD9KkHQ\n",
            "[youtube] OymQWD9KkHQ: Downloading webpage\n",
            "[youtube] OymQWD9KkHQ: Downloading tv simply player API JSON\n",
            "[youtube] OymQWD9KkHQ: Downloading tv client config\n",
            "[youtube] OymQWD9KkHQ: Downloading tv player API JSON\n",
            "\u001b[0;31mERROR:\u001b[0m [youtube] OymQWD9KkHQ: Sign in to confirm you’re not a bot. Use --cookies-from-browser or --cookies for the authentication. See  https://github.com/yt-dlp/yt-dlp/wiki/FAQ#how-do-i-pass-cookies-to-yt-dlp  for how to manually pass cookies. Also see  https://github.com/yt-dlp/yt-dlp/wiki/Extractors#exporting-youtube-cookies  for tips on effectively exporting YouTube cookies\n",
            "[download] Downloading item \u001b[0;32m35\u001b[0m of \u001b[0;94m59\u001b[0m\n",
            "[youtube] Extracting URL: https://www.youtube.com/watch?v=1M1nT5ACiIA\n",
            "[youtube] 1M1nT5ACiIA: Downloading webpage\n",
            "[youtube] 1M1nT5ACiIA: Downloading tv simply player API JSON\n",
            "[youtube] 1M1nT5ACiIA: Downloading tv client config\n",
            "[youtube] 1M1nT5ACiIA: Downloading tv player API JSON\n",
            "\u001b[0;31mERROR:\u001b[0m [youtube] 1M1nT5ACiIA: Sign in to confirm you’re not a bot. Use --cookies-from-browser or --cookies for the authentication. See  https://github.com/yt-dlp/yt-dlp/wiki/FAQ#how-do-i-pass-cookies-to-yt-dlp  for how to manually pass cookies. Also see  https://github.com/yt-dlp/yt-dlp/wiki/Extractors#exporting-youtube-cookies  for tips on effectively exporting YouTube cookies\n",
            "[download] Downloading item \u001b[0;32m36\u001b[0m of \u001b[0;94m59\u001b[0m\n",
            "[youtube] Extracting URL: https://www.youtube.com/watch?v=fKknb0CLHn0\n",
            "[youtube] fKknb0CLHn0: Downloading webpage\n",
            "[youtube] fKknb0CLHn0: Downloading tv simply player API JSON\n",
            "[youtube] fKknb0CLHn0: Downloading tv client config\n",
            "[youtube] fKknb0CLHn0: Downloading tv player API JSON\n",
            "\u001b[0;31mERROR:\u001b[0m [youtube] fKknb0CLHn0: Sign in to confirm you’re not a bot. Use --cookies-from-browser or --cookies for the authentication. See  https://github.com/yt-dlp/yt-dlp/wiki/FAQ#how-do-i-pass-cookies-to-yt-dlp  for how to manually pass cookies. Also see  https://github.com/yt-dlp/yt-dlp/wiki/Extractors#exporting-youtube-cookies  for tips on effectively exporting YouTube cookies\n",
            "[download] Downloading item \u001b[0;32m37\u001b[0m of \u001b[0;94m59\u001b[0m\n",
            "[youtube] Extracting URL: https://www.youtube.com/watch?v=BSm8co_7xpA\n",
            "[youtube] BSm8co_7xpA: Downloading webpage\n",
            "[youtube] BSm8co_7xpA: Downloading tv simply player API JSON\n",
            "[youtube] BSm8co_7xpA: Downloading tv client config\n",
            "[youtube] BSm8co_7xpA: Downloading tv player API JSON\n",
            "\u001b[0;31mERROR:\u001b[0m [youtube] BSm8co_7xpA: Sign in to confirm you’re not a bot. Use --cookies-from-browser or --cookies for the authentication. See  https://github.com/yt-dlp/yt-dlp/wiki/FAQ#how-do-i-pass-cookies-to-yt-dlp  for how to manually pass cookies. Also see  https://github.com/yt-dlp/yt-dlp/wiki/Extractors#exporting-youtube-cookies  for tips on effectively exporting YouTube cookies\n",
            "[download] Downloading item \u001b[0;32m38\u001b[0m of \u001b[0;94m59\u001b[0m\n",
            "[youtube] Extracting URL: https://www.youtube.com/watch?v=mZ9Xrs9Q8dY\n",
            "[youtube] mZ9Xrs9Q8dY: Downloading webpage\n",
            "[youtube] mZ9Xrs9Q8dY: Downloading tv simply player API JSON\n",
            "[youtube] mZ9Xrs9Q8dY: Downloading tv client config\n",
            "[youtube] mZ9Xrs9Q8dY: Downloading tv player API JSON\n",
            "\u001b[0;31mERROR:\u001b[0m [youtube] mZ9Xrs9Q8dY: Sign in to confirm you’re not a bot. Use --cookies-from-browser or --cookies for the authentication. See  https://github.com/yt-dlp/yt-dlp/wiki/FAQ#how-do-i-pass-cookies-to-yt-dlp  for how to manually pass cookies. Also see  https://github.com/yt-dlp/yt-dlp/wiki/Extractors#exporting-youtube-cookies  for tips on effectively exporting YouTube cookies\n",
            "[download] Downloading item \u001b[0;32m39\u001b[0m of \u001b[0;94m59\u001b[0m\n",
            "[youtube] Extracting URL: https://www.youtube.com/watch?v=jQWiec7fByc\n",
            "[youtube] jQWiec7fByc: Downloading webpage\n",
            "[youtube] jQWiec7fByc: Downloading tv simply player API JSON\n",
            "[youtube] jQWiec7fByc: Downloading tv client config\n",
            "[youtube] jQWiec7fByc: Downloading tv player API JSON\n",
            "\u001b[0;31mERROR:\u001b[0m [youtube] jQWiec7fByc: Sign in to confirm you’re not a bot. Use --cookies-from-browser or --cookies for the authentication. See  https://github.com/yt-dlp/yt-dlp/wiki/FAQ#how-do-i-pass-cookies-to-yt-dlp  for how to manually pass cookies. Also see  https://github.com/yt-dlp/yt-dlp/wiki/Extractors#exporting-youtube-cookies  for tips on effectively exporting YouTube cookies\n",
            "[download] Downloading item \u001b[0;32m40\u001b[0m of \u001b[0;94m59\u001b[0m\n",
            "[youtube] Extracting URL: https://www.youtube.com/watch?v=4A8IVbfVNqw\n",
            "[youtube] 4A8IVbfVNqw: Downloading webpage\n",
            "[youtube] 4A8IVbfVNqw: Downloading tv simply player API JSON\n",
            "[youtube] 4A8IVbfVNqw: Downloading tv client config\n",
            "[youtube] 4A8IVbfVNqw: Downloading tv player API JSON\n",
            "\u001b[0;31mERROR:\u001b[0m [youtube] 4A8IVbfVNqw: Sign in to confirm you’re not a bot. Use --cookies-from-browser or --cookies for the authentication. See  https://github.com/yt-dlp/yt-dlp/wiki/FAQ#how-do-i-pass-cookies-to-yt-dlp  for how to manually pass cookies. Also see  https://github.com/yt-dlp/yt-dlp/wiki/Extractors#exporting-youtube-cookies  for tips on effectively exporting YouTube cookies\n",
            "[download] Downloading item \u001b[0;32m41\u001b[0m of \u001b[0;94m59\u001b[0m\n",
            "[youtube] Extracting URL: https://www.youtube.com/watch?v=4tzfPM7vLlk\n",
            "[youtube] 4tzfPM7vLlk: Downloading webpage\n",
            "[youtube] 4tzfPM7vLlk: Downloading tv simply player API JSON\n",
            "[youtube] 4tzfPM7vLlk: Downloading tv client config\n",
            "[youtube] 4tzfPM7vLlk: Downloading tv player API JSON\n",
            "\u001b[0;31mERROR:\u001b[0m [youtube] 4tzfPM7vLlk: Sign in to confirm you’re not a bot. Use --cookies-from-browser or --cookies for the authentication. See  https://github.com/yt-dlp/yt-dlp/wiki/FAQ#how-do-i-pass-cookies-to-yt-dlp  for how to manually pass cookies. Also see  https://github.com/yt-dlp/yt-dlp/wiki/Extractors#exporting-youtube-cookies  for tips on effectively exporting YouTube cookies\n",
            "[download] Downloading item \u001b[0;32m42\u001b[0m of \u001b[0;94m59\u001b[0m\n",
            "[youtube] Extracting URL: https://www.youtube.com/watch?v=4DHvT1EroGU\n",
            "[youtube] 4DHvT1EroGU: Downloading webpage\n",
            "[youtube] 4DHvT1EroGU: Downloading tv simply player API JSON\n",
            "[youtube] 4DHvT1EroGU: Downloading tv client config\n",
            "[youtube] 4DHvT1EroGU: Downloading tv player API JSON\n",
            "\u001b[0;31mERROR:\u001b[0m [youtube] 4DHvT1EroGU: Sign in to confirm you’re not a bot. Use --cookies-from-browser or --cookies for the authentication. See  https://github.com/yt-dlp/yt-dlp/wiki/FAQ#how-do-i-pass-cookies-to-yt-dlp  for how to manually pass cookies. Also see  https://github.com/yt-dlp/yt-dlp/wiki/Extractors#exporting-youtube-cookies  for tips on effectively exporting YouTube cookies\n",
            "[download] Downloading item \u001b[0;32m43\u001b[0m of \u001b[0;94m59\u001b[0m\n",
            "[youtube] Extracting URL: https://www.youtube.com/watch?v=fdUUYJ7EnOU\n",
            "[youtube] fdUUYJ7EnOU: Downloading webpage\n",
            "[youtube] fdUUYJ7EnOU: Downloading tv simply player API JSON\n",
            "[youtube] fdUUYJ7EnOU: Downloading tv client config\n",
            "[youtube] fdUUYJ7EnOU: Downloading tv player API JSON\n",
            "\u001b[0;31mERROR:\u001b[0m [youtube] fdUUYJ7EnOU: Sign in to confirm you’re not a bot. Use --cookies-from-browser or --cookies for the authentication. See  https://github.com/yt-dlp/yt-dlp/wiki/FAQ#how-do-i-pass-cookies-to-yt-dlp  for how to manually pass cookies. Also see  https://github.com/yt-dlp/yt-dlp/wiki/Extractors#exporting-youtube-cookies  for tips on effectively exporting YouTube cookies\n",
            "[download] Downloading item \u001b[0;32m44\u001b[0m of \u001b[0;94m59\u001b[0m\n",
            "[youtube] Extracting URL: https://www.youtube.com/watch?v=xgEcHkGPqnk\n",
            "[youtube] xgEcHkGPqnk: Downloading webpage\n",
            "[youtube] xgEcHkGPqnk: Downloading tv simply player API JSON\n",
            "[youtube] xgEcHkGPqnk: Downloading tv client config\n",
            "[youtube] xgEcHkGPqnk: Downloading tv player API JSON\n",
            "\u001b[0;31mERROR:\u001b[0m [youtube] xgEcHkGPqnk: Sign in to confirm you’re not a bot. Use --cookies-from-browser or --cookies for the authentication. See  https://github.com/yt-dlp/yt-dlp/wiki/FAQ#how-do-i-pass-cookies-to-yt-dlp  for how to manually pass cookies. Also see  https://github.com/yt-dlp/yt-dlp/wiki/Extractors#exporting-youtube-cookies  for tips on effectively exporting YouTube cookies\n",
            "[download] Downloading item \u001b[0;32m45\u001b[0m of \u001b[0;94m59\u001b[0m\n",
            "[youtube] Extracting URL: https://www.youtube.com/watch?v=_AQFjSTtYGg\n",
            "[youtube] _AQFjSTtYGg: Downloading webpage\n",
            "[youtube] _AQFjSTtYGg: Downloading tv simply player API JSON\n",
            "[youtube] _AQFjSTtYGg: Downloading tv client config\n",
            "[youtube] _AQFjSTtYGg: Downloading tv player API JSON\n",
            "\u001b[0;31mERROR:\u001b[0m [youtube] _AQFjSTtYGg: Sign in to confirm you’re not a bot. Use --cookies-from-browser or --cookies for the authentication. See  https://github.com/yt-dlp/yt-dlp/wiki/FAQ#how-do-i-pass-cookies-to-yt-dlp  for how to manually pass cookies. Also see  https://github.com/yt-dlp/yt-dlp/wiki/Extractors#exporting-youtube-cookies  for tips on effectively exporting YouTube cookies\n",
            "[download] Downloading item \u001b[0;32m46\u001b[0m of \u001b[0;94m59\u001b[0m\n",
            "[youtube] Extracting URL: https://www.youtube.com/watch?v=qis2SRWmjAY\n",
            "[youtube] qis2SRWmjAY: Downloading webpage\n",
            "[youtube] qis2SRWmjAY: Downloading tv simply player API JSON\n",
            "[youtube] qis2SRWmjAY: Downloading tv client config\n",
            "[youtube] qis2SRWmjAY: Downloading tv player API JSON\n",
            "\u001b[0;31mERROR:\u001b[0m [youtube] qis2SRWmjAY: Sign in to confirm you’re not a bot. Use --cookies-from-browser or --cookies for the authentication. See  https://github.com/yt-dlp/yt-dlp/wiki/FAQ#how-do-i-pass-cookies-to-yt-dlp  for how to manually pass cookies. Also see  https://github.com/yt-dlp/yt-dlp/wiki/Extractors#exporting-youtube-cookies  for tips on effectively exporting YouTube cookies\n",
            "[download] Downloading item \u001b[0;32m47\u001b[0m of \u001b[0;94m59\u001b[0m\n",
            "[youtube] Extracting URL: https://www.youtube.com/watch?v=pzk6cSy5wAs\n",
            "[youtube] pzk6cSy5wAs: Downloading webpage\n",
            "[youtube] pzk6cSy5wAs: Downloading tv simply player API JSON\n",
            "[youtube] pzk6cSy5wAs: Downloading tv client config\n",
            "[youtube] pzk6cSy5wAs: Downloading tv player API JSON\n",
            "\u001b[0;31mERROR:\u001b[0m [youtube] pzk6cSy5wAs: Sign in to confirm you’re not a bot. Use --cookies-from-browser or --cookies for the authentication. See  https://github.com/yt-dlp/yt-dlp/wiki/FAQ#how-do-i-pass-cookies-to-yt-dlp  for how to manually pass cookies. Also see  https://github.com/yt-dlp/yt-dlp/wiki/Extractors#exporting-youtube-cookies  for tips on effectively exporting YouTube cookies\n",
            "[download] Downloading item \u001b[0;32m48\u001b[0m of \u001b[0;94m59\u001b[0m\n",
            "[youtube] Extracting URL: https://www.youtube.com/watch?v=48zWctwIaZ4\n",
            "[youtube] 48zWctwIaZ4: Downloading webpage\n",
            "[youtube] 48zWctwIaZ4: Downloading tv simply player API JSON\n",
            "[youtube] 48zWctwIaZ4: Downloading tv client config\n",
            "[youtube] 48zWctwIaZ4: Downloading tv player API JSON\n",
            "\u001b[0;31mERROR:\u001b[0m [youtube] 48zWctwIaZ4: Sign in to confirm you’re not a bot. Use --cookies-from-browser or --cookies for the authentication. See  https://github.com/yt-dlp/yt-dlp/wiki/FAQ#how-do-i-pass-cookies-to-yt-dlp  for how to manually pass cookies. Also see  https://github.com/yt-dlp/yt-dlp/wiki/Extractors#exporting-youtube-cookies  for tips on effectively exporting YouTube cookies\n",
            "[download] Downloading item \u001b[0;32m49\u001b[0m of \u001b[0;94m59\u001b[0m\n",
            "[youtube] Extracting URL: https://www.youtube.com/watch?v=hCV56Zpl_tc\n",
            "[youtube] hCV56Zpl_tc: Downloading webpage\n",
            "[youtube] hCV56Zpl_tc: Downloading tv simply player API JSON\n",
            "[youtube] hCV56Zpl_tc: Downloading tv client config\n",
            "[youtube] hCV56Zpl_tc: Downloading tv player API JSON\n",
            "\u001b[0;31mERROR:\u001b[0m [youtube] hCV56Zpl_tc: Sign in to confirm you’re not a bot. Use --cookies-from-browser or --cookies for the authentication. See  https://github.com/yt-dlp/yt-dlp/wiki/FAQ#how-do-i-pass-cookies-to-yt-dlp  for how to manually pass cookies. Also see  https://github.com/yt-dlp/yt-dlp/wiki/Extractors#exporting-youtube-cookies  for tips on effectively exporting YouTube cookies\n",
            "[download] Downloading item \u001b[0;32m50\u001b[0m of \u001b[0;94m59\u001b[0m\n",
            "[youtube] Extracting URL: https://www.youtube.com/watch?v=B5yeUZzfuTg\n",
            "[youtube] B5yeUZzfuTg: Downloading webpage\n",
            "[youtube] B5yeUZzfuTg: Downloading tv simply player API JSON\n",
            "[youtube] B5yeUZzfuTg: Downloading tv client config\n",
            "[youtube] B5yeUZzfuTg: Downloading tv player API JSON\n",
            "\u001b[0;31mERROR:\u001b[0m [youtube] B5yeUZzfuTg: Sign in to confirm you’re not a bot. Use --cookies-from-browser or --cookies for the authentication. See  https://github.com/yt-dlp/yt-dlp/wiki/FAQ#how-do-i-pass-cookies-to-yt-dlp  for how to manually pass cookies. Also see  https://github.com/yt-dlp/yt-dlp/wiki/Extractors#exporting-youtube-cookies  for tips on effectively exporting YouTube cookies\n",
            "[download] Downloading item \u001b[0;32m51\u001b[0m of \u001b[0;94m59\u001b[0m\n",
            "[youtube] Extracting URL: https://www.youtube.com/watch?v=e2kFgxl7oG4\n",
            "[youtube] e2kFgxl7oG4: Downloading webpage\n",
            "[youtube] e2kFgxl7oG4: Downloading tv simply player API JSON\n",
            "[youtube] e2kFgxl7oG4: Downloading tv client config\n",
            "[youtube] e2kFgxl7oG4: Downloading tv player API JSON\n",
            "\u001b[0;31mERROR:\u001b[0m [youtube] e2kFgxl7oG4: Sign in to confirm you’re not a bot. Use --cookies-from-browser or --cookies for the authentication. See  https://github.com/yt-dlp/yt-dlp/wiki/FAQ#how-do-i-pass-cookies-to-yt-dlp  for how to manually pass cookies. Also see  https://github.com/yt-dlp/yt-dlp/wiki/Extractors#exporting-youtube-cookies  for tips on effectively exporting YouTube cookies\n",
            "[download] Downloading item \u001b[0;32m52\u001b[0m of \u001b[0;94m59\u001b[0m\n",
            "[youtube] Extracting URL: https://www.youtube.com/watch?v=Qh75gAvz8HM\n",
            "[youtube] Qh75gAvz8HM: Downloading webpage\n",
            "[youtube] Qh75gAvz8HM: Downloading tv simply player API JSON\n",
            "[youtube] Qh75gAvz8HM: Downloading tv client config\n",
            "[youtube] Qh75gAvz8HM: Downloading tv player API JSON\n",
            "\u001b[0;31mERROR:\u001b[0m [youtube] Qh75gAvz8HM: Sign in to confirm you’re not a bot. Use --cookies-from-browser or --cookies for the authentication. See  https://github.com/yt-dlp/yt-dlp/wiki/FAQ#how-do-i-pass-cookies-to-yt-dlp  for how to manually pass cookies. Also see  https://github.com/yt-dlp/yt-dlp/wiki/Extractors#exporting-youtube-cookies  for tips on effectively exporting YouTube cookies\n",
            "[download] Downloading item \u001b[0;32m53\u001b[0m of \u001b[0;94m59\u001b[0m\n",
            "[youtube] Extracting URL: https://www.youtube.com/watch?v=0YlxbXuM3Tk\n",
            "[youtube] 0YlxbXuM3Tk: Downloading webpage\n",
            "[youtube] 0YlxbXuM3Tk: Downloading tv simply player API JSON\n",
            "[youtube] 0YlxbXuM3Tk: Downloading tv client config\n",
            "[youtube] 0YlxbXuM3Tk: Downloading tv player API JSON\n",
            "\u001b[0;31mERROR:\u001b[0m [youtube] 0YlxbXuM3Tk: Sign in to confirm you’re not a bot. Use --cookies-from-browser or --cookies for the authentication. See  https://github.com/yt-dlp/yt-dlp/wiki/FAQ#how-do-i-pass-cookies-to-yt-dlp  for how to manually pass cookies. Also see  https://github.com/yt-dlp/yt-dlp/wiki/Extractors#exporting-youtube-cookies  for tips on effectively exporting YouTube cookies\n",
            "[download] Downloading item \u001b[0;32m54\u001b[0m of \u001b[0;94m59\u001b[0m\n",
            "[youtube] Extracting URL: https://www.youtube.com/watch?v=UYMzWB96dSQ\n",
            "[youtube] UYMzWB96dSQ: Downloading webpage\n",
            "[youtube] UYMzWB96dSQ: Downloading tv simply player API JSON\n",
            "[youtube] UYMzWB96dSQ: Downloading tv client config\n",
            "[youtube] UYMzWB96dSQ: Downloading tv player API JSON\n",
            "\u001b[0;31mERROR:\u001b[0m [youtube] UYMzWB96dSQ: Sign in to confirm you’re not a bot. Use --cookies-from-browser or --cookies for the authentication. See  https://github.com/yt-dlp/yt-dlp/wiki/FAQ#how-do-i-pass-cookies-to-yt-dlp  for how to manually pass cookies. Also see  https://github.com/yt-dlp/yt-dlp/wiki/Extractors#exporting-youtube-cookies  for tips on effectively exporting YouTube cookies\n",
            "[download] Downloading item \u001b[0;32m55\u001b[0m of \u001b[0;94m59\u001b[0m\n",
            "[youtube] Extracting URL: https://www.youtube.com/watch?v=DLE0m4nj1MI\n",
            "[youtube] DLE0m4nj1MI: Downloading webpage\n",
            "[youtube] DLE0m4nj1MI: Downloading tv simply player API JSON\n",
            "[youtube] DLE0m4nj1MI: Downloading tv client config\n",
            "[youtube] DLE0m4nj1MI: Downloading tv player API JSON\n",
            "\u001b[0;31mERROR:\u001b[0m [youtube] DLE0m4nj1MI: Sign in to confirm you’re not a bot. Use --cookies-from-browser or --cookies for the authentication. See  https://github.com/yt-dlp/yt-dlp/wiki/FAQ#how-do-i-pass-cookies-to-yt-dlp  for how to manually pass cookies. Also see  https://github.com/yt-dlp/yt-dlp/wiki/Extractors#exporting-youtube-cookies  for tips on effectively exporting YouTube cookies\n",
            "[download] Downloading item \u001b[0;32m56\u001b[0m of \u001b[0;94m59\u001b[0m\n",
            "[youtube] Extracting URL: https://www.youtube.com/watch?v=sRKP7_LTDGA\n",
            "[youtube] sRKP7_LTDGA: Downloading webpage\n",
            "[youtube] sRKP7_LTDGA: Downloading tv simply player API JSON\n",
            "[youtube] sRKP7_LTDGA: Downloading tv client config\n",
            "[youtube] sRKP7_LTDGA: Downloading tv player API JSON\n",
            "\u001b[0;31mERROR:\u001b[0m [youtube] sRKP7_LTDGA: Sign in to confirm you’re not a bot. Use --cookies-from-browser or --cookies for the authentication. See  https://github.com/yt-dlp/yt-dlp/wiki/FAQ#how-do-i-pass-cookies-to-yt-dlp  for how to manually pass cookies. Also see  https://github.com/yt-dlp/yt-dlp/wiki/Extractors#exporting-youtube-cookies  for tips on effectively exporting YouTube cookies\n",
            "[download] Downloading item \u001b[0;32m57\u001b[0m of \u001b[0;94m59\u001b[0m\n",
            "[youtube] Extracting URL: https://www.youtube.com/watch?v=XedRAWKghto\n",
            "[youtube] XedRAWKghto: Downloading webpage\n",
            "[youtube] XedRAWKghto: Downloading tv simply player API JSON\n",
            "[youtube] XedRAWKghto: Downloading tv client config\n",
            "[youtube] XedRAWKghto: Downloading tv player API JSON\n",
            "\u001b[0;31mERROR:\u001b[0m [youtube] XedRAWKghto: Sign in to confirm you’re not a bot. Use --cookies-from-browser or --cookies for the authentication. See  https://github.com/yt-dlp/yt-dlp/wiki/FAQ#how-do-i-pass-cookies-to-yt-dlp  for how to manually pass cookies. Also see  https://github.com/yt-dlp/yt-dlp/wiki/Extractors#exporting-youtube-cookies  for tips on effectively exporting YouTube cookies\n",
            "[download] Downloading item \u001b[0;32m58\u001b[0m of \u001b[0;94m59\u001b[0m\n",
            "[youtube] Extracting URL: https://www.youtube.com/watch?v=pNq1HVR0kJw\n",
            "[youtube] pNq1HVR0kJw: Downloading webpage\n",
            "[youtube] pNq1HVR0kJw: Downloading tv simply player API JSON\n",
            "[youtube] pNq1HVR0kJw: Downloading tv client config\n",
            "[youtube] pNq1HVR0kJw: Downloading tv player API JSON\n",
            "\u001b[0;31mERROR:\u001b[0m [youtube] pNq1HVR0kJw: Sign in to confirm you’re not a bot. Use --cookies-from-browser or --cookies for the authentication. See  https://github.com/yt-dlp/yt-dlp/wiki/FAQ#how-do-i-pass-cookies-to-yt-dlp  for how to manually pass cookies. Also see  https://github.com/yt-dlp/yt-dlp/wiki/Extractors#exporting-youtube-cookies  for tips on effectively exporting YouTube cookies\n",
            "[download] Downloading item \u001b[0;32m59\u001b[0m of \u001b[0;94m59\u001b[0m\n",
            "[youtube] Extracting URL: https://www.youtube.com/watch?v=KBQhh5oNhiA\n",
            "[youtube] KBQhh5oNhiA: Downloading webpage\n",
            "[youtube] KBQhh5oNhiA: Downloading tv simply player API JSON\n",
            "[youtube] KBQhh5oNhiA: Downloading tv client config\n",
            "[youtube] KBQhh5oNhiA: Downloading tv player API JSON\n",
            "\u001b[0;31mERROR:\u001b[0m [youtube] KBQhh5oNhiA: Sign in to confirm you’re not a bot. Use --cookies-from-browser or --cookies for the authentication. See  https://github.com/yt-dlp/yt-dlp/wiki/FAQ#how-do-i-pass-cookies-to-yt-dlp  for how to manually pass cookies. Also see  https://github.com/yt-dlp/yt-dlp/wiki/Extractors#exporting-youtube-cookies  for tips on effectively exporting YouTube cookies\n",
            "[download] Finished downloading playlist: vuogle - Live\n"
          ]
        }
      ]
    },
    {
      "cell_type": "code",
      "source": [
        "!ls /content/audio_downloads | wc -l"
      ],
      "metadata": {
        "colab": {
          "base_uri": "https://localhost:8080/"
        },
        "id": "v83xygJ-dqlO",
        "outputId": "3fc3d910-c5f2-489d-a3cb-3dcdacf901ec"
      },
      "execution_count": 20,
      "outputs": [
        {
          "output_type": "stream",
          "name": "stdout",
          "text": [
            "23\n"
          ]
        }
      ]
    },
    {
      "cell_type": "code",
      "source": [
        "!yt-dlp -f \"bestaudio\" \\\n",
        "  -o \"/content/audio_downloads/%(upload_date)s_%(title)s.%(ext)s\" \\\n",
        "  --ignore-errors \\\n",
        "  --user-agent \"Mozilla/5.0 (Windows NT 10.0; Win64; x64) AppleWebKit/537.36\" \\\n",
        "  --sleep-interval 1 \\\n",
        "  --max-sleep-interval 3 \\\n",
        "  \"https://www.youtube.com/@vuogle/streams\""
      ],
      "metadata": {
        "colab": {
          "base_uri": "https://localhost:8080/"
        },
        "id": "cYdGQxjmeXKN",
        "outputId": "2c5bc268-43df-4ec4-f8ed-2f992770ac32"
      },
      "execution_count": 21,
      "outputs": [
        {
          "output_type": "stream",
          "name": "stdout",
          "text": [
            "[youtube:tab] Extracting URL: https://www.youtube.com/@vuogle/streams\n",
            "[youtube:tab] @vuogle/streams: Downloading webpage\n",
            "[download] Downloading playlist: vuogle - Live\n",
            "[youtube:tab] UCxDlVC6qhn_w_flaOInl4TQ page 1: Downloading API JSON\n",
            "[youtube:tab] Playlist vuogle - Live: Downloading 59 items of 59\n",
            "[download] Downloading item \u001b[0;32m1\u001b[0m of \u001b[0;94m59\u001b[0m\n",
            "[youtube] Extracting URL: https://www.youtube.com/watch?v=JXnEbFAReLE\n",
            "[youtube] JXnEbFAReLE: Downloading webpage\n",
            "[youtube] JXnEbFAReLE: Downloading tv simply player API JSON\n",
            "[youtube] JXnEbFAReLE: Downloading tv client config\n",
            "[youtube] JXnEbFAReLE: Downloading tv player API JSON\n",
            "\u001b[0;31mERROR:\u001b[0m [youtube] JXnEbFAReLE: Sign in to confirm you’re not a bot. Use --cookies-from-browser or --cookies for the authentication. See  https://github.com/yt-dlp/yt-dlp/wiki/FAQ#how-do-i-pass-cookies-to-yt-dlp  for how to manually pass cookies. Also see  https://github.com/yt-dlp/yt-dlp/wiki/Extractors#exporting-youtube-cookies  for tips on effectively exporting YouTube cookies\n",
            "[download] Downloading item \u001b[0;32m2\u001b[0m of \u001b[0;94m59\u001b[0m\n",
            "[youtube] Extracting URL: https://www.youtube.com/watch?v=Zzypi0Af2gc\n",
            "[youtube] Zzypi0Af2gc: Downloading webpage\n",
            "[youtube] Zzypi0Af2gc: Downloading tv simply player API JSON\n",
            "[youtube] Zzypi0Af2gc: Downloading tv client config\n",
            "[youtube] Zzypi0Af2gc: Downloading tv player API JSON\n",
            "\u001b[0;31mERROR:\u001b[0m [youtube] Zzypi0Af2gc: Sign in to confirm you’re not a bot. Use --cookies-from-browser or --cookies for the authentication. See  https://github.com/yt-dlp/yt-dlp/wiki/FAQ#how-do-i-pass-cookies-to-yt-dlp  for how to manually pass cookies. Also see  https://github.com/yt-dlp/yt-dlp/wiki/Extractors#exporting-youtube-cookies  for tips on effectively exporting YouTube cookies\n",
            "[download] Downloading item \u001b[0;32m3\u001b[0m of \u001b[0;94m59\u001b[0m\n",
            "[youtube] Extracting URL: https://www.youtube.com/watch?v=j2MjMKcvG_Y\n",
            "[youtube] j2MjMKcvG_Y: Downloading webpage\n",
            "[youtube] j2MjMKcvG_Y: Downloading tv simply player API JSON\n",
            "[youtube] j2MjMKcvG_Y: Downloading tv client config\n",
            "[youtube] j2MjMKcvG_Y: Downloading tv player API JSON\n",
            "\u001b[0;31mERROR:\u001b[0m [youtube] j2MjMKcvG_Y: Sign in to confirm you’re not a bot. Use --cookies-from-browser or --cookies for the authentication. See  https://github.com/yt-dlp/yt-dlp/wiki/FAQ#how-do-i-pass-cookies-to-yt-dlp  for how to manually pass cookies. Also see  https://github.com/yt-dlp/yt-dlp/wiki/Extractors#exporting-youtube-cookies  for tips on effectively exporting YouTube cookies\n",
            "[download] Downloading item \u001b[0;32m4\u001b[0m of \u001b[0;94m59\u001b[0m\n",
            "[youtube] Extracting URL: https://www.youtube.com/watch?v=7I0FbB3sTdY\n",
            "[youtube] 7I0FbB3sTdY: Downloading webpage\n",
            "[youtube] 7I0FbB3sTdY: Downloading tv simply player API JSON\n",
            "[youtube] 7I0FbB3sTdY: Downloading tv client config\n",
            "[youtube] 7I0FbB3sTdY: Downloading tv player API JSON\n",
            "\u001b[0;31mERROR:\u001b[0m [youtube] 7I0FbB3sTdY: Sign in to confirm you’re not a bot. Use --cookies-from-browser or --cookies for the authentication. See  https://github.com/yt-dlp/yt-dlp/wiki/FAQ#how-do-i-pass-cookies-to-yt-dlp  for how to manually pass cookies. Also see  https://github.com/yt-dlp/yt-dlp/wiki/Extractors#exporting-youtube-cookies  for tips on effectively exporting YouTube cookies\n",
            "[download] Downloading item \u001b[0;32m5\u001b[0m of \u001b[0;94m59\u001b[0m\n",
            "[youtube] Extracting URL: https://www.youtube.com/watch?v=CCAw1QQHL8I\n",
            "[youtube] CCAw1QQHL8I: Downloading webpage\n",
            "[youtube] CCAw1QQHL8I: Downloading tv simply player API JSON\n",
            "[youtube] CCAw1QQHL8I: Downloading tv client config\n",
            "[youtube] CCAw1QQHL8I: Downloading tv player API JSON\n",
            "\u001b[0;31mERROR:\u001b[0m [youtube] CCAw1QQHL8I: Sign in to confirm you’re not a bot. Use --cookies-from-browser or --cookies for the authentication. See  https://github.com/yt-dlp/yt-dlp/wiki/FAQ#how-do-i-pass-cookies-to-yt-dlp  for how to manually pass cookies. Also see  https://github.com/yt-dlp/yt-dlp/wiki/Extractors#exporting-youtube-cookies  for tips on effectively exporting YouTube cookies\n",
            "[download] Downloading item \u001b[0;32m6\u001b[0m of \u001b[0;94m59\u001b[0m\n",
            "[youtube] Extracting URL: https://www.youtube.com/watch?v=6JdDr2ZMVtY\n",
            "[youtube] 6JdDr2ZMVtY: Downloading webpage\n",
            "[youtube] 6JdDr2ZMVtY: Downloading tv simply player API JSON\n",
            "[youtube] 6JdDr2ZMVtY: Downloading tv client config\n",
            "[youtube] 6JdDr2ZMVtY: Downloading tv player API JSON\n",
            "\u001b[0;31mERROR:\u001b[0m [youtube] 6JdDr2ZMVtY: Sign in to confirm you’re not a bot. Use --cookies-from-browser or --cookies for the authentication. See  https://github.com/yt-dlp/yt-dlp/wiki/FAQ#how-do-i-pass-cookies-to-yt-dlp  for how to manually pass cookies. Also see  https://github.com/yt-dlp/yt-dlp/wiki/Extractors#exporting-youtube-cookies  for tips on effectively exporting YouTube cookies\n",
            "[download] Downloading item \u001b[0;32m7\u001b[0m of \u001b[0;94m59\u001b[0m\n",
            "[youtube] Extracting URL: https://www.youtube.com/watch?v=oXb4KCTQ08M\n",
            "[youtube] oXb4KCTQ08M: Downloading webpage\n",
            "[youtube] oXb4KCTQ08M: Downloading tv simply player API JSON\n",
            "[youtube] oXb4KCTQ08M: Downloading tv client config\n",
            "[youtube] oXb4KCTQ08M: Downloading tv player API JSON\n",
            "\u001b[0;31mERROR:\u001b[0m [youtube] oXb4KCTQ08M: Sign in to confirm you’re not a bot. Use --cookies-from-browser or --cookies for the authentication. See  https://github.com/yt-dlp/yt-dlp/wiki/FAQ#how-do-i-pass-cookies-to-yt-dlp  for how to manually pass cookies. Also see  https://github.com/yt-dlp/yt-dlp/wiki/Extractors#exporting-youtube-cookies  for tips on effectively exporting YouTube cookies\n",
            "[download] Downloading item \u001b[0;32m8\u001b[0m of \u001b[0;94m59\u001b[0m\n",
            "[youtube] Extracting URL: https://www.youtube.com/watch?v=dxxDZDoORLM\n",
            "[youtube] dxxDZDoORLM: Downloading webpage\n",
            "[youtube] dxxDZDoORLM: Downloading tv simply player API JSON\n",
            "[youtube] dxxDZDoORLM: Downloading tv client config\n",
            "[youtube] dxxDZDoORLM: Downloading tv player API JSON\n",
            "\u001b[0;31mERROR:\u001b[0m [youtube] dxxDZDoORLM: Sign in to confirm you’re not a bot. Use --cookies-from-browser or --cookies for the authentication. See  https://github.com/yt-dlp/yt-dlp/wiki/FAQ#how-do-i-pass-cookies-to-yt-dlp  for how to manually pass cookies. Also see  https://github.com/yt-dlp/yt-dlp/wiki/Extractors#exporting-youtube-cookies  for tips on effectively exporting YouTube cookies\n",
            "[download] Downloading item \u001b[0;32m9\u001b[0m of \u001b[0;94m59\u001b[0m\n",
            "[youtube] Extracting URL: https://www.youtube.com/watch?v=rZbKSB8Wbig\n",
            "[youtube] rZbKSB8Wbig: Downloading webpage\n",
            "[youtube] rZbKSB8Wbig: Downloading tv simply player API JSON\n",
            "[youtube] rZbKSB8Wbig: Downloading tv client config\n",
            "[youtube] rZbKSB8Wbig: Downloading tv player API JSON\n",
            "\u001b[0;31mERROR:\u001b[0m [youtube] rZbKSB8Wbig: Sign in to confirm you’re not a bot. Use --cookies-from-browser or --cookies for the authentication. See  https://github.com/yt-dlp/yt-dlp/wiki/FAQ#how-do-i-pass-cookies-to-yt-dlp  for how to manually pass cookies. Also see  https://github.com/yt-dlp/yt-dlp/wiki/Extractors#exporting-youtube-cookies  for tips on effectively exporting YouTube cookies\n",
            "[download] Downloading item \u001b[0;32m10\u001b[0m of \u001b[0;94m59\u001b[0m\n",
            "[youtube] Extracting URL: https://www.youtube.com/watch?v=WVyWtIFXUPg\n",
            "[youtube] WVyWtIFXUPg: Downloading webpage\n",
            "[youtube] WVyWtIFXUPg: Downloading tv simply player API JSON\n",
            "[youtube] WVyWtIFXUPg: Downloading tv client config\n",
            "[youtube] WVyWtIFXUPg: Downloading tv player API JSON\n",
            "\u001b[0;31mERROR:\u001b[0m [youtube] WVyWtIFXUPg: Sign in to confirm you’re not a bot. Use --cookies-from-browser or --cookies for the authentication. See  https://github.com/yt-dlp/yt-dlp/wiki/FAQ#how-do-i-pass-cookies-to-yt-dlp  for how to manually pass cookies. Also see  https://github.com/yt-dlp/yt-dlp/wiki/Extractors#exporting-youtube-cookies  for tips on effectively exporting YouTube cookies\n",
            "[download] Downloading item \u001b[0;32m11\u001b[0m of \u001b[0;94m59\u001b[0m\n",
            "[youtube] Extracting URL: https://www.youtube.com/watch?v=PYYviZqLDcM\n",
            "[youtube] PYYviZqLDcM: Downloading webpage\n",
            "[youtube] PYYviZqLDcM: Downloading tv simply player API JSON\n",
            "[youtube] PYYviZqLDcM: Downloading tv client config\n",
            "[youtube] PYYviZqLDcM: Downloading tv player API JSON\n",
            "\u001b[0;31mERROR:\u001b[0m [youtube] PYYviZqLDcM: Sign in to confirm you’re not a bot. Use --cookies-from-browser or --cookies for the authentication. See  https://github.com/yt-dlp/yt-dlp/wiki/FAQ#how-do-i-pass-cookies-to-yt-dlp  for how to manually pass cookies. Also see  https://github.com/yt-dlp/yt-dlp/wiki/Extractors#exporting-youtube-cookies  for tips on effectively exporting YouTube cookies\n",
            "[download] Downloading item \u001b[0;32m12\u001b[0m of \u001b[0;94m59\u001b[0m\n",
            "[youtube] Extracting URL: https://www.youtube.com/watch?v=SkdFcXHBtJM\n",
            "[youtube] SkdFcXHBtJM: Downloading webpage\n",
            "[youtube] SkdFcXHBtJM: Downloading tv simply player API JSON\n",
            "[youtube] SkdFcXHBtJM: Downloading tv client config\n",
            "[youtube] SkdFcXHBtJM: Downloading tv player API JSON\n",
            "\u001b[0;31mERROR:\u001b[0m [youtube] SkdFcXHBtJM: Sign in to confirm you’re not a bot. Use --cookies-from-browser or --cookies for the authentication. See  https://github.com/yt-dlp/yt-dlp/wiki/FAQ#how-do-i-pass-cookies-to-yt-dlp  for how to manually pass cookies. Also see  https://github.com/yt-dlp/yt-dlp/wiki/Extractors#exporting-youtube-cookies  for tips on effectively exporting YouTube cookies\n",
            "[download] Downloading item \u001b[0;32m13\u001b[0m of \u001b[0;94m59\u001b[0m\n",
            "[youtube] Extracting URL: https://www.youtube.com/watch?v=1h3G1s5KYk8\n",
            "[youtube] 1h3G1s5KYk8: Downloading webpage\n",
            "[youtube] 1h3G1s5KYk8: Downloading tv simply player API JSON\n",
            "[youtube] 1h3G1s5KYk8: Downloading tv client config\n",
            "[youtube] 1h3G1s5KYk8: Downloading tv player API JSON\n",
            "\u001b[0;31mERROR:\u001b[0m [youtube] 1h3G1s5KYk8: Sign in to confirm you’re not a bot. Use --cookies-from-browser or --cookies for the authentication. See  https://github.com/yt-dlp/yt-dlp/wiki/FAQ#how-do-i-pass-cookies-to-yt-dlp  for how to manually pass cookies. Also see  https://github.com/yt-dlp/yt-dlp/wiki/Extractors#exporting-youtube-cookies  for tips on effectively exporting YouTube cookies\n",
            "[download] Downloading item \u001b[0;32m14\u001b[0m of \u001b[0;94m59\u001b[0m\n",
            "[youtube] Extracting URL: https://www.youtube.com/watch?v=cJ9oreoAHr4\n",
            "[youtube] cJ9oreoAHr4: Downloading webpage\n",
            "[youtube] cJ9oreoAHr4: Downloading tv simply player API JSON\n",
            "[youtube] cJ9oreoAHr4: Downloading tv client config\n",
            "[youtube] cJ9oreoAHr4: Downloading tv player API JSON\n",
            "\u001b[0;31mERROR:\u001b[0m [youtube] cJ9oreoAHr4: Sign in to confirm you’re not a bot. Use --cookies-from-browser or --cookies for the authentication. See  https://github.com/yt-dlp/yt-dlp/wiki/FAQ#how-do-i-pass-cookies-to-yt-dlp  for how to manually pass cookies. Also see  https://github.com/yt-dlp/yt-dlp/wiki/Extractors#exporting-youtube-cookies  for tips on effectively exporting YouTube cookies\n",
            "[download] Downloading item \u001b[0;32m15\u001b[0m of \u001b[0;94m59\u001b[0m\n",
            "[youtube] Extracting URL: https://www.youtube.com/watch?v=YYWiHlDyO7U\n",
            "[youtube] YYWiHlDyO7U: Downloading webpage\n",
            "[youtube] YYWiHlDyO7U: Downloading tv simply player API JSON\n",
            "[youtube] YYWiHlDyO7U: Downloading tv client config\n",
            "[youtube] YYWiHlDyO7U: Downloading tv player API JSON\n",
            "\u001b[0;31mERROR:\u001b[0m [youtube] YYWiHlDyO7U: Sign in to confirm you’re not a bot. Use --cookies-from-browser or --cookies for the authentication. See  https://github.com/yt-dlp/yt-dlp/wiki/FAQ#how-do-i-pass-cookies-to-yt-dlp  for how to manually pass cookies. Also see  https://github.com/yt-dlp/yt-dlp/wiki/Extractors#exporting-youtube-cookies  for tips on effectively exporting YouTube cookies\n",
            "[download] Downloading item \u001b[0;32m16\u001b[0m of \u001b[0;94m59\u001b[0m\n",
            "[youtube] Extracting URL: https://www.youtube.com/watch?v=tQ9d6DqaZjw\n",
            "[youtube] tQ9d6DqaZjw: Downloading webpage\n",
            "[youtube] tQ9d6DqaZjw: Downloading tv simply player API JSON\n",
            "[youtube] tQ9d6DqaZjw: Downloading tv client config\n",
            "[youtube] tQ9d6DqaZjw: Downloading tv player API JSON\n",
            "\u001b[0;31mERROR:\u001b[0m [youtube] tQ9d6DqaZjw: Sign in to confirm you’re not a bot. Use --cookies-from-browser or --cookies for the authentication. See  https://github.com/yt-dlp/yt-dlp/wiki/FAQ#how-do-i-pass-cookies-to-yt-dlp  for how to manually pass cookies. Also see  https://github.com/yt-dlp/yt-dlp/wiki/Extractors#exporting-youtube-cookies  for tips on effectively exporting YouTube cookies\n",
            "[download] Downloading item \u001b[0;32m17\u001b[0m of \u001b[0;94m59\u001b[0m\n",
            "[youtube] Extracting URL: https://www.youtube.com/watch?v=jwF87C3kANk\n",
            "[youtube] jwF87C3kANk: Downloading webpage\n",
            "[youtube] jwF87C3kANk: Downloading tv simply player API JSON\n",
            "[youtube] jwF87C3kANk: Downloading tv client config\n",
            "[youtube] jwF87C3kANk: Downloading tv player API JSON\n",
            "\u001b[0;31mERROR:\u001b[0m [youtube] jwF87C3kANk: Sign in to confirm you’re not a bot. Use --cookies-from-browser or --cookies for the authentication. See  https://github.com/yt-dlp/yt-dlp/wiki/FAQ#how-do-i-pass-cookies-to-yt-dlp  for how to manually pass cookies. Also see  https://github.com/yt-dlp/yt-dlp/wiki/Extractors#exporting-youtube-cookies  for tips on effectively exporting YouTube cookies\n",
            "[download] Downloading item \u001b[0;32m18\u001b[0m of \u001b[0;94m59\u001b[0m\n",
            "[youtube] Extracting URL: https://www.youtube.com/watch?v=FXAcdXtOnf4\n",
            "[youtube] FXAcdXtOnf4: Downloading webpage\n",
            "[youtube] FXAcdXtOnf4: Downloading tv simply player API JSON\n",
            "[youtube] FXAcdXtOnf4: Downloading tv client config\n",
            "[youtube] FXAcdXtOnf4: Downloading tv player API JSON\n",
            "\u001b[0;31mERROR:\u001b[0m [youtube] FXAcdXtOnf4: Sign in to confirm you’re not a bot. Use --cookies-from-browser or --cookies for the authentication. See  https://github.com/yt-dlp/yt-dlp/wiki/FAQ#how-do-i-pass-cookies-to-yt-dlp  for how to manually pass cookies. Also see  https://github.com/yt-dlp/yt-dlp/wiki/Extractors#exporting-youtube-cookies  for tips on effectively exporting YouTube cookies\n",
            "[download] Downloading item \u001b[0;32m19\u001b[0m of \u001b[0;94m59\u001b[0m\n",
            "[youtube] Extracting URL: https://www.youtube.com/watch?v=i7qBcVOrTZ4\n",
            "[youtube] i7qBcVOrTZ4: Downloading webpage\n",
            "[youtube] i7qBcVOrTZ4: Downloading tv simply player API JSON\n",
            "[youtube] i7qBcVOrTZ4: Downloading tv client config\n",
            "[youtube] i7qBcVOrTZ4: Downloading tv player API JSON\n",
            "\u001b[0;31mERROR:\u001b[0m [youtube] i7qBcVOrTZ4: Sign in to confirm you’re not a bot. Use --cookies-from-browser or --cookies for the authentication. See  https://github.com/yt-dlp/yt-dlp/wiki/FAQ#how-do-i-pass-cookies-to-yt-dlp  for how to manually pass cookies. Also see  https://github.com/yt-dlp/yt-dlp/wiki/Extractors#exporting-youtube-cookies  for tips on effectively exporting YouTube cookies\n",
            "[download] Downloading item \u001b[0;32m20\u001b[0m of \u001b[0;94m59\u001b[0m\n",
            "[youtube] Extracting URL: https://www.youtube.com/watch?v=bnbmwDt2PMQ\n",
            "[youtube] bnbmwDt2PMQ: Downloading webpage\n",
            "[youtube] bnbmwDt2PMQ: Downloading tv simply player API JSON\n",
            "[youtube] bnbmwDt2PMQ: Downloading tv client config\n",
            "[youtube] bnbmwDt2PMQ: Downloading tv player API JSON\n",
            "\u001b[0;31mERROR:\u001b[0m [youtube] bnbmwDt2PMQ: Sign in to confirm you’re not a bot. Use --cookies-from-browser or --cookies for the authentication. See  https://github.com/yt-dlp/yt-dlp/wiki/FAQ#how-do-i-pass-cookies-to-yt-dlp  for how to manually pass cookies. Also see  https://github.com/yt-dlp/yt-dlp/wiki/Extractors#exporting-youtube-cookies  for tips on effectively exporting YouTube cookies\n",
            "[download] Downloading item \u001b[0;32m21\u001b[0m of \u001b[0;94m59\u001b[0m\n",
            "[youtube] Extracting URL: https://www.youtube.com/watch?v=zmty8nQwAgY\n",
            "[youtube] zmty8nQwAgY: Downloading webpage\n",
            "[youtube] zmty8nQwAgY: Downloading tv simply player API JSON\n",
            "[youtube] zmty8nQwAgY: Downloading tv client config\n",
            "[youtube] zmty8nQwAgY: Downloading tv player API JSON\n",
            "\u001b[0;31mERROR:\u001b[0m [youtube] zmty8nQwAgY: Sign in to confirm you’re not a bot. Use --cookies-from-browser or --cookies for the authentication. See  https://github.com/yt-dlp/yt-dlp/wiki/FAQ#how-do-i-pass-cookies-to-yt-dlp  for how to manually pass cookies. Also see  https://github.com/yt-dlp/yt-dlp/wiki/Extractors#exporting-youtube-cookies  for tips on effectively exporting YouTube cookies\n",
            "[download] Downloading item \u001b[0;32m22\u001b[0m of \u001b[0;94m59\u001b[0m\n",
            "[youtube] Extracting URL: https://www.youtube.com/watch?v=PQYXh0-7Vvs\n",
            "[youtube] PQYXh0-7Vvs: Downloading webpage\n",
            "[youtube] PQYXh0-7Vvs: Downloading tv simply player API JSON\n",
            "[youtube] PQYXh0-7Vvs: Downloading tv client config\n",
            "[youtube] PQYXh0-7Vvs: Downloading tv player API JSON\n",
            "\u001b[0;31mERROR:\u001b[0m [youtube] PQYXh0-7Vvs: Sign in to confirm you’re not a bot. Use --cookies-from-browser or --cookies for the authentication. See  https://github.com/yt-dlp/yt-dlp/wiki/FAQ#how-do-i-pass-cookies-to-yt-dlp  for how to manually pass cookies. Also see  https://github.com/yt-dlp/yt-dlp/wiki/Extractors#exporting-youtube-cookies  for tips on effectively exporting YouTube cookies\n",
            "[download] Downloading item \u001b[0;32m23\u001b[0m of \u001b[0;94m59\u001b[0m\n",
            "[youtube] Extracting URL: https://www.youtube.com/watch?v=Jo1Q85IC-ic\n",
            "[youtube] Jo1Q85IC-ic: Downloading webpage\n",
            "[youtube] Jo1Q85IC-ic: Downloading tv simply player API JSON\n",
            "[youtube] Jo1Q85IC-ic: Downloading tv client config\n",
            "[youtube] Jo1Q85IC-ic: Downloading tv player API JSON\n",
            "\u001b[0;31mERROR:\u001b[0m [youtube] Jo1Q85IC-ic: Sign in to confirm you’re not a bot. Use --cookies-from-browser or --cookies for the authentication. See  https://github.com/yt-dlp/yt-dlp/wiki/FAQ#how-do-i-pass-cookies-to-yt-dlp  for how to manually pass cookies. Also see  https://github.com/yt-dlp/yt-dlp/wiki/Extractors#exporting-youtube-cookies  for tips on effectively exporting YouTube cookies\n",
            "[download] Downloading item \u001b[0;32m24\u001b[0m of \u001b[0;94m59\u001b[0m\n",
            "[youtube] Extracting URL: https://www.youtube.com/watch?v=YWYsWJeMv8U\n",
            "[youtube] YWYsWJeMv8U: Downloading webpage\n",
            "[youtube] YWYsWJeMv8U: Downloading tv simply player API JSON\n",
            "[youtube] YWYsWJeMv8U: Downloading tv client config\n",
            "[youtube] YWYsWJeMv8U: Downloading tv player API JSON\n",
            "\u001b[0;31mERROR:\u001b[0m [youtube] YWYsWJeMv8U: Sign in to confirm you’re not a bot. Use --cookies-from-browser or --cookies for the authentication. See  https://github.com/yt-dlp/yt-dlp/wiki/FAQ#how-do-i-pass-cookies-to-yt-dlp  for how to manually pass cookies. Also see  https://github.com/yt-dlp/yt-dlp/wiki/Extractors#exporting-youtube-cookies  for tips on effectively exporting YouTube cookies\n",
            "[download] Downloading item \u001b[0;32m25\u001b[0m of \u001b[0;94m59\u001b[0m\n",
            "[youtube] Extracting URL: https://www.youtube.com/watch?v=EqQrTCPjvno\n",
            "[youtube] EqQrTCPjvno: Downloading webpage\n",
            "[youtube] EqQrTCPjvno: Downloading tv simply player API JSON\n",
            "[youtube] EqQrTCPjvno: Downloading tv client config\n",
            "[youtube] EqQrTCPjvno: Downloading tv player API JSON\n",
            "\u001b[0;31mERROR:\u001b[0m [youtube] EqQrTCPjvno: Sign in to confirm you’re not a bot. Use --cookies-from-browser or --cookies for the authentication. See  https://github.com/yt-dlp/yt-dlp/wiki/FAQ#how-do-i-pass-cookies-to-yt-dlp  for how to manually pass cookies. Also see  https://github.com/yt-dlp/yt-dlp/wiki/Extractors#exporting-youtube-cookies  for tips on effectively exporting YouTube cookies\n",
            "[download] Downloading item \u001b[0;32m26\u001b[0m of \u001b[0;94m59\u001b[0m\n",
            "[youtube] Extracting URL: https://www.youtube.com/watch?v=cxvAwmDg-sU\n",
            "[youtube] cxvAwmDg-sU: Downloading webpage\n",
            "[youtube] cxvAwmDg-sU: Downloading tv simply player API JSON\n",
            "[youtube] cxvAwmDg-sU: Downloading tv client config\n",
            "[youtube] cxvAwmDg-sU: Downloading tv player API JSON\n",
            "\u001b[0;31mERROR:\u001b[0m [youtube] cxvAwmDg-sU: Sign in to confirm you’re not a bot. Use --cookies-from-browser or --cookies for the authentication. See  https://github.com/yt-dlp/yt-dlp/wiki/FAQ#how-do-i-pass-cookies-to-yt-dlp  for how to manually pass cookies. Also see  https://github.com/yt-dlp/yt-dlp/wiki/Extractors#exporting-youtube-cookies  for tips on effectively exporting YouTube cookies\n",
            "[download] Downloading item \u001b[0;32m27\u001b[0m of \u001b[0;94m59\u001b[0m\n",
            "[youtube] Extracting URL: https://www.youtube.com/watch?v=XkaX2Z-kVbE\n",
            "[youtube] XkaX2Z-kVbE: Downloading webpage\n",
            "[youtube] XkaX2Z-kVbE: Downloading tv simply player API JSON\n",
            "[youtube] XkaX2Z-kVbE: Downloading tv client config\n",
            "[youtube] XkaX2Z-kVbE: Downloading tv player API JSON\n",
            "\u001b[0;31mERROR:\u001b[0m [youtube] XkaX2Z-kVbE: Sign in to confirm you’re not a bot. Use --cookies-from-browser or --cookies for the authentication. See  https://github.com/yt-dlp/yt-dlp/wiki/FAQ#how-do-i-pass-cookies-to-yt-dlp  for how to manually pass cookies. Also see  https://github.com/yt-dlp/yt-dlp/wiki/Extractors#exporting-youtube-cookies  for tips on effectively exporting YouTube cookies\n",
            "[download] Downloading item \u001b[0;32m28\u001b[0m of \u001b[0;94m59\u001b[0m\n",
            "[youtube] Extracting URL: https://www.youtube.com/watch?v=4HE_oqdSpls\n",
            "[youtube] 4HE_oqdSpls: Downloading webpage\n",
            "[youtube] 4HE_oqdSpls: Downloading tv simply player API JSON\n",
            "[youtube] 4HE_oqdSpls: Downloading tv client config\n",
            "[youtube] 4HE_oqdSpls: Downloading tv player API JSON\n",
            "\u001b[0;31mERROR:\u001b[0m [youtube] 4HE_oqdSpls: Sign in to confirm you’re not a bot. Use --cookies-from-browser or --cookies for the authentication. See  https://github.com/yt-dlp/yt-dlp/wiki/FAQ#how-do-i-pass-cookies-to-yt-dlp  for how to manually pass cookies. Also see  https://github.com/yt-dlp/yt-dlp/wiki/Extractors#exporting-youtube-cookies  for tips on effectively exporting YouTube cookies\n",
            "[download] Downloading item \u001b[0;32m29\u001b[0m of \u001b[0;94m59\u001b[0m\n",
            "[youtube] Extracting URL: https://www.youtube.com/watch?v=auSrxGNNVI4\n",
            "[youtube] auSrxGNNVI4: Downloading webpage\n",
            "[youtube] auSrxGNNVI4: Downloading tv simply player API JSON\n",
            "[youtube] auSrxGNNVI4: Downloading tv client config\n",
            "[youtube] auSrxGNNVI4: Downloading tv player API JSON\n",
            "\u001b[0;31mERROR:\u001b[0m [youtube] auSrxGNNVI4: Sign in to confirm you’re not a bot. Use --cookies-from-browser or --cookies for the authentication. See  https://github.com/yt-dlp/yt-dlp/wiki/FAQ#how-do-i-pass-cookies-to-yt-dlp  for how to manually pass cookies. Also see  https://github.com/yt-dlp/yt-dlp/wiki/Extractors#exporting-youtube-cookies  for tips on effectively exporting YouTube cookies\n",
            "[download] Downloading item \u001b[0;32m30\u001b[0m of \u001b[0;94m59\u001b[0m\n",
            "[youtube] Extracting URL: https://www.youtube.com/watch?v=RQvd1G89470\n",
            "[youtube] RQvd1G89470: Downloading webpage\n",
            "[youtube] RQvd1G89470: Downloading tv simply player API JSON\n",
            "[youtube] RQvd1G89470: Downloading tv client config\n",
            "[youtube] RQvd1G89470: Downloading tv player API JSON\n",
            "\u001b[0;31mERROR:\u001b[0m [youtube] RQvd1G89470: Sign in to confirm you’re not a bot. Use --cookies-from-browser or --cookies for the authentication. See  https://github.com/yt-dlp/yt-dlp/wiki/FAQ#how-do-i-pass-cookies-to-yt-dlp  for how to manually pass cookies. Also see  https://github.com/yt-dlp/yt-dlp/wiki/Extractors#exporting-youtube-cookies  for tips on effectively exporting YouTube cookies\n",
            "[download] Downloading item \u001b[0;32m31\u001b[0m of \u001b[0;94m59\u001b[0m\n",
            "[youtube] Extracting URL: https://www.youtube.com/watch?v=67YwTqHo1go\n",
            "[youtube] 67YwTqHo1go: Downloading webpage\n",
            "[youtube] 67YwTqHo1go: Downloading tv simply player API JSON\n",
            "[youtube] 67YwTqHo1go: Downloading tv client config\n",
            "[youtube] 67YwTqHo1go: Downloading tv player API JSON\n",
            "\u001b[0;31mERROR:\u001b[0m [youtube] 67YwTqHo1go: Sign in to confirm you’re not a bot. Use --cookies-from-browser or --cookies for the authentication. See  https://github.com/yt-dlp/yt-dlp/wiki/FAQ#how-do-i-pass-cookies-to-yt-dlp  for how to manually pass cookies. Also see  https://github.com/yt-dlp/yt-dlp/wiki/Extractors#exporting-youtube-cookies  for tips on effectively exporting YouTube cookies\n",
            "[download] Downloading item \u001b[0;32m32\u001b[0m of \u001b[0;94m59\u001b[0m\n",
            "[youtube] Extracting URL: https://www.youtube.com/watch?v=sRs9Q47S3Ek\n",
            "[youtube] sRs9Q47S3Ek: Downloading webpage\n",
            "[youtube] sRs9Q47S3Ek: Downloading tv simply player API JSON\n",
            "[youtube] sRs9Q47S3Ek: Downloading tv client config\n",
            "[youtube] sRs9Q47S3Ek: Downloading tv player API JSON\n",
            "\u001b[0;31mERROR:\u001b[0m [youtube] sRs9Q47S3Ek: Sign in to confirm you’re not a bot. Use --cookies-from-browser or --cookies for the authentication. See  https://github.com/yt-dlp/yt-dlp/wiki/FAQ#how-do-i-pass-cookies-to-yt-dlp  for how to manually pass cookies. Also see  https://github.com/yt-dlp/yt-dlp/wiki/Extractors#exporting-youtube-cookies  for tips on effectively exporting YouTube cookies\n",
            "[download] Downloading item \u001b[0;32m33\u001b[0m of \u001b[0;94m59\u001b[0m\n",
            "[youtube] Extracting URL: https://www.youtube.com/watch?v=b5iEqovBn5g\n",
            "[youtube] b5iEqovBn5g: Downloading webpage\n",
            "[youtube] b5iEqovBn5g: Downloading tv simply player API JSON\n",
            "[youtube] b5iEqovBn5g: Downloading tv client config\n",
            "[youtube] b5iEqovBn5g: Downloading tv player API JSON\n",
            "\u001b[0;31mERROR:\u001b[0m [youtube] b5iEqovBn5g: Sign in to confirm you’re not a bot. Use --cookies-from-browser or --cookies for the authentication. See  https://github.com/yt-dlp/yt-dlp/wiki/FAQ#how-do-i-pass-cookies-to-yt-dlp  for how to manually pass cookies. Also see  https://github.com/yt-dlp/yt-dlp/wiki/Extractors#exporting-youtube-cookies  for tips on effectively exporting YouTube cookies\n",
            "[download] Downloading item \u001b[0;32m34\u001b[0m of \u001b[0;94m59\u001b[0m\n",
            "[youtube] Extracting URL: https://www.youtube.com/watch?v=OymQWD9KkHQ\n",
            "[youtube] OymQWD9KkHQ: Downloading webpage\n",
            "[youtube] OymQWD9KkHQ: Downloading tv simply player API JSON\n",
            "[youtube] OymQWD9KkHQ: Downloading tv client config\n",
            "[youtube] OymQWD9KkHQ: Downloading tv player API JSON\n",
            "\u001b[0;31mERROR:\u001b[0m [youtube] OymQWD9KkHQ: Sign in to confirm you’re not a bot. Use --cookies-from-browser or --cookies for the authentication. See  https://github.com/yt-dlp/yt-dlp/wiki/FAQ#how-do-i-pass-cookies-to-yt-dlp  for how to manually pass cookies. Also see  https://github.com/yt-dlp/yt-dlp/wiki/Extractors#exporting-youtube-cookies  for tips on effectively exporting YouTube cookies\n",
            "[download] Downloading item \u001b[0;32m35\u001b[0m of \u001b[0;94m59\u001b[0m\n",
            "[youtube] Extracting URL: https://www.youtube.com/watch?v=1M1nT5ACiIA\n",
            "[youtube] 1M1nT5ACiIA: Downloading webpage\n",
            "[youtube] 1M1nT5ACiIA: Downloading tv simply player API JSON\n",
            "[youtube] 1M1nT5ACiIA: Downloading tv client config\n",
            "[youtube] 1M1nT5ACiIA: Downloading tv player API JSON\n",
            "\u001b[0;31mERROR:\u001b[0m [youtube] 1M1nT5ACiIA: Sign in to confirm you’re not a bot. Use --cookies-from-browser or --cookies for the authentication. See  https://github.com/yt-dlp/yt-dlp/wiki/FAQ#how-do-i-pass-cookies-to-yt-dlp  for how to manually pass cookies. Also see  https://github.com/yt-dlp/yt-dlp/wiki/Extractors#exporting-youtube-cookies  for tips on effectively exporting YouTube cookies\n",
            "[download] Downloading item \u001b[0;32m36\u001b[0m of \u001b[0;94m59\u001b[0m\n",
            "[youtube] Extracting URL: https://www.youtube.com/watch?v=fKknb0CLHn0\n",
            "[youtube] fKknb0CLHn0: Downloading webpage\n",
            "[youtube] fKknb0CLHn0: Downloading tv simply player API JSON\n",
            "[youtube] fKknb0CLHn0: Downloading tv client config\n",
            "[youtube] fKknb0CLHn0: Downloading tv player API JSON\n",
            "\u001b[0;31mERROR:\u001b[0m [youtube] fKknb0CLHn0: Sign in to confirm you’re not a bot. Use --cookies-from-browser or --cookies for the authentication. See  https://github.com/yt-dlp/yt-dlp/wiki/FAQ#how-do-i-pass-cookies-to-yt-dlp  for how to manually pass cookies. Also see  https://github.com/yt-dlp/yt-dlp/wiki/Extractors#exporting-youtube-cookies  for tips on effectively exporting YouTube cookies\n",
            "[download] Downloading item \u001b[0;32m37\u001b[0m of \u001b[0;94m59\u001b[0m\n",
            "[youtube] Extracting URL: https://www.youtube.com/watch?v=BSm8co_7xpA\n",
            "[youtube] BSm8co_7xpA: Downloading webpage\n",
            "[youtube] BSm8co_7xpA: Downloading tv simply player API JSON\n",
            "[youtube] BSm8co_7xpA: Downloading tv client config\n",
            "[youtube] BSm8co_7xpA: Downloading tv player API JSON\n",
            "\u001b[0;31mERROR:\u001b[0m [youtube] BSm8co_7xpA: Sign in to confirm you’re not a bot. Use --cookies-from-browser or --cookies for the authentication. See  https://github.com/yt-dlp/yt-dlp/wiki/FAQ#how-do-i-pass-cookies-to-yt-dlp  for how to manually pass cookies. Also see  https://github.com/yt-dlp/yt-dlp/wiki/Extractors#exporting-youtube-cookies  for tips on effectively exporting YouTube cookies\n",
            "[download] Downloading item \u001b[0;32m38\u001b[0m of \u001b[0;94m59\u001b[0m\n",
            "[youtube] Extracting URL: https://www.youtube.com/watch?v=mZ9Xrs9Q8dY\n",
            "[youtube] mZ9Xrs9Q8dY: Downloading webpage\n",
            "[youtube] mZ9Xrs9Q8dY: Downloading tv simply player API JSON\n",
            "[youtube] mZ9Xrs9Q8dY: Downloading tv client config\n",
            "[youtube] mZ9Xrs9Q8dY: Downloading tv player API JSON\n",
            "\u001b[0;31mERROR:\u001b[0m [youtube] mZ9Xrs9Q8dY: Sign in to confirm you’re not a bot. Use --cookies-from-browser or --cookies for the authentication. See  https://github.com/yt-dlp/yt-dlp/wiki/FAQ#how-do-i-pass-cookies-to-yt-dlp  for how to manually pass cookies. Also see  https://github.com/yt-dlp/yt-dlp/wiki/Extractors#exporting-youtube-cookies  for tips on effectively exporting YouTube cookies\n",
            "[download] Downloading item \u001b[0;32m39\u001b[0m of \u001b[0;94m59\u001b[0m\n",
            "[youtube] Extracting URL: https://www.youtube.com/watch?v=jQWiec7fByc\n",
            "[youtube] jQWiec7fByc: Downloading webpage\n",
            "[youtube] jQWiec7fByc: Downloading tv simply player API JSON\n",
            "[youtube] jQWiec7fByc: Downloading tv client config\n",
            "[youtube] jQWiec7fByc: Downloading tv player API JSON\n",
            "\u001b[0;31mERROR:\u001b[0m [youtube] jQWiec7fByc: Sign in to confirm you’re not a bot. Use --cookies-from-browser or --cookies for the authentication. See  https://github.com/yt-dlp/yt-dlp/wiki/FAQ#how-do-i-pass-cookies-to-yt-dlp  for how to manually pass cookies. Also see  https://github.com/yt-dlp/yt-dlp/wiki/Extractors#exporting-youtube-cookies  for tips on effectively exporting YouTube cookies\n",
            "[download] Downloading item \u001b[0;32m40\u001b[0m of \u001b[0;94m59\u001b[0m\n",
            "[youtube] Extracting URL: https://www.youtube.com/watch?v=4A8IVbfVNqw\n",
            "[youtube] 4A8IVbfVNqw: Downloading webpage\n",
            "[youtube] 4A8IVbfVNqw: Downloading tv simply player API JSON\n",
            "[youtube] 4A8IVbfVNqw: Downloading tv client config\n",
            "[youtube] 4A8IVbfVNqw: Downloading tv player API JSON\n",
            "\u001b[0;31mERROR:\u001b[0m [youtube] 4A8IVbfVNqw: Sign in to confirm you’re not a bot. Use --cookies-from-browser or --cookies for the authentication. See  https://github.com/yt-dlp/yt-dlp/wiki/FAQ#how-do-i-pass-cookies-to-yt-dlp  for how to manually pass cookies. Also see  https://github.com/yt-dlp/yt-dlp/wiki/Extractors#exporting-youtube-cookies  for tips on effectively exporting YouTube cookies\n",
            "[download] Downloading item \u001b[0;32m41\u001b[0m of \u001b[0;94m59\u001b[0m\n",
            "[youtube] Extracting URL: https://www.youtube.com/watch?v=4tzfPM7vLlk\n",
            "[youtube] 4tzfPM7vLlk: Downloading webpage\n",
            "[youtube] 4tzfPM7vLlk: Downloading tv simply player API JSON\n",
            "[youtube] 4tzfPM7vLlk: Downloading tv client config\n",
            "[youtube] 4tzfPM7vLlk: Downloading tv player API JSON\n",
            "\u001b[0;31mERROR:\u001b[0m [youtube] 4tzfPM7vLlk: Sign in to confirm you’re not a bot. Use --cookies-from-browser or --cookies for the authentication. See  https://github.com/yt-dlp/yt-dlp/wiki/FAQ#how-do-i-pass-cookies-to-yt-dlp  for how to manually pass cookies. Also see  https://github.com/yt-dlp/yt-dlp/wiki/Extractors#exporting-youtube-cookies  for tips on effectively exporting YouTube cookies\n",
            "[download] Downloading item \u001b[0;32m42\u001b[0m of \u001b[0;94m59\u001b[0m\n",
            "[youtube] Extracting URL: https://www.youtube.com/watch?v=4DHvT1EroGU\n",
            "[youtube] 4DHvT1EroGU: Downloading webpage\n",
            "[youtube] 4DHvT1EroGU: Downloading tv simply player API JSON\n",
            "[youtube] 4DHvT1EroGU: Downloading tv client config\n",
            "[youtube] 4DHvT1EroGU: Downloading tv player API JSON\n",
            "\u001b[0;31mERROR:\u001b[0m [youtube] 4DHvT1EroGU: Sign in to confirm you’re not a bot. Use --cookies-from-browser or --cookies for the authentication. See  https://github.com/yt-dlp/yt-dlp/wiki/FAQ#how-do-i-pass-cookies-to-yt-dlp  for how to manually pass cookies. Also see  https://github.com/yt-dlp/yt-dlp/wiki/Extractors#exporting-youtube-cookies  for tips on effectively exporting YouTube cookies\n",
            "[download] Downloading item \u001b[0;32m43\u001b[0m of \u001b[0;94m59\u001b[0m\n",
            "[youtube] Extracting URL: https://www.youtube.com/watch?v=fdUUYJ7EnOU\n",
            "[youtube] fdUUYJ7EnOU: Downloading webpage\n",
            "[youtube] fdUUYJ7EnOU: Downloading tv simply player API JSON\n",
            "[youtube] fdUUYJ7EnOU: Downloading tv client config\n",
            "[youtube] fdUUYJ7EnOU: Downloading tv player API JSON\n",
            "\u001b[0;31mERROR:\u001b[0m [youtube] fdUUYJ7EnOU: Sign in to confirm you’re not a bot. Use --cookies-from-browser or --cookies for the authentication. See  https://github.com/yt-dlp/yt-dlp/wiki/FAQ#how-do-i-pass-cookies-to-yt-dlp  for how to manually pass cookies. Also see  https://github.com/yt-dlp/yt-dlp/wiki/Extractors#exporting-youtube-cookies  for tips on effectively exporting YouTube cookies\n",
            "[download] Downloading item \u001b[0;32m44\u001b[0m of \u001b[0;94m59\u001b[0m\n",
            "[youtube] Extracting URL: https://www.youtube.com/watch?v=xgEcHkGPqnk\n",
            "[youtube] xgEcHkGPqnk: Downloading webpage\n",
            "[youtube] xgEcHkGPqnk: Downloading tv simply player API JSON\n",
            "[youtube] xgEcHkGPqnk: Downloading tv client config\n",
            "[youtube] xgEcHkGPqnk: Downloading tv player API JSON\n",
            "\u001b[0;31mERROR:\u001b[0m [youtube] xgEcHkGPqnk: Sign in to confirm you’re not a bot. Use --cookies-from-browser or --cookies for the authentication. See  https://github.com/yt-dlp/yt-dlp/wiki/FAQ#how-do-i-pass-cookies-to-yt-dlp  for how to manually pass cookies. Also see  https://github.com/yt-dlp/yt-dlp/wiki/Extractors#exporting-youtube-cookies  for tips on effectively exporting YouTube cookies\n",
            "[download] Downloading item \u001b[0;32m45\u001b[0m of \u001b[0;94m59\u001b[0m\n",
            "[youtube] Extracting URL: https://www.youtube.com/watch?v=_AQFjSTtYGg\n",
            "[youtube] _AQFjSTtYGg: Downloading webpage\n",
            "[youtube] _AQFjSTtYGg: Downloading tv simply player API JSON\n",
            "[youtube] _AQFjSTtYGg: Downloading tv client config\n",
            "[youtube] _AQFjSTtYGg: Downloading tv player API JSON\n",
            "\u001b[0;31mERROR:\u001b[0m [youtube] _AQFjSTtYGg: Sign in to confirm you’re not a bot. Use --cookies-from-browser or --cookies for the authentication. See  https://github.com/yt-dlp/yt-dlp/wiki/FAQ#how-do-i-pass-cookies-to-yt-dlp  for how to manually pass cookies. Also see  https://github.com/yt-dlp/yt-dlp/wiki/Extractors#exporting-youtube-cookies  for tips on effectively exporting YouTube cookies\n",
            "[download] Downloading item \u001b[0;32m46\u001b[0m of \u001b[0;94m59\u001b[0m\n",
            "[youtube] Extracting URL: https://www.youtube.com/watch?v=qis2SRWmjAY\n",
            "[youtube] qis2SRWmjAY: Downloading webpage\n",
            "[youtube] qis2SRWmjAY: Downloading tv simply player API JSON\n",
            "[youtube] qis2SRWmjAY: Downloading tv client config\n",
            "[youtube] qis2SRWmjAY: Downloading tv player API JSON\n",
            "\u001b[0;31mERROR:\u001b[0m [youtube] qis2SRWmjAY: Sign in to confirm you’re not a bot. Use --cookies-from-browser or --cookies for the authentication. See  https://github.com/yt-dlp/yt-dlp/wiki/FAQ#how-do-i-pass-cookies-to-yt-dlp  for how to manually pass cookies. Also see  https://github.com/yt-dlp/yt-dlp/wiki/Extractors#exporting-youtube-cookies  for tips on effectively exporting YouTube cookies\n",
            "[download] Downloading item \u001b[0;32m47\u001b[0m of \u001b[0;94m59\u001b[0m\n",
            "[youtube] Extracting URL: https://www.youtube.com/watch?v=pzk6cSy5wAs\n",
            "[youtube] pzk6cSy5wAs: Downloading webpage\n",
            "[youtube] pzk6cSy5wAs: Downloading tv simply player API JSON\n",
            "[youtube] pzk6cSy5wAs: Downloading tv client config\n",
            "[youtube] pzk6cSy5wAs: Downloading tv player API JSON\n",
            "\u001b[0;31mERROR:\u001b[0m [youtube] pzk6cSy5wAs: Sign in to confirm you’re not a bot. Use --cookies-from-browser or --cookies for the authentication. See  https://github.com/yt-dlp/yt-dlp/wiki/FAQ#how-do-i-pass-cookies-to-yt-dlp  for how to manually pass cookies. Also see  https://github.com/yt-dlp/yt-dlp/wiki/Extractors#exporting-youtube-cookies  for tips on effectively exporting YouTube cookies\n",
            "[download] Downloading item \u001b[0;32m48\u001b[0m of \u001b[0;94m59\u001b[0m\n",
            "[youtube] Extracting URL: https://www.youtube.com/watch?v=48zWctwIaZ4\n",
            "[youtube] 48zWctwIaZ4: Downloading webpage\n",
            "[youtube] 48zWctwIaZ4: Downloading tv simply player API JSON\n",
            "[youtube] 48zWctwIaZ4: Downloading tv client config\n",
            "[youtube] 48zWctwIaZ4: Downloading tv player API JSON\n",
            "\u001b[0;31mERROR:\u001b[0m [youtube] 48zWctwIaZ4: Sign in to confirm you’re not a bot. Use --cookies-from-browser or --cookies for the authentication. See  https://github.com/yt-dlp/yt-dlp/wiki/FAQ#how-do-i-pass-cookies-to-yt-dlp  for how to manually pass cookies. Also see  https://github.com/yt-dlp/yt-dlp/wiki/Extractors#exporting-youtube-cookies  for tips on effectively exporting YouTube cookies\n",
            "[download] Downloading item \u001b[0;32m49\u001b[0m of \u001b[0;94m59\u001b[0m\n",
            "[youtube] Extracting URL: https://www.youtube.com/watch?v=hCV56Zpl_tc\n",
            "[youtube] hCV56Zpl_tc: Downloading webpage\n",
            "[youtube] hCV56Zpl_tc: Downloading tv simply player API JSON\n",
            "[youtube] hCV56Zpl_tc: Downloading tv client config\n",
            "[youtube] hCV56Zpl_tc: Downloading tv player API JSON\n",
            "\u001b[0;31mERROR:\u001b[0m [youtube] hCV56Zpl_tc: Sign in to confirm you’re not a bot. Use --cookies-from-browser or --cookies for the authentication. See  https://github.com/yt-dlp/yt-dlp/wiki/FAQ#how-do-i-pass-cookies-to-yt-dlp  for how to manually pass cookies. Also see  https://github.com/yt-dlp/yt-dlp/wiki/Extractors#exporting-youtube-cookies  for tips on effectively exporting YouTube cookies\n",
            "[download] Downloading item \u001b[0;32m50\u001b[0m of \u001b[0;94m59\u001b[0m\n",
            "[youtube] Extracting URL: https://www.youtube.com/watch?v=B5yeUZzfuTg\n",
            "[youtube] B5yeUZzfuTg: Downloading webpage\n",
            "[youtube] B5yeUZzfuTg: Downloading tv simply player API JSON\n",
            "[youtube] B5yeUZzfuTg: Downloading tv client config\n",
            "[youtube] B5yeUZzfuTg: Downloading tv player API JSON\n",
            "\u001b[0;31mERROR:\u001b[0m [youtube] B5yeUZzfuTg: Sign in to confirm you’re not a bot. Use --cookies-from-browser or --cookies for the authentication. See  https://github.com/yt-dlp/yt-dlp/wiki/FAQ#how-do-i-pass-cookies-to-yt-dlp  for how to manually pass cookies. Also see  https://github.com/yt-dlp/yt-dlp/wiki/Extractors#exporting-youtube-cookies  for tips on effectively exporting YouTube cookies\n",
            "[download] Downloading item \u001b[0;32m51\u001b[0m of \u001b[0;94m59\u001b[0m\n",
            "[youtube] Extracting URL: https://www.youtube.com/watch?v=e2kFgxl7oG4\n",
            "[youtube] e2kFgxl7oG4: Downloading webpage\n",
            "[youtube] e2kFgxl7oG4: Downloading tv simply player API JSON\n",
            "[youtube] e2kFgxl7oG4: Downloading tv client config\n",
            "[youtube] e2kFgxl7oG4: Downloading tv player API JSON\n",
            "\u001b[0;31mERROR:\u001b[0m [youtube] e2kFgxl7oG4: Sign in to confirm you’re not a bot. Use --cookies-from-browser or --cookies for the authentication. See  https://github.com/yt-dlp/yt-dlp/wiki/FAQ#how-do-i-pass-cookies-to-yt-dlp  for how to manually pass cookies. Also see  https://github.com/yt-dlp/yt-dlp/wiki/Extractors#exporting-youtube-cookies  for tips on effectively exporting YouTube cookies\n",
            "[download] Downloading item \u001b[0;32m52\u001b[0m of \u001b[0;94m59\u001b[0m\n",
            "[youtube] Extracting URL: https://www.youtube.com/watch?v=Qh75gAvz8HM\n",
            "[youtube] Qh75gAvz8HM: Downloading webpage\n",
            "[youtube] Qh75gAvz8HM: Downloading tv simply player API JSON\n",
            "[youtube] Qh75gAvz8HM: Downloading tv client config\n",
            "[youtube] Qh75gAvz8HM: Downloading tv player API JSON\n",
            "\u001b[0;31mERROR:\u001b[0m [youtube] Qh75gAvz8HM: Sign in to confirm you’re not a bot. Use --cookies-from-browser or --cookies for the authentication. See  https://github.com/yt-dlp/yt-dlp/wiki/FAQ#how-do-i-pass-cookies-to-yt-dlp  for how to manually pass cookies. Also see  https://github.com/yt-dlp/yt-dlp/wiki/Extractors#exporting-youtube-cookies  for tips on effectively exporting YouTube cookies\n",
            "[download] Downloading item \u001b[0;32m53\u001b[0m of \u001b[0;94m59\u001b[0m\n",
            "[youtube] Extracting URL: https://www.youtube.com/watch?v=0YlxbXuM3Tk\n",
            "[youtube] 0YlxbXuM3Tk: Downloading webpage\n",
            "[youtube] 0YlxbXuM3Tk: Downloading tv simply player API JSON\n",
            "[youtube] 0YlxbXuM3Tk: Downloading tv client config\n",
            "[youtube] 0YlxbXuM3Tk: Downloading tv player API JSON\n",
            "\u001b[0;31mERROR:\u001b[0m [youtube] 0YlxbXuM3Tk: Sign in to confirm you’re not a bot. Use --cookies-from-browser or --cookies for the authentication. See  https://github.com/yt-dlp/yt-dlp/wiki/FAQ#how-do-i-pass-cookies-to-yt-dlp  for how to manually pass cookies. Also see  https://github.com/yt-dlp/yt-dlp/wiki/Extractors#exporting-youtube-cookies  for tips on effectively exporting YouTube cookies\n",
            "[download] Downloading item \u001b[0;32m54\u001b[0m of \u001b[0;94m59\u001b[0m\n",
            "[youtube] Extracting URL: https://www.youtube.com/watch?v=UYMzWB96dSQ\n",
            "[youtube] UYMzWB96dSQ: Downloading webpage\n",
            "[youtube] UYMzWB96dSQ: Downloading tv simply player API JSON\n",
            "[youtube] UYMzWB96dSQ: Downloading tv client config\n",
            "[youtube] UYMzWB96dSQ: Downloading tv player API JSON\n",
            "\u001b[0;31mERROR:\u001b[0m [youtube] UYMzWB96dSQ: Sign in to confirm you’re not a bot. Use --cookies-from-browser or --cookies for the authentication. See  https://github.com/yt-dlp/yt-dlp/wiki/FAQ#how-do-i-pass-cookies-to-yt-dlp  for how to manually pass cookies. Also see  https://github.com/yt-dlp/yt-dlp/wiki/Extractors#exporting-youtube-cookies  for tips on effectively exporting YouTube cookies\n",
            "[download] Downloading item \u001b[0;32m55\u001b[0m of \u001b[0;94m59\u001b[0m\n",
            "[youtube] Extracting URL: https://www.youtube.com/watch?v=DLE0m4nj1MI\n",
            "[youtube] DLE0m4nj1MI: Downloading webpage\n",
            "[youtube] DLE0m4nj1MI: Downloading tv simply player API JSON\n",
            "[youtube] DLE0m4nj1MI: Downloading tv client config\n",
            "[youtube] DLE0m4nj1MI: Downloading tv player API JSON\n",
            "\u001b[0;31mERROR:\u001b[0m [youtube] DLE0m4nj1MI: Sign in to confirm you’re not a bot. Use --cookies-from-browser or --cookies for the authentication. See  https://github.com/yt-dlp/yt-dlp/wiki/FAQ#how-do-i-pass-cookies-to-yt-dlp  for how to manually pass cookies. Also see  https://github.com/yt-dlp/yt-dlp/wiki/Extractors#exporting-youtube-cookies  for tips on effectively exporting YouTube cookies\n",
            "[download] Downloading item \u001b[0;32m56\u001b[0m of \u001b[0;94m59\u001b[0m\n",
            "[youtube] Extracting URL: https://www.youtube.com/watch?v=sRKP7_LTDGA\n",
            "[youtube] sRKP7_LTDGA: Downloading webpage\n",
            "[youtube] sRKP7_LTDGA: Downloading tv simply player API JSON\n",
            "[youtube] sRKP7_LTDGA: Downloading tv client config\n",
            "[youtube] sRKP7_LTDGA: Downloading tv player API JSON\n",
            "\u001b[0;31mERROR:\u001b[0m [youtube] sRKP7_LTDGA: Sign in to confirm you’re not a bot. Use --cookies-from-browser or --cookies for the authentication. See  https://github.com/yt-dlp/yt-dlp/wiki/FAQ#how-do-i-pass-cookies-to-yt-dlp  for how to manually pass cookies. Also see  https://github.com/yt-dlp/yt-dlp/wiki/Extractors#exporting-youtube-cookies  for tips on effectively exporting YouTube cookies\n",
            "[download] Downloading item \u001b[0;32m57\u001b[0m of \u001b[0;94m59\u001b[0m\n",
            "[youtube] Extracting URL: https://www.youtube.com/watch?v=XedRAWKghto\n",
            "[youtube] XedRAWKghto: Downloading webpage\n",
            "[youtube] XedRAWKghto: Downloading tv simply player API JSON\n",
            "[youtube] XedRAWKghto: Downloading tv client config\n",
            "[youtube] XedRAWKghto: Downloading tv player API JSON\n",
            "\u001b[0;31mERROR:\u001b[0m [youtube] XedRAWKghto: Sign in to confirm you’re not a bot. Use --cookies-from-browser or --cookies for the authentication. See  https://github.com/yt-dlp/yt-dlp/wiki/FAQ#how-do-i-pass-cookies-to-yt-dlp  for how to manually pass cookies. Also see  https://github.com/yt-dlp/yt-dlp/wiki/Extractors#exporting-youtube-cookies  for tips on effectively exporting YouTube cookies\n",
            "[download] Downloading item \u001b[0;32m58\u001b[0m of \u001b[0;94m59\u001b[0m\n",
            "[youtube] Extracting URL: https://www.youtube.com/watch?v=pNq1HVR0kJw\n",
            "[youtube] pNq1HVR0kJw: Downloading webpage\n",
            "[youtube] pNq1HVR0kJw: Downloading tv simply player API JSON\n",
            "[youtube] pNq1HVR0kJw: Downloading tv client config\n",
            "[youtube] pNq1HVR0kJw: Downloading tv player API JSON\n",
            "\u001b[0;31mERROR:\u001b[0m [youtube] pNq1HVR0kJw: Sign in to confirm you’re not a bot. Use --cookies-from-browser or --cookies for the authentication. See  https://github.com/yt-dlp/yt-dlp/wiki/FAQ#how-do-i-pass-cookies-to-yt-dlp  for how to manually pass cookies. Also see  https://github.com/yt-dlp/yt-dlp/wiki/Extractors#exporting-youtube-cookies  for tips on effectively exporting YouTube cookies\n",
            "[download] Downloading item \u001b[0;32m59\u001b[0m of \u001b[0;94m59\u001b[0m\n",
            "[youtube] Extracting URL: https://www.youtube.com/watch?v=KBQhh5oNhiA\n",
            "[youtube] KBQhh5oNhiA: Downloading webpage\n",
            "[youtube] KBQhh5oNhiA: Downloading tv simply player API JSON\n",
            "[youtube] KBQhh5oNhiA: Downloading tv client config\n",
            "[youtube] KBQhh5oNhiA: Downloading tv player API JSON\n",
            "\u001b[0;31mERROR:\u001b[0m [youtube] KBQhh5oNhiA: Sign in to confirm you’re not a bot. Use --cookies-from-browser or --cookies for the authentication. See  https://github.com/yt-dlp/yt-dlp/wiki/FAQ#how-do-i-pass-cookies-to-yt-dlp  for how to manually pass cookies. Also see  https://github.com/yt-dlp/yt-dlp/wiki/Extractors#exporting-youtube-cookies  for tips on effectively exporting YouTube cookies\n",
            "[download] Finished downloading playlist: vuogle - Live\n"
          ]
        }
      ]
    },
    {
      "cell_type": "markdown",
      "source": [
        "# 🚄 Torrent\n",
        "\n",
        "\n",
        "*   ⚠️ Không nên dùng vì vi phạm chính sách Colab\n",
        "\n"
      ],
      "metadata": {
        "id": "WRz3f8ReXWDA"
      }
    },
    {
      "cell_type": "code",
      "source": [
        "# @title 📌 Install torrent\n",
        "#  install\n",
        "!pip install lbry-libtorrent"
      ],
      "metadata": {
        "cellView": "form",
        "id": "NXEb3zsgXW7W"
      },
      "execution_count": null,
      "outputs": []
    },
    {
      "cell_type": "markdown",
      "source": [
        "Nếu không được thì thử cài libtorrent\n",
        "\n",
        "```\n",
        "# Kiểm tra phiên bản Python\n",
        "import sys; print(sys.version)\n",
        "# Nếu Python 3.12: thử bản chính thức mới\n",
        "!pip -q install -U \"libtorrent>=2.0.11\"\n",
        "```"
      ],
      "metadata": {
        "id": "JaBidLySaz5O"
      }
    },
    {
      "cell_type": "code",
      "source": [
        "# @title ⏬ Dowload Torent\n",
        "import os, time, libtorrent as lt\n",
        "\n",
        "SAVE_PATH = \"/content/torrent_download\"\n",
        "os.makedirs(SAVE_PATH, exist_ok=True)\n",
        "\n",
        "def display_progress(h):\n",
        "    s = h.status()\n",
        "    state_str = [\n",
        "        'queued', 'checking', 'downloading metadata', 'downloading',\n",
        "        'finished', 'seeding', 'allocating', 'checking fastresume'\n",
        "    ]\n",
        "    state = state_str[s.state] if 0 <= s.state < len(state_str) else f\"state:{s.state}\"\n",
        "    return (f\"Tiến độ: {s.progress*100:.2f}% | Down: {s.download_rate/1024:.1f} KB/s | \"\n",
        "            f\"Up: {s.upload_rate/1024:.1f} KB/s | Peer: {s.num_peers} | {state}\")\n",
        "\n",
        "def list_files(h):\n",
        "    ti = h.get_torrent_info()\n",
        "    fs = ti.files()\n",
        "    n = fs.num_files()\n",
        "    return [(i, fs.file_path(i), fs.file_size(i)) for i in range(n)]\n",
        "\n",
        "def file_progress_bytes(h):\n",
        "    # v2: trả về list bytes đã tải cho từng file\n",
        "    try:\n",
        "        return h.file_progress()\n",
        "    except TypeError:\n",
        "        return h.file_progress(0)\n",
        "\n",
        "# --- session ---\n",
        "ses = lt.session()\n",
        "try:\n",
        "    ses.listen_on(6881, 6891)\n",
        "except Exception:\n",
        "    pass\n",
        "ses.start_dht()\n",
        "\n",
        "# --- add magnet ---\n",
        "magnet = input(\"Nhập magnet (q để thoát): \").strip()\n",
        "if magnet.lower() == 'q':\n",
        "    raise SystemExit\n",
        "\n",
        "# thêm flag sequential cho ổn định streaming (tùy chọn)\n",
        "atp = lt.parse_magnet_uri(magnet)\n",
        "atp.save_path = SAVE_PATH\n",
        "if hasattr(lt.torrent_flags, \"sequential_download\"):\n",
        "    atp.flags |= lt.torrent_flags.sequential_download\n",
        "\n",
        "# (tùy chọn) thêm tracker để bắt metadata nhanh\n",
        "atp.trackers = [\n",
        "    \"udp://tracker.opentrackr.org:1337/announce\",\n",
        "    \"udp://open.stealth.si:80/announce\",\n",
        "    \"udp://tracker.openbittorrent.com:6969/announce\",\n",
        "]\n",
        "\n",
        "h = ses.add_torrent(atp)\n",
        "\n",
        "# --- chờ metadata ---\n",
        "t0 = time.time()\n",
        "while not h.has_metadata():\n",
        "    if time.time() - t0 > 90:\n",
        "        print(\"Timeout lấy metadata (ít peer/seeder).\")\n",
        "        raise SystemExit\n",
        "    time.sleep(1)\n",
        "print(\"Đã lấy metadata.\")\n",
        "\n",
        "# --- liệt kê file ---\n",
        "files = list_files(h)\n",
        "for i, p, sz in files:\n",
        "    print(f\"[{i}] {p} ({sz/1024/1024:.2f} MB)\")\n",
        "\n",
        "# --- chọn tải ---\n",
        "choice = input(\"Tải toàn bộ (y) hay chọn file (n)? \").strip().lower()\n",
        "selected = None\n",
        "if choice == 'n':\n",
        "    raw = input(\"Nhập index, ví dụ 0,2,4: \")\n",
        "    idxs = []\n",
        "    for x in raw.split(','):\n",
        "        x = x.strip()\n",
        "        if x.isdigit() and 0 <= int(x) < len(files):\n",
        "            idxs.append(int(x))\n",
        "    selected = sorted(set(idxs))\n",
        "\n",
        "# --- đặt ưu tiên file ---\n",
        "num_files = len(files)\n",
        "if selected:\n",
        "    prio = [0]*num_files\n",
        "    for i in selected: prio[i] = 1\n",
        "else:\n",
        "    prio = [1]*num_files\n",
        "\n",
        "try:\n",
        "    h.prioritize_files(prio)\n",
        "except AttributeError:\n",
        "    for i, p in enumerate(prio):\n",
        "        h.file_priority(i, p)\n",
        "\n",
        "print(\"Bắt đầu tải...\")\n",
        "last = 0\n",
        "while True:\n",
        "    s = h.status()\n",
        "    now = time.time()\n",
        "    if now - last >= 5:\n",
        "        print(display_progress(h))\n",
        "        if selected:\n",
        "            prog = file_progress_bytes(h)\n",
        "            for i in selected:\n",
        "                done = prog[i] if i < len(prog) else 0\n",
        "                size = files[i][2]\n",
        "                pct = (done/size*100) if size else 0\n",
        "                print(f\"  - [{i}] {files[i][1]}: {pct:.2f}% ({done/1024/1024:.2f}/{size/1024/1024:.2f} MB)\")\n",
        "        last = now\n",
        "    if s.state in (lt.torrent_status.seeding, lt.torrent_status.finished):\n",
        "        print(\"Hoàn tất.\")\n",
        "        break\n",
        "    time.sleep(1)\n",
        "\n",
        "# liệt kê file kết quả\n",
        "for root, _, fns in os.walk(SAVE_PATH):\n",
        "    for f in fns:\n",
        "        p = os.path.join(root, f)\n",
        "        print(\"- \", p)\n"
      ],
      "metadata": {
        "cellView": "form",
        "id": "_a1gpPfELxZF",
        "collapsed": true
      },
      "execution_count": null,
      "outputs": []
    },
    {
      "cell_type": "markdown",
      "source": [
        "# JavaScript giữ kết nối colab\n",
        "\n",
        "\n",
        "```\n",
        "# F12 > Console\n",
        "function ClickConnect(){\n",
        "    document.querySelector(\"colab-connect-button\").click()\n",
        "}\n",
        "setInterval(ClickConnect, 300000); // 5 phút\n",
        "```\n",
        "\n"
      ],
      "metadata": {
        "id": "Ooweq3CaYPF9"
      }
    },
    {
      "cell_type": "markdown",
      "source": [
        "\n",
        "\n",
        "---\n",
        "# lung tung chua test 👇\n"
      ],
      "metadata": {
        "id": "Z3kc7LmjMiTw"
      }
    },
    {
      "cell_type": "markdown",
      "source": [
        "## Tải audio (mp3) cho 5 link cùng lúc\n",
        "\n",
        "*   Chỉ cần thay LINK_1 … LINK_5 bằng 5 link của bạn (có thể dán xuống dòng cũng được).\n",
        "\n",
        "```\n",
        "!yt-dlp -x --audio-format m4a --audio-quality 0 \\\n",
        "  --embed-thumbnail --add-metadata \\\n",
        "  -o \"%(title)s.%(ext)s\" \\\n",
        "  \"LINK_1\" \"LINK_2\" \"LINK_3\" \"LINK_4\" \"LINK_5\"\n",
        "  -P \"/content/drive/MyDrive/YoutubeAudio\"\n",
        "```\n",
        "\n",
        "\n"
      ],
      "metadata": {
        "id": "qo1xCHt0q0XN"
      }
    }
  ]
}