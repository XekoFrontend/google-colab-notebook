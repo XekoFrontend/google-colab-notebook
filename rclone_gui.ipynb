{
  "nbformat": 4,
  "nbformat_minor": 0,
  "metadata": {
    "colab": {
      "provenance": [],
      "collapsed_sections": [
        "XpCFwQWZefCH",
        "pT6xF6HFUOfd",
        "-E3gMs4qiSY0",
        "1olPxcEBgL07",
        "SZLqroFMLUs1",
        "OgHKr5ZdOw8G",
        "aWCGGHmWOrGG"
      ],
      "mount_file_id": "1k2RYHOtIpApLte1iPpoOFFmFK5BKD-mZ",
      "authorship_tag": "ABX9TyOQT94O7iVaTCHNvn9IoZsb",
      "include_colab_link": true
    },
    "kernelspec": {
      "name": "python3",
      "display_name": "Python 3"
    },
    "language_info": {
      "name": "python"
    }
  },
  "cells": [
    {
      "cell_type": "markdown",
      "metadata": {
        "id": "view-in-github",
        "colab_type": "text"
      },
      "source": [
        "<a href=\"https://colab.research.google.com/github/XekoFrontend/google-colab-notebook/blob/main/rclone_gui.ipynb\" target=\"_parent\"><img src=\"https://colab.research.google.com/assets/colab-badge.svg\" alt=\"Open In Colab\"/></a>"
      ]
    },
    {
      "cell_type": "markdown",
      "source": [
        "# 📌 **Install**\n"
      ],
      "metadata": {
        "id": "XpCFwQWZefCH"
      }
    },
    {
      "cell_type": "code",
      "execution_count": 1,
      "metadata": {
        "collapsed": true,
        "id": "GlikPwUgTvg1",
        "colab": {
          "base_uri": "https://localhost:8080/"
        },
        "outputId": "52070406-662f-4251-b440-15fe98b57902"
      },
      "outputs": [
        {
          "output_type": "stream",
          "name": "stdout",
          "text": [
            "  % Total    % Received % Xferd  Average Speed   Time    Time     Time  Current\n",
            "                                 Dload  Upload   Total   Spent    Left  Speed\n",
            "100  4734  100  4734    0     0   8718      0 --:--:-- --:--:-- --:--:--  8718\n",
            "Archive:  rclone-current-linux-amd64.zip\n",
            "   creating: tmp_unzip_dir_for_rclone/rclone-v1.70.3-linux-amd64/\n",
            "  inflating: tmp_unzip_dir_for_rclone/rclone-v1.70.3-linux-amd64/README.txt  [text]  \n",
            "  inflating: tmp_unzip_dir_for_rclone/rclone-v1.70.3-linux-amd64/git-log.txt  [text]  \n",
            "  inflating: tmp_unzip_dir_for_rclone/rclone-v1.70.3-linux-amd64/rclone  [binary]\n",
            "  inflating: tmp_unzip_dir_for_rclone/rclone-v1.70.3-linux-amd64/README.html  [text]  \n",
            "  inflating: tmp_unzip_dir_for_rclone/rclone-v1.70.3-linux-amd64/rclone.1  [text]  \n",
            "Purging old database entries in /usr/share/man...\n",
            "Processing manual pages under /usr/share/man...\n",
            "Updating index cache for path `/usr/share/man/man1'. Wait...done.\n",
            "Checking for stray cats under /usr/share/man...\n",
            "Checking for stray cats under /var/cache/man...\n",
            "Purging old database entries in /usr/share/man/tr...\n",
            "Processing manual pages under /usr/share/man/tr...\n",
            "Purging old database entries in /usr/share/man/pl...\n",
            "Processing manual pages under /usr/share/man/pl...\n",
            "Purging old database entries in /usr/share/man/zh_CN...\n",
            "Processing manual pages under /usr/share/man/zh_CN...\n",
            "Purging old database entries in /usr/share/man/hu...\n",
            "Processing manual pages under /usr/share/man/hu...\n",
            "Purging old database entries in /usr/share/man/it...\n",
            "Processing manual pages under /usr/share/man/it...\n",
            "Purging old database entries in /usr/share/man/es...\n",
            "Processing manual pages under /usr/share/man/es...\n",
            "Purging old database entries in /usr/share/man/sl...\n",
            "Processing manual pages under /usr/share/man/sl...\n",
            "Purging old database entries in /usr/share/man/pt_BR...\n",
            "Processing manual pages under /usr/share/man/pt_BR...\n",
            "Purging old database entries in /usr/share/man/pt...\n",
            "Processing manual pages under /usr/share/man/pt...\n",
            "Purging old database entries in /usr/share/man/ja...\n",
            "Processing manual pages under /usr/share/man/ja...\n",
            "Purging old database entries in /usr/share/man/fr...\n",
            "Processing manual pages under /usr/share/man/fr...\n",
            "Purging old database entries in /usr/share/man/id...\n",
            "Processing manual pages under /usr/share/man/id...\n",
            "Purging old database entries in /usr/share/man/ru...\n",
            "Processing manual pages under /usr/share/man/ru...\n",
            "Purging old database entries in /usr/share/man/cs...\n",
            "Processing manual pages under /usr/share/man/cs...\n",
            "Purging old database entries in /usr/share/man/ko...\n",
            "Processing manual pages under /usr/share/man/ko...\n",
            "Purging old database entries in /usr/share/man/da...\n",
            "Processing manual pages under /usr/share/man/da...\n",
            "Purging old database entries in /usr/share/man/zh_TW...\n",
            "Processing manual pages under /usr/share/man/zh_TW...\n",
            "Purging old database entries in /usr/share/man/nl...\n",
            "Processing manual pages under /usr/share/man/nl...\n",
            "Purging old database entries in /usr/share/man/sv...\n",
            "Processing manual pages under /usr/share/man/sv...\n",
            "Purging old database entries in /usr/share/man/de...\n",
            "Processing manual pages under /usr/share/man/de...\n",
            "Purging old database entries in /usr/share/man/sr...\n",
            "Processing manual pages under /usr/share/man/sr...\n",
            "Purging old database entries in /usr/share/man/ro...\n",
            "Processing manual pages under /usr/share/man/ro...\n",
            "Purging old database entries in /usr/share/man/uk...\n",
            "Processing manual pages under /usr/share/man/uk...\n",
            "Processing manual pages under /usr/local/man...\n",
            "mandb: can't update index cache /var/cache/man/oldlocal/841: No such file or directory\n",
            "Updating index cache for path `/usr/local/man/man1'. Wait...done.\n",
            "Checking for stray cats under /usr/local/man...\n",
            "Checking for stray cats under /var/cache/man/oldlocal...\n",
            "2 man subdirectories contained newer manual pages.\n",
            "54 manual pages were added.\n",
            "0 stray cats were added.\n",
            "18 old database entries were purged.\n",
            "\n",
            "rclone v1.70.3 has successfully installed.\n",
            "Now run \"rclone config\" for setup. Check https://rclone.org/docs/ for more details.\n",
            "\n"
          ]
        }
      ],
      "source": [
        "# Cài đặt rClone\n",
        "!sudo -v ; curl https://rclone.org/install.sh | sudo bash"
      ]
    },
    {
      "cell_type": "code",
      "source": [
        "# Danh sách remotes đang có\n",
        "!rclone listremotes"
      ],
      "metadata": {
        "id": "TVMm_mKlUExj",
        "colab": {
          "base_uri": "https://localhost:8080/"
        },
        "outputId": "98051027-e1ca-4ec4-cdd2-08df606f833d"
      },
      "execution_count": 2,
      "outputs": [
        {
          "output_type": "stream",
          "name": "stdout",
          "text": [
            "2025/08/14 05:12:36 NOTICE: Config file \"/root/.config/rclone/rclone.conf\" not found - using defaults\n"
          ]
        }
      ]
    },
    {
      "cell_type": "code",
      "source": [
        "# Khôi phục file config\n",
        "!cp \"/content/drive/MyDrive/Colab Notebooks/rclone.conf\" /root/.config/rclone/rclone.conf"
      ],
      "metadata": {
        "id": "MmyLLIMPT-Ku"
      },
      "execution_count": 3,
      "outputs": []
    },
    {
      "cell_type": "markdown",
      "source": [
        "# ⚙️ **Config remotes**"
      ],
      "metadata": {
        "id": "pT6xF6HFUOfd"
      }
    },
    {
      "cell_type": "markdown",
      "source": [
        "Modify remotes"
      ],
      "metadata": {
        "id": "RQaFQBLqqCAB"
      }
    },
    {
      "cell_type": "code",
      "source": [
        "# Tạo mới, chỉnh sửa, xóa hoặc kiểm tra remote.\n",
        "!rclone config"
      ],
      "metadata": {
        "id": "fj1w6avIgRNN",
        "collapsed": true
      },
      "execution_count": null,
      "outputs": []
    },
    {
      "cell_type": "markdown",
      "source": [
        "Backup config"
      ],
      "metadata": {
        "id": "8hPt4gIPp98Y"
      }
    },
    {
      "cell_type": "code",
      "source": [
        "# Backup config\n",
        "!cp /root/.config/rclone/rclone.conf /content/rclone.conf\n",
        "!rclone copy -v \"/content/rclone.conf\" \"/content/drive/MyDrive/Colab Notebooks/backup/rclone-renamed.conf\""
      ],
      "metadata": {
        "id": "mO5IAMs_gkke"
      },
      "execution_count": null,
      "outputs": []
    },
    {
      "cell_type": "markdown",
      "source": [
        "# 🎯 **Các lệnh Copy**"
      ],
      "metadata": {
        "id": "-E3gMs4qiSY0"
      }
    },
    {
      "cell_type": "code",
      "source": [
        "# @title Basic: Copy files between Cloud Remotes\n",
        "# @markdown ### Hướng dẫn:\n",
        "# @markdown - **Source Remote**: `remoteName` .\n",
        "# @markdown - **Source folder**:  `App/yt-dlp/`.\n",
        "source_remote = \"onedrive\" # @param [\"/content/drive/MyDrive/\",\"googledrive1\",\"onedrive\",\"googledrive2\",\"archive\"]\n",
        "input_folder = \"Videos/Hotaru no Hikari 2007-2011/\" # @param {\"type\":\"string\"}\n",
        "# @markdown ---\n",
        "destination_remote = \"archive\" # @param [\"archive\",\"onedrive\",\"googledrive2\",\"googledrive1\",\"/content/drive/MyDrive/\"]\n",
        "destination_folder = \"xin-hay-yeu-em-e-5/\" # @param {\"type\":\"string\"}\n",
        "\n",
        "# Kiểm tra và thực thi lệnh copy\n",
        "if source_remote and destination_remote:\n",
        "    # Chạy lệnh rclone với thông báo chi tiết\n",
        "    !rclone copy --update -v --transfers 8 \"{source_remote}:{input_folder}\" \"{destination_remote}:{destination_folder}\"\n",
        "else:\n",
        "    print(\"Lỗi: Vui lòng nhập cả Source Remote và Destination Remote.\")"
      ],
      "metadata": {
        "id": "4-5lI6wKiZ9a",
        "colab": {
          "base_uri": "https://localhost:8080/"
        },
        "outputId": "4cf7a877-12c2-47b5-9c37-7907bf820b4d"
      },
      "execution_count": 5,
      "outputs": [
        {
          "output_type": "stream",
          "name": "stdout",
          "text": [
            "2025/08/14 05:15:11 INFO  : S2/E04.mp4: Copied (new)\n",
            "2025/08/14 05:15:14 INFO  : S2/E05.mp4: Copied (new)\n",
            "2025/08/14 05:15:21 INFO  : S2/E07.mp4: Copied (new)\n",
            "2025/08/14 05:15:23 INFO  : S2/E08.mp4: Copied (new)\n",
            "2025/08/14 05:15:27 INFO  : S2/E09.mp4: Copied (new)\n",
            "2025/08/14 05:15:28 INFO  : S2/E10.mp4: Copied (new)\n",
            "2025/08/14 05:15:34 INFO  : S2/E06.mp4: Copied (new)\n",
            "2025/08/14 05:15:41 INFO  : S2/E02.mp4: Copied (new)\n",
            "2025/08/14 05:15:42 INFO  : S2/E11.mp4: Copied (new)\n",
            "2025/08/14 05:15:49 INFO  : S2/E03.mp4: Copied (new)\n",
            "2025/08/14 05:15:53 INFO  : \n",
            "Transferred:   \t    4.237 GiB / 8.618 GiB, 49%, 80.172 MiB/s, ETA 55s\n",
            "Checks:                 0 / 0, -, Listed 27\n",
            "Transferred:           10 / 21, 48%\n",
            "Elapsed time:       1m0.0s\n",
            "Transferring:\n",
            " *                                    S2/E01.mp4:100% /452.156Mi, 17.121Mi/s, 0s\n",
            " *                                    S1/E01.mp4: 17% /599.773Mi, 4.979Mi/s, 1m38s\n",
            " *                                    S1/E02.mp4: 17% /499.780Mi, 4.084Mi/s, 1m41s\n",
            " *                                    S1/E03.mp4: 40% /499.878Mi, 9.773Mi/s, 30s\n",
            " *                                    S1/E04.mp4: 36% /498.997Mi, 9.586Mi/s, 33s\n",
            " *                                    S1/E05.mp4:  5% /499.499Mi, 2.181Mi/s, 3m37s\n",
            " *                                    S1/E06.mp4:  1% /500.130Mi, 613.998Ki/s, 13m42s\n",
            " *                                    S1/E07.mp4:  0% /499.804Mi, 339.990Ki/s, 24m59s\n",
            "\n",
            "2025/08/14 05:15:54 INFO  : S2/E01.mp4: Copied (new)\n",
            "2025/08/14 05:16:08 INFO  : S1/E02.mp4: Copied (new)\n",
            "2025/08/14 05:16:09 INFO  : S1/E04.mp4: Copied (new)\n",
            "2025/08/14 05:16:20 INFO  : S1/E03.mp4: Copied (new)\n",
            "2025/08/14 05:16:20 INFO  : S1/E05.mp4: Copied (new)\n",
            "2025/08/14 05:16:28 INFO  : S1/E01.mp4: Copied (new)\n",
            "2025/08/14 05:16:32 INFO  : S1/E07.mp4: Copied (new)\n",
            "2025/08/14 05:16:39 INFO  : S1/E06.mp4: Copied (new)\n",
            "2025/08/14 05:16:42 INFO  : S1/E08.mp4: Copied (new)\n",
            "2025/08/14 05:16:46 INFO  : S1/E10.mp4: Copied (new)\n",
            "2025/08/14 05:16:53 INFO  : \n",
            "Transferred:   \t    8.303 GiB / 8.618 GiB, 96%, 48.921 MiB/s, ETA 6s\n",
            "Checks:                 0 / 0, -, Listed 27\n",
            "Transferred:           20 / 21, 95%\n",
            "Elapsed time:       2m0.0s\n",
            "Transferring:\n",
            " *                                    S1/E09.mp4: 35% /499.862Mi, 6.334Mi/s, 50s\n",
            "\n",
            "2025/08/14 05:17:16 INFO  : S1/E09.mp4: Copied (new)\n",
            "2025/08/14 05:17:16 INFO  : \n",
            "Transferred:   \t    8.618 GiB / 8.618 GiB, 100%, 23.161 MiB/s, ETA 0s\n",
            "Checks:                 0 / 0, -, Listed 27\n",
            "Transferred:           21 / 21, 100%\n",
            "Elapsed time:      2m22.8s\n",
            "\n"
          ]
        }
      ]
    },
    {
      "cell_type": "code",
      "source": [
        "# @title doing\n",
        "\n",
        "source_remote = \"/content/drive/MyDrive/\" # @param [\"/content/drive/MyDrive/\",\"haocenter\",\"tsd06\",\"xuhao\",\"archive\"]\n",
        "input_folder = \"\" # @param {\"type\":\"string\"}\n",
        "# @markdown ---\n",
        "destination_remote = \"archive\" # @param [\"archive\",\"tsd06\",\"xuhao\",\"haocenter\",\"/content/drive/MyDrive/\"]\n",
        "destination_folder = \"\" # @param {\"type\":\"string\"}\n",
        "# @markdown ---\n",
        "write_mode = \"--update\" # @param [\"--update\",\"--ignore-existing\"]\n",
        "variable_name = \"--transfers 8\" # @param [\"--transfers 8\",\"--s3-upload-concurrency 1\"]\n",
        "\n",
        "\n",
        "\n",
        "# Kiểm tra và thực thi lệnh copy\n",
        "if source_remote and destination_remote:\n",
        "  #👉if destination_remote = \"archive\":\n",
        "    # Chạy lệnh rclone với thông báo chi tiết\n",
        "    !rclone copy --update -v --transfers 8 \"{source_remote}:{input_folder}\" \"{destination_remote}:{destination_folder}\" {write_mode}\n",
        "else:\n",
        "    print(\"Lỗi: Vui lòng nhập cả Source Remote và Destination Remote.\")"
      ],
      "metadata": {
        "id": "jK7Df_1u5KHl",
        "cellView": "form"
      },
      "execution_count": null,
      "outputs": []
    },
    {
      "cell_type": "code",
      "source": [
        "# @title grok\n",
        "# @markdown ### Hướng dẫn:\n",
        "# @markdown - **Source Remote**: Chọn hoặc nhập remote nguồn (ví dụ: `haocenter`, `/content/drive/MyDrive/`). Nếu dùng thư mục cục bộ, thêm `/` ở cuối.\n",
        "# @markdown - **Input Folder**: Nhập tên thư mục/file trong remote nguồn (ví dụ: `CBZ/`, để trống nếu muốn sao chép toàn bộ remote).\n",
        "# @markdown - **Destination Remote**: Chọn remote đích (ví dụ: `archive`, `tsd06`). Nếu dùng thư mục cục bộ, thêm `/` ở cuối.\n",
        "# @markdown - **Destination Folder**: Nhập tên thư mục đích (ví dụ: `Backup/`, để trống nếu muốn sao chép vào root remote).\n",
        "# @markdown - **Transfer Option**:\n",
        "# @markdown   - `Default (--update -v)`: Sao chép với cập nhật file mới hơn, chi tiết log.\n",
        "# @markdown   - `Transfers (số luồng)`: Chọn số luồng (mặc định 8, có thể nhập số khác).\n",
        "# @markdown   - `S3 Concurrency (1)`: Dùng 1 luồng cho upload S3 (phù hợp với Archive).\n",
        "# @markdown - Nhấn **Run** để thực thi. Nếu sai cú pháp, sẽ hiển thị lỗi và hướng dẫn.\n",
        "\n",
        "source_remote = \"/content/drive/MyDrive/\" # @param [\"/content/drive/MyDrive/\", \"haocenter\", \"tsd06\", \"xuhao\", \"archive\"]\n",
        "input_folder = \"\" # @param {type:\"string\", allow-input: true}\n",
        "destination_remote = \"archive\" # @param [\"archive\", \"tsd06\", \"xuhao\", \"haocenter\", \"/content/drive/MyDrive/\"]\n",
        "destination_folder = \"\" # @param {type:\"string\", allow-input: true}\n",
        "transfer_option = \"S3 Concurrency (1)\" # @param [\"Default (--update -v)\", \"Transfers (số luồng)\", \"S3 Concurrency (1)\"]\n",
        "transfers_value = \"\" # @param {type:\"string\", allow-input: true}\n",
        "\n",
        "# Xử lý tùy chọn chuyển dữ liệu\n",
        "transfer_flags = \"\"\n",
        "if transfer_option == \"Default (--update -v)\":\n",
        "    transfer_flags = \"--update -v\"\n",
        "elif transfer_option == \"Transfers (số luồng)\":\n",
        "    try:\n",
        "        transfers_value = int(transfers_value)\n",
        "        if transfers_value > 0:\n",
        "            transfer_flags = f\"--transfers {transfers_value} -v\"\n",
        "        else:\n",
        "            print(\"Lỗi: Số luồng phải lớn hơn 0. Mặc định dùng 8.\")\n",
        "            transfer_flags = \"--transfers 8 -v\"\n",
        "    except ValueError:\n",
        "        print(\"Lỗi: Vui lòng nhập số nguyên cho Transfers. Mặc định dùng 8.\")\n",
        "        transfer_flags = \"--transfers 8 -v\"\n",
        "elif transfer_option == \"S3 Concurrency (1)\":\n",
        "    transfer_flags = \"--s3-upload-concurrency 1 -v\"\n",
        "\n",
        "# Xử lý đường dẫn\n",
        "if source_remote and destination_remote:\n",
        "    source_path = f\"{source_remote}{input_folder}\".rstrip(\"/\") + \"/\" if input_folder else f\"{source_remote}\"\n",
        "    dest_path = f\"{destination_remote}{destination_folder}\".rstrip(\"/\") + \"/\" if destination_folder else f\"{destination_remote}\"\n",
        "\n",
        "    # Thay đổi tùy chọn khi đích là archive\n",
        "    if destination_remote == \"archive\":\n",
        "        command_flags = transfer_flags.replace(\"--update\", \"--ignore-existing\") if \"--update\" in transfer_flags else transfer_flags\n",
        "    else:\n",
        "        command_flags = transfer_flags\n",
        "\n",
        "    # Chạy lệnh rclone\n",
        "    !rclone copy {command_flags} \"{source_path}\" \"{dest_path}\"\n",
        "else:\n",
        "    print(\"Lỗi: Vui lòng nhập cả Source Remote và Destination Remote. Xem hướng dẫn ở trên!\")"
      ],
      "metadata": {
        "cellView": "form",
        "id": "N-iQWNYVn9WC"
      },
      "execution_count": null,
      "outputs": []
    },
    {
      "cell_type": "markdown",
      "source": [
        "# 👓 **Xem Nội Dung Remote**"
      ],
      "metadata": {
        "id": "1olPxcEBgL07"
      }
    },
    {
      "cell_type": "code",
      "source": [
        "# @markdown ### Hướng dẫn:\n",
        "# @markdown - **List Mode**: Chọn cách hiển thị nội dung:\n",
        "# @markdown   - `ls`: Liệt kê file và kích thước (mặc định).\n",
        "# @markdown   - `lsf`: Chỉ hiển thị tên file/thư mục.\n",
        "# @markdown   - `lsd`: Chỉ hiển thị tên thư mục con.\n",
        "# @markdown   - `size`: Hiển thị tổng kích thước của thư mục.\n",
        "\n",
        "list_remote = \"/content/drive/MyDrive/\" # @param [\"/content/drive/MyDrive/\", \"haocenter\",\"tsd06\",\"xuhao\",\"archive\"]\n",
        "input_folder = \"tinhhe-lontien-thyetmin/\" # @param {\"type\":\"string\"}\n",
        "list_mode = \"lsf\" # @param [\"lsf\",\"lsd\",\"ls\",\"size\"]\n",
        "# @markdown 🔎 Lọc file:\n",
        "file_type = \"mkv\" # @param {\"type\":\"string\"}\n",
        "file_type_sum = \"Default\" # @param [\"Default\", \"Sum\"]\n",
        "\n",
        "# Xử lý file_type_sum thành lệnh phù hợp\n",
        "sum_command = \"\" if file_type_sum == \"Default\" else \" | wc -l\"\n",
        "\n",
        "\n",
        "!rclone {list_mode} \"{list_remote}:{input_folder}\"  | grep \".{file_type}\"  {sum_command}\n",
        "\n",
        "\n",
        "# ======================================\n",
        "# grep \".mp4\": Lọc các dòng có chứa .mp4.\n",
        "# wc -l: Đếm số dòng (tức là số file .mp4)."
      ],
      "metadata": {
        "collapsed": true,
        "id": "INrZSJUyUO2m"
      },
      "execution_count": null,
      "outputs": []
    },
    {
      "cell_type": "markdown",
      "source": [
        "# 🗃️ **.Rar .Zip .7zip**"
      ],
      "metadata": {
        "id": "SZLqroFMLUs1"
      }
    },
    {
      "cell_type": "markdown",
      "source": [
        "## Rar"
      ],
      "metadata": {
        "id": "OgHKr5ZdOw8G"
      }
    },
    {
      "cell_type": "code",
      "source": [
        "# Install unrar\n",
        "!apt-get install unrar"
      ],
      "metadata": {
        "id": "EdDZ6Cd5LS-5"
      },
      "execution_count": null,
      "outputs": []
    },
    {
      "cell_type": "code",
      "source": [
        "# Giải nén với password (ex: DDDTT)\n",
        "!unrar x -pdomdom2010 /content/copy_temp/*.zip /content/copy_temp/extracted/"
      ],
      "metadata": {
        "id": "2ea4ZCxIOqCc"
      },
      "execution_count": null,
      "outputs": []
    },
    {
      "cell_type": "markdown",
      "source": [
        "## Zip"
      ],
      "metadata": {
        "id": "aWCGGHmWOrGG"
      }
    },
    {
      "cell_type": "code",
      "source": [
        "# Install unzip\n",
        "!apt-get install -y unzip"
      ],
      "metadata": {
        "id": "QqVLJrLFOiyg"
      },
      "execution_count": null,
      "outputs": []
    },
    {
      "cell_type": "code",
      "source": [
        "# Giải nén file .zip với password (nếu có)\n",
        "!unzip -P kirakira /content/copy_temp/Ed01.zip -d /content/copy_temp/extracted/"
      ],
      "metadata": {
        "id": "zUjZlcv-QIY6"
      },
      "execution_count": null,
      "outputs": []
    },
    {
      "cell_type": "code",
      "source": [
        "# Dùng vòng lặp `for` Giải nén nhiều file .zip trong thư mục với password (nếu có)\n",
        "import os\n",
        "for zip_file in os.listdir(\"/content/copy_temp/2/\"):\n",
        "    if zip_file.endswith(\".zip\"):\n",
        "        !unzip -P domdom2010 \"/content/copy_temp/2/{zip_file}\" -d /content/copy_temp/2/s2/\n",
        "        print(f\"Đã giải nén {zip_file}\")"
      ],
      "metadata": {
        "id": "kkCfqzXFQRG2"
      },
      "execution_count": null,
      "outputs": []
    },
    {
      "cell_type": "markdown",
      "source": [
        "---\n",
        "### uncheck"
      ],
      "metadata": {
        "id": "gRN3utqAQrb0"
      }
    },
    {
      "cell_type": "markdown",
      "source": [
        "rar"
      ],
      "metadata": {
        "id": "fZa8y6cPRUGs"
      }
    },
    {
      "cell_type": "code",
      "source": [
        "# hình như là nén files, hoặc ghép files. cần thử lại.\n",
        "!cat /content/torrent_download/HI1\\ DDDTT.part*.rar > /content/HI1_DDDTT_full.rar"
      ],
      "metadata": {
        "id": "3-CAUsowQqYL"
      },
      "execution_count": null,
      "outputs": []
    },
    {
      "cell_type": "code",
      "source": [
        "# Split file nén\n",
        "!split -b 10G /content/HI1_DDDTT_full.rar /content/HI1_DDDTT_part_\n",
        "# copy file trùng tên, chhia theo thứ tự.\n",
        "!rclone copy /content/HI1_DDDTT_part_* archive:tinhhe-lontien-thyetmin/1990/ -v"
      ],
      "metadata": {
        "id": "nvKWC3gCQ06K"
      },
      "execution_count": null,
      "outputs": []
    },
    {
      "cell_type": "markdown",
      "source": [
        "7zip\n",
        "* p7zip-full hỗ trợ hầu hết định dạng (.7z, .zip, .rar, .iso, .tar, .gzip, v.v.), nhưng hiệu suất giải nén .rar tốt hơn với unrar."
      ],
      "metadata": {
        "id": "R73k0vO5RSOa"
      }
    },
    {
      "cell_type": "code",
      "source": [
        "!apt-get update\n",
        "!apt-get install -y p7zip-full"
      ],
      "metadata": {
        "id": "kG5_6xXBRV1b"
      },
      "execution_count": null,
      "outputs": []
    },
    {
      "cell_type": "code",
      "source": [
        "!7z x /content/file.7z -o/content/extracted/ -pYOUR_PASSWORD"
      ],
      "metadata": {
        "id": "K7fwezfgTV_u"
      },
      "execution_count": null,
      "outputs": []
    },
    {
      "cell_type": "code",
      "source": [
        "!7z x /content/file.iso -o/content/extracted/"
      ],
      "metadata": {
        "id": "P6XwK6SUTal6"
      },
      "execution_count": null,
      "outputs": []
    },
    {
      "cell_type": "code",
      "source": [
        "import os\n",
        "\n",
        "# Đường dẫn thư mục chứa file nén\n",
        "source_folder = \"/content/copy_temp/2/\"\n",
        "extract_folder = \"/content/copy_temp/2/zip2/\"\n",
        "password = \"domdom2010\"  # Thay bằng password thực tế\n",
        "\n",
        "# Tạo thư mục đích nếu chưa có\n",
        "!mkdir -p {extract_folder}\n",
        "\n",
        "# Lặp qua các file trong thư mục\n",
        "for filename in os.listdir(source_folder):\n",
        "    if filename.endswith(\".zip\"):\n",
        "        file_path = os.path.join(source_folder, filename)\n",
        "        # Sử dụng 7z để giải nén\n",
        "        !7z x \"{file_path}\" -o\"{extract_folder}\" -p{password} -y\n",
        "        if os.path.exists(os.path.join(extract_folder, filename.replace(\".zip\", \"\"))):\n",
        "            print(f\"Đã giải nén {filename} thành công\")\n",
        "        else:\n",
        "            print(f\"Lỗi: Không thể giải nén {filename}. Kiểm tra file hoặc password!\")"
      ],
      "metadata": {
        "id": "0yTQktWCRYHU"
      },
      "execution_count": null,
      "outputs": []
    },
    {
      "cell_type": "markdown",
      "source": [
        "cai đặt cả 3"
      ],
      "metadata": {
        "id": "31GgEVLpTF0Z"
      }
    },
    {
      "cell_type": "code",
      "source": [
        "# Cài đặt các công cụ giải nén\n",
        "!apt-get update\n",
        "!apt-get install -y unrar unzip p7zip-full"
      ],
      "metadata": {
        "id": "z2eZwK8FTJ_3"
      },
      "execution_count": null,
      "outputs": []
    },
    {
      "cell_type": "markdown",
      "source": [
        "# 📺 **yt-dlp**"
      ],
      "metadata": {
        "id": "5DJokz_NBxm3"
      }
    },
    {
      "cell_type": "markdown",
      "source": [
        "## ⚙️ Install yt-dlp & ffmpeg\n",
        "* ⚠️Chú ý dùng ! trước command\n",
        "* Nếu lỗi 403 Forbidden, thêm --geo-bypass"
      ],
      "metadata": {
        "id": "SOwK2NyFCGc7"
      }
    },
    {
      "cell_type": "code",
      "source": [
        "pip install -U yt-dlp"
      ],
      "metadata": {
        "id": "lDiNbMjZB7l4"
      },
      "execution_count": null,
      "outputs": []
    },
    {
      "cell_type": "code",
      "source": [
        "!sudo apt install ffmpeg"
      ],
      "metadata": {
        "id": "Qcwcr6HWCC0S"
      },
      "execution_count": null,
      "outputs": []
    },
    {
      "cell_type": "markdown",
      "source": [
        "## ⏬ Download\n",
        "\n",
        "\n",
        "*   --write-subs --sub-lang en: chỉ tải sub english không tải file.\n",
        "*   --all-subs: tải file và tất cả subtitle.\n",
        "* --skip-download: bỏ qua không tải files\n",
        "* -o: đặt tên file\n",
        "* -P: path lưu\n",
        "* -F: xem tất cả định dạng\n",
        "* -f tải định dạng đã chọn\n",
        "* !yt-dlp: tự chọn định dạng tốt nhất\n",
        "* -v: để xem log\n",
        "* --get-urlurl: tải .m3u8\n",
        "\n"
      ],
      "metadata": {
        "id": "V9te11yFCsHx"
      }
    },
    {
      "cell_type": "code",
      "source": [
        "!yt-dlp --all-subs \"https://wetv.vip/vi/play/87t5rpu3kbh1qm8/\" -o \"Xin_Hay_Yeu_Em_E7\" -P \"Dame na Watashi ni Koishite Kudasai 2016\""
      ],
      "metadata": {
        "id": "1i7aoGSoCvzC"
      },
      "execution_count": null,
      "outputs": []
    }
  ]
}