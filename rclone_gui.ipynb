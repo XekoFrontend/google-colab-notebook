{
  "nbformat": 4,
  "nbformat_minor": 0,
  "metadata": {
    "colab": {
      "provenance": [],
      "collapsed_sections": [
        "XpCFwQWZefCH",
        "pT6xF6HFUOfd",
        "-E3gMs4qiSY0",
        "8aiNa5o_1gbD",
        "1olPxcEBgL07",
        "SZLqroFMLUs1",
        "OgHKr5ZdOw8G",
        "aWCGGHmWOrGG",
        "gRN3utqAQrb0",
        "SOwK2NyFCGc7"
      ],
      "mount_file_id": "1k2RYHOtIpApLte1iPpoOFFmFK5BKD-mZ",
      "authorship_tag": "ABX9TyMFYIhC0AJPn8BbWmlaz5xs",
      "include_colab_link": true
    },
    "kernelspec": {
      "name": "python3",
      "display_name": "Python 3"
    },
    "language_info": {
      "name": "python"
    }
  },
  "cells": [
    {
      "cell_type": "markdown",
      "metadata": {
        "id": "view-in-github",
        "colab_type": "text"
      },
      "source": [
        "<a href=\"https://colab.research.google.com/github/XekoFrontend/google-colab-notebook/blob/main/rclone_gui.ipynb\" target=\"_parent\"><img src=\"https://colab.research.google.com/assets/colab-badge.svg\" alt=\"Open In Colab\"/></a>"
      ]
    },
    {
      "cell_type": "markdown",
      "source": [
        "# 📌 **Install**\n"
      ],
      "metadata": {
        "id": "XpCFwQWZefCH"
      }
    },
    {
      "cell_type": "code",
      "execution_count": null,
      "metadata": {
        "collapsed": true,
        "id": "GlikPwUgTvg1",
        "colab": {
          "base_uri": "https://localhost:8080/"
        },
        "outputId": "a97e7f7d-6356-4e08-da44-d6c9f130a47f"
      },
      "outputs": [
        {
          "output_type": "stream",
          "name": "stdout",
          "text": [
            "  % Total    % Received % Xferd  Average Speed   Time    Time     Time  Current\n",
            "                                 Dload  Upload   Total   Spent    Left  Speed\n",
            "100  4734  100  4734    0     0   8887      0 --:--:-- --:--:-- --:--:--  8898\n",
            "Archive:  rclone-current-linux-amd64.zip\n",
            "   creating: tmp_unzip_dir_for_rclone/rclone-v1.70.3-linux-amd64/\n",
            "  inflating: tmp_unzip_dir_for_rclone/rclone-v1.70.3-linux-amd64/README.txt  [text]  \n",
            "  inflating: tmp_unzip_dir_for_rclone/rclone-v1.70.3-linux-amd64/git-log.txt  [text]  \n",
            "  inflating: tmp_unzip_dir_for_rclone/rclone-v1.70.3-linux-amd64/rclone  [binary]\n",
            "  inflating: tmp_unzip_dir_for_rclone/rclone-v1.70.3-linux-amd64/README.html  [text]  \n",
            "  inflating: tmp_unzip_dir_for_rclone/rclone-v1.70.3-linux-amd64/rclone.1  [text]  \n",
            "Purging old database entries in /usr/share/man...\n",
            "Processing manual pages under /usr/share/man...\n",
            "Updating index cache for path `/usr/share/man/man1'. Wait...done.\n",
            "Checking for stray cats under /usr/share/man...\n",
            "Checking for stray cats under /var/cache/man...\n",
            "Purging old database entries in /usr/share/man/tr...\n",
            "Processing manual pages under /usr/share/man/tr...\n",
            "Purging old database entries in /usr/share/man/zh_TW...\n",
            "Processing manual pages under /usr/share/man/zh_TW...\n",
            "Purging old database entries in /usr/share/man/nl...\n",
            "Processing manual pages under /usr/share/man/nl...\n",
            "Purging old database entries in /usr/share/man/cs...\n",
            "Processing manual pages under /usr/share/man/cs...\n",
            "Purging old database entries in /usr/share/man/pl...\n",
            "Processing manual pages under /usr/share/man/pl...\n",
            "Purging old database entries in /usr/share/man/da...\n",
            "Processing manual pages under /usr/share/man/da...\n",
            "Purging old database entries in /usr/share/man/pt...\n",
            "Processing manual pages under /usr/share/man/pt...\n",
            "Purging old database entries in /usr/share/man/hu...\n",
            "Processing manual pages under /usr/share/man/hu...\n",
            "Purging old database entries in /usr/share/man/de...\n",
            "Processing manual pages under /usr/share/man/de...\n",
            "Purging old database entries in /usr/share/man/sl...\n",
            "Processing manual pages under /usr/share/man/sl...\n",
            "Purging old database entries in /usr/share/man/es...\n",
            "Processing manual pages under /usr/share/man/es...\n",
            "Purging old database entries in /usr/share/man/it...\n",
            "Processing manual pages under /usr/share/man/it...\n",
            "Purging old database entries in /usr/share/man/ko...\n",
            "Processing manual pages under /usr/share/man/ko...\n",
            "Purging old database entries in /usr/share/man/zh_CN...\n",
            "Processing manual pages under /usr/share/man/zh_CN...\n",
            "Purging old database entries in /usr/share/man/ja...\n",
            "Processing manual pages under /usr/share/man/ja...\n",
            "Purging old database entries in /usr/share/man/id...\n",
            "Processing manual pages under /usr/share/man/id...\n",
            "Purging old database entries in /usr/share/man/fr...\n",
            "Processing manual pages under /usr/share/man/fr...\n",
            "Purging old database entries in /usr/share/man/ru...\n",
            "Processing manual pages under /usr/share/man/ru...\n",
            "Purging old database entries in /usr/share/man/pt_BR...\n",
            "Processing manual pages under /usr/share/man/pt_BR...\n",
            "Purging old database entries in /usr/share/man/sv...\n",
            "Processing manual pages under /usr/share/man/sv...\n",
            "Purging old database entries in /usr/share/man/uk...\n",
            "Processing manual pages under /usr/share/man/uk...\n",
            "Purging old database entries in /usr/share/man/ro...\n",
            "Processing manual pages under /usr/share/man/ro...\n",
            "Purging old database entries in /usr/share/man/sr...\n",
            "Processing manual pages under /usr/share/man/sr...\n",
            "Processing manual pages under /usr/local/man...\n",
            "mandb: can't update index cache /var/cache/man/oldlocal/1188: No such file or directory\n",
            "Updating index cache for path `/usr/local/man/man1'. Wait...done.\n",
            "Checking for stray cats under /usr/local/man...\n",
            "Checking for stray cats under /var/cache/man/oldlocal...\n",
            "2 man subdirectories contained newer manual pages.\n",
            "54 manual pages were added.\n",
            "0 stray cats were added.\n",
            "17 old database entries were purged.\n",
            "\n",
            "rclone v1.70.3 has successfully installed.\n",
            "Now run \"rclone config\" for setup. Check https://rclone.org/docs/ for more details.\n",
            "\n"
          ]
        }
      ],
      "source": [
        "# Cài đặt rClone\n",
        "!sudo -v ; curl https://rclone.org/install.sh | sudo bash"
      ]
    },
    {
      "cell_type": "code",
      "source": [
        "# Danh sách remotes đang có\n",
        "!rclone listremotes"
      ],
      "metadata": {
        "id": "TVMm_mKlUExj",
        "colab": {
          "base_uri": "https://localhost:8080/"
        },
        "outputId": "a529bf3d-7d39-45a5-8059-bea37651e10b"
      },
      "execution_count": null,
      "outputs": [
        {
          "output_type": "stream",
          "name": "stdout",
          "text": [
            "2025/08/22 16:19:27 NOTICE: Config file \"/root/.config/rclone/rclone.conf\" not found - using defaults\n"
          ]
        }
      ]
    },
    {
      "cell_type": "code",
      "source": [
        "# Khôi phục file config\n",
        "!cp \"/content/drive/MyDrive/Colab Notebooks/rclone.conf\" /root/.config/rclone/rclone.conf"
      ],
      "metadata": {
        "id": "MmyLLIMPT-Ku"
      },
      "execution_count": null,
      "outputs": []
    },
    {
      "cell_type": "markdown",
      "source": [
        "# ⚙️ **Config remotes**"
      ],
      "metadata": {
        "id": "pT6xF6HFUOfd"
      }
    },
    {
      "cell_type": "markdown",
      "source": [
        "Modify remotes"
      ],
      "metadata": {
        "id": "RQaFQBLqqCAB"
      }
    },
    {
      "cell_type": "code",
      "source": [
        "# Tạo mới, chỉnh sửa, xóa hoặc kiểm tra remote.\n",
        "!rclone config"
      ],
      "metadata": {
        "id": "fj1w6avIgRNN",
        "collapsed": true
      },
      "execution_count": null,
      "outputs": []
    },
    {
      "cell_type": "markdown",
      "source": [
        "Backup config"
      ],
      "metadata": {
        "id": "8hPt4gIPp98Y"
      }
    },
    {
      "cell_type": "code",
      "source": [
        "# Backup config\n",
        "!cp /root/.config/rclone/rclone.conf /content/rclone.conf\n",
        "!rclone copy -v \"/content/rclone.conf\" \"/content/drive/MyDrive/Colab Notebooks/backup/rclone-renamed.conf\""
      ],
      "metadata": {
        "id": "mO5IAMs_gkke"
      },
      "execution_count": null,
      "outputs": []
    },
    {
      "cell_type": "markdown",
      "source": [
        "# 🎯 **Các lệnh Copy**"
      ],
      "metadata": {
        "id": "-E3gMs4qiSY0"
      }
    },
    {
      "cell_type": "code",
      "source": [
        "# @title Basic: Copy files between Cloud\n",
        "# @markdown **Lưu ý**:\n",
        "# @markdown - nếu thêm `/` ở cuối, chỉ copy nội dung bên trong\n",
        "# @markdown - không dùng `/` ở cuối thì copy cả folder\n",
        "\n",
        "source_remote = \"onedrive\" # @param [\"/content/drive/MyDrive/\",\"/content/\",\"googledrive1\",\"onedrive\",\"googledrive2\",\"archive\"]\n",
        "input_folder = \"Music/.Lossy/A Sun\" # @param {\"type\":\"string\",\"placeholder\":\"dùng `/` để phân cấp folder hoặc file, để trống là toàn bộ remote\"}\n",
        "# @markdown ---\n",
        "\n",
        "destination_remote = \"archive\" # @param [\"archive\",\"onedrive\",\"googledrive2\",\"googledrive1\",\"/content/drive/MyDrive/\",\"/content/\"]\n",
        "destination_folder = \"a-sun-320-301022\" # @param {\"type\":\"string\",\"placeholder\":\"dùng `/` để phân cấp folder hoặc tạo thư mục trong archive.\"}\n",
        "# @markdown ---\n",
        "\n",
        "option_flag = \"--s3-upload-concurrency 1\" # @param {\"type\":\"string\",\"placeholder\":\"thêm `--flag` nếu cần, dùng space phân cách các flag\"}\n",
        "\n",
        "# Kiểm tra và thực thi lệnh copy\n",
        "if source_remote and destination_remote:\n",
        "    # Xử lý đường dẫn\n",
        "    source_path = f\"{source_remote}:{input_folder}\" if input_folder else f\"{source_remote}:\"\n",
        "    dest_path = f\"{destination_remote}:{destination_folder}\" if destination_folder else f\"{destination_remote}:\"\n",
        "\n",
        "    # Xử lý option_flag\n",
        "    if option_flag.strip():\n",
        "        flags = option_flag.strip().split()\n",
        "        command_flags = \"-v \" + \" \".join(flags)  # Kết hợp -v với các flag người dùng nhập\n",
        "    else:\n",
        "        command_flags = \"-v\"  # Mặc định chỉ dùng -v\n",
        "\n",
        "    # Chạy lệnh rclone\n",
        "    !rclone copy {command_flags} \"{source_path}\" \"{dest_path}\"\n",
        "else:\n",
        "    print(\"Lỗi: Vui lòng nhập cả Source Remote và Destination Remote.\")"
      ],
      "metadata": {
        "id": "4-5lI6wKiZ9a",
        "cellView": "form",
        "collapsed": true,
        "colab": {
          "base_uri": "https://localhost:8080/"
        },
        "outputId": "e6808c95-d0c6-4695-f65a-7573abbea5f2"
      },
      "execution_count": null,
      "outputs": [
        {
          "output_type": "stream",
          "name": "stdout",
          "text": [
            "2025/08/22 15:44:31 INFO  : A-Sun - Leave for the moment.mp3: Copied (new)\n",
            "2025/08/22 15:44:48 INFO  : A-Sun - Safekeeping.mp3: Copied (new)\n",
            "2025/08/22 15:45:02 INFO  : \n",
            "Transferred:   \t   65.180 MiB / 97.382 MiB, 67%, 1.265 MiB/s, ETA 25s\n",
            "Checks:                 0 / 0, -, Listed 8\n",
            "Transferred:            2 / 8, 25%\n",
            "Elapsed time:       1m0.0s\n",
            "Transferring:\n",
            " *                             A-Sun - Angel.mp3:100% /10.558Mi, 1.173Mi/s, 0s\n",
            " *                           A-Sun - Driving.mp3:  0% /8.878Mi, 0/s, -\n",
            " *                      A-Sun - Minor Trauma.mp3:100% /9.374Mi, 39.886Ki/s, 0s\n",
            " *                         A-Sun - Stillness.mp3: 71% /9.604Mi, 491.999Ki/s, 5s\n",
            "\n",
            "2025/08/22 15:45:07 INFO  : A-Sun - Angel.mp3: Copied (new)\n",
            "2025/08/22 15:45:08 INFO  : A-Sun - Driving.mp3: Copied (new)\n",
            "2025/08/22 15:45:10 INFO  : A-Sun - Stillness.mp3: Copied (new)\n",
            "2025/08/22 15:45:15 INFO  : A-Sun - Switch.mp3: Copied (new)\n",
            "2025/08/22 15:45:17 INFO  : A-Sun - Yours World.mp3: Copied (new)\n",
            "2025/08/22 15:45:20 INFO  : A-Sun - Minor Trauma.mp3: Copied (new)\n",
            "2025/08/22 15:45:20 INFO  : \n",
            "Transferred:   \t  106.756 MiB / 106.756 MiB, 100%, 2.113 MiB/s, ETA 0s\n",
            "Checks:                 0 / 0, -, Listed 8\n",
            "Transferred:            8 / 8, 100%\n",
            "Elapsed time:      1m17.9s\n",
            "\n"
          ]
        }
      ]
    },
    {
      "cell_type": "markdown",
      "source": [
        "\n",
        "\n",
        "---\n",
        "\n"
      ],
      "metadata": {
        "id": "Rou0Pj6C2kWR"
      }
    },
    {
      "cell_type": "code",
      "source": [
        "!rclone lsf \"archive:1okrock-liveshow\""
      ],
      "metadata": {
        "id": "2CbpR4GxZzON",
        "colab": {
          "base_uri": "https://localhost:8080/"
        },
        "collapsed": true,
        "outputId": "0cde794e-a0c1-4a88-faac-98d6e4137ab5"
      },
      "execution_count": null,
      "outputs": [
        {
          "output_type": "stream",
          "name": "stdout",
          "text": [
            "1okrock-liveshow.thumbs/\n",
            "1okrock-liveshow_archive.torrent\n",
            "1okrock-liveshow_files.xml\n",
            "1okrock-liveshow_meta.sqlite\n",
            "1okrock-liveshow_meta.xml\n",
            "ONE_OK_ROCK_BD_DISC1.ISO\n",
            "ONE_OK_ROCK_BD_DISC1.mp4\n",
            "ONE_OK_ROCK_BD_DISC12.mp4\n",
            "ONE_OK_ROCK_BD_DISC2.ISO\n",
            "ONE_OK_ROCK_BD_DISC2.mp4\n",
            "ONE_OK_ROCK_BD_DISC22.mp4\n",
            "__ia_thumb.jpg\n"
          ]
        }
      ]
    },
    {
      "cell_type": "code",
      "source": [
        "!rclone copy -v \"https://data.terabox.app/file/355a8f3d0d448004bfd44760355e9e24?bkt=en-07c9b0a504a3706095b5bed33474fa845279f58cd625ea8c91609d778afe1145613e6382e58cd8cd&xcode=df67ed55c6204494b55f5ec8e654e0c13e79c2291fa72c2d874035aa226821b9059abe7c8628492e4f74607fb2ca4215c8167d68cbed08ac&fid=4399953669262-250528-1045094404813338&time=1755879512&sign=FDTAXUGERLQlBHSKfWaon-DCb740ccc5511e5e8fedcff06b081203-GnmoxutjLrn2n9uJXUDTZH2At0s%3D&to=139&size=14419252790&sta_dx=14419252790&sta_cs=6&sta_ft=rar&sta_ct=7&sta_mt=0&fm2=MH%2Ctky%2CAnywhere%2C%2CSGFub2k%3D%2Cany&region=tky&ctime=1721389741&mtime=1755879490&resv0=-1&resv1=0&resv2=&resv3=&resv4=14419252790&vuk=4399953669262&iv=0&htype=&randtype=&newver=1&newfm=1&secfm=1&flow_ver=3&pkey=en-60a4ed0a949c71f4b2eda5effa64b454a071fd3e07b901278f4021729bdc94457bd6b613a0460ebb&sl=68091977&expires=1755908312&rt=pr&r=586159288&vbdid=-&fin=%5BHaDoanTV.Com%5DLISCFSVH.rar&fn=%5BHaDoanTV.Com%5DLISCFSVH.rar&rtype=1&dp-logid=8886183457023662952&dp-callid=0.1&hps=1&tsl=2000&csl=2000&fsl=-1&csign=Hxn20zAbm7kxnk88YOPGGnuyJYc%3D&so=0&ut=6&uter=4&serv=0&uc=3706416523&ti=9c74a385a1d3afc573a68b6d53825de85e1c8a5eaa922718&tuse=&raw_appid=0&ogr=0&rregion=XVVi&adg=&reqlabel=250528_f_01ef7f5e1a9c16c0008388deeb54fe5a_-1_db7dff196c8e03a1b341f2cd746c4229&ccn=VN&by=themis\" \"/content/torrent_download/\""
      ],
      "metadata": {
        "colab": {
          "base_uri": "https://localhost:8080/"
        },
        "id": "JUt0geXVlDjT",
        "outputId": "5455b6a4-f7b8-4fb2-cc85-b65764eee213"
      },
      "execution_count": null,
      "outputs": [
        {
          "output_type": "stream",
          "name": "stdout",
          "text": [
            "2025/08/22 16:21:09 CRITICAL: Failed to create file system for \"https://data.terabox.app/file/355a8f3d0d448004bfd44760355e9e24?bkt=en-07c9b0a504a3706095b5bed33474fa845279f58cd625ea8c91609d778afe1145613e6382e58cd8cd&xcode=df67ed55c6204494b55f5ec8e654e0c13e79c2291fa72c2d874035aa226821b9059abe7c8628492e4f74607fb2ca4215c8167d68cbed08ac&fid=4399953669262-250528-1045094404813338&time=1755879512&sign=FDTAXUGERLQlBHSKfWaon-DCb740ccc5511e5e8fedcff06b081203-GnmoxutjLrn2n9uJXUDTZH2At0s%3D&to=139&size=14419252790&sta_dx=14419252790&sta_cs=6&sta_ft=rar&sta_ct=7&sta_mt=0&fm2=MH%2Ctky%2CAnywhere%2C%2CSGFub2k%3D%2Cany&region=tky&ctime=1721389741&mtime=1755879490&resv0=-1&resv1=0&resv2=&resv3=&resv4=14419252790&vuk=4399953669262&iv=0&htype=&randtype=&newver=1&newfm=1&secfm=1&flow_ver=3&pkey=en-60a4ed0a949c71f4b2eda5effa64b454a071fd3e07b901278f4021729bdc94457bd6b613a0460ebb&sl=68091977&expires=1755908312&rt=pr&r=586159288&vbdid=-&fin=%5BHaDoanTV.Com%5DLISCFSVH.rar&fn=%5BHaDoanTV.Com%5DLISCFSVH.rar&rtype=1&dp-logid=8886183457023662952&dp-callid=0.1&hps=1&tsl=2000&csl=2000&fsl=-1&csign=Hxn20zAbm7kxnk88YOPGGnuyJYc%3D&so=0&ut=6&uter=4&serv=0&uc=3706416523&ti=9c74a385a1d3afc573a68b6d53825de85e1c8a5eaa922718&tuse=&raw_appid=0&ogr=0&rregion=XVVi&adg=&reqlabel=250528_f_01ef7f5e1a9c16c0008388deeb54fe5a_-1_db7dff196c8e03a1b341f2cd746c4229&ccn=VN&by=themis\": didn't find section in config file (\"https\")\n"
          ]
        }
      ]
    },
    {
      "cell_type": "markdown",
      "source": [
        "### 🍷 **Ghi chú**\n",
        "\n",
        "**Command**\n",
        "* `copy` : Copy file/thư mục từ nguồn tới đích, bỏ qua file giống nhau\n",
        "* `check` : So sánh nội dung giữa nguồn và đích\n",
        "* `sync` : đồng bộ (dùng --dry-run kiểm tra trước khi chạy thật).\n",
        "* `ls`: Liệt kê file và kích thước (mặc định).\n",
        "* `lsf`: Chỉ hiển thị tên file/thư mục.\n",
        "* `lsd`: Chỉ hiển thị tên thư mục con.\n",
        "* `size`: Hiển thị tổng kích thước của thư mục.\n",
        "\n",
        "---\n",
        "**Flag**\n",
        "\n",
        "* Ghi đè nếu nguồn mới hơn: `--update`. (không dùng được trên archive)\n",
        "* Bỏ qua các file đã tồn tại: `--ignore-existing`. (phù hợp với *archive.org* để tránh gây lỗi, còn lại thì dùng mặc định `copy` là đủ).\n",
        "*\n",
        " * Chọn số luồng copy (nếu không dùng thì mặc định là 4)): `--transfers 8`.\n",
        " * Dùng cho S3 của Amazon: `--s3-upload-concurrency 1`. (archive.org file lớn ưu tiên dùng ✅ 1 luồng, tối đa dùng được 2 luồng).\n",
        "\n",
        "* `--dry-run` : Chạy thử, kiểm tra trước.\n",
        "\n",
        "* `--include \"*.mp4\"` để chỉ copy file .mp4.\n",
        "* `--exclude \"*.tmp`\" để bỏ qua file tạm.\n",
        " * Ex lọc files: `!rclone ls \"archive:cd-luong-bich-huu\" --include \"*.flac\"`\n",
        " * Ex 2: `rclone copy source dest --include \"*.jpg\" --exclude \"*.gif\"`\n",
        "\n",
        "* `--error string` : Báo cáo files lỗi"
      ],
      "metadata": {
        "id": "8aiNa5o_1gbD"
      }
    },
    {
      "cell_type": "markdown",
      "source": [
        "# 👓 **Xem Nội Dung Remote**"
      ],
      "metadata": {
        "id": "1olPxcEBgL07"
      }
    },
    {
      "cell_type": "code",
      "source": [
        "# @markdown ### Hướng dẫn:\n",
        "# @markdown - **List Mode**: Chọn cách hiển thị nội dung:\n",
        "# @markdown   - `ls`: Liệt kê file và kích thước (mặc định).\n",
        "# @markdown   - `lsf`: Chỉ hiển thị tên file/thư mục.\n",
        "# @markdown   - `lsd`: Chỉ hiển thị tên thư mục con.\n",
        "# @markdown   - `size`: Hiển thị tổng kích thước của thư mục.\n",
        "\n",
        "list_remote = \"/content/drive/MyDrive/\" # @param [\"/content/drive/MyDrive/\",\"/content/\",\"googledrive1\",\"onedrive\",\"googledrive2\",\"archive\"]\n",
        "input_folder = \"tinhhe-lontien-thyetmin/\" # @param {\"type\":\"string\"}\n",
        "list_mode = \"lsf\" # @param [\"lsf\",\"lsd\",\"ls\",\"size\"]\n",
        "# @markdown 🔎 Lọc file:\n",
        "file_type = \"mkv\" # @param {\"type\":\"string\"}\n",
        "file_type_sum = \"Default\" # @param [\"Default\", \"Sum\"]\n",
        "\n",
        "# Xử lý file_type_sum thành lệnh phù hợp\n",
        "sum_command = \"\" if file_type_sum == \"Default\" else \" | wc -l\"\n",
        "\n",
        "\n",
        "!rclone {list_mode} \"{list_remote}:{input_folder}\"  | grep \".{file_type}\"  {sum_command}\n",
        "\n",
        "\n",
        "# ======================================\n",
        "# grep \".mp4\": Lọc các dòng có chứa .mp4.\n",
        "# wc -l: Đếm số dòng (tức là số file .mp4)."
      ],
      "metadata": {
        "collapsed": true,
        "id": "INrZSJUyUO2m"
      },
      "execution_count": null,
      "outputs": []
    },
    {
      "cell_type": "markdown",
      "source": [
        "# 🗃️ **.Rar .Zip .7zip**"
      ],
      "metadata": {
        "id": "SZLqroFMLUs1"
      }
    },
    {
      "cell_type": "markdown",
      "source": [
        "## Rar"
      ],
      "metadata": {
        "id": "OgHKr5ZdOw8G"
      }
    },
    {
      "cell_type": "code",
      "source": [
        "# Install unrar\n",
        "!apt-get install unrar"
      ],
      "metadata": {
        "id": "EdDZ6Cd5LS-5"
      },
      "execution_count": null,
      "outputs": []
    },
    {
      "cell_type": "code",
      "source": [
        "# Giải nén với password (ex: DDDTT)\n",
        "!unrar x -pdomdom2010 /content/copy_temp/*.zip /content/copy_temp/extracted/"
      ],
      "metadata": {
        "id": "2ea4ZCxIOqCc"
      },
      "execution_count": null,
      "outputs": []
    },
    {
      "cell_type": "markdown",
      "source": [
        "## Zip"
      ],
      "metadata": {
        "id": "aWCGGHmWOrGG"
      }
    },
    {
      "cell_type": "code",
      "source": [
        "# Install unzip\n",
        "!apt-get install -y unzip"
      ],
      "metadata": {
        "id": "QqVLJrLFOiyg"
      },
      "execution_count": null,
      "outputs": []
    },
    {
      "cell_type": "code",
      "source": [
        "# Giải nén file .zip với password (nếu có)\n",
        "!unzip -P kirakira /content/copy_temp/Ed01.zip -d /content/copy_temp/extracted/"
      ],
      "metadata": {
        "id": "zUjZlcv-QIY6"
      },
      "execution_count": null,
      "outputs": []
    },
    {
      "cell_type": "code",
      "source": [
        "# Dùng vòng lặp `for` Giải nén nhiều file .zip trong thư mục với password (nếu có)\n",
        "import os\n",
        "for zip_file in os.listdir(\"/content/copy_temp/2/\"):\n",
        "    if zip_file.endswith(\".zip\"):\n",
        "        !unzip -P domdom2010 \"/content/copy_temp/2/{zip_file}\" -d /content/copy_temp/2/s2/\n",
        "        print(f\"Đã giải nén {zip_file}\")"
      ],
      "metadata": {
        "id": "kkCfqzXFQRG2"
      },
      "execution_count": null,
      "outputs": []
    },
    {
      "cell_type": "markdown",
      "source": [
        "---\n",
        "## uncheck"
      ],
      "metadata": {
        "id": "gRN3utqAQrb0"
      }
    },
    {
      "cell_type": "markdown",
      "source": [
        "rar"
      ],
      "metadata": {
        "id": "fZa8y6cPRUGs"
      }
    },
    {
      "cell_type": "code",
      "source": [
        "# hình như là nén files, hoặc ghép files. cần thử lại.\n",
        "!cat /content/torrent_download/HI1\\ DDDTT.part*.rar > /content/HI1_DDDTT_full.rar"
      ],
      "metadata": {
        "id": "3-CAUsowQqYL"
      },
      "execution_count": null,
      "outputs": []
    },
    {
      "cell_type": "code",
      "source": [
        "# Split file nén\n",
        "!split -b 10G /content/HI1_DDDTT_full.rar /content/HI1_DDDTT_part_\n",
        "# copy file trùng tên, chhia theo thứ tự.\n",
        "!rclone copy /content/HI1_DDDTT_part_* archive:tinhhe-lontien-thyetmin/1990/ -v"
      ],
      "metadata": {
        "id": "nvKWC3gCQ06K"
      },
      "execution_count": null,
      "outputs": []
    },
    {
      "cell_type": "markdown",
      "source": [
        "7zip\n",
        "* p7zip-full hỗ trợ hầu hết định dạng (.7z, .zip, .rar, .iso, .tar, .gzip, v.v.), nhưng hiệu suất giải nén .rar tốt hơn với unrar."
      ],
      "metadata": {
        "id": "R73k0vO5RSOa"
      }
    },
    {
      "cell_type": "code",
      "source": [
        "!apt-get update\n",
        "!apt-get install -y p7zip-full"
      ],
      "metadata": {
        "id": "kG5_6xXBRV1b"
      },
      "execution_count": null,
      "outputs": []
    },
    {
      "cell_type": "code",
      "source": [
        "!7z x /content/file.7z -o/content/extracted/ -pYOUR_PASSWORD"
      ],
      "metadata": {
        "id": "K7fwezfgTV_u"
      },
      "execution_count": null,
      "outputs": []
    },
    {
      "cell_type": "code",
      "source": [
        "!7z x /content/file.iso -o/content/extracted/"
      ],
      "metadata": {
        "id": "P6XwK6SUTal6"
      },
      "execution_count": null,
      "outputs": []
    },
    {
      "cell_type": "code",
      "source": [
        "import os\n",
        "\n",
        "# Đường dẫn thư mục chứa file nén\n",
        "source_folder = \"/content/copy_temp/2/\"\n",
        "extract_folder = \"/content/copy_temp/2/zip2/\"\n",
        "password = \"domdom2010\"  # Thay bằng password thực tế\n",
        "\n",
        "# Tạo thư mục đích nếu chưa có\n",
        "!mkdir -p {extract_folder}\n",
        "\n",
        "# Lặp qua các file trong thư mục\n",
        "for filename in os.listdir(source_folder):\n",
        "    if filename.endswith(\".zip\"):\n",
        "        file_path = os.path.join(source_folder, filename)\n",
        "        # Sử dụng 7z để giải nén\n",
        "        !7z x \"{file_path}\" -o\"{extract_folder}\" -p{password} -y\n",
        "        if os.path.exists(os.path.join(extract_folder, filename.replace(\".zip\", \"\"))):\n",
        "            print(f\"Đã giải nén {filename} thành công\")\n",
        "        else:\n",
        "            print(f\"Lỗi: Không thể giải nén {filename}. Kiểm tra file hoặc password!\")"
      ],
      "metadata": {
        "id": "0yTQktWCRYHU"
      },
      "execution_count": null,
      "outputs": []
    },
    {
      "cell_type": "markdown",
      "source": [
        "cai đặt cả 3"
      ],
      "metadata": {
        "id": "31GgEVLpTF0Z"
      }
    },
    {
      "cell_type": "code",
      "source": [
        "# Cài đặt các công cụ giải nén\n",
        "!apt-get update\n",
        "!apt-get install -y unrar unzip p7zip-full"
      ],
      "metadata": {
        "id": "z2eZwK8FTJ_3"
      },
      "execution_count": null,
      "outputs": []
    },
    {
      "cell_type": "markdown",
      "source": [
        "# 📺 **yt-dlp**"
      ],
      "metadata": {
        "id": "5DJokz_NBxm3"
      }
    },
    {
      "cell_type": "markdown",
      "source": [
        "## ⚙️ Install yt-dlp & ffmpeg\n",
        "* ⚠️Chú ý dùng ! trước command\n",
        "* Nếu lỗi 403 Forbidden, thêm --geo-bypass"
      ],
      "metadata": {
        "id": "SOwK2NyFCGc7"
      }
    },
    {
      "cell_type": "code",
      "source": [
        "pip install -U yt-dlp"
      ],
      "metadata": {
        "id": "lDiNbMjZB7l4"
      },
      "execution_count": null,
      "outputs": []
    },
    {
      "cell_type": "code",
      "source": [
        "!sudo apt install ffmpeg"
      ],
      "metadata": {
        "id": "Qcwcr6HWCC0S"
      },
      "execution_count": null,
      "outputs": []
    },
    {
      "cell_type": "markdown",
      "source": [
        "## ⏬ Hướng dẫn\n",
        "\n",
        "\n",
        "*   `!yt-dlp`: không dùng flag thì tự chọn định dạng tốt nhất\n",
        "*   `-v`: để xem log\n",
        "*   Subtitle:\n",
        " *   `--write-subs --sub-lang en`: tải 1 hoặc nhiều subtitles `en,vi,kr`. (ex: *en = english*)\n",
        " *   `--all-subs`: tải file và tất cả subtitles.\n",
        " *   `--list-subs`: danh sách các subtitles.\n",
        " *   `--skip-download`: bỏ qua không tải files, nếu chỉ tải subtitle.\n",
        "\n",
        "*   `-F`: xem tất cả định dạng\n",
        "*   `-f`: chọn tải định dạng (ex: `-f 251`)\n",
        "\n",
        "*   `--get-urlurl`: tải .m3u8\n",
        "\n",
        "*   `-o`: đặt tên file.\n",
        "*   `-P`: path đường dẫn để lưu file.\n",
        "\n",
        "---\n",
        "`--postprocessor-args \"-ss 00:00 -to 00:55\"`: cắt âm thanh <~ chua test\n"
      ],
      "metadata": {
        "id": "V9te11yFCsHx"
      }
    },
    {
      "cell_type": "code",
      "source": [
        "!yt-dlp --all-subs \"https://wetv.vip/vi/play/87t5rpu3kbh1qm8/\" -o \"Xin_Hay_Yeu_Em_E7\" -P \"Dame na Watashi ni Koishite Kudasai 2016\""
      ],
      "metadata": {
        "id": "1i7aoGSoCvzC"
      },
      "execution_count": null,
      "outputs": []
    },
    {
      "cell_type": "markdown",
      "source": [
        "# 🚄 Torrent\n",
        "\n",
        "\n",
        "*   ⚠️ Không nên dùng vì vi phạm chính sách Colab\n",
        "\n"
      ],
      "metadata": {
        "id": "WRz3f8ReXWDA"
      }
    },
    {
      "cell_type": "code",
      "source": [
        "# @title 📌 Install torrent\n",
        "#  install\n",
        "!pip install lbry-libtorrent"
      ],
      "metadata": {
        "cellView": "form",
        "id": "NXEb3zsgXW7W"
      },
      "execution_count": null,
      "outputs": []
    },
    {
      "cell_type": "code",
      "source": [
        "# @title Good\n",
        "import os, time, libtorrent as lt\n",
        "\n",
        "SAVE_PATH = \"/content/torrent_download\"\n",
        "os.makedirs(SAVE_PATH, exist_ok=True)\n",
        "\n",
        "def display_progress(h):\n",
        "    s = h.status()\n",
        "    state_str = [\n",
        "        'queued', 'checking', 'downloading metadata', 'downloading',\n",
        "        'finished', 'seeding', 'allocating', 'checking fastresume'\n",
        "    ]\n",
        "    state = state_str[s.state] if 0 <= s.state < len(state_str) else f\"state:{s.state}\"\n",
        "    return (f\"Tiến độ: {s.progress*100:.2f}% | Down: {s.download_rate/1024:.1f} KB/s | \"\n",
        "            f\"Up: {s.upload_rate/1024:.1f} KB/s | Peer: {s.num_peers} | {state}\")\n",
        "\n",
        "def list_files(h):\n",
        "    ti = h.get_torrent_info()\n",
        "    fs = ti.files()\n",
        "    n = fs.num_files()\n",
        "    return [(i, fs.file_path(i), fs.file_size(i)) for i in range(n)]\n",
        "\n",
        "def file_progress_bytes(h):\n",
        "    # v2: trả về list bytes đã tải cho từng file\n",
        "    try:\n",
        "        return h.file_progress()\n",
        "    except TypeError:\n",
        "        return h.file_progress(0)\n",
        "\n",
        "# --- session ---\n",
        "ses = lt.session()\n",
        "try:\n",
        "    ses.listen_on(6881, 6891)\n",
        "except Exception:\n",
        "    pass\n",
        "ses.start_dht()\n",
        "\n",
        "# --- add magnet ---\n",
        "magnet = input(\"Nhập magnet (q để thoát): \").strip()\n",
        "if magnet.lower() == 'q':\n",
        "    raise SystemExit\n",
        "\n",
        "# thêm flag sequential cho ổn định streaming (tùy chọn)\n",
        "atp = lt.parse_magnet_uri(magnet)\n",
        "atp.save_path = SAVE_PATH\n",
        "if hasattr(lt.torrent_flags, \"sequential_download\"):\n",
        "    atp.flags |= lt.torrent_flags.sequential_download\n",
        "\n",
        "# (tùy chọn) thêm tracker để bắt metadata nhanh\n",
        "atp.trackers = [\n",
        "    \"udp://tracker.opentrackr.org:1337/announce\",\n",
        "    \"udp://open.stealth.si:80/announce\",\n",
        "    \"udp://tracker.openbittorrent.com:6969/announce\",\n",
        "]\n",
        "\n",
        "h = ses.add_torrent(atp)\n",
        "\n",
        "# --- chờ metadata ---\n",
        "t0 = time.time()\n",
        "while not h.has_metadata():\n",
        "    if time.time() - t0 > 90:\n",
        "        print(\"Timeout lấy metadata (ít peer/seeder).\")\n",
        "        raise SystemExit\n",
        "    time.sleep(1)\n",
        "print(\"Đã lấy metadata.\")\n",
        "\n",
        "# --- liệt kê file ---\n",
        "files = list_files(h)\n",
        "for i, p, sz in files:\n",
        "    print(f\"[{i}] {p} ({sz/1024/1024:.2f} MB)\")\n",
        "\n",
        "# --- chọn tải ---\n",
        "choice = input(\"Tải toàn bộ (y) hay chọn file (n)? \").strip().lower()\n",
        "selected = None\n",
        "if choice == 'n':\n",
        "    raw = input(\"Nhập index, ví dụ 0,2,4: \")\n",
        "    idxs = []\n",
        "    for x in raw.split(','):\n",
        "        x = x.strip()\n",
        "        if x.isdigit() and 0 <= int(x) < len(files):\n",
        "            idxs.append(int(x))\n",
        "    selected = sorted(set(idxs))\n",
        "\n",
        "# --- đặt ưu tiên file ---\n",
        "num_files = len(files)\n",
        "if selected:\n",
        "    prio = [0]*num_files\n",
        "    for i in selected: prio[i] = 1\n",
        "else:\n",
        "    prio = [1]*num_files\n",
        "\n",
        "try:\n",
        "    h.prioritize_files(prio)\n",
        "except AttributeError:\n",
        "    for i, p in enumerate(prio):\n",
        "        h.file_priority(i, p)\n",
        "\n",
        "print(\"Bắt đầu tải...\")\n",
        "last = 0\n",
        "while True:\n",
        "    s = h.status()\n",
        "    now = time.time()\n",
        "    if now - last >= 5:\n",
        "        print(display_progress(h))\n",
        "        if selected:\n",
        "            prog = file_progress_bytes(h)\n",
        "            for i in selected:\n",
        "                done = prog[i] if i < len(prog) else 0\n",
        "                size = files[i][2]\n",
        "                pct = (done/size*100) if size else 0\n",
        "                print(f\"  - [{i}] {files[i][1]}: {pct:.2f}% ({done/1024/1024:.2f}/{size/1024/1024:.2f} MB)\")\n",
        "        last = now\n",
        "    if s.state in (lt.torrent_status.seeding, lt.torrent_status.finished):\n",
        "        print(\"Hoàn tất.\")\n",
        "        break\n",
        "    time.sleep(1)\n",
        "\n",
        "# liệt kê file kết quả\n",
        "for root, _, fns in os.walk(SAVE_PATH):\n",
        "    for f in fns:\n",
        "        p = os.path.join(root, f)\n",
        "        print(\"- \", p)\n"
      ],
      "metadata": {
        "colab": {
          "base_uri": "https://localhost:8080/"
        },
        "outputId": "9de4f67e-faac-42d5-ed18-381d95bfaecf",
        "cellView": "form",
        "id": "_a1gpPfELxZF"
      },
      "execution_count": null,
      "outputs": [
        {
          "output_type": "stream",
          "name": "stderr",
          "text": [
            "/tmp/ipython-input-1886093257.py:32: DeprecationWarning: listen_on() is deprecated\n",
            "  ses.listen_on(6881, 6891)\n",
            "/tmp/ipython-input-1886093257.py:35: DeprecationWarning: start_dht() is deprecated\n",
            "  ses.start_dht()\n"
          ]
        },
        {
          "name": "stdout",
          "output_type": "stream",
          "text": [
            "Nhập magnet (q để thoát): magnet:?xt=urn:btih:39bd1496f0e677b26a231073f5ffb7259e256bff&dn=Photoshop.CC.2018.x64&xl=1726530603&tr=udp%3A%2F%2Ftracker.openbittorrent.com%3A80%2Fannounce&tr=udp%3A%2F%2Ftracker.publicbt.com%3A80%2Fannounce&tr=udp%3A%2F%2Ftracker.ccc.de%3A80%2Fannounce&tr=http%3A%2F%2Frutracker.ru%2Fbt%2Fannounce.php%3Fuk%3DzK10kZwB06&tr=http%3A%2F%2Fretracker.local%2Fannounce\n"
          ]
        },
        {
          "output_type": "stream",
          "name": "stderr",
          "text": [
            "/tmp/ipython-input-1886093257.py:59: DeprecationWarning: has_metadata() is deprecated\n",
            "  while not h.has_metadata():\n",
            "/tmp/ipython-input-1886093257.py:17: DeprecationWarning: get_torrent_info() is deprecated\n",
            "  ti = h.get_torrent_info()\n"
          ]
        },
        {
          "output_type": "stream",
          "name": "stdout",
          "text": [
            "Đã lấy metadata.\n",
            "[0] Photoshop.CC.2018.x64/Adobe.Photoshop.CC.2018.u2.x64.Multilingual.iso (1646.54 MB)\n",
            "[1] Photoshop.CC.2018.x64/m0nkrus.nfo (0.00 MB)\n",
            "[2] Photoshop.CC.2018.x64/Adobe.Photoshop.CC.2018.u2.x64.Multilingual.sfv (0.00 MB)\n",
            "[3] Photoshop.CC.2018.x64/Adobe.Photoshop.CC.2018.u2.x64.Multilingual.sha (0.00 MB)\n",
            "[4] Photoshop.CC.2018.x64/Adobe.Photoshop.CC.2018.u2.x64.Multilingual.md5 (0.00 MB)\n",
            "Tải toàn bộ (y) hay chọn file (n)? y\n",
            "Bắt đầu tải...\n",
            "Tiến độ: 1.60% | Down: 2267.3 KB/s | Up: 70.3 KB/s | Peer: 1 | downloading\n",
            "Tiến độ: 1.78% | Down: 1226.3 KB/s | Up: 37.4 KB/s | Peer: 1 | downloading\n",
            "Tiến độ: 2.49% | Down: 2087.0 KB/s | Up: 64.5 KB/s | Peer: 1 | downloading\n",
            "Tiến độ: 2.69% | Down: 1256.6 KB/s | Up: 38.4 KB/s | Peer: 1 | downloading\n",
            "Tiến độ: 3.36% | Down: 2266.2 KB/s | Up: 70.1 KB/s | Peer: 1 | downloading\n",
            "Tiến độ: 3.68% | Down: 1448.3 KB/s | Up: 44.4 KB/s | Peer: 1 | downloading\n",
            "Tiến độ: 4.34% | Down: 1886.6 KB/s | Up: 58.3 KB/s | Peer: 1 | downloading\n",
            "Tiến độ: 5.04% | Down: 2323.6 KB/s | Up: 71.8 KB/s | Peer: 1 | downloading\n",
            "Tiến độ: 5.81% | Down: 2558.2 KB/s | Up: 79.2 KB/s | Peer: 1 | downloading\n",
            "Tiến độ: 6.09% | Down: 1523.7 KB/s | Up: 46.7 KB/s | Peer: 1 | downloading\n",
            "Tiến độ: 6.73% | Down: 1874.8 KB/s | Up: 57.9 KB/s | Peer: 1 | downloading\n",
            "Tiến độ: 7.51% | Down: 2477.2 KB/s | Up: 76.5 KB/s | Peer: 1 | downloading\n",
            "Tiến độ: 8.18% | Down: 2305.2 KB/s | Up: 71.3 KB/s | Peer: 1 | downloading\n",
            "Tiến độ: 8.40% | Down: 1354.9 KB/s | Up: 41.2 KB/s | Peer: 1 | downloading\n",
            "Tiến độ: 8.99% | Down: 1703.5 KB/s | Up: 52.5 KB/s | Peer: 1 | downloading\n",
            "Tiến độ: 9.65% | Down: 2249.3 KB/s | Up: 69.6 KB/s | Peer: 1 | downloading\n",
            "Tiến độ: 10.23% | Down: 2142.6 KB/s | Up: 66.3 KB/s | Peer: 1 | downloading\n",
            "Tiến độ: 10.62% | Down: 1655.4 KB/s | Up: 51.2 KB/s | Peer: 1 | downloading\n",
            "Tiến độ: 11.19% | Down: 1646.1 KB/s | Up: 50.7 KB/s | Peer: 1 | downloading\n",
            "Tiến độ: 11.51% | Down: 1332.6 KB/s | Up: 41.1 KB/s | Peer: 1 | downloading\n",
            "Tiến độ: 12.17% | Down: 1819.6 KB/s | Up: 56.3 KB/s | Peer: 1 | downloading\n",
            "Tiến độ: 12.45% | Down: 1326.0 KB/s | Up: 40.5 KB/s | Peer: 1 | downloading\n",
            "Tiến độ: 13.23% | Down: 2193.7 KB/s | Up: 67.8 KB/s | Peer: 1 | downloading\n",
            "Tiến độ: 13.95% | Down: 2326.7 KB/s | Up: 71.9 KB/s | Peer: 1 | downloading\n",
            "Tiến độ: 14.43% | Down: 1960.0 KB/s | Up: 60.6 KB/s | Peer: 1 | downloading\n",
            "Tiến độ: 14.84% | Down: 1433.1 KB/s | Up: 43.9 KB/s | Peer: 1 | downloading\n",
            "Tiến độ: 15.61% | Down: 2509.9 KB/s | Up: 77.7 KB/s | Peer: 1 | downloading\n",
            "Tiến độ: 15.88% | Down: 1382.2 KB/s | Up: 42.4 KB/s | Peer: 1 | downloading\n",
            "Tiến độ: 16.73% | Down: 2403.3 KB/s | Up: 74.4 KB/s | Peer: 1 | downloading\n",
            "Tiến độ: 17.31% | Down: 2069.4 KB/s | Up: 64.0 KB/s | Peer: 1 | downloading\n",
            "Tiến độ: 18.16% | Down: 2780.5 KB/s | Up: 86.2 KB/s | Peer: 1 | downloading\n",
            "Tiến độ: 18.35% | Down: 1404.1 KB/s | Up: 43.0 KB/s | Peer: 1 | downloading\n",
            "Tiến độ: 19.16% | Down: 2313.5 KB/s | Up: 71.6 KB/s | Peer: 1 | downloading\n",
            "Tiến độ: 19.73% | Down: 2139.5 KB/s | Up: 66.1 KB/s | Peer: 1 | downloading\n",
            "Tiến độ: 20.55% | Down: 2571.0 KB/s | Up: 79.6 KB/s | Peer: 1 | downloading\n",
            "Tiến độ: 21.32% | Down: 2643.3 KB/s | Up: 81.7 KB/s | Peer: 1 | downloading\n",
            "Tiến độ: 21.95% | Down: 2385.4 KB/s | Up: 73.7 KB/s | Peer: 1 | downloading\n",
            "Tiến độ: 22.78% | Down: 2654.6 KB/s | Up: 82.2 KB/s | Peer: 1 | downloading\n",
            "Tiến độ: 23.40% | Down: 2343.3 KB/s | Up: 72.4 KB/s | Peer: 1 | downloading\n",
            "Tiến độ: 24.26% | Down: 2845.6 KB/s | Up: 88.2 KB/s | Peer: 1 | downloading\n",
            "Tiến độ: 24.93% | Down: 2568.6 KB/s | Up: 79.4 KB/s | Peer: 1 | downloading\n",
            "Tiến độ: 25.69% | Down: 2697.3 KB/s | Up: 83.6 KB/s | Peer: 1 | downloading\n",
            "Tiến độ: 26.50% | Down: 2719.3 KB/s | Up: 84.3 KB/s | Peer: 1 | downloading\n",
            "Tiến độ: 27.10% | Down: 2263.2 KB/s | Up: 70.1 KB/s | Peer: 1 | downloading\n",
            "Tiến độ: 27.99% | Down: 2781.1 KB/s | Up: 86.2 KB/s | Peer: 1 | downloading\n",
            "Tiến độ: 28.26% | Down: 1636.2 KB/s | Up: 50.2 KB/s | Peer: 1 | downloading\n",
            "Tiến độ: 29.10% | Down: 2419.5 KB/s | Up: 74.8 KB/s | Peer: 1 | downloading\n",
            "Tiến độ: 29.52% | Down: 1694.3 KB/s | Up: 52.5 KB/s | Peer: 1 | downloading\n",
            "Tiến độ: 29.98% | Down: 1584.4 KB/s | Up: 48.8 KB/s | Peer: 1 | downloading\n",
            "Tiến độ: 30.73% | Down: 2161.1 KB/s | Up: 66.7 KB/s | Peer: 1 | downloading\n",
            "Tiến độ: 31.56% | Down: 2758.4 KB/s | Up: 85.4 KB/s | Peer: 1 | downloading\n",
            "Tiến độ: 32.17% | Down: 2548.4 KB/s | Up: 78.9 KB/s | Peer: 1 | downloading\n",
            "Tiến độ: 32.54% | Down: 1598.3 KB/s | Up: 49.2 KB/s | Peer: 1 | downloading\n",
            "Tiến độ: 33.11% | Down: 1849.0 KB/s | Up: 57.0 KB/s | Peer: 1 | downloading\n",
            "Tiến độ: 33.82% | Down: 2231.6 KB/s | Up: 69.1 KB/s | Peer: 1 | downloading\n",
            "Tiến độ: 34.02% | Down: 1319.2 KB/s | Up: 40.3 KB/s | Peer: 1 | downloading\n",
            "Tiến độ: 34.53% | Down: 1584.7 KB/s | Up: 48.8 KB/s | Peer: 1 | downloading\n",
            "Tiến độ: 35.27% | Down: 2126.9 KB/s | Up: 65.8 KB/s | Peer: 1 | downloading\n",
            "Tiến độ: 35.64% | Down: 1693.8 KB/s | Up: 51.7 KB/s | Peer: 1 | downloading\n",
            "Tiến độ: 36.17% | Down: 1656.0 KB/s | Up: 51.0 KB/s | Peer: 1 | downloading\n",
            "Tiến độ: 36.61% | Down: 1611.6 KB/s | Up: 49.2 KB/s | Peer: 1 | downloading\n",
            "Tiến độ: 37.33% | Down: 2086.5 KB/s | Up: 64.5 KB/s | Peer: 1 | downloading\n",
            "Tiến độ: 37.60% | Down: 1427.5 KB/s | Up: 43.7 KB/s | Peer: 1 | downloading\n",
            "Tiến độ: 38.15% | Down: 1800.6 KB/s | Up: 55.4 KB/s | Peer: 1 | downloading\n",
            "Tiến độ: 38.92% | Down: 2318.4 KB/s | Up: 71.8 KB/s | Peer: 1 | downloading\n",
            "Tiến độ: 39.70% | Down: 2564.4 KB/s | Up: 79.3 KB/s | Peer: 1 | downloading\n",
            "Tiến độ: 40.40% | Down: 2433.7 KB/s | Up: 75.3 KB/s | Peer: 1 | downloading\n",
            "Tiến độ: 41.15% | Down: 2482.8 KB/s | Up: 76.9 KB/s | Peer: 1 | downloading\n",
            "Tiến độ: 41.71% | Down: 2139.2 KB/s | Up: 66.2 KB/s | Peer: 1 | downloading\n",
            "Tiến độ: 42.48% | Down: 2494.0 KB/s | Up: 77.3 KB/s | Peer: 1 | downloading\n",
            "Tiến độ: 43.07% | Down: 2256.1 KB/s | Up: 69.7 KB/s | Peer: 1 | downloading\n",
            "Tiến độ: 43.63% | Down: 1972.0 KB/s | Up: 60.9 KB/s | Peer: 1 | downloading\n",
            "Tiến độ: 44.23% | Down: 2161.1 KB/s | Up: 66.9 KB/s | Peer: 1 | downloading\n",
            "Tiến độ: 44.56% | Down: 1400.0 KB/s | Up: 42.8 KB/s | Peer: 1 | downloading\n",
            "Tiến độ: 45.21% | Down: 1890.0 KB/s | Up: 58.4 KB/s | Peer: 1 | downloading\n",
            "Tiến độ: 45.91% | Down: 2350.7 KB/s | Up: 72.7 KB/s | Peer: 1 | downloading\n",
            "Tiến độ: 46.22% | Down: 1378.6 KB/s | Up: 42.7 KB/s | Peer: 1 | downloading\n",
            "Tiến độ: 46.73% | Down: 1563.1 KB/s | Up: 48.0 KB/s | Peer: 1 | downloading\n",
            "Tiến độ: 47.47% | Down: 2160.4 KB/s | Up: 66.8 KB/s | Peer: 1 | downloading\n",
            "Tiến độ: 47.71% | Down: 1391.8 KB/s | Up: 42.6 KB/s | Peer: 1 | downloading\n",
            "Tiến độ: 48.40% | Down: 2021.0 KB/s | Up: 62.5 KB/s | Peer: 1 | downloading\n",
            "Tiến độ: 49.18% | Down: 2657.6 KB/s | Up: 82.1 KB/s | Peer: 1 | downloading\n",
            "Tiến độ: 49.50% | Down: 1489.3 KB/s | Up: 46.1 KB/s | Peer: 1 | downloading\n",
            "Tiến độ: 50.07% | Down: 1774.9 KB/s | Up: 54.7 KB/s | Peer: 1 | downloading\n",
            "Tiến độ: 50.65% | Down: 2200.3 KB/s | Up: 68.1 KB/s | Peer: 1 | downloading\n",
            "Tiến độ: 50.87% | Down: 1177.6 KB/s | Up: 35.8 KB/s | Peer: 1 | downloading\n",
            "Tiến độ: 51.16% | Down: 1075.5 KB/s | Up: 32.8 KB/s | Peer: 1 | downloading\n",
            "Tiến độ: 51.53% | Down: 1117.8 KB/s | Up: 34.3 KB/s | Peer: 1 | downloading\n",
            "Tiến độ: 52.42% | Down: 2392.1 KB/s | Up: 74.2 KB/s | Peer: 1 | downloading\n",
            "Tiến độ: 53.05% | Down: 2236.3 KB/s | Up: 69.2 KB/s | Peer: 1 | downloading\n",
            "Tiến độ: 53.93% | Down: 2817.5 KB/s | Up: 87.3 KB/s | Peer: 1 | downloading\n",
            "Tiến độ: 54.39% | Down: 2107.5 KB/s | Up: 65.1 KB/s | Peer: 1 | downloading\n",
            "Tiến độ: 55.07% | Down: 2155.1 KB/s | Up: 66.7 KB/s | Peer: 1 | downloading\n",
            "Tiến độ: 55.87% | Down: 2787.4 KB/s | Up: 86.4 KB/s | Peer: 1 | downloading\n",
            "Tiến độ: 56.41% | Down: 2078.0 KB/s | Up: 64.3 KB/s | Peer: 1 | downloading\n",
            "Tiến độ: 57.28% | Down: 2760.2 KB/s | Up: 85.5 KB/s | Peer: 1 | downloading\n",
            "Tiến độ: 57.88% | Down: 2351.4 KB/s | Up: 72.8 KB/s | Peer: 1 | downloading\n",
            "Tiến độ: 58.68% | Down: 2636.4 KB/s | Up: 81.5 KB/s | Peer: 1 | downloading\n",
            "Tiến độ: 59.46% | Down: 2683.8 KB/s | Up: 83.0 KB/s | Peer: 1 | downloading\n",
            "Tiến độ: 59.89% | Down: 1931.0 KB/s | Up: 59.8 KB/s | Peer: 1 | downloading\n",
            "Tiến độ: 60.48% | Down: 1766.6 KB/s | Up: 54.5 KB/s | Peer: 1 | downloading\n",
            "Tiến độ: 61.34% | Down: 2700.6 KB/s | Up: 83.7 KB/s | Peer: 1 | downloading\n",
            "Tiến độ: 62.11% | Down: 2797.5 KB/s | Up: 86.6 KB/s | Peer: 1 | downloading\n",
            "Tiến độ: 62.38% | Down: 1564.0 KB/s | Up: 48.0 KB/s | Peer: 1 | downloading\n",
            "Tiến độ: 62.89% | Down: 1971.3 KB/s | Up: 60.9 KB/s | Peer: 1 | downloading\n",
            "Tiến độ: 63.24% | Down: 1287.1 KB/s | Up: 39.3 KB/s | Peer: 1 | downloading\n",
            "Tiến độ: 64.14% | Down: 2489.8 KB/s | Up: 77.1 KB/s | Peer: 1 | downloading\n",
            "Tiến độ: 64.80% | Down: 2378.2 KB/s | Up: 73.5 KB/s | Peer: 1 | downloading\n",
            "Tiến độ: 65.65% | Down: 2760.9 KB/s | Up: 85.5 KB/s | Peer: 1 | downloading\n",
            "Tiến độ: 66.20% | Down: 2272.5 KB/s | Up: 70.2 KB/s | Peer: 1 | downloading\n",
            "Tiến độ: 66.70% | Down: 1857.8 KB/s | Up: 57.5 KB/s | Peer: 1 | downloading\n",
            "Tiến độ: 67.57% | Down: 2595.3 KB/s | Up: 80.4 KB/s | Peer: 1 | downloading\n",
            "Tiến độ: 68.00% | Down: 1957.6 KB/s | Up: 60.0 KB/s | Peer: 1 | downloading\n",
            "Tiến độ: 68.67% | Down: 2097.4 KB/s | Up: 64.8 KB/s | Peer: 1 | downloading\n",
            "Tiến độ: 69.45% | Down: 2619.9 KB/s | Up: 80.9 KB/s | Peer: 1 | downloading\n",
            "Tiến độ: 69.86% | Down: 1652.8 KB/s | Up: 51.2 KB/s | Peer: 1 | downloading\n",
            "Tiến độ: 70.41% | Down: 1861.8 KB/s | Up: 57.3 KB/s | Peer: 1 | downloading\n",
            "Tiến độ: 71.21% | Down: 2435.3 KB/s | Up: 75.3 KB/s | Peer: 1 | downloading\n",
            "Tiến độ: 71.98% | Down: 2805.1 KB/s | Up: 86.8 KB/s | Peer: 1 | downloading\n",
            "Tiến độ: 72.51% | Down: 1973.7 KB/s | Up: 61.1 KB/s | Peer: 1 | downloading\n",
            "Tiến độ: 73.01% | Down: 1941.7 KB/s | Up: 60.2 KB/s | Peer: 1 | downloading\n",
            "Tiến độ: 73.39% | Down: 1474.5 KB/s | Up: 45.3 KB/s | Peer: 1 | downloading\n",
            "Tiến độ: 73.80% | Down: 1408.9 KB/s | Up: 43.4 KB/s | Peer: 1 | downloading\n",
            "Tiến độ: 74.55% | Down: 2088.1 KB/s | Up: 64.7 KB/s | Peer: 1 | downloading\n",
            "Tiến độ: 74.86% | Down: 1453.9 KB/s | Up: 44.9 KB/s | Peer: 1 | downloading\n",
            "Tiến độ: 75.54% | Down: 2013.5 KB/s | Up: 62.2 KB/s | Peer: 1 | downloading\n",
            "Tiến độ: 76.22% | Down: 2153.9 KB/s | Up: 66.6 KB/s | Peer: 1 | downloading\n",
            "Tiến độ: 77.00% | Down: 2561.1 KB/s | Up: 79.1 KB/s | Peer: 1 | downloading\n",
            "Tiến độ: 77.30% | Down: 1447.3 KB/s | Up: 44.8 KB/s | Peer: 1 | downloading\n",
            "Tiến độ: 77.63% | Down: 1210.3 KB/s | Up: 36.9 KB/s | Peer: 1 | downloading\n",
            "Tiến độ: 78.41% | Down: 2468.2 KB/s | Up: 76.4 KB/s | Peer: 1 | downloading\n",
            "Tiến độ: 78.65% | Down: 1303.3 KB/s | Up: 39.8 KB/s | Peer: 1 | downloading\n",
            "Tiến độ: 79.50% | Down: 2355.2 KB/s | Up: 72.8 KB/s | Peer: 1 | downloading\n",
            "Tiến độ: 79.86% | Down: 1713.7 KB/s | Up: 52.5 KB/s | Peer: 1 | downloading\n",
            "Tiến độ: 80.54% | Down: 2036.8 KB/s | Up: 62.9 KB/s | Peer: 1 | downloading\n",
            "Tiến độ: 81.31% | Down: 2570.2 KB/s | Up: 79.4 KB/s | Peer: 1 | downloading\n",
            "Tiến độ: 82.05% | Down: 2559.3 KB/s | Up: 79.2 KB/s | Peer: 1 | downloading\n",
            "Tiến độ: 82.85% | Down: 2692.7 KB/s | Up: 83.4 KB/s | Peer: 1 | downloading\n",
            "Tiến độ: 83.56% | Down: 2603.4 KB/s | Up: 80.6 KB/s | Peer: 1 | downloading\n",
            "Tiến độ: 84.41% | Down: 2819.6 KB/s | Up: 87.4 KB/s | Peer: 1 | downloading\n",
            "Tiến độ: 85.19% | Down: 2817.3 KB/s | Up: 87.3 KB/s | Peer: 1 | downloading\n",
            "Tiến độ: 85.46% | Down: 1688.1 KB/s | Up: 51.6 KB/s | Peer: 1 | downloading\n",
            "Tiến độ: 85.89% | Down: 1437.7 KB/s | Up: 44.2 KB/s | Peer: 1 | downloading\n",
            "Tiến độ: 86.71% | Down: 2359.1 KB/s | Up: 73.0 KB/s | Peer: 1 | downloading\n",
            "Tiến độ: 87.49% | Down: 2558.9 KB/s | Up: 79.1 KB/s | Peer: 1 | downloading\n",
            "Tiến độ: 88.34% | Down: 2856.3 KB/s | Up: 88.5 KB/s | Peer: 1 | downloading\n",
            "Tiến độ: 88.76% | Down: 1963.3 KB/s | Up: 60.7 KB/s | Peer: 1 | downloading\n",
            "Tiến độ: 89.56% | Down: 2451.3 KB/s | Up: 76.0 KB/s | Peer: 1 | downloading\n",
            "Tiến độ: 90.42% | Down: 2813.6 KB/s | Up: 87.2 KB/s | Peer: 1 | downloading\n",
            "Tiến độ: 91.21% | Down: 2739.5 KB/s | Up: 84.8 KB/s | Peer: 1 | downloading\n",
            "Tiến độ: 91.89% | Down: 2464.1 KB/s | Up: 76.2 KB/s | Peer: 1 | downloading\n",
            "Tiến độ: 92.45% | Down: 2105.8 KB/s | Up: 65.1 KB/s | Peer: 1 | downloading\n",
            "Tiến độ: 93.33% | Down: 2666.4 KB/s | Up: 82.6 KB/s | Peer: 1 | downloading\n",
            "Tiến độ: 94.06% | Down: 2679.9 KB/s | Up: 83.0 KB/s | Peer: 1 | downloading\n",
            "Tiến độ: 94.45% | Down: 1849.4 KB/s | Up: 56.6 KB/s | Peer: 1 | downloading\n",
            "Tiến độ: 95.16% | Down: 2150.3 KB/s | Up: 66.5 KB/s | Peer: 1 | downloading\n",
            "Tiến độ: 95.53% | Down: 1668.2 KB/s | Up: 51.0 KB/s | Peer: 1 | downloading\n",
            "Tiến độ: 96.30% | Down: 2215.8 KB/s | Up: 68.5 KB/s | Peer: 1 | downloading\n",
            "Tiến độ: 96.71% | Down: 1857.4 KB/s | Up: 57.3 KB/s | Peer: 1 | downloading\n",
            "Tiến độ: 96.94% | Down: 1067.1 KB/s | Up: 32.4 KB/s | Peer: 1 | downloading\n",
            "Tiến độ: 97.65% | Down: 1928.7 KB/s | Up: 59.7 KB/s | Peer: 1 | downloading\n",
            "Tiến độ: 98.33% | Down: 2244.8 KB/s | Up: 69.3 KB/s | Peer: 1 | downloading\n",
            "Tiến độ: 99.07% | Down: 2438.3 KB/s | Up: 75.5 KB/s | Peer: 1 | downloading\n",
            "Tiến độ: 99.84% | Down: 2558.5 KB/s | Up: 79.1 KB/s | Peer: 1 | downloading\n",
            "Hoàn tất.\n",
            "-  /content/torrent_download/Photoshop.CC.2018.x64/Adobe.Photoshop.CC.2018.u2.x64.Multilingual.sfv\n",
            "-  /content/torrent_download/Photoshop.CC.2018.x64/m0nkrus.nfo\n",
            "-  /content/torrent_download/Photoshop.CC.2018.x64/Adobe.Photoshop.CC.2018.u2.x64.Multilingual.sha\n",
            "-  /content/torrent_download/Photoshop.CC.2018.x64/Adobe.Photoshop.CC.2018.u2.x64.Multilingual.iso\n",
            "-  /content/torrent_download/Photoshop.CC.2018.x64/Adobe.Photoshop.CC.2018.u2.x64.Multilingual.md5\n"
          ]
        }
      ]
    },
    {
      "cell_type": "code",
      "source": [
        "# @title da tai duoc\n",
        "import os, time, libtorrent as lt\n",
        "\n",
        "SAVE_PATH = \"/content/torrent_download\"\n",
        "os.makedirs(SAVE_PATH, exist_ok=True)\n",
        "\n",
        "def display_progress(h):\n",
        "    s = h.status()\n",
        "    state_str = [\n",
        "        'queued', 'checking', 'downloading metadata', 'downloading',\n",
        "        'finished', 'seeding', 'allocating', 'checking fastresume'\n",
        "    ]\n",
        "    state = state_str[s.state] if 0 <= s.state < len(state_str) else f\"state:{s.state}\"\n",
        "    return (f\"Tiến độ: {s.progress*100:.2f}% | Down: {s.download_rate/1024:.1f} KB/s | \"\n",
        "            f\"Up: {s.upload_rate/1024:.1f} KB/s | Peer: {s.num_peers} | {state}\")\n",
        "\n",
        "def list_files(h):\n",
        "    ti = h.get_torrent_info()\n",
        "    fs = ti.files()\n",
        "    n = fs.num_files()\n",
        "    return [(i, fs.file_path(i), fs.file_size(i)) for i in range(n)]\n",
        "\n",
        "def file_progress_bytes(h):\n",
        "    # v2: trả về list bytes đã tải cho từng file\n",
        "    try:\n",
        "        return h.file_progress()\n",
        "    except TypeError:\n",
        "        return h.file_progress(0)\n",
        "\n",
        "# --- session ---\n",
        "ses = lt.session()\n",
        "try:\n",
        "    ses.listen_on(6881, 6891)\n",
        "except Exception:\n",
        "    pass\n",
        "ses.start_dht()\n",
        "\n",
        "# --- add magnet ---\n",
        "magnet = input(\"Nhập magnet (q để thoát): \").strip()\n",
        "if magnet.lower() == 'q':\n",
        "    raise SystemExit\n",
        "\n",
        "# thêm flag sequential cho ổn định streaming (tùy chọn)\n",
        "atp = lt.parse_magnet_uri(magnet)\n",
        "atp.save_path = SAVE_PATH\n",
        "if hasattr(lt.torrent_flags, \"sequential_download\"):\n",
        "    atp.flags |= lt.torrent_flags.sequential_download\n",
        "\n",
        "# (tùy chọn) thêm tracker để bắt metadata nhanh\n",
        "atp.trackers = [\n",
        "    \"udp://tracker.opentrackr.org:1337/announce\",\n",
        "    \"udp://open.stealth.si:80/announce\",\n",
        "    \"udp://tracker.openbittorrent.com:6969/announce\",\n",
        "]\n",
        "\n",
        "h = ses.add_torrent(atp)\n",
        "\n",
        "# --- chờ metadata ---\n",
        "t0 = time.time()\n",
        "while not h.has_metadata():\n",
        "    if time.time() - t0 > 90:\n",
        "        print(\"Timeout lấy metadata (ít peer/seeder).\")\n",
        "        raise SystemExit\n",
        "    time.sleep(1)\n",
        "print(\"Đã lấy metadata.\")\n",
        "\n",
        "# --- liệt kê file ---\n",
        "files = list_files(h)\n",
        "for i, p, sz in files:\n",
        "    print(f\"[{i}] {p} ({sz/1024/1024:.2f} MB)\")\n",
        "\n",
        "# --- chọn tải ---\n",
        "choice = input(\"Tải toàn bộ (y) hay chọn file (n)? \").strip().lower()\n",
        "selected = None\n",
        "if choice == 'n':\n",
        "    raw = input(\"Nhập index, ví dụ 0,2,4: \")\n",
        "    idxs = []\n",
        "    for x in raw.split(','):\n",
        "        x = x.strip()\n",
        "        if x.isdigit() and 0 <= int(x) < len(files):\n",
        "            idxs.append(int(x))\n",
        "    selected = sorted(set(idxs))\n",
        "\n",
        "# --- đặt ưu tiên file ---\n",
        "num_files = len(files)\n",
        "if selected:\n",
        "    prio = [0]*num_files\n",
        "    for i in selected: prio[i] = 1\n",
        "else:\n",
        "    prio = [1]*num_files\n",
        "\n",
        "try:\n",
        "    h.prioritize_files(prio)\n",
        "except AttributeError:\n",
        "    for i, p in enumerate(prio):\n",
        "        h.file_priority(i, p)\n",
        "\n",
        "print(\"Bắt đầu tải...\")\n",
        "last = 0\n",
        "while True:\n",
        "    s = h.status()\n",
        "    now = time.time()\n",
        "    if now - last >= 5:\n",
        "        print(display_progress(h))\n",
        "        if selected:\n",
        "            prog = file_progress_bytes(h)\n",
        "            for i in selected:\n",
        "                done = prog[i] if i < len(prog) else 0\n",
        "                size = files[i][2]\n",
        "                pct = (done/size*100) if size else 0\n",
        "                print(f\"  - [{i}] {files[i][1]}: {pct:.2f}% ({done/1024/1024:.2f}/{size/1024/1024:.2f} MB)\")\n",
        "        last = now\n",
        "    if s.state in (lt.torrent_status.seeding, lt.torrent_status.finished):\n",
        "        print(\"Hoàn tất.\")\n",
        "        break\n",
        "    time.sleep(1)\n",
        "\n",
        "# liệt kê file kết quả\n",
        "for root, _, fns in os.walk(SAVE_PATH):\n",
        "    for f in fns:\n",
        "        p = os.path.join(root, f)\n",
        "        print(\"- \", p)\n"
      ],
      "metadata": {
        "colab": {
          "base_uri": "https://localhost:8080/"
        },
        "id": "n-2S38sUHIUX",
        "outputId": "9de4f67e-faac-42d5-ed18-381d95bfaecf",
        "collapsed": true,
        "cellView": "form"
      },
      "execution_count": null,
      "outputs": [
        {
          "output_type": "stream",
          "name": "stderr",
          "text": [
            "/tmp/ipython-input-1886093257.py:32: DeprecationWarning: listen_on() is deprecated\n",
            "  ses.listen_on(6881, 6891)\n",
            "/tmp/ipython-input-1886093257.py:35: DeprecationWarning: start_dht() is deprecated\n",
            "  ses.start_dht()\n"
          ]
        },
        {
          "name": "stdout",
          "output_type": "stream",
          "text": [
            "Nhập magnet (q để thoát): magnet:?xt=urn:btih:39bd1496f0e677b26a231073f5ffb7259e256bff&dn=Photoshop.CC.2018.x64&xl=1726530603&tr=udp%3A%2F%2Ftracker.openbittorrent.com%3A80%2Fannounce&tr=udp%3A%2F%2Ftracker.publicbt.com%3A80%2Fannounce&tr=udp%3A%2F%2Ftracker.ccc.de%3A80%2Fannounce&tr=http%3A%2F%2Frutracker.ru%2Fbt%2Fannounce.php%3Fuk%3DzK10kZwB06&tr=http%3A%2F%2Fretracker.local%2Fannounce\n"
          ]
        },
        {
          "output_type": "stream",
          "name": "stderr",
          "text": [
            "/tmp/ipython-input-1886093257.py:59: DeprecationWarning: has_metadata() is deprecated\n",
            "  while not h.has_metadata():\n",
            "/tmp/ipython-input-1886093257.py:17: DeprecationWarning: get_torrent_info() is deprecated\n",
            "  ti = h.get_torrent_info()\n"
          ]
        },
        {
          "output_type": "stream",
          "name": "stdout",
          "text": [
            "Đã lấy metadata.\n",
            "[0] Photoshop.CC.2018.x64/Adobe.Photoshop.CC.2018.u2.x64.Multilingual.iso (1646.54 MB)\n",
            "[1] Photoshop.CC.2018.x64/m0nkrus.nfo (0.00 MB)\n",
            "[2] Photoshop.CC.2018.x64/Adobe.Photoshop.CC.2018.u2.x64.Multilingual.sfv (0.00 MB)\n",
            "[3] Photoshop.CC.2018.x64/Adobe.Photoshop.CC.2018.u2.x64.Multilingual.sha (0.00 MB)\n",
            "[4] Photoshop.CC.2018.x64/Adobe.Photoshop.CC.2018.u2.x64.Multilingual.md5 (0.00 MB)\n",
            "Tải toàn bộ (y) hay chọn file (n)? y\n",
            "Bắt đầu tải...\n",
            "Tiến độ: 1.60% | Down: 2267.3 KB/s | Up: 70.3 KB/s | Peer: 1 | downloading\n",
            "Tiến độ: 1.78% | Down: 1226.3 KB/s | Up: 37.4 KB/s | Peer: 1 | downloading\n",
            "Tiến độ: 2.49% | Down: 2087.0 KB/s | Up: 64.5 KB/s | Peer: 1 | downloading\n",
            "Tiến độ: 2.69% | Down: 1256.6 KB/s | Up: 38.4 KB/s | Peer: 1 | downloading\n",
            "Tiến độ: 3.36% | Down: 2266.2 KB/s | Up: 70.1 KB/s | Peer: 1 | downloading\n",
            "Tiến độ: 3.68% | Down: 1448.3 KB/s | Up: 44.4 KB/s | Peer: 1 | downloading\n",
            "Tiến độ: 4.34% | Down: 1886.6 KB/s | Up: 58.3 KB/s | Peer: 1 | downloading\n",
            "Tiến độ: 5.04% | Down: 2323.6 KB/s | Up: 71.8 KB/s | Peer: 1 | downloading\n",
            "Tiến độ: 5.81% | Down: 2558.2 KB/s | Up: 79.2 KB/s | Peer: 1 | downloading\n",
            "Tiến độ: 6.09% | Down: 1523.7 KB/s | Up: 46.7 KB/s | Peer: 1 | downloading\n",
            "Tiến độ: 6.73% | Down: 1874.8 KB/s | Up: 57.9 KB/s | Peer: 1 | downloading\n",
            "Tiến độ: 7.51% | Down: 2477.2 KB/s | Up: 76.5 KB/s | Peer: 1 | downloading\n",
            "Tiến độ: 8.18% | Down: 2305.2 KB/s | Up: 71.3 KB/s | Peer: 1 | downloading\n",
            "Tiến độ: 8.40% | Down: 1354.9 KB/s | Up: 41.2 KB/s | Peer: 1 | downloading\n",
            "Tiến độ: 8.99% | Down: 1703.5 KB/s | Up: 52.5 KB/s | Peer: 1 | downloading\n",
            "Tiến độ: 9.65% | Down: 2249.3 KB/s | Up: 69.6 KB/s | Peer: 1 | downloading\n",
            "Tiến độ: 10.23% | Down: 2142.6 KB/s | Up: 66.3 KB/s | Peer: 1 | downloading\n",
            "Tiến độ: 10.62% | Down: 1655.4 KB/s | Up: 51.2 KB/s | Peer: 1 | downloading\n",
            "Tiến độ: 11.19% | Down: 1646.1 KB/s | Up: 50.7 KB/s | Peer: 1 | downloading\n",
            "Tiến độ: 11.51% | Down: 1332.6 KB/s | Up: 41.1 KB/s | Peer: 1 | downloading\n",
            "Tiến độ: 12.17% | Down: 1819.6 KB/s | Up: 56.3 KB/s | Peer: 1 | downloading\n",
            "Tiến độ: 12.45% | Down: 1326.0 KB/s | Up: 40.5 KB/s | Peer: 1 | downloading\n",
            "Tiến độ: 13.23% | Down: 2193.7 KB/s | Up: 67.8 KB/s | Peer: 1 | downloading\n",
            "Tiến độ: 13.95% | Down: 2326.7 KB/s | Up: 71.9 KB/s | Peer: 1 | downloading\n",
            "Tiến độ: 14.43% | Down: 1960.0 KB/s | Up: 60.6 KB/s | Peer: 1 | downloading\n",
            "Tiến độ: 14.84% | Down: 1433.1 KB/s | Up: 43.9 KB/s | Peer: 1 | downloading\n",
            "Tiến độ: 15.61% | Down: 2509.9 KB/s | Up: 77.7 KB/s | Peer: 1 | downloading\n",
            "Tiến độ: 15.88% | Down: 1382.2 KB/s | Up: 42.4 KB/s | Peer: 1 | downloading\n",
            "Tiến độ: 16.73% | Down: 2403.3 KB/s | Up: 74.4 KB/s | Peer: 1 | downloading\n",
            "Tiến độ: 17.31% | Down: 2069.4 KB/s | Up: 64.0 KB/s | Peer: 1 | downloading\n",
            "Tiến độ: 18.16% | Down: 2780.5 KB/s | Up: 86.2 KB/s | Peer: 1 | downloading\n",
            "Tiến độ: 18.35% | Down: 1404.1 KB/s | Up: 43.0 KB/s | Peer: 1 | downloading\n",
            "Tiến độ: 19.16% | Down: 2313.5 KB/s | Up: 71.6 KB/s | Peer: 1 | downloading\n",
            "Tiến độ: 19.73% | Down: 2139.5 KB/s | Up: 66.1 KB/s | Peer: 1 | downloading\n",
            "Tiến độ: 20.55% | Down: 2571.0 KB/s | Up: 79.6 KB/s | Peer: 1 | downloading\n",
            "Tiến độ: 21.32% | Down: 2643.3 KB/s | Up: 81.7 KB/s | Peer: 1 | downloading\n",
            "Tiến độ: 21.95% | Down: 2385.4 KB/s | Up: 73.7 KB/s | Peer: 1 | downloading\n",
            "Tiến độ: 22.78% | Down: 2654.6 KB/s | Up: 82.2 KB/s | Peer: 1 | downloading\n",
            "Tiến độ: 23.40% | Down: 2343.3 KB/s | Up: 72.4 KB/s | Peer: 1 | downloading\n",
            "Tiến độ: 24.26% | Down: 2845.6 KB/s | Up: 88.2 KB/s | Peer: 1 | downloading\n",
            "Tiến độ: 24.93% | Down: 2568.6 KB/s | Up: 79.4 KB/s | Peer: 1 | downloading\n",
            "Tiến độ: 25.69% | Down: 2697.3 KB/s | Up: 83.6 KB/s | Peer: 1 | downloading\n",
            "Tiến độ: 26.50% | Down: 2719.3 KB/s | Up: 84.3 KB/s | Peer: 1 | downloading\n",
            "Tiến độ: 27.10% | Down: 2263.2 KB/s | Up: 70.1 KB/s | Peer: 1 | downloading\n",
            "Tiến độ: 27.99% | Down: 2781.1 KB/s | Up: 86.2 KB/s | Peer: 1 | downloading\n",
            "Tiến độ: 28.26% | Down: 1636.2 KB/s | Up: 50.2 KB/s | Peer: 1 | downloading\n",
            "Tiến độ: 29.10% | Down: 2419.5 KB/s | Up: 74.8 KB/s | Peer: 1 | downloading\n",
            "Tiến độ: 29.52% | Down: 1694.3 KB/s | Up: 52.5 KB/s | Peer: 1 | downloading\n",
            "Tiến độ: 29.98% | Down: 1584.4 KB/s | Up: 48.8 KB/s | Peer: 1 | downloading\n",
            "Tiến độ: 30.73% | Down: 2161.1 KB/s | Up: 66.7 KB/s | Peer: 1 | downloading\n",
            "Tiến độ: 31.56% | Down: 2758.4 KB/s | Up: 85.4 KB/s | Peer: 1 | downloading\n",
            "Tiến độ: 32.17% | Down: 2548.4 KB/s | Up: 78.9 KB/s | Peer: 1 | downloading\n",
            "Tiến độ: 32.54% | Down: 1598.3 KB/s | Up: 49.2 KB/s | Peer: 1 | downloading\n",
            "Tiến độ: 33.11% | Down: 1849.0 KB/s | Up: 57.0 KB/s | Peer: 1 | downloading\n",
            "Tiến độ: 33.82% | Down: 2231.6 KB/s | Up: 69.1 KB/s | Peer: 1 | downloading\n",
            "Tiến độ: 34.02% | Down: 1319.2 KB/s | Up: 40.3 KB/s | Peer: 1 | downloading\n",
            "Tiến độ: 34.53% | Down: 1584.7 KB/s | Up: 48.8 KB/s | Peer: 1 | downloading\n",
            "Tiến độ: 35.27% | Down: 2126.9 KB/s | Up: 65.8 KB/s | Peer: 1 | downloading\n",
            "Tiến độ: 35.64% | Down: 1693.8 KB/s | Up: 51.7 KB/s | Peer: 1 | downloading\n",
            "Tiến độ: 36.17% | Down: 1656.0 KB/s | Up: 51.0 KB/s | Peer: 1 | downloading\n",
            "Tiến độ: 36.61% | Down: 1611.6 KB/s | Up: 49.2 KB/s | Peer: 1 | downloading\n"
          ]
        }
      ]
    },
    {
      "cell_type": "code",
      "source": [
        "# torrent download full\n",
        "\n",
        "import libtorrent as lt\n",
        "import time\n",
        "\n",
        "ses = lt.session()\n",
        "ses.listen_on(6881, 6891)\n",
        "params = {\n",
        "    'save_path': '/content/torrent_download',\n",
        "    'storage_mode': lt.storage_mode_t(2)\n",
        "}\n",
        "# Thay link magnet ở trong \"\" dòng dưới 👇\n",
        "link = \"magnet:?xt=urn:btih:3f45046a38f729a4443441e74b23f8cc8f8432e2&dn=Little.Witch.in.the.Woods.v3.0.6.0b.rar&xl=252463291&tr=udp%3A%2F%2Ftracker.openbittorrent.com%3A80%2Fannounce&tr=udp%3A%2F%2Ftracker.opentrackr.org%3A1337%2Fannounce&tr=http%3A%2F%2Ftracker.openbittorrent.com%3A80%2Fannounce&tr=udp%3A%2F%2Fopentracker.i2p.rocks%3A6969%2Fannounce&tr=udp%3A%2F%2Ftracker.internetwarriors.net%3A1337%2Fannounce&tr=udp%3A%2F%2Ftracker.leechers-paradise.org%3A6969%2Fannounce&tr=udp%3A%2F%2Fcoppersurfer.tk%3A6969%2Fannounce&tr=udp%3A%2F%2Ftracker.zer0day.to%3A1337%2Fannounce\"\n",
        "handle = lt.add_magnet_uri(ses, link, params)\n",
        "ses.start_dht()\n",
        "\n",
        "begin = time.time()\n",
        "print(\"Đang tải torrent...\")\n",
        "\n",
        "while not handle.has_metadata():\n",
        "    time.sleep(1)\n",
        "print(\"Đã lấy metadata, bắt đầu tải...\")\n",
        "\n",
        "while handle.status().state != lt.torrent_status.seeding:\n",
        "    s = handle.status()\n",
        "    state_str = ['queued', 'checking', 'downloading metadata', 'downloading', 'finished', 'seeding', 'allocating']\n",
        "    print(f\"Tiến độ: {s.progress * 100:.2f}% - Tốc độ: {s.download_rate / 1000:.2f} kB/s - Trạng thái: {state_str[s.state]}\")\n",
        "    time.sleep(5)\n",
        "else:\n",
        "    print(\"Hoàn tất tải torrent!\")"
      ],
      "metadata": {
        "id": "EQZVsC_HX8Xt"
      },
      "execution_count": null,
      "outputs": []
    },
    {
      "cell_type": "markdown",
      "source": [
        "# Tải audio (mp3) cho 5 link cùng lúc\n",
        "\n",
        "*   Chỉ cần thay LINK_1 … LINK_5 bằng 5 link của bạn (có thể dán xuống dòng cũng được).\n",
        "\n",
        "```\n",
        "!yt-dlp -x --audio-format m4a --audio-quality 0 \\\n",
        "  --embed-thumbnail --add-metadata \\\n",
        "  -o \"%(title)s.%(ext)s\" \\\n",
        "  \"LINK_1\" \"LINK_2\" \"LINK_3\" \"LINK_4\" \"LINK_5\"\n",
        "  -P \"/content/drive/MyDrive/YoutubeAudio\"\n",
        "```\n",
        "\n",
        "\n"
      ],
      "metadata": {
        "id": "qo1xCHt0q0XN"
      }
    },
    {
      "cell_type": "markdown",
      "source": [
        "JavaScript giữ kết nối colab\n",
        "\n",
        "\n",
        "```\n",
        "# F12 > Console\n",
        "function ClickConnect(){\n",
        "    document.querySelector(\"colab-connect-button\").click()\n",
        "}\n",
        "setInterval(ClickConnect, 300000); // 5 phút\n",
        "```\n",
        "\n"
      ],
      "metadata": {
        "id": "Ooweq3CaYPF9"
      }
    }
  ]
}