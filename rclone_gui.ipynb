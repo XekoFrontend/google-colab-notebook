{
  "nbformat": 4,
  "nbformat_minor": 0,
  "metadata": {
    "colab": {
      "provenance": [],
      "collapsed_sections": [
        "XpCFwQWZefCH",
        "pT6xF6HFUOfd",
        "1olPxcEBgL07",
        "SZLqroFMLUs1",
        "OgHKr5ZdOw8G",
        "aWCGGHmWOrGG",
        "5DJokz_NBxm3",
        "SOwK2NyFCGc7",
        "V9te11yFCsHx"
      ],
      "mount_file_id": "1k2RYHOtIpApLte1iPpoOFFmFK5BKD-mZ",
      "authorship_tag": "ABX9TyOd1JwPQl7mAg6qhuL3NOqS",
      "include_colab_link": true
    },
    "kernelspec": {
      "name": "python3",
      "display_name": "Python 3"
    },
    "language_info": {
      "name": "python"
    }
  },
  "cells": [
    {
      "cell_type": "markdown",
      "metadata": {
        "id": "view-in-github",
        "colab_type": "text"
      },
      "source": [
        "<a href=\"https://colab.research.google.com/github/XekoFrontend/google-colab-notebook/blob/main/rclone_gui.ipynb\" target=\"_parent\"><img src=\"https://colab.research.google.com/assets/colab-badge.svg\" alt=\"Open In Colab\"/></a>"
      ]
    },
    {
      "cell_type": "markdown",
      "source": [
        "# 📌 **Install**\n"
      ],
      "metadata": {
        "id": "XpCFwQWZefCH"
      }
    },
    {
      "cell_type": "code",
      "execution_count": null,
      "metadata": {
        "collapsed": true,
        "id": "GlikPwUgTvg1"
      },
      "outputs": [],
      "source": [
        "# Cài đặt rClone\n",
        "!sudo -v ; curl https://rclone.org/install.sh | sudo bash"
      ]
    },
    {
      "cell_type": "code",
      "source": [
        "# Danh sách remotes đang có\n",
        "!rclone listremotes"
      ],
      "metadata": {
        "id": "TVMm_mKlUExj"
      },
      "execution_count": null,
      "outputs": []
    },
    {
      "cell_type": "code",
      "source": [
        "# Khôi phục file config\n",
        "!cp \"/content/drive/MyDrive/Colab Notebooks/rclone.conf\" /root/.config/rclone/rclone.conf"
      ],
      "metadata": {
        "id": "MmyLLIMPT-Ku"
      },
      "execution_count": null,
      "outputs": []
    },
    {
      "cell_type": "markdown",
      "source": [
        "# ⚙️ **Config remotes**"
      ],
      "metadata": {
        "id": "pT6xF6HFUOfd"
      }
    },
    {
      "cell_type": "markdown",
      "source": [
        "Modify remotes"
      ],
      "metadata": {
        "id": "RQaFQBLqqCAB"
      }
    },
    {
      "cell_type": "code",
      "source": [
        "# Tạo mới, chỉnh sửa, xóa hoặc kiểm tra remote.\n",
        "!rclone config"
      ],
      "metadata": {
        "id": "fj1w6avIgRNN",
        "collapsed": true
      },
      "execution_count": null,
      "outputs": []
    },
    {
      "cell_type": "markdown",
      "source": [
        "Backup config"
      ],
      "metadata": {
        "id": "8hPt4gIPp98Y"
      }
    },
    {
      "cell_type": "code",
      "source": [
        "# Backup config\n",
        "!cp /root/.config/rclone/rclone.conf /content/rclone.conf\n",
        "!rclone copy -v \"/content/rclone.conf\" \"/content/drive/MyDrive/Colab Notebooks/backup/rclone-renamed.conf\""
      ],
      "metadata": {
        "id": "mO5IAMs_gkke"
      },
      "execution_count": null,
      "outputs": []
    },
    {
      "cell_type": "markdown",
      "source": [
        "# 🎯 **Các lệnh Copy**"
      ],
      "metadata": {
        "id": "-E3gMs4qiSY0"
      }
    },
    {
      "cell_type": "code",
      "source": [
        "# @title Basic: Copy files between Cloud Remotes\n",
        "\n",
        "source_remote = \"onedrive\" # @param [\"/content/drive/MyDrive/\",\"/content/\",\"googledrive1\",\"onedrive\",\"googledrive2\",\"archive\"]\n",
        "input_folder = \"\" # @param {\"type\":\"string\",\"placeholder\":\"dùng `/` để phân cấp folder hoặc file, để trống là toàn bộ remote\"}\n",
        "# @markdown ###Lưu ý:\n",
        "# @markdown - nếu thêm `/` ở cuối, chỉ copy nội dung bên trong\n",
        "# @markdown - nếu không dùng `/` ở cuối thì copy cả folder\n",
        "# @markdown ---\n",
        "destination_remote = \"archive\" # @param [\"archive\",\"onedrive\",\"googledrive2\",\"googledrive1\",\"/content/drive/MyDrive/\",\"/content/\"]\n",
        "destination_folder = \"\" # @param {\"type\":\"string\",\"placeholder\":\"dùng `/` để phân cấp folder\"}\n",
        "# @markdown ---\n",
        "# @markdown ### Hướng dẫn:\n",
        "# @markdown - Copy bản mới (không dùng được trên archive): `--update`.\n",
        "# @markdown - Bỏ qua các file đã tồn tại (**phù hợp với archive.org**): `--ignore-existing`.\n",
        "# @markdown - Chọn số luồng copy (nếu không dùng thì mặc định là 4)): `--transfers 8`.\n",
        "# @markdown - Dùng cho S3 của Amazon (**1 luồng phù hợp với archive.org**): `--s3-upload-concurrency 1`.\n",
        "\n",
        "option_flag = \"\" # @param {\"type\":\"string\",\"placeholder\":\"thêm `--flag` nếu cần, dùng space phân cách các flag\"}\n",
        "\n",
        "# Kiểm tra và thực thi lệnh copy\n",
        "if source_remote and destination_remote:\n",
        "    # Chạy lệnh rclone với thông báo chi tiết\n",
        "    !rclone copy -v \"{option_flag}\" \"{source_remote}:{input_folder}\" \"{destination_remote}:{destination_folder}\"\n",
        "else:\n",
        "    print(\"Lỗi: Vui lòng nhập cả Source Remote và Destination Remote.\")"
      ],
      "metadata": {
        "id": "4-5lI6wKiZ9a",
        "cellView": "form"
      },
      "execution_count": null,
      "outputs": []
    },
    {
      "cell_type": "markdown",
      "source": [
        "# 👓 **Xem Nội Dung Remote**"
      ],
      "metadata": {
        "id": "1olPxcEBgL07"
      }
    },
    {
      "cell_type": "code",
      "source": [
        "# @markdown ### Hướng dẫn:\n",
        "# @markdown - **List Mode**: Chọn cách hiển thị nội dung:\n",
        "# @markdown   - `ls`: Liệt kê file và kích thước (mặc định).\n",
        "# @markdown   - `lsf`: Chỉ hiển thị tên file/thư mục.\n",
        "# @markdown   - `lsd`: Chỉ hiển thị tên thư mục con.\n",
        "# @markdown   - `size`: Hiển thị tổng kích thước của thư mục.\n",
        "\n",
        "list_remote = \"/content/drive/MyDrive/\" # @param [\"/content/drive/MyDrive/\", \"haocenter\",\"tsd06\",\"xuhao\",\"archive\"]\n",
        "input_folder = \"tinhhe-lontien-thyetmin/\" # @param {\"type\":\"string\"}\n",
        "list_mode = \"lsf\" # @param [\"lsf\",\"lsd\",\"ls\",\"size\"]\n",
        "# @markdown 🔎 Lọc file:\n",
        "file_type = \"mkv\" # @param {\"type\":\"string\"}\n",
        "file_type_sum = \"Default\" # @param [\"Default\", \"Sum\"]\n",
        "\n",
        "# Xử lý file_type_sum thành lệnh phù hợp\n",
        "sum_command = \"\" if file_type_sum == \"Default\" else \" | wc -l\"\n",
        "\n",
        "\n",
        "!rclone {list_mode} \"{list_remote}:{input_folder}\"  | grep \".{file_type}\"  {sum_command}\n",
        "\n",
        "\n",
        "# ======================================\n",
        "# grep \".mp4\": Lọc các dòng có chứa .mp4.\n",
        "# wc -l: Đếm số dòng (tức là số file .mp4)."
      ],
      "metadata": {
        "collapsed": true,
        "id": "INrZSJUyUO2m"
      },
      "execution_count": null,
      "outputs": []
    },
    {
      "cell_type": "markdown",
      "source": [
        "# 🗃️ **.Rar .Zip .7zip**"
      ],
      "metadata": {
        "id": "SZLqroFMLUs1"
      }
    },
    {
      "cell_type": "markdown",
      "source": [
        "## Rar"
      ],
      "metadata": {
        "id": "OgHKr5ZdOw8G"
      }
    },
    {
      "cell_type": "code",
      "source": [
        "# Install unrar\n",
        "!apt-get install unrar"
      ],
      "metadata": {
        "id": "EdDZ6Cd5LS-5"
      },
      "execution_count": null,
      "outputs": []
    },
    {
      "cell_type": "code",
      "source": [
        "# Giải nén với password (ex: DDDTT)\n",
        "!unrar x -pdomdom2010 /content/copy_temp/*.zip /content/copy_temp/extracted/"
      ],
      "metadata": {
        "id": "2ea4ZCxIOqCc"
      },
      "execution_count": null,
      "outputs": []
    },
    {
      "cell_type": "markdown",
      "source": [
        "## Zip"
      ],
      "metadata": {
        "id": "aWCGGHmWOrGG"
      }
    },
    {
      "cell_type": "code",
      "source": [
        "# Install unzip\n",
        "!apt-get install -y unzip"
      ],
      "metadata": {
        "id": "QqVLJrLFOiyg"
      },
      "execution_count": null,
      "outputs": []
    },
    {
      "cell_type": "code",
      "source": [
        "# Giải nén file .zip với password (nếu có)\n",
        "!unzip -P kirakira /content/copy_temp/Ed01.zip -d /content/copy_temp/extracted/"
      ],
      "metadata": {
        "id": "zUjZlcv-QIY6"
      },
      "execution_count": null,
      "outputs": []
    },
    {
      "cell_type": "code",
      "source": [
        "# Dùng vòng lặp `for` Giải nén nhiều file .zip trong thư mục với password (nếu có)\n",
        "import os\n",
        "for zip_file in os.listdir(\"/content/copy_temp/2/\"):\n",
        "    if zip_file.endswith(\".zip\"):\n",
        "        !unzip -P domdom2010 \"/content/copy_temp/2/{zip_file}\" -d /content/copy_temp/2/s2/\n",
        "        print(f\"Đã giải nén {zip_file}\")"
      ],
      "metadata": {
        "id": "kkCfqzXFQRG2"
      },
      "execution_count": null,
      "outputs": []
    },
    {
      "cell_type": "markdown",
      "source": [
        "---\n",
        "### uncheck"
      ],
      "metadata": {
        "id": "gRN3utqAQrb0"
      }
    },
    {
      "cell_type": "markdown",
      "source": [
        "rar"
      ],
      "metadata": {
        "id": "fZa8y6cPRUGs"
      }
    },
    {
      "cell_type": "code",
      "source": [
        "# hình như là nén files, hoặc ghép files. cần thử lại.\n",
        "!cat /content/torrent_download/HI1\\ DDDTT.part*.rar > /content/HI1_DDDTT_full.rar"
      ],
      "metadata": {
        "id": "3-CAUsowQqYL"
      },
      "execution_count": null,
      "outputs": []
    },
    {
      "cell_type": "code",
      "source": [
        "# Split file nén\n",
        "!split -b 10G /content/HI1_DDDTT_full.rar /content/HI1_DDDTT_part_\n",
        "# copy file trùng tên, chhia theo thứ tự.\n",
        "!rclone copy /content/HI1_DDDTT_part_* archive:tinhhe-lontien-thyetmin/1990/ -v"
      ],
      "metadata": {
        "id": "nvKWC3gCQ06K"
      },
      "execution_count": null,
      "outputs": []
    },
    {
      "cell_type": "markdown",
      "source": [
        "7zip\n",
        "* p7zip-full hỗ trợ hầu hết định dạng (.7z, .zip, .rar, .iso, .tar, .gzip, v.v.), nhưng hiệu suất giải nén .rar tốt hơn với unrar."
      ],
      "metadata": {
        "id": "R73k0vO5RSOa"
      }
    },
    {
      "cell_type": "code",
      "source": [
        "!apt-get update\n",
        "!apt-get install -y p7zip-full"
      ],
      "metadata": {
        "id": "kG5_6xXBRV1b"
      },
      "execution_count": null,
      "outputs": []
    },
    {
      "cell_type": "code",
      "source": [
        "!7z x /content/file.7z -o/content/extracted/ -pYOUR_PASSWORD"
      ],
      "metadata": {
        "id": "K7fwezfgTV_u"
      },
      "execution_count": null,
      "outputs": []
    },
    {
      "cell_type": "code",
      "source": [
        "!7z x /content/file.iso -o/content/extracted/"
      ],
      "metadata": {
        "id": "P6XwK6SUTal6"
      },
      "execution_count": null,
      "outputs": []
    },
    {
      "cell_type": "code",
      "source": [
        "import os\n",
        "\n",
        "# Đường dẫn thư mục chứa file nén\n",
        "source_folder = \"/content/copy_temp/2/\"\n",
        "extract_folder = \"/content/copy_temp/2/zip2/\"\n",
        "password = \"domdom2010\"  # Thay bằng password thực tế\n",
        "\n",
        "# Tạo thư mục đích nếu chưa có\n",
        "!mkdir -p {extract_folder}\n",
        "\n",
        "# Lặp qua các file trong thư mục\n",
        "for filename in os.listdir(source_folder):\n",
        "    if filename.endswith(\".zip\"):\n",
        "        file_path = os.path.join(source_folder, filename)\n",
        "        # Sử dụng 7z để giải nén\n",
        "        !7z x \"{file_path}\" -o\"{extract_folder}\" -p{password} -y\n",
        "        if os.path.exists(os.path.join(extract_folder, filename.replace(\".zip\", \"\"))):\n",
        "            print(f\"Đã giải nén {filename} thành công\")\n",
        "        else:\n",
        "            print(f\"Lỗi: Không thể giải nén {filename}. Kiểm tra file hoặc password!\")"
      ],
      "metadata": {
        "id": "0yTQktWCRYHU"
      },
      "execution_count": null,
      "outputs": []
    },
    {
      "cell_type": "markdown",
      "source": [
        "cai đặt cả 3"
      ],
      "metadata": {
        "id": "31GgEVLpTF0Z"
      }
    },
    {
      "cell_type": "code",
      "source": [
        "# Cài đặt các công cụ giải nén\n",
        "!apt-get update\n",
        "!apt-get install -y unrar unzip p7zip-full"
      ],
      "metadata": {
        "id": "z2eZwK8FTJ_3"
      },
      "execution_count": null,
      "outputs": []
    },
    {
      "cell_type": "markdown",
      "source": [
        "# 📺 **yt-dlp**"
      ],
      "metadata": {
        "id": "5DJokz_NBxm3"
      }
    },
    {
      "cell_type": "markdown",
      "source": [
        "## ⚙️ Install yt-dlp & ffmpeg\n",
        "* ⚠️Chú ý dùng ! trước command\n",
        "* Nếu lỗi 403 Forbidden, thêm --geo-bypass"
      ],
      "metadata": {
        "id": "SOwK2NyFCGc7"
      }
    },
    {
      "cell_type": "code",
      "source": [
        "pip install -U yt-dlp"
      ],
      "metadata": {
        "id": "lDiNbMjZB7l4"
      },
      "execution_count": null,
      "outputs": []
    },
    {
      "cell_type": "code",
      "source": [
        "!sudo apt install ffmpeg"
      ],
      "metadata": {
        "id": "Qcwcr6HWCC0S"
      },
      "execution_count": null,
      "outputs": []
    },
    {
      "cell_type": "markdown",
      "source": [
        "## ⏬ Download\n",
        "\n",
        "\n",
        "*   --write-subs --sub-lang en: chỉ tải sub english không tải file.\n",
        "*   --all-subs: tải file và tất cả subtitle.\n",
        "* --skip-download: bỏ qua không tải files\n",
        "* -o: đặt tên file\n",
        "* -P: path lưu\n",
        "* -F: xem tất cả định dạng\n",
        "* -f tải định dạng đã chọn\n",
        "* !yt-dlp: tự chọn định dạng tốt nhất\n",
        "* -v: để xem log\n",
        "* --get-urlurl: tải .m3u8\n",
        "\n"
      ],
      "metadata": {
        "id": "V9te11yFCsHx"
      }
    },
    {
      "cell_type": "code",
      "source": [
        "!yt-dlp --all-subs \"https://wetv.vip/vi/play/87t5rpu3kbh1qm8/\" -o \"Xin_Hay_Yeu_Em_E7\" -P \"Dame na Watashi ni Koishite Kudasai 2016\""
      ],
      "metadata": {
        "id": "1i7aoGSoCvzC"
      },
      "execution_count": null,
      "outputs": []
    }
  ]
}