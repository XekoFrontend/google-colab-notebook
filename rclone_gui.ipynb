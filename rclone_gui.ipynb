{
  "cells": [
    {
      "cell_type": "markdown",
      "metadata": {
        "id": "view-in-github",
        "colab_type": "text"
      },
      "source": [
        "<a href=\"https://colab.research.google.com/github/XekoFrontend/google-colab-notebook/blob/main/rclone_gui.ipynb\" target=\"_parent\"><img src=\"https://colab.research.google.com/assets/colab-badge.svg\" alt=\"Open In Colab\"/></a>"
      ]
    },
    {
      "cell_type": "markdown",
      "metadata": {
        "id": "XpCFwQWZefCH"
      },
      "source": [
        "# 📌 **Install**\n"
      ]
    },
    {
      "cell_type": "code",
      "execution_count": null,
      "metadata": {
        "collapsed": true,
        "id": "GlikPwUgTvg1",
        "colab": {
          "base_uri": "https://localhost:8080/"
        },
        "outputId": "3721056a-f8df-4322-c5f2-08638d3dd1a2"
      },
      "outputs": [
        {
          "output_type": "stream",
          "name": "stdout",
          "text": [
            "  % Total    % Received % Xferd  Average Speed   Time    Time     Time  Current\n",
            "                                 Dload  Upload   Total   Spent    Left  Speed\n",
            "100  4734  100  4734    0     0   9296      0 --:--:-- --:--:-- --:--:--  9282\n",
            "Archive:  rclone-current-linux-amd64.zip\n",
            "   creating: tmp_unzip_dir_for_rclone/rclone-v1.71.1-linux-amd64/\n",
            "  inflating: tmp_unzip_dir_for_rclone/rclone-v1.71.1-linux-amd64/rclone.1  [text]  \n",
            "  inflating: tmp_unzip_dir_for_rclone/rclone-v1.71.1-linux-amd64/README.txt  [text]  \n",
            "  inflating: tmp_unzip_dir_for_rclone/rclone-v1.71.1-linux-amd64/git-log.txt  [text]  \n",
            "  inflating: tmp_unzip_dir_for_rclone/rclone-v1.71.1-linux-amd64/README.html  [text]  \n",
            "  inflating: tmp_unzip_dir_for_rclone/rclone-v1.71.1-linux-amd64/rclone  [binary]\n",
            "Purging old database entries in /usr/share/man...\n",
            "Processing manual pages under /usr/share/man...\n",
            "Purging old database entries in /usr/share/man/sl...\n",
            "Processing manual pages under /usr/share/man/sl...\n",
            "Purging old database entries in /usr/share/man/it...\n",
            "Processing manual pages under /usr/share/man/it...\n",
            "Purging old database entries in /usr/share/man/tr...\n",
            "Processing manual pages under /usr/share/man/tr...\n",
            "Purging old database entries in /usr/share/man/sv...\n",
            "Processing manual pages under /usr/share/man/sv...\n",
            "Purging old database entries in /usr/share/man/id...\n",
            "Processing manual pages under /usr/share/man/id...\n",
            "Purging old database entries in /usr/share/man/zh_CN...\n",
            "Processing manual pages under /usr/share/man/zh_CN...\n",
            "Purging old database entries in /usr/share/man/pt...\n",
            "Processing manual pages under /usr/share/man/pt...\n",
            "Purging old database entries in /usr/share/man/ko...\n",
            "Processing manual pages under /usr/share/man/ko...\n",
            "Purging old database entries in /usr/share/man/pl...\n",
            "Processing manual pages under /usr/share/man/pl...\n",
            "Purging old database entries in /usr/share/man/hu...\n",
            "Processing manual pages under /usr/share/man/hu...\n",
            "Purging old database entries in /usr/share/man/es...\n",
            "Processing manual pages under /usr/share/man/es...\n",
            "Purging old database entries in /usr/share/man/zh_TW...\n",
            "Processing manual pages under /usr/share/man/zh_TW...\n",
            "Purging old database entries in /usr/share/man/fr...\n",
            "Processing manual pages under /usr/share/man/fr...\n",
            "Purging old database entries in /usr/share/man/da...\n",
            "Processing manual pages under /usr/share/man/da...\n",
            "Purging old database entries in /usr/share/man/ja...\n",
            "Processing manual pages under /usr/share/man/ja...\n",
            "Purging old database entries in /usr/share/man/cs...\n",
            "Processing manual pages under /usr/share/man/cs...\n",
            "Purging old database entries in /usr/share/man/pt_BR...\n",
            "Processing manual pages under /usr/share/man/pt_BR...\n",
            "Purging old database entries in /usr/share/man/de...\n",
            "Processing manual pages under /usr/share/man/de...\n",
            "Purging old database entries in /usr/share/man/ru...\n",
            "Processing manual pages under /usr/share/man/ru...\n",
            "Purging old database entries in /usr/share/man/nl...\n",
            "Processing manual pages under /usr/share/man/nl...\n",
            "Purging old database entries in /usr/share/man/uk...\n",
            "Processing manual pages under /usr/share/man/uk...\n",
            "Purging old database entries in /usr/share/man/ro...\n",
            "Processing manual pages under /usr/share/man/ro...\n",
            "Purging old database entries in /usr/share/man/sr...\n",
            "Processing manual pages under /usr/share/man/sr...\n",
            "Processing manual pages under /usr/local/man...\n",
            "mandb: can't update index cache /var/cache/man/oldlocal/1073: No such file or directory\n",
            "Updating index cache for path `/usr/local/man/man1'. Wait...done.\n",
            "Checking for stray cats under /usr/local/man...\n",
            "Checking for stray cats under /var/cache/man/oldlocal...\n",
            "1 man subdirectory contained newer manual pages.\n",
            "5 manual pages were added.\n",
            "0 stray cats were added.\n",
            "17 old database entries were purged.\n",
            "\n",
            "rclone v1.71.1 has successfully installed.\n",
            "Now run \"rclone config\" for setup. Check https://rclone.org/docs/ for more details.\n",
            "\n"
          ]
        }
      ],
      "source": [
        "# Cài đặt rClone\n",
        "!sudo -v ; curl https://rclone.org/install.sh | sudo bash"
      ]
    },
    {
      "cell_type": "code",
      "execution_count": null,
      "metadata": {
        "id": "TVMm_mKlUExj",
        "colab": {
          "base_uri": "https://localhost:8080/"
        },
        "outputId": "778d3777-1bdc-48d9-9f9d-e3abf6a3ff9a"
      },
      "outputs": [
        {
          "output_type": "stream",
          "name": "stdout",
          "text": [
            "archive:\n",
            "onedrive:\n",
            "googledrive1:\n",
            "googledrive2:\n",
            "box:\n",
            "e5renew:\n"
          ]
        }
      ],
      "source": [
        "# Danh sách remotes đang có\n",
        "!rclone listremotes"
      ]
    },
    {
      "cell_type": "code",
      "execution_count": null,
      "metadata": {
        "id": "MmyLLIMPT-Ku"
      },
      "outputs": [],
      "source": [
        "# Khôi phục file config\n",
        "!cp \"/content/drive/MyDrive/Colab Notebooks/rclone.conf\" /root/.config/rclone/rclone.conf"
      ]
    },
    {
      "cell_type": "markdown",
      "metadata": {
        "id": "pT6xF6HFUOfd"
      },
      "source": [
        "# ⚙️ **Config remotes**"
      ]
    },
    {
      "cell_type": "markdown",
      "metadata": {
        "id": "RQaFQBLqqCAB"
      },
      "source": [
        "Modify remotes"
      ]
    },
    {
      "cell_type": "code",
      "execution_count": null,
      "metadata": {
        "collapsed": true,
        "id": "7xUNqlKrAHaf"
      },
      "outputs": [],
      "source": [
        "!rclone --version"
      ]
    },
    {
      "cell_type": "code",
      "execution_count": null,
      "metadata": {
        "collapsed": true,
        "id": "fj1w6avIgRNN"
      },
      "outputs": [],
      "source": [
        "# Tạo mới, chỉnh sửa, xóa hoặc kiểm tra remote.\n",
        "!rclone config"
      ]
    },
    {
      "cell_type": "markdown",
      "metadata": {
        "id": "8hPt4gIPp98Y"
      },
      "source": [
        "Backup config"
      ]
    },
    {
      "cell_type": "code",
      "execution_count": null,
      "metadata": {
        "id": "mO5IAMs_gkke"
      },
      "outputs": [],
      "source": [
        "# Backup config\n",
        "!cp /root/.config/rclone/rclone.conf /content/rclone.conf\n",
        "!rclone copy -v \"/content/rclone.conf\" \"/content/drive/MyDrive/Colab Notebooks/backup/rclone-renamed.conf\""
      ]
    },
    {
      "cell_type": "markdown",
      "metadata": {
        "id": "-E3gMs4qiSY0"
      },
      "source": [
        "# 🎯 **Các lệnh Copy**"
      ]
    },
    {
      "cell_type": "code",
      "source": [
        "# @title Tạo tên bucket (S3/GCS-safe)\n",
        "import re\n",
        "import secrets\n",
        "import unicodedata\n",
        "from datetime import datetime\n",
        "\n",
        "# ---------- Core helpers ----------\n",
        "def _to_ascii_slug(s: str) -> str:\n",
        "    s = (s or \"\").replace(\"Đ\", \"D\").replace(\"đ\", \"d\")\n",
        "    s = unicodedata.normalize(\"NFKD\", s)\n",
        "    s = \"\".join(ch for ch in s if not unicodedata.combining(ch))\n",
        "    s = s.encode(\"ascii\", \"ignore\").decode(\"ascii\").lower()\n",
        "    s = re.sub(r\"[^a-z0-9]+\", \"-\", s)\n",
        "    s = re.sub(r\"-{2,}\", \"-\", s).strip(\"-\")\n",
        "    return s or \"bucket\"\n",
        "\n",
        "def _now_in_tz(tz: str):\n",
        "    try:\n",
        "        from zoneinfo import ZoneInfo\n",
        "        return datetime.now(ZoneInfo(tz))\n",
        "    except Exception:\n",
        "        return datetime.utcnow()\n",
        "\n",
        "_S3_BAD_PREFIXES = (\"xn--\", \"sthree-\", \"amzn-s3-demo-\")\n",
        "_S3_BAD_SUFFIXES = (\"-s3alias\", \"--ol-s3\", \".mrap\", \"--x-s3\", \"--table-s3\")\n",
        "\n",
        "def _guard_s3(name: str) -> str:\n",
        "    n = name\n",
        "    if n.startswith(_S3_BAD_PREFIXES):\n",
        "        n = \"a-\" + n\n",
        "    if n.endswith(_S3_BAD_SUFFIXES):\n",
        "        n = n + \"-a\"\n",
        "    return n\n",
        "\n",
        "def _guard_gcs(name: str):\n",
        "    warns = []\n",
        "    n = name\n",
        "    if n.startswith(\"goog\"):\n",
        "        n = \"a-\" + n\n",
        "        warns.append(\"Đã sửa để không bắt đầu bằng 'goog' (GCS cấm).\")\n",
        "    patterns = [r\"google\", r\"g00gle\"]\n",
        "    for pat in patterns:\n",
        "        if re.search(pat, n):\n",
        "            n = re.sub(pat, \"gcloud\", n)\n",
        "            warns.append(\"Đã thay 'google/g00gle' -> 'gcloud' (GCS cấm).\")\n",
        "    return n, warns\n",
        "\n",
        "def _ensure_edges_and_length(name: str, min_len=3, max_len=63) -> str:\n",
        "    n = name.strip(\"-\")\n",
        "    if not n or not n[0].isalnum():\n",
        "        n = \"a\" + n\n",
        "    if not n[-1].isalnum():\n",
        "        n = n + \"a\"\n",
        "    if len(n) < min_len:\n",
        "        n = (n + \"a\" * (min_len - len(n)))[:min_len]\n",
        "    if len(n) > max_len:\n",
        "        n = n[:max_len].rstrip(\"-\")\n",
        "        if len(n) < min_len:\n",
        "            n = (n + \"a\" * (min_len - len(n)))[:min_len]\n",
        "    return n\n",
        "\n",
        "# ---------- Public API ----------\n",
        "def make_bucket_name(\n",
        "    raw_input: str,\n",
        "    tz: str = \"Asia/Ho_Chi_Minh\",\n",
        "    max_len: int = 63,\n",
        "    add_unique: bool = True,\n",
        "    unique_len: int = 4,\n",
        "    date_format: str = \"%Y%m%d\",\n",
        "    provider: str = \"s3\",\n",
        "):\n",
        "    base = _to_ascii_slug(str(raw_input))\n",
        "    uniq = \"\".join(secrets.choice(\"abcdefghijklmnopqrstuvwxyz0123456789\")\n",
        "                   for _ in range(unique_len)) if add_unique and unique_len > 0 else \"\"\n",
        "    stamp = _now_in_tz(tz).strftime(date_format)\n",
        "    suffix = f\"{uniq}-{stamp}\" if uniq else stamp\n",
        "\n",
        "    reserved = len(suffix) + 1\n",
        "    if max_len <= reserved:\n",
        "        base = \"a\"\n",
        "    else:\n",
        "        base = (base[: (max_len - reserved)]).strip(\"-\") or \"a\"\n",
        "\n",
        "    name = f\"{base}-{suffix}\"\n",
        "    if provider in (\"s3\", \"both\"):\n",
        "        name = _guard_s3(name)\n",
        "    warnings = []\n",
        "    if provider in (\"gcs\", \"both\"):\n",
        "        name, w = _guard_gcs(name)\n",
        "        warnings.extend(w)\n",
        "    name = _ensure_edges_and_length(name, 3, max_len)\n",
        "    return name, warnings\n",
        "\n",
        "# ---------- Chạy trực tiếp ----------\n",
        "raw_input = input(\"Nhập tên gốc: \")\n",
        "bucket, warns = make_bucket_name(raw_input)\n",
        "print(\"✅ Tên bucket:\", bucket)\n",
        "if warns:\n",
        "    print(\"⚠️ Cảnh báo:\", *warns, sep=\"\\n - \")\n"
      ],
      "metadata": {
        "cellView": "form",
        "id": "ZbMC7dj-Iw33"
      },
      "execution_count": null,
      "outputs": []
    },
    {
      "cell_type": "code",
      "execution_count": null,
      "metadata": {
        "collapsed": true,
        "id": "4-5lI6wKiZ9a",
        "cellView": "form",
        "colab": {
          "base_uri": "https://localhost:8080/"
        },
        "outputId": "8105c161-0fae-4d29-b5a7-97e57b174647"
      },
      "outputs": [
        {
          "output_type": "stream",
          "name": "stdout",
          "text": [
            "🚀 Command: rclone copy -v --s3-upload-concurrency 1 \"e5renew:Temps/[Weekly Playboy] 2021 No.50/mariya nishiuchi/up/tsubaki-sannomiya304\" \"archive:WeeklyPlayboy2021No.50/tsubaki-sannomiya304\"\n",
            "2025/10/04 11:23:07 INFO  : gra_tsubaki-sa3_062.jpg: Copied (new)\n",
            "2025/10/04 11:23:07 INFO  : gra_tsubaki-sa3_064.jpg: Copied (new)\n",
            "2025/10/04 11:23:10 INFO  : gra_tsubaki-sa3_066.jpg: Copied (new)\n",
            "2025/10/04 11:23:10 INFO  : gra_tsubaki-sa3_065.jpg: Copied (new)\n",
            "2025/10/04 11:23:11 INFO  : gra_tsubaki-sa3_063.jpg: Copied (new)\n",
            "2025/10/04 11:23:11 INFO  : gra_tsubaki-sa3_061.jpg: Copied (new)\n",
            "2025/10/04 11:23:12 INFO  : gra_tsubaki-sa3_067.jpg: Copied (new)\n",
            "2025/10/04 11:23:13 INFO  : gra_tsubaki-sa3_069.jpg: Copied (new)\n",
            "2025/10/04 11:23:13 INFO  : gra_tsubaki-sa3_068.jpg: Copied (new)\n",
            "2025/10/04 11:23:13 INFO  : gra_tsubaki-sa3_070.jpg: Copied (new)\n",
            "2025/10/04 11:23:15 INFO  : gra_tsubaki-sa3_071.jpg: Copied (new)\n",
            "2025/10/04 11:23:16 INFO  : gra_tsubaki-sa3_073.jpg: Copied (new)\n",
            "2025/10/04 11:23:16 INFO  : gra_tsubaki-sa3_072.jpg: Copied (new)\n",
            "2025/10/04 11:23:16 INFO  : gra_tsubaki-sa3_074.jpg: Copied (new)\n",
            "2025/10/04 11:23:18 INFO  : gra_tsubaki-sa3_075.jpg: Copied (new)\n",
            "2025/10/04 11:23:18 INFO  : gra_tsubaki-sa3_076.jpg: Copied (new)\n",
            "2025/10/04 11:23:18 INFO  : gra_tsubaki-sa3_078.jpg: Copied (new)\n",
            "2025/10/04 11:23:21 INFO  : gra_tsubaki-sa3_080.jpg: Copied (new)\n",
            "2025/10/04 11:23:21 INFO  : gra_tsubaki-sa3_079.jpg: Copied (new)\n",
            "2025/10/04 11:23:21 INFO  : gra_tsubaki-sa3_077.jpg: Copied (new)\n",
            "2025/10/04 11:23:21 INFO  : \n",
            "Transferred:   \t   23.526 MiB / 23.526 MiB, 100%, 1.470 MiB/s, ETA 0s\n",
            "Checks:                 0 / 0, -, Listed 20\n",
            "Transferred:           20 / 20, 100%\n",
            "Elapsed time:        16.6s\n",
            "\n"
          ]
        }
      ],
      "source": [
        "# @title Basic: Copy files between Cloud\n",
        "# @markdown **Lưu ý**:\n",
        "# @markdown - nếu thêm `/` ở cuối, chỉ copy nội dung bên trong\n",
        "# @markdown - không dùng `/` ở cuối thì copy cả folder\n",
        "\n",
        "source_remote = \"e5renew\" # @param [\"/content/\",\"googledrive1\",\"e5renew\",\"googledrive2\",\"archive\", \"box\"]\n",
        "source_folder = \"Temps\\\\[Weekly Playboy] 2021 No.50\\\\mariya nishiuchi\\\\up\\\\tsubaki-sannomiya304\" # @param {\"type\":\"string\",\"placeholder\":\"dùng `/` để phân cấp folder hoặc file, để trống là toàn bộ remote\"}\n",
        "# @markdown ---\n",
        "\n",
        "destination_remote = \"archive\" # @param [\"archive\",\"e5renew\",\"googledrive2\",\"googledrive1\", \"box\",\"/content/\"]\n",
        "destination_folder = \"WeeklyPlayboy2021No.50/tsubaki-sannomiya304\" # @param {\"type\":\"string\",\"placeholder\":\"dùng `/` để phân cấp folder hoặc tạo thư mục trong archive.\"}\n",
        "# @markdown ---\n",
        "\n",
        "option_flag = \"\" # @param {\"type\":\"string\",\"placeholder\":\"thêm `--flag` nếu cần, dùng space phân cách các flag. Để trống để auto-detect\"}\n",
        "\n",
        "# Kiểm tra và thực thi lệnh copy\n",
        "if source_remote and destination_remote:\n",
        "    # FIX: Chuyển tất cả backslash thành forward slash\n",
        "    source_folder = source_folder.replace('\\\\', '/') if source_folder else \"\"\n",
        "    destination_folder = destination_folder.replace('\\\\', '/') if destination_folder else \"\"\n",
        "\n",
        "    # Xử lý đường dẫn SOURCE\n",
        "    if source_remote.startswith(\"/\"):\n",
        "        source_path = f\"{source_remote}{source_folder}\" if source_folder else source_remote\n",
        "    else:\n",
        "        source_path = f\"{source_remote}:{source_folder}\" if source_folder else f\"{source_remote}:\"\n",
        "\n",
        "    # Xử lý đường dẫn DESTINATION\n",
        "    if destination_remote.startswith(\"/\"):\n",
        "        destination_path = f\"{destination_remote}{destination_folder}\" if destination_folder else destination_remote\n",
        "    else:\n",
        "        destination_path = f\"{destination_remote}:{destination_folder}\" if destination_folder else f\"{destination_remote}:\"\n",
        "\n",
        "    # AUTO-DETECT FLAGS hoặc dùng manual\n",
        "    if option_flag.strip():\n",
        "        extra_flags = option_flag.strip()\n",
        "    else:\n",
        "        if destination_remote == \"archive\":\n",
        "            extra_flags = \"--s3-upload-concurrency 1\"\n",
        "        else:\n",
        "            extra_flags = \"--transfers 10\"\n",
        "\n",
        "    print(f\"🚀 Command: rclone copy -v {extra_flags} \\\"{source_path}\\\" \\\"{destination_path}\\\"\")\n",
        "\n",
        "    # Chạy lệnh rclone\n",
        "    !rclone copy -v {extra_flags} \"{source_path}\" \"{destination_path}\"\n",
        "else:\n",
        "    print(\"Lỗi: Vui lòng nhập cả Source Remote và Destination Remote.\")"
      ]
    },
    {
      "cell_type": "markdown",
      "metadata": {
        "id": "Rou0Pj6C2kWR"
      },
      "source": [
        "\n",
        "\n",
        "---\n",
        "\n"
      ]
    },
    {
      "cell_type": "code",
      "execution_count": null,
      "metadata": {
        "collapsed": true,
        "id": "2CbpR4GxZzON"
      },
      "outputs": [],
      "source": [
        "!rclone lsf \"archive:1okrock-liveshow\""
      ]
    },
    {
      "cell_type": "code",
      "source": [
        "!rclone copyurl -v \"https://c1.cdnjav.com/content-01/contents/3-lafbd-026-ruka-kanae-laforet-girl-26/videos/3-lafbd-026-ruka-kanae-laforet-girl-26_sh.mp4\" \"archive:thePaintedBird2019\" --s3-upload-concurrency 1"
      ],
      "metadata": {
        "id": "2PZULWW69vKi",
        "collapsed": true
      },
      "execution_count": null,
      "outputs": []
    },
    {
      "cell_type": "code",
      "source": [
        "!wget -P /content/temp/ \"https://c1.cdnjav.com/content-01/contents/3-lafbd-026-ruka-kanae-laforet-girl-26/videos/3-lafbd-026-ruka-kanae-laforet-girl-26_sh.mp4\""
      ],
      "metadata": {
        "id": "frYcGr7kGiyC",
        "collapsed": true
      },
      "execution_count": null,
      "outputs": []
    },
    {
      "cell_type": "markdown",
      "metadata": {
        "id": "8aiNa5o_1gbD"
      },
      "source": [
        "### 🍷 **Ghi chú**\n",
        "\n",
        "**Command**\n",
        "* `copy` : Copy file/thư mục từ nguồn tới đích, bỏ qua file giống nhau\n",
        "* `copyurl` : Copy direct link\n",
        "* `check` : So sánh nội dung giữa nguồn và đích\n",
        "* `sync` : đồng bộ (dùng --dry-run kiểm tra trước khi chạy thật).\n",
        "* `ls`: Liệt kê file và kích thước (mặc định).\n",
        "* `lsf`: Chỉ hiển thị tên file/thư mục.\n",
        "* `lsd`: Chỉ hiển thị tên thư mục con.\n",
        "* `size`: Hiển thị tổng kích thước của thư mục.\n",
        "\n",
        "---\n",
        "**Flag**\n",
        "\n",
        "* Ghi đè nếu nguồn mới hơn: `--update`. (không dùng được trên archive)\n",
        "* Bỏ qua các file đã tồn tại: `--ignore-existing`. (phù hợp với *archive.org* để tránh gây lỗi, còn lại thì dùng mặc định `copy` là đủ).\n",
        "*\n",
        " * Chọn số luồng copy (nếu không dùng thì mặc định là 4)): `--transfers 8`.\n",
        " * Dùng cho S3 của Amazon: `--s3-upload-concurrency 1`. (archive.org file lớn ưu tiên dùng ✅ 1 luồng, tối đa dùng được 2 luồng).\n",
        "\n",
        "* `--dry-run` : Chạy thử, kiểm tra trước.\n",
        "\n",
        "* `--include \"*.mp4\"` để chỉ copy file .mp4.\n",
        "* `--exclude \"*.tmp`\" để bỏ qua file tạm.\n",
        " * Ex lọc files: `!rclone ls \"archive:cd-luong-bich-huu\" --include \"*.flac\"`\n",
        " * Ex 2: `rclone copy source dest --include \"*.jpg\" --exclude \"*.gif\"`\n",
        "\n",
        "* `--error string` : Báo cáo files lỗi"
      ]
    },
    {
      "cell_type": "markdown",
      "metadata": {
        "id": "1olPxcEBgL07"
      },
      "source": [
        "# 👓 **Xem Nội Dung Remote**"
      ]
    },
    {
      "cell_type": "code",
      "execution_count": null,
      "metadata": {
        "collapsed": true,
        "id": "INrZSJUyUO2m"
      },
      "outputs": [],
      "source": [
        "# @markdown ### Hướng dẫn:\n",
        "# @markdown - **List Mode**: Chọn cách hiển thị nội dung:\n",
        "# @markdown   - `ls`: Liệt kê file và kích thước (mặc định).\n",
        "# @markdown   - `lsf`: Chỉ hiển thị tên file/thư mục.\n",
        "# @markdown   - `lsd`: Chỉ hiển thị tên thư mục con.\n",
        "# @markdown   - `size`: Hiển thị tổng kích thước của thư mục.\n",
        "\n",
        "list_remote = \"box\" # @param [\"/content/drive/MyDrive/\",\"/content/\",\"googledrive1\",\"onedrive\",\"googledrive2\",\"archive\",\"box\"]\n",
        "input_folder = \"\" # @param {\"type\":\"string\"}\n",
        "list_mode = \"lsf\" # @param [\"lsf\",\"lsd\",\"ls\",\"size\"]\n",
        "# @markdown 🔎 Lọc file:\n",
        "file_type = \"\" # @param {\"type\":\"string\"}\n",
        "file_type_sum = \"Default\" # @param [\"Default\", \"Sum\"]\n",
        "\n",
        "# Xử lý file_type_sum thành lệnh phù hợp\n",
        "sum_command = \"\" if file_type_sum == \"Default\" else \" | wc -l\"\n",
        "\n",
        "\n",
        "!rclone {list_mode} \"{list_remote}:{input_folder}\"  | grep \".{file_type}\"  {sum_command}\n",
        "\n",
        "\n",
        "# ======================================\n",
        "# grep \".mp4\": Lọc các dòng có chứa .mp4.\n",
        "# wc -l: Đếm số dòng (tức là số file .mp4)."
      ]
    },
    {
      "cell_type": "markdown",
      "metadata": {
        "id": "SZLqroFMLUs1"
      },
      "source": [
        "# 🗃️ **.Rar .Zip .7zip**"
      ]
    },
    {
      "cell_type": "markdown",
      "metadata": {
        "id": "OgHKr5ZdOw8G"
      },
      "source": [
        "## Rar"
      ]
    },
    {
      "cell_type": "code",
      "execution_count": null,
      "metadata": {
        "id": "EdDZ6Cd5LS-5"
      },
      "outputs": [],
      "source": [
        "# Install unrar\n",
        "!apt-get install unrar"
      ]
    },
    {
      "cell_type": "code",
      "execution_count": null,
      "metadata": {
        "id": "2ea4ZCxIOqCc"
      },
      "outputs": [],
      "source": [
        "# Giải nén với password (ex: DDDTT)\n",
        "!unrar x -pdomdom2010 /content/copy_temp/*.zip /content/copy_temp/extracted/"
      ]
    },
    {
      "cell_type": "markdown",
      "metadata": {
        "id": "aWCGGHmWOrGG"
      },
      "source": [
        "## Zip"
      ]
    },
    {
      "cell_type": "code",
      "execution_count": null,
      "metadata": {
        "id": "QqVLJrLFOiyg"
      },
      "outputs": [],
      "source": [
        "# Install unzip\n",
        "!apt-get install -y unzip"
      ]
    },
    {
      "cell_type": "code",
      "execution_count": null,
      "metadata": {
        "id": "zUjZlcv-QIY6"
      },
      "outputs": [],
      "source": [
        "# Giải nén file .zip với password (nếu có)\n",
        "!unzip -P kirakira /content/copy_temp/Ed01.zip -d /content/copy_temp/extracted/"
      ]
    },
    {
      "cell_type": "code",
      "execution_count": null,
      "metadata": {
        "id": "kkCfqzXFQRG2"
      },
      "outputs": [],
      "source": [
        "# Dùng vòng lặp `for` Giải nén nhiều file .zip trong thư mục với password (nếu có)\n",
        "import os\n",
        "for zip_file in os.listdir(\"/content/copy_temp/2/\"):\n",
        "    if zip_file.endswith(\".zip\"):\n",
        "        !unzip -P domdom2010 \"/content/copy_temp/2/{zip_file}\" -d /content/copy_temp/2/s2/\n",
        "        print(f\"Đã giải nén {zip_file}\")"
      ]
    },
    {
      "cell_type": "markdown",
      "source": [
        "## 7-zip"
      ],
      "metadata": {
        "id": "t6bACwcTTbXC"
      }
    },
    {
      "cell_type": "code",
      "source": [
        "# Cài đặt p7zip\n",
        "!apt-get update\n",
        "!apt-get install -y p7zip-full"
      ],
      "metadata": {
        "collapsed": true,
        "id": "tamJVmaJTgKL"
      },
      "execution_count": null,
      "outputs": []
    },
    {
      "cell_type": "code",
      "source": [
        "# Giải nén file multi-part 7z\n",
        "!7z x \"/content/video/【第九期】tenten人体结构&光影基础课.7z.001\""
      ],
      "metadata": {
        "id": "OJ9CMNeCTiGy"
      },
      "execution_count": null,
      "outputs": []
    },
    {
      "cell_type": "markdown",
      "metadata": {
        "id": "gRN3utqAQrb0"
      },
      "source": [
        "---\n",
        "## uncheck"
      ]
    },
    {
      "cell_type": "markdown",
      "metadata": {
        "id": "fZa8y6cPRUGs"
      },
      "source": [
        "rar"
      ]
    },
    {
      "cell_type": "code",
      "execution_count": null,
      "metadata": {
        "id": "3-CAUsowQqYL"
      },
      "outputs": [],
      "source": [
        "# hình như là nén files, hoặc ghép files. cần thử lại.\n",
        "!cat /content/torrent_download/HI1\\ DDDTT.part*.rar > /content/HI1_DDDTT_full.rar"
      ]
    },
    {
      "cell_type": "code",
      "execution_count": null,
      "metadata": {
        "id": "nvKWC3gCQ06K"
      },
      "outputs": [],
      "source": [
        "# Split file nén\n",
        "!split -b 10G /content/HI1_DDDTT_full.rar /content/HI1_DDDTT_part_\n",
        "# copy file trùng tên, chhia theo thứ tự.\n",
        "!rclone copy /content/HI1_DDDTT_part_* archive:tinhhe-lontien-thyetmin/1990/ -v"
      ]
    },
    {
      "cell_type": "markdown",
      "metadata": {
        "id": "R73k0vO5RSOa"
      },
      "source": [
        "7zip\n",
        "* p7zip-full hỗ trợ hầu hết định dạng (.7z, .zip, .rar, .iso, .tar, .gzip, v.v.), nhưng hiệu suất giải nén .rar tốt hơn với unrar."
      ]
    },
    {
      "cell_type": "code",
      "execution_count": null,
      "metadata": {
        "id": "kG5_6xXBRV1b"
      },
      "outputs": [],
      "source": [
        "!apt-get update\n",
        "!apt-get install -y p7zip-full"
      ]
    },
    {
      "cell_type": "code",
      "execution_count": null,
      "metadata": {
        "id": "K7fwezfgTV_u"
      },
      "outputs": [],
      "source": [
        "!7z x /content/file.7z -o/content/extracted/ -pYOUR_PASSWORD"
      ]
    },
    {
      "cell_type": "code",
      "execution_count": null,
      "metadata": {
        "id": "P6XwK6SUTal6"
      },
      "outputs": [],
      "source": [
        "!7z x /content/file.iso -o/content/extracted/"
      ]
    },
    {
      "cell_type": "code",
      "execution_count": null,
      "metadata": {
        "id": "0yTQktWCRYHU"
      },
      "outputs": [],
      "source": [
        "import os\n",
        "\n",
        "# Đường dẫn thư mục chứa file nén\n",
        "source_folder = \"/content/copy_temp/2/\"\n",
        "extract_folder = \"/content/copy_temp/2/zip2/\"\n",
        "password = \"domdom2010\"  # Thay bằng password thực tế\n",
        "\n",
        "# Tạo thư mục đích nếu chưa có\n",
        "!mkdir -p {extract_folder}\n",
        "\n",
        "# Lặp qua các file trong thư mục\n",
        "for filename in os.listdir(source_folder):\n",
        "    if filename.endswith(\".zip\"):\n",
        "        file_path = os.path.join(source_folder, filename)\n",
        "        # Sử dụng 7z để giải nén\n",
        "        !7z x \"{file_path}\" -o\"{extract_folder}\" -p{password} -y\n",
        "        if os.path.exists(os.path.join(extract_folder, filename.replace(\".zip\", \"\"))):\n",
        "            print(f\"Đã giải nén {filename} thành công\")\n",
        "        else:\n",
        "            print(f\"Lỗi: Không thể giải nén {filename}. Kiểm tra file hoặc password!\")"
      ]
    },
    {
      "cell_type": "markdown",
      "metadata": {
        "id": "31GgEVLpTF0Z"
      },
      "source": [
        "cai đặt cả 3"
      ]
    },
    {
      "cell_type": "code",
      "execution_count": null,
      "metadata": {
        "id": "z2eZwK8FTJ_3"
      },
      "outputs": [],
      "source": [
        "# Cài đặt các công cụ giải nén\n",
        "!apt-get update\n",
        "!apt-get install -y unrar unzip p7zip-full"
      ]
    },
    {
      "cell_type": "markdown",
      "metadata": {
        "id": "5DJokz_NBxm3"
      },
      "source": [
        "# 📺 **yt-dlp**"
      ]
    },
    {
      "cell_type": "markdown",
      "metadata": {
        "id": "SOwK2NyFCGc7"
      },
      "source": [
        "## ⚙️ Install yt-dlp & ffmpeg\n",
        "* ⚠️Chú ý dùng ! trước command\n",
        "* Nếu lỗi 403 Forbidden, thêm --geo-bypass"
      ]
    },
    {
      "cell_type": "code",
      "execution_count": null,
      "metadata": {
        "id": "lDiNbMjZB7l4"
      },
      "outputs": [],
      "source": [
        "pip install -U yt-dlp"
      ]
    },
    {
      "cell_type": "code",
      "execution_count": null,
      "metadata": {
        "id": "Qcwcr6HWCC0S"
      },
      "outputs": [],
      "source": [
        "!sudo apt install ffmpeg"
      ]
    },
    {
      "cell_type": "markdown",
      "metadata": {
        "id": "V9te11yFCsHx"
      },
      "source": [
        "## ⏬ Hướng dẫn\n",
        "\n",
        "\n",
        "*   `!yt-dlp`: không dùng flag thì tự chọn định dạng tốt nhất\n",
        "*   `-v`: để xem log\n",
        "*   Subtitle:\n",
        " *   `--write-subs --sub-lang en`: tải 1 hoặc nhiều subtitles `en,vi,kr`. (ex: *en = english*)\n",
        " *   `--all-subs`: tải file và tất cả subtitles.\n",
        " *   `--list-subs`: danh sách các subtitles.\n",
        " *   `--skip-download`: bỏ qua không tải files, nếu chỉ tải subtitle.\n",
        "\n",
        "*   `-F`: xem tất cả định dạng\n",
        "*   `-f`: chọn tải định dạng (ex: `-f 251`)\n",
        "\n",
        "*   `--get-urlurl`: tải .m3u8\n",
        "\n",
        "*   `-o`: đặt tên file.\n",
        "*   `-P`: path đường dẫn để lưu file.\n",
        "\n",
        "---\n",
        "`--postprocessor-args \"-ss 00:00 -to 00:55\"`: cắt âm thanh <~ chua test\n"
      ]
    },
    {
      "cell_type": "markdown",
      "metadata": {
        "id": "VUDIzaPeIOeG"
      },
      "source": [
        "## command"
      ]
    },
    {
      "cell_type": "code",
      "execution_count": null,
      "metadata": {
        "id": "1i7aoGSoCvzC"
      },
      "outputs": [],
      "source": [
        "# Tải phim Đường triêu quỷ sự lục 2\n",
        "!yt-dlp --write-sub --sub-lang vi \"https://youtu.be/Acmx5EP17wA\" -P \"phim\""
      ]
    },
    {
      "cell_type": "code",
      "execution_count": null,
      "metadata": {
        "colab": {
          "background_save": true
        },
        "id": "xKivvJesMnk1",
        "collapsed": true
      },
      "outputs": [],
      "source": [
        "!yt-dlp -f \"bestaudio\" \\\n",
        "  -o \"/content/drive/MyDrive/audio_downloads/%(upload_date)s_%(title)s.%(ext)s\" \\\n",
        "  --ignore-errors \\\n",
        "  --user-agent \"Mozilla/5.0 (Windows NT 10.0; Win64; x64) AppleWebKit/537.36\" \\\n",
        "  --sleep-interval 1 \\\n",
        "  --max-sleep-interval 3 \\\n",
        "  \"https://www.youtube.com/@vuogle/streams\""
      ]
    },
    {
      "cell_type": "markdown",
      "source": [
        "# 🎦 Upload video from colab to youtube"
      ],
      "metadata": {
        "id": "363rd-sIPwyR"
      }
    },
    {
      "cell_type": "markdown",
      "source": [
        "1) Mấy lưu ý quan trọng (đừng bỏ qua)\n",
        "Upload video bắt buộc dùng OAuth 2.0 (không dùng API key). Các “insert/update/delete” đều cần token ủy quyền của người dùng YouTube. 12\n",
        "Service Account không dùng để upload YouTube (YouTube không hỗ trợ flow này vì không gắn được channel). Hãy dùng OAuth của tài khoản người dùng và lưu refresh token để tái sử dụng. 3\n",
        "Quota: Gọi videos.insert tốn 1600 đơn vị; quota mặc định của dự án là 10.000 đơn vị/ngày (reset theo Pacific Time). Nghĩa là mỗi ngày bạn chỉ up được vài video bằng API nếu không xin tăng quota. 24\n",
        "Giới hạn file: tối đa 256GB, MIME video/* hoặc application/octet-stream. 2\n",
        "Dự án chưa “verified” (tạo sau 28/07/2020) khi upload bằng API, video có thể bị auto-Private đến khi dự án được audit/verify. 2\n",
        "2) Tạo dự án và bật YouTube Data API v3\n",
        "Vào Google Cloud Console → tạo project mới. 5\n",
        "Vào APIs & Services → Library → tìm YouTube Data API v3 → Enable. 5\n",
        "Vào APIs & Services → OAuth consent screen:\n",
        "Chọn loại “External” (nếu chỉ mình bạn dùng thì để “Testing” và add email của bạn vào Test users).\n",
        "Điền các thông tin cơ bản của app. (Bước này là bắt buộc để xin quyền upload). 3\n",
        "Vào Credentials → Create Credentials → OAuth client ID → Desktop app → Create → Download JSON (thường tên client_secret_*.json). 6\n",
        "Vì upload là thao tác ghi, bạn sẽ xin scope https://www.googleapis.com/auth/youtube.upload (hoặc rộng hơn nếu cần). 2\n",
        "\n",
        "3) Chuẩn bị trong Colab\n",
        "Upload token.json + client_secret.json lên /content của Colab.\n",
        "File video của bạn nằm ở đâu? Ví dụ /content/video.mp4 (bộ nhớ tạm Colab) hoặc /tmp/clip.mp4.\n",
        "\n",
        "\n",
        "\n",
        "```\n",
        "# Chay o may local (Windows) de xac thuc va tao token.json\n",
        "\n",
        "# get_token_local.py  (Windows/Mac/Linux)\n",
        "from google_auth_oauthlib.flow import InstalledAppFlow\n",
        "\n",
        "SCOPES = [\"https://www.googleapis.com/auth/youtube.upload\"]  # quyền upload\n",
        "flow = InstalledAppFlow.from_client_secrets_file(\"client_secret.json\", SCOPES)\n",
        "\n",
        "# Dùng loopback server. Nếu cần, bạn đổi port cố định 8765 để tránh firewall\n",
        "creds = flow.run_local_server(host=\"localhost\", port=8765, prompt=\"consent\", open_browser=True)\n",
        "\n",
        "with open(\"token.json\", \"w\", encoding=\"utf-8\") as f:\n",
        "    f.write(creds.to_json())\n",
        "\n",
        "print(\"✅ Đã tạo token.json. Bạn upload file này lên Colab nhé.\")\n",
        "```\n",
        "\n"
      ],
      "metadata": {
        "id": "a8FKTJ5nxWm4"
      }
    },
    {
      "cell_type": "code",
      "source": [
        "# 1. Ham Xác thực và tạo YouTube client\n",
        "from googleapiclient.discovery import build\n",
        "from google.oauth2.credentials import Credentials\n",
        "from google.auth.transport.requests import Request\n",
        "import os\n",
        "\n",
        "SCOPES = [\"https://www.googleapis.com/auth/youtube.upload\"]\n",
        "TOKEN_FILE = \"/content/token.json\"\n",
        "CLIENT_SECRET_FILE = \"/content/client_secret.json\"\n",
        "\n",
        "def get_youtube_client():\n",
        "    if not os.path.exists(TOKEN_FILE):\n",
        "        raise RuntimeError(\"Thiếu token.json. Hãy tạo trên Windows và upload lên /content.\")\n",
        "\n",
        "    creds = Credentials.from_authorized_user_file(TOKEN_FILE, SCOPES)\n",
        "    if not creds.valid:\n",
        "        if creds.expired and creds.refresh_token:\n",
        "            creds.refresh(Request())\n",
        "            with open(TOKEN_FILE, \"w\") as f:\n",
        "                f.write(creds.to_json())\n",
        "        else:\n",
        "            raise RuntimeError(\"Token không hợp lệ và không refresh được. Tạo lại token.json.\")\n",
        "    return build(\"youtube\", \"v3\", credentials=creds)\n",
        "\n",
        "yt = get_youtube_client()\n",
        "print(\"YouTube client sẵn sàng! ✅\")"
      ],
      "metadata": {
        "colab": {
          "base_uri": "https://localhost:8080/"
        },
        "id": "iTNba17Iv7O-",
        "outputId": "e72c10da-f4e0-435e-8176-afd541a3b86f"
      },
      "execution_count": null,
      "outputs": [
        {
          "output_type": "stream",
          "name": "stdout",
          "text": [
            "YouTube client sẵn sàng! ✅\n"
          ]
        }
      ]
    },
    {
      "cell_type": "code",
      "source": [
        "# 2. Ham upload video\n",
        "import math, time\n",
        "\n",
        "def upload_video(\n",
        "    file_path,\n",
        "    title=\"Demo upload từ Colab\",\n",
        "    description=\"Upload qua YouTube Data API\",\n",
        "    tags=None,\n",
        "    category_id=\"22\",           # 22 = People & Blogs\n",
        "    privacy_status=\"unlisted\",  # 'public' | 'unlisted' | 'private'\n",
        "    notify_subscribers=True     # có gửi thông báo sub hay không\n",
        "):\n",
        "    youtube = yt  # dùng client đã tạo\n",
        "\n",
        "    body = {\n",
        "        \"snippet\": {\n",
        "            \"title\": title,\n",
        "            \"description\": description,\n",
        "            \"tags\": tags or [],\n",
        "            \"categoryId\": category_id\n",
        "        },\n",
        "        \"status\": {\n",
        "            \"privacyStatus\": privacy_status\n",
        "        }\n",
        "    }\n",
        "\n",
        "    # Resumable upload: chunk 8MB (bạn có thể tăng nếu mạng ổn định)\n",
        "    media = MediaFileUpload(file_path, chunksize=8 * 1024 * 1024, resumable=True)\n",
        "\n",
        "    request = youtube.videos().insert(\n",
        "        part=\"snippet,status\",\n",
        "        body=body,\n",
        "        media_body=media,\n",
        "        notifySubscribers=notify_subscribers\n",
        "    )  # notifySubscribers là tham số hợp lệ của videos.insert [2](https://developers.google.com/youtube/v3/docs/videos/insert)\n",
        "\n",
        "    print(f\"Bắt đầu upload: {file_path}\")\n",
        "    response = None\n",
        "    last_print = 0\n",
        "    while response is None:\n",
        "        status, response = request.next_chunk()  # vòng lặp chunk theo hướng dẫn của Google [7](https://github.com/googleapis/google-api-python-client/blob/main/docs/media.md)\n",
        "        if status:\n",
        "            pct = int(status.progress() * 100)\n",
        "            if pct - last_print >= 5:  # in mỗi 5%\n",
        "                print(f\"Tiến độ: {pct}%\")\n",
        "                last_print = pct\n",
        "\n",
        "    video_id = response.get(\"id\")\n",
        "    print(f\"Hoàn tất! Video ID: {video_id}\")\n",
        "    return video_id\n",
        "\n",
        "# Ví dụ: đường dẫn trong bộ nhớ tạm của Colab\n",
        "video_path = \"/content/【第九期】tenten人体结构&光影基础课/3 第一周 作业评讲.mp4\"  # hoặc \"/tmp/clip.mp4\"\n",
        "video_id = upload_video(\n",
        "    file_path=video_path,\n",
        "    title=\"Test upload từ Colab\",\n",
        "    description=\"Demo bằng YouTube Data API v3\",\n",
        "    tags=[\"colab\", \"api\", \"demo\"],\n",
        "    privacy_status=\"unlisted\"\n",
        ")"
      ],
      "metadata": {
        "colab": {
          "base_uri": "https://localhost:8080/"
        },
        "id": "nGNgvY9QwXnp",
        "outputId": "db428f48-8668-4a20-90ff-093da32f9ac3"
      },
      "execution_count": null,
      "outputs": [
        {
          "output_type": "stream",
          "name": "stdout",
          "text": [
            "Bắt đầu upload: /content/【第九期】tenten人体结构&光影基础课/3 第一周 作业评讲.mp4\n",
            "Tiến độ: 5%\n",
            "Tiến độ: 10%\n",
            "Tiến độ: 15%\n",
            "Tiến độ: 20%\n",
            "Tiến độ: 26%\n",
            "Tiến độ: 31%\n",
            "Tiến độ: 36%\n",
            "Tiến độ: 41%\n",
            "Tiến độ: 46%\n",
            "Tiến độ: 51%\n",
            "Tiến độ: 56%\n",
            "Tiến độ: 61%\n",
            "Tiến độ: 66%\n",
            "Tiến độ: 71%\n",
            "Tiến độ: 76%\n",
            "Tiến độ: 81%\n",
            "Tiến độ: 86%\n",
            "Tiến độ: 91%\n",
            "Tiến độ: 96%\n",
            "Hoàn tất! Video ID: 4qdAnTVoznI\n"
          ]
        }
      ]
    },
    {
      "cell_type": "markdown",
      "metadata": {
        "id": "WRz3f8ReXWDA"
      },
      "source": [
        "# 🚄 Torrent\n",
        "\n",
        "\n",
        "*   ⚠️ Không nên dùng vì vi phạm chính sách Colab\n",
        "\n"
      ]
    },
    {
      "cell_type": "code",
      "execution_count": null,
      "metadata": {
        "cellView": "form",
        "id": "NXEb3zsgXW7W"
      },
      "outputs": [],
      "source": [
        "# @title 📌 Install torrent\n",
        "#  install\n",
        "!pip install lbry-libtorrent"
      ]
    },
    {
      "cell_type": "markdown",
      "metadata": {
        "id": "JaBidLySaz5O"
      },
      "source": [
        "Nếu không được thì thử cài libtorrent\n",
        "\n",
        "```\n",
        "# Kiểm tra phiên bản Python\n",
        "import sys; print(sys.version)\n",
        "# Nếu Python 3.12: thử bản chính thức mới\n",
        "!pip -q install -U \"libtorrent>=2.0.11\"\n",
        "```"
      ]
    },
    {
      "cell_type": "code",
      "execution_count": null,
      "metadata": {
        "cellView": "form",
        "collapsed": true,
        "id": "_a1gpPfELxZF"
      },
      "outputs": [],
      "source": [
        "# @title ⏬ Dowload Torent\n",
        "import os, time, libtorrent as lt\n",
        "\n",
        "SAVE_PATH = \"/content/torrent_download\"\n",
        "os.makedirs(SAVE_PATH, exist_ok=True)\n",
        "\n",
        "def display_progress(h):\n",
        "    s = h.status()\n",
        "    state_str = [\n",
        "        'queued', 'checking', 'downloading metadata', 'downloading',\n",
        "        'finished', 'seeding', 'allocating', 'checking fastresume'\n",
        "    ]\n",
        "    state = state_str[s.state] if 0 <= s.state < len(state_str) else f\"state:{s.state}\"\n",
        "    return (f\"Tiến độ: {s.progress*100:.2f}% | Down: {s.download_rate/1024:.1f} KB/s | \"\n",
        "            f\"Up: {s.upload_rate/1024:.1f} KB/s | Peer: {s.num_peers} | {state}\")\n",
        "\n",
        "def list_files(h):\n",
        "    ti = h.get_torrent_info()\n",
        "    fs = ti.files()\n",
        "    n = fs.num_files()\n",
        "    return [(i, fs.file_path(i), fs.file_size(i)) for i in range(n)]\n",
        "\n",
        "def file_progress_bytes(h):\n",
        "    # v2: trả về list bytes đã tải cho từng file\n",
        "    try:\n",
        "        return h.file_progress()\n",
        "    except TypeError:\n",
        "        return h.file_progress(0)\n",
        "\n",
        "# --- session ---\n",
        "ses = lt.session()\n",
        "try:\n",
        "    ses.listen_on(6881, 6891)\n",
        "except Exception:\n",
        "    pass\n",
        "ses.start_dht()\n",
        "\n",
        "# --- add magnet ---\n",
        "magnet = input(\"Nhập magnet (q để thoát): \").strip()\n",
        "if magnet.lower() == 'q':\n",
        "    raise SystemExit\n",
        "\n",
        "# thêm flag sequential cho ổn định streaming (tùy chọn)\n",
        "atp = lt.parse_magnet_uri(magnet)\n",
        "atp.save_path = SAVE_PATH\n",
        "if hasattr(lt.torrent_flags, \"sequential_download\"):\n",
        "    atp.flags |= lt.torrent_flags.sequential_download\n",
        "\n",
        "# (tùy chọn) thêm tracker để bắt metadata nhanh\n",
        "atp.trackers = [\n",
        "    \"udp://tracker.opentrackr.org:1337/announce\",\n",
        "    \"udp://open.stealth.si:80/announce\",\n",
        "    \"udp://tracker.openbittorrent.com:6969/announce\",\n",
        "]\n",
        "\n",
        "h = ses.add_torrent(atp)\n",
        "\n",
        "# --- chờ metadata ---\n",
        "t0 = time.time()\n",
        "while not h.has_metadata():\n",
        "    if time.time() - t0 > 90:\n",
        "        print(\"Timeout lấy metadata (ít peer/seeder).\")\n",
        "        raise SystemExit\n",
        "    time.sleep(1)\n",
        "print(\"Đã lấy metadata.\")\n",
        "\n",
        "# --- liệt kê file ---\n",
        "files = list_files(h)\n",
        "for i, p, sz in files:\n",
        "    print(f\"[{i}] {p} ({sz/1024/1024:.2f} MB)\")\n",
        "\n",
        "# --- chọn tải ---\n",
        "choice = input(\"Tải toàn bộ (y) hay chọn file (n)? \").strip().lower()\n",
        "selected = None\n",
        "if choice == 'n':\n",
        "    raw = input(\"Nhập index, ví dụ 0,2,4: \")\n",
        "    idxs = []\n",
        "    for x in raw.split(','):\n",
        "        x = x.strip()\n",
        "        if x.isdigit() and 0 <= int(x) < len(files):\n",
        "            idxs.append(int(x))\n",
        "    selected = sorted(set(idxs))\n",
        "\n",
        "# --- đặt ưu tiên file ---\n",
        "num_files = len(files)\n",
        "if selected:\n",
        "    prio = [0]*num_files\n",
        "    for i in selected: prio[i] = 1\n",
        "else:\n",
        "    prio = [1]*num_files\n",
        "\n",
        "try:\n",
        "    h.prioritize_files(prio)\n",
        "except AttributeError:\n",
        "    for i, p in enumerate(prio):\n",
        "        h.file_priority(i, p)\n",
        "\n",
        "print(\"Bắt đầu tải...\")\n",
        "last = 0\n",
        "while True:\n",
        "    s = h.status()\n",
        "    now = time.time()\n",
        "    if now - last >= 5:\n",
        "        print(display_progress(h))\n",
        "        if selected:\n",
        "            prog = file_progress_bytes(h)\n",
        "            for i in selected:\n",
        "                done = prog[i] if i < len(prog) else 0\n",
        "                size = files[i][2]\n",
        "                pct = (done/size*100) if size else 0\n",
        "                print(f\"  - [{i}] {files[i][1]}: {pct:.2f}% ({done/1024/1024:.2f}/{size/1024/1024:.2f} MB)\")\n",
        "        last = now\n",
        "    if s.state in (lt.torrent_status.seeding, lt.torrent_status.finished):\n",
        "        print(\"Hoàn tất.\")\n",
        "        break\n",
        "    time.sleep(1)\n",
        "\n",
        "# liệt kê file kết quả\n",
        "for root, _, fns in os.walk(SAVE_PATH):\n",
        "    for f in fns:\n",
        "        p = os.path.join(root, f)\n",
        "        print(\"- \", p)\n"
      ]
    },
    {
      "cell_type": "markdown",
      "metadata": {
        "id": "Ooweq3CaYPF9"
      },
      "source": [
        "# JavaScript giữ kết nối colab\n",
        "\n",
        "\n",
        "```\n",
        "# F12 > Console\n",
        "function ClickConnect(){\n",
        "    document.querySelector(\"colab-connect-button\").click()\n",
        "}\n",
        "setInterval(ClickConnect, 300000); // 5 phút\n",
        "```\n",
        "\n"
      ]
    },
    {
      "cell_type": "markdown",
      "metadata": {
        "id": "Z3kc7LmjMiTw"
      },
      "source": [
        "\n",
        "\n",
        "---\n",
        "# lung tung chua test 👇\n"
      ]
    },
    {
      "cell_type": "markdown",
      "metadata": {
        "id": "qo1xCHt0q0XN"
      },
      "source": [
        "## Tải audio (mp3) cho 5 link cùng lúc\n",
        "\n",
        "*   Chỉ cần thay LINK_1 … LINK_5 bằng 5 link của bạn (có thể dán xuống dòng cũng được).\n",
        "\n",
        "```\n",
        "!yt-dlp -x --audio-format m4a --audio-quality 0 \\\n",
        "  --embed-thumbnail --add-metadata \\\n",
        "  -o \"%(title)s.%(ext)s\" \\\n",
        "  \"LINK_1\" \"LINK_2\" \"LINK_3\" \"LINK_4\" \"LINK_5\"\n",
        "  -P \"/content/drive/MyDrive/YoutubeAudio\"\n",
        "```\n",
        "\n",
        "\n"
      ]
    }
  ],
  "metadata": {
    "colab": {
      "collapsed_sections": [
        "XpCFwQWZefCH",
        "pT6xF6HFUOfd",
        "8aiNa5o_1gbD",
        "1olPxcEBgL07",
        "SZLqroFMLUs1",
        "OgHKr5ZdOw8G",
        "aWCGGHmWOrGG",
        "gRN3utqAQrb0",
        "5DJokz_NBxm3",
        "SOwK2NyFCGc7",
        "WRz3f8ReXWDA",
        "Z3kc7LmjMiTw"
      ],
      "provenance": [],
      "mount_file_id": "1k2RYHOtIpApLte1iPpoOFFmFK5BKD-mZ",
      "authorship_tag": "ABX9TyNwNScPYKeQrT+W5F+JP/Kx",
      "include_colab_link": true
    },
    "kernelspec": {
      "display_name": "Python 3",
      "name": "python3"
    },
    "language_info": {
      "name": "python"
    }
  },
  "nbformat": 4,
  "nbformat_minor": 0
}