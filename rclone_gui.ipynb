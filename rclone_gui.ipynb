{
  "nbformat": 4,
  "nbformat_minor": 0,
  "metadata": {
    "colab": {
      "provenance": [],
      "collapsed_sections": [
        "XpCFwQWZefCH",
        "pT6xF6HFUOfd",
        "-E3gMs4qiSY0",
        "8aiNa5o_1gbD",
        "1olPxcEBgL07",
        "SZLqroFMLUs1",
        "OgHKr5ZdOw8G",
        "aWCGGHmWOrGG",
        "gRN3utqAQrb0",
        "SOwK2NyFCGc7",
        "V9te11yFCsHx",
        "WRz3f8ReXWDA",
        "Z3kc7LmjMiTw"
      ],
      "mount_file_id": "1k2RYHOtIpApLte1iPpoOFFmFK5BKD-mZ",
      "authorship_tag": "ABX9TyMosr7TxS71PFEr2Skxesa8",
      "include_colab_link": true
    },
    "kernelspec": {
      "name": "python3",
      "display_name": "Python 3"
    },
    "language_info": {
      "name": "python"
    }
  },
  "cells": [
    {
      "cell_type": "markdown",
      "metadata": {
        "id": "view-in-github",
        "colab_type": "text"
      },
      "source": [
        "<a href=\"https://colab.research.google.com/github/XekoFrontend/google-colab-notebook/blob/main/rclone_gui.ipynb\" target=\"_parent\"><img src=\"https://colab.research.google.com/assets/colab-badge.svg\" alt=\"Open In Colab\"/></a>"
      ]
    },
    {
      "cell_type": "markdown",
      "source": [
        "# 📌 **Install**\n"
      ],
      "metadata": {
        "id": "XpCFwQWZefCH"
      }
    },
    {
      "cell_type": "code",
      "execution_count": null,
      "metadata": {
        "collapsed": true,
        "id": "GlikPwUgTvg1"
      },
      "outputs": [],
      "source": [
        "# Cài đặt rClone\n",
        "!sudo -v ; curl https://rclone.org/install.sh | sudo bash"
      ]
    },
    {
      "cell_type": "code",
      "source": [
        "# Danh sách remotes đang có\n",
        "!rclone listremotes"
      ],
      "metadata": {
        "id": "TVMm_mKlUExj"
      },
      "execution_count": null,
      "outputs": []
    },
    {
      "cell_type": "code",
      "source": [
        "# Khôi phục file config\n",
        "!cp \"/content/drive/MyDrive/Colab Notebooks/rclone.conf\" /root/.config/rclone/rclone.conf"
      ],
      "metadata": {
        "id": "MmyLLIMPT-Ku"
      },
      "execution_count": null,
      "outputs": []
    },
    {
      "cell_type": "markdown",
      "source": [
        "# ⚙️ **Config remotes**"
      ],
      "metadata": {
        "id": "pT6xF6HFUOfd"
      }
    },
    {
      "cell_type": "markdown",
      "source": [
        "Modify remotes"
      ],
      "metadata": {
        "id": "RQaFQBLqqCAB"
      }
    },
    {
      "cell_type": "code",
      "source": [
        "!rclone --version"
      ],
      "metadata": {
        "collapsed": true,
        "id": "7xUNqlKrAHaf"
      },
      "execution_count": null,
      "outputs": []
    },
    {
      "cell_type": "code",
      "source": [
        "# Tạo mới, chỉnh sửa, xóa hoặc kiểm tra remote.\n",
        "!rclone config"
      ],
      "metadata": {
        "id": "fj1w6avIgRNN",
        "collapsed": true
      },
      "execution_count": null,
      "outputs": []
    },
    {
      "cell_type": "markdown",
      "source": [
        "Backup config"
      ],
      "metadata": {
        "id": "8hPt4gIPp98Y"
      }
    },
    {
      "cell_type": "code",
      "source": [
        "# Backup config\n",
        "!cp /root/.config/rclone/rclone.conf /content/rclone.conf\n",
        "!rclone copy -v \"/content/rclone.conf\" \"/content/drive/MyDrive/Colab Notebooks/backup/rclone-renamed.conf\""
      ],
      "metadata": {
        "id": "mO5IAMs_gkke"
      },
      "execution_count": null,
      "outputs": []
    },
    {
      "cell_type": "markdown",
      "source": [
        "# 🎯 **Các lệnh Copy**"
      ],
      "metadata": {
        "id": "-E3gMs4qiSY0"
      }
    },
    {
      "cell_type": "code",
      "source": [
        "# @title Basic: Copy files between Cloud\n",
        "# @markdown **Lưu ý**:\n",
        "# @markdown - nếu thêm `/` ở cuối, chỉ copy nội dung bên trong\n",
        "# @markdown - không dùng `/` ở cuối thì copy cả folder\n",
        "\n",
        "source_remote = \"box\" # @param [\"/content/drive/MyDrive/\",\"/content/\",\"googledrive1\",\"onedrive\",\"googledrive2\",\"archive\", \"box\"]\n",
        "input_folder = \"3DsMAX/3D mr.Hoang\" # @param {\"type\":\"string\",\"placeholder\":\"dùng `/` để phân cấp folder hoặc file, để trống là toàn bộ remote\"}\n",
        "# @markdown ---\n",
        "\n",
        "destination_remote = \"archive\" # @param [\"archive\",\"onedrive\",\"googledrive2\",\"googledrive1\", \"box\",\"/content/drive/MyDrive/\",\"/content/\"]\n",
        "destination_folder = \"3DsMAX-mrHoang-baigiang/soongsilacademy\" # @param {\"type\":\"string\",\"placeholder\":\"dùng `/` để phân cấp folder hoặc tạo thư mục trong archive.\"}\n",
        "# @markdown ---\n",
        "\n",
        "option_flag = \"--s3-upload-concurrency 1\" # @param {\"type\":\"string\",\"placeholder\":\"thêm `--flag` nếu cần, dùng space phân cách các flag\"}\n",
        "\n",
        "# Kiểm tra và thực thi lệnh copy\n",
        "if source_remote and destination_remote:\n",
        "    # Xử lý đường dẫn\n",
        "    source_path = f\"{source_remote}:{input_folder}\" if input_folder else f\"{source_remote}:\"\n",
        "    dest_path = f\"{destination_remote}:{destination_folder}\" if destination_folder else f\"{destination_remote}:\"\n",
        "\n",
        "    # Xử lý option_flag\n",
        "    if option_flag.strip():\n",
        "        flags = option_flag.strip().split()\n",
        "        command_flags = \"-v \" + \" \".join(flags)  # Kết hợp -v với các flag người dùng nhập\n",
        "    else:\n",
        "        command_flags = \"-v\"  # Mặc định chỉ dùng -v\n",
        "\n",
        "    # Chạy lệnh rclone\n",
        "    !rclone copy {command_flags} \"{source_path}\" \"{dest_path}\"\n",
        "else:\n",
        "    print(\"Lỗi: Vui lòng nhập cả Source Remote và Destination Remote.\")"
      ],
      "metadata": {
        "id": "4-5lI6wKiZ9a",
        "cellView": "form",
        "collapsed": true
      },
      "execution_count": null,
      "outputs": []
    },
    {
      "cell_type": "markdown",
      "source": [
        "\n",
        "\n",
        "---\n",
        "\n"
      ],
      "metadata": {
        "id": "Rou0Pj6C2kWR"
      }
    },
    {
      "cell_type": "code",
      "source": [
        "!rclone lsf \"archive:1okrock-liveshow\""
      ],
      "metadata": {
        "id": "2CbpR4GxZzON",
        "collapsed": true
      },
      "execution_count": null,
      "outputs": []
    },
    {
      "cell_type": "code",
      "source": [
        "!rclone copy -v \"https://data.terabox.app/file/355a8f3d0d448004bfd44760355e9e24?bkt=en-07c9b0a504a3706095b5bed33474fa845279f58cd625ea8c91609d778afe1145613e6382e58cd8cd&xcode=df67ed55c6204494b55f5ec8e654e0c13e79c2291fa72c2d874035aa226821b9059abe7c8628492e4f74607fb2ca4215c8167d68cbed08ac&fid=4399953669262-250528-1045094404813338&time=1755879512&sign=FDTAXUGERLQlBHSKfWaon-DCb740ccc5511e5e8fedcff06b081203-GnmoxutjLrn2n9uJXUDTZH2At0s%3D&to=139&size=14419252790&sta_dx=14419252790&sta_cs=6&sta_ft=rar&sta_ct=7&sta_mt=0&fm2=MH%2Ctky%2CAnywhere%2C%2CSGFub2k%3D%2Cany&region=tky&ctime=1721389741&mtime=1755879490&resv0=-1&resv1=0&resv2=&resv3=&resv4=14419252790&vuk=4399953669262&iv=0&htype=&randtype=&newver=1&newfm=1&secfm=1&flow_ver=3&pkey=en-60a4ed0a949c71f4b2eda5effa64b454a071fd3e07b901278f4021729bdc94457bd6b613a0460ebb&sl=68091977&expires=1755908312&rt=pr&r=586159288&vbdid=-&fin=%5BHaDoanTV.Com%5DLISCFSVH.rar&fn=%5BHaDoanTV.Com%5DLISCFSVH.rar&rtype=1&dp-logid=8886183457023662952&dp-callid=0.1&hps=1&tsl=2000&csl=2000&fsl=-1&csign=Hxn20zAbm7kxnk88YOPGGnuyJYc%3D&so=0&ut=6&uter=4&serv=0&uc=3706416523&ti=9c74a385a1d3afc573a68b6d53825de85e1c8a5eaa922718&tuse=&raw_appid=0&ogr=0&rregion=XVVi&adg=&reqlabel=250528_f_01ef7f5e1a9c16c0008388deeb54fe5a_-1_db7dff196c8e03a1b341f2cd746c4229&ccn=VN&by=themis\" \"/content/torrent_download/\""
      ],
      "metadata": {
        "id": "JUt0geXVlDjT"
      },
      "execution_count": null,
      "outputs": []
    },
    {
      "cell_type": "markdown",
      "source": [
        "### 🍷 **Ghi chú**\n",
        "\n",
        "**Command**\n",
        "* `copy` : Copy file/thư mục từ nguồn tới đích, bỏ qua file giống nhau\n",
        "* `check` : So sánh nội dung giữa nguồn và đích\n",
        "* `sync` : đồng bộ (dùng --dry-run kiểm tra trước khi chạy thật).\n",
        "* `ls`: Liệt kê file và kích thước (mặc định).\n",
        "* `lsf`: Chỉ hiển thị tên file/thư mục.\n",
        "* `lsd`: Chỉ hiển thị tên thư mục con.\n",
        "* `size`: Hiển thị tổng kích thước của thư mục.\n",
        "\n",
        "---\n",
        "**Flag**\n",
        "\n",
        "* Ghi đè nếu nguồn mới hơn: `--update`. (không dùng được trên archive)\n",
        "* Bỏ qua các file đã tồn tại: `--ignore-existing`. (phù hợp với *archive.org* để tránh gây lỗi, còn lại thì dùng mặc định `copy` là đủ).\n",
        "*\n",
        " * Chọn số luồng copy (nếu không dùng thì mặc định là 4)): `--transfers 8`.\n",
        " * Dùng cho S3 của Amazon: `--s3-upload-concurrency 1`. (archive.org file lớn ưu tiên dùng ✅ 1 luồng, tối đa dùng được 2 luồng).\n",
        "\n",
        "* `--dry-run` : Chạy thử, kiểm tra trước.\n",
        "\n",
        "* `--include \"*.mp4\"` để chỉ copy file .mp4.\n",
        "* `--exclude \"*.tmp`\" để bỏ qua file tạm.\n",
        " * Ex lọc files: `!rclone ls \"archive:cd-luong-bich-huu\" --include \"*.flac\"`\n",
        " * Ex 2: `rclone copy source dest --include \"*.jpg\" --exclude \"*.gif\"`\n",
        "\n",
        "* `--error string` : Báo cáo files lỗi"
      ],
      "metadata": {
        "id": "8aiNa5o_1gbD"
      }
    },
    {
      "cell_type": "markdown",
      "source": [
        "# 👓 **Xem Nội Dung Remote**"
      ],
      "metadata": {
        "id": "1olPxcEBgL07"
      }
    },
    {
      "cell_type": "code",
      "source": [
        "# @markdown ### Hướng dẫn:\n",
        "# @markdown - **List Mode**: Chọn cách hiển thị nội dung:\n",
        "# @markdown   - `ls`: Liệt kê file và kích thước (mặc định).\n",
        "# @markdown   - `lsf`: Chỉ hiển thị tên file/thư mục.\n",
        "# @markdown   - `lsd`: Chỉ hiển thị tên thư mục con.\n",
        "# @markdown   - `size`: Hiển thị tổng kích thước của thư mục.\n",
        "\n",
        "list_remote = \"box\" # @param [\"/content/drive/MyDrive/\",\"/content/\",\"googledrive1\",\"onedrive\",\"googledrive2\",\"archive\",\"box\"]\n",
        "input_folder = \"\" # @param {\"type\":\"string\"}\n",
        "list_mode = \"lsf\" # @param [\"lsf\",\"lsd\",\"ls\",\"size\"]\n",
        "# @markdown 🔎 Lọc file:\n",
        "file_type = \"\" # @param {\"type\":\"string\"}\n",
        "file_type_sum = \"Default\" # @param [\"Default\", \"Sum\"]\n",
        "\n",
        "# Xử lý file_type_sum thành lệnh phù hợp\n",
        "sum_command = \"\" if file_type_sum == \"Default\" else \" | wc -l\"\n",
        "\n",
        "\n",
        "!rclone {list_mode} \"{list_remote}:{input_folder}\"  | grep \".{file_type}\"  {sum_command}\n",
        "\n",
        "\n",
        "# ======================================\n",
        "# grep \".mp4\": Lọc các dòng có chứa .mp4.\n",
        "# wc -l: Đếm số dòng (tức là số file .mp4)."
      ],
      "metadata": {
        "collapsed": true,
        "id": "INrZSJUyUO2m"
      },
      "execution_count": null,
      "outputs": []
    },
    {
      "cell_type": "markdown",
      "source": [
        "# 🗃️ **.Rar .Zip .7zip**"
      ],
      "metadata": {
        "id": "SZLqroFMLUs1"
      }
    },
    {
      "cell_type": "markdown",
      "source": [
        "## Rar"
      ],
      "metadata": {
        "id": "OgHKr5ZdOw8G"
      }
    },
    {
      "cell_type": "code",
      "source": [
        "# Install unrar\n",
        "!apt-get install unrar"
      ],
      "metadata": {
        "id": "EdDZ6Cd5LS-5"
      },
      "execution_count": null,
      "outputs": []
    },
    {
      "cell_type": "code",
      "source": [
        "# Giải nén với password (ex: DDDTT)\n",
        "!unrar x -pdomdom2010 /content/copy_temp/*.zip /content/copy_temp/extracted/"
      ],
      "metadata": {
        "id": "2ea4ZCxIOqCc"
      },
      "execution_count": null,
      "outputs": []
    },
    {
      "cell_type": "markdown",
      "source": [
        "## Zip"
      ],
      "metadata": {
        "id": "aWCGGHmWOrGG"
      }
    },
    {
      "cell_type": "code",
      "source": [
        "# Install unzip\n",
        "!apt-get install -y unzip"
      ],
      "metadata": {
        "id": "QqVLJrLFOiyg"
      },
      "execution_count": null,
      "outputs": []
    },
    {
      "cell_type": "code",
      "source": [
        "# Giải nén file .zip với password (nếu có)\n",
        "!unzip -P kirakira /content/copy_temp/Ed01.zip -d /content/copy_temp/extracted/"
      ],
      "metadata": {
        "id": "zUjZlcv-QIY6"
      },
      "execution_count": null,
      "outputs": []
    },
    {
      "cell_type": "code",
      "source": [
        "# Dùng vòng lặp `for` Giải nén nhiều file .zip trong thư mục với password (nếu có)\n",
        "import os\n",
        "for zip_file in os.listdir(\"/content/copy_temp/2/\"):\n",
        "    if zip_file.endswith(\".zip\"):\n",
        "        !unzip -P domdom2010 \"/content/copy_temp/2/{zip_file}\" -d /content/copy_temp/2/s2/\n",
        "        print(f\"Đã giải nén {zip_file}\")"
      ],
      "metadata": {
        "id": "kkCfqzXFQRG2"
      },
      "execution_count": null,
      "outputs": []
    },
    {
      "cell_type": "markdown",
      "source": [
        "---\n",
        "## uncheck"
      ],
      "metadata": {
        "id": "gRN3utqAQrb0"
      }
    },
    {
      "cell_type": "markdown",
      "source": [
        "rar"
      ],
      "metadata": {
        "id": "fZa8y6cPRUGs"
      }
    },
    {
      "cell_type": "code",
      "source": [
        "# hình như là nén files, hoặc ghép files. cần thử lại.\n",
        "!cat /content/torrent_download/HI1\\ DDDTT.part*.rar > /content/HI1_DDDTT_full.rar"
      ],
      "metadata": {
        "id": "3-CAUsowQqYL"
      },
      "execution_count": null,
      "outputs": []
    },
    {
      "cell_type": "code",
      "source": [
        "# Split file nén\n",
        "!split -b 10G /content/HI1_DDDTT_full.rar /content/HI1_DDDTT_part_\n",
        "# copy file trùng tên, chhia theo thứ tự.\n",
        "!rclone copy /content/HI1_DDDTT_part_* archive:tinhhe-lontien-thyetmin/1990/ -v"
      ],
      "metadata": {
        "id": "nvKWC3gCQ06K"
      },
      "execution_count": null,
      "outputs": []
    },
    {
      "cell_type": "markdown",
      "source": [
        "7zip\n",
        "* p7zip-full hỗ trợ hầu hết định dạng (.7z, .zip, .rar, .iso, .tar, .gzip, v.v.), nhưng hiệu suất giải nén .rar tốt hơn với unrar."
      ],
      "metadata": {
        "id": "R73k0vO5RSOa"
      }
    },
    {
      "cell_type": "code",
      "source": [
        "!apt-get update\n",
        "!apt-get install -y p7zip-full"
      ],
      "metadata": {
        "id": "kG5_6xXBRV1b"
      },
      "execution_count": null,
      "outputs": []
    },
    {
      "cell_type": "code",
      "source": [
        "!7z x /content/file.7z -o/content/extracted/ -pYOUR_PASSWORD"
      ],
      "metadata": {
        "id": "K7fwezfgTV_u"
      },
      "execution_count": null,
      "outputs": []
    },
    {
      "cell_type": "code",
      "source": [
        "!7z x /content/file.iso -o/content/extracted/"
      ],
      "metadata": {
        "id": "P6XwK6SUTal6"
      },
      "execution_count": null,
      "outputs": []
    },
    {
      "cell_type": "code",
      "source": [
        "import os\n",
        "\n",
        "# Đường dẫn thư mục chứa file nén\n",
        "source_folder = \"/content/copy_temp/2/\"\n",
        "extract_folder = \"/content/copy_temp/2/zip2/\"\n",
        "password = \"domdom2010\"  # Thay bằng password thực tế\n",
        "\n",
        "# Tạo thư mục đích nếu chưa có\n",
        "!mkdir -p {extract_folder}\n",
        "\n",
        "# Lặp qua các file trong thư mục\n",
        "for filename in os.listdir(source_folder):\n",
        "    if filename.endswith(\".zip\"):\n",
        "        file_path = os.path.join(source_folder, filename)\n",
        "        # Sử dụng 7z để giải nén\n",
        "        !7z x \"{file_path}\" -o\"{extract_folder}\" -p{password} -y\n",
        "        if os.path.exists(os.path.join(extract_folder, filename.replace(\".zip\", \"\"))):\n",
        "            print(f\"Đã giải nén {filename} thành công\")\n",
        "        else:\n",
        "            print(f\"Lỗi: Không thể giải nén {filename}. Kiểm tra file hoặc password!\")"
      ],
      "metadata": {
        "id": "0yTQktWCRYHU"
      },
      "execution_count": null,
      "outputs": []
    },
    {
      "cell_type": "markdown",
      "source": [
        "cai đặt cả 3"
      ],
      "metadata": {
        "id": "31GgEVLpTF0Z"
      }
    },
    {
      "cell_type": "code",
      "source": [
        "# Cài đặt các công cụ giải nén\n",
        "!apt-get update\n",
        "!apt-get install -y unrar unzip p7zip-full"
      ],
      "metadata": {
        "id": "z2eZwK8FTJ_3"
      },
      "execution_count": null,
      "outputs": []
    },
    {
      "cell_type": "markdown",
      "source": [
        "# 📺 **yt-dlp**"
      ],
      "metadata": {
        "id": "5DJokz_NBxm3"
      }
    },
    {
      "cell_type": "markdown",
      "source": [
        "## ⚙️ Install yt-dlp & ffmpeg\n",
        "* ⚠️Chú ý dùng ! trước command\n",
        "* Nếu lỗi 403 Forbidden, thêm --geo-bypass"
      ],
      "metadata": {
        "id": "SOwK2NyFCGc7"
      }
    },
    {
      "cell_type": "code",
      "source": [
        "pip install -U yt-dlp"
      ],
      "metadata": {
        "id": "lDiNbMjZB7l4"
      },
      "execution_count": null,
      "outputs": []
    },
    {
      "cell_type": "code",
      "source": [
        "!sudo apt install ffmpeg"
      ],
      "metadata": {
        "id": "Qcwcr6HWCC0S"
      },
      "execution_count": null,
      "outputs": []
    },
    {
      "cell_type": "markdown",
      "source": [
        "## ⏬ Hướng dẫn\n",
        "\n",
        "\n",
        "*   `!yt-dlp`: không dùng flag thì tự chọn định dạng tốt nhất\n",
        "*   `-v`: để xem log\n",
        "*   Subtitle:\n",
        " *   `--write-subs --sub-lang en`: tải 1 hoặc nhiều subtitles `en,vi,kr`. (ex: *en = english*)\n",
        " *   `--all-subs`: tải file và tất cả subtitles.\n",
        " *   `--list-subs`: danh sách các subtitles.\n",
        " *   `--skip-download`: bỏ qua không tải files, nếu chỉ tải subtitle.\n",
        "\n",
        "*   `-F`: xem tất cả định dạng\n",
        "*   `-f`: chọn tải định dạng (ex: `-f 251`)\n",
        "\n",
        "*   `--get-urlurl`: tải .m3u8\n",
        "\n",
        "*   `-o`: đặt tên file.\n",
        "*   `-P`: path đường dẫn để lưu file.\n",
        "\n",
        "---\n",
        "`--postprocessor-args \"-ss 00:00 -to 00:55\"`: cắt âm thanh <~ chua test\n"
      ],
      "metadata": {
        "id": "V9te11yFCsHx"
      }
    },
    {
      "cell_type": "code",
      "source": [
        "!yt-dlp --all-subs \"https://wetv.vip/vi/play/87t5rpu3kbh1qm8/\" -o \"Xin_Hay_Yeu_Em_E7\" -P \"Dame na Watashi ni Koishite Kudasai 2016\""
      ],
      "metadata": {
        "id": "1i7aoGSoCvzC"
      },
      "execution_count": null,
      "outputs": []
    },
    {
      "cell_type": "markdown",
      "source": [
        "# 🚄 Torrent\n",
        "\n",
        "\n",
        "*   ⚠️ Không nên dùng vì vi phạm chính sách Colab\n",
        "\n"
      ],
      "metadata": {
        "id": "WRz3f8ReXWDA"
      }
    },
    {
      "cell_type": "code",
      "source": [
        "# @title 📌 Install torrent\n",
        "#  install\n",
        "!pip install lbry-libtorrent"
      ],
      "metadata": {
        "cellView": "form",
        "id": "NXEb3zsgXW7W"
      },
      "execution_count": null,
      "outputs": []
    },
    {
      "cell_type": "markdown",
      "source": [
        "Nếu không được thì thử cài libtorrent\n",
        "\n",
        "```\n",
        "# Kiểm tra phiên bản Python\n",
        "import sys; print(sys.version)\n",
        "# Nếu Python 3.12: thử bản chính thức mới\n",
        "!pip -q install -U \"libtorrent>=2.0.11\"\n",
        "```"
      ],
      "metadata": {
        "id": "JaBidLySaz5O"
      }
    },
    {
      "cell_type": "code",
      "source": [
        "# @title ⏬ Dowload Torent\n",
        "import os, time, libtorrent as lt\n",
        "\n",
        "SAVE_PATH = \"/content/torrent_download\"\n",
        "os.makedirs(SAVE_PATH, exist_ok=True)\n",
        "\n",
        "def display_progress(h):\n",
        "    s = h.status()\n",
        "    state_str = [\n",
        "        'queued', 'checking', 'downloading metadata', 'downloading',\n",
        "        'finished', 'seeding', 'allocating', 'checking fastresume'\n",
        "    ]\n",
        "    state = state_str[s.state] if 0 <= s.state < len(state_str) else f\"state:{s.state}\"\n",
        "    return (f\"Tiến độ: {s.progress*100:.2f}% | Down: {s.download_rate/1024:.1f} KB/s | \"\n",
        "            f\"Up: {s.upload_rate/1024:.1f} KB/s | Peer: {s.num_peers} | {state}\")\n",
        "\n",
        "def list_files(h):\n",
        "    ti = h.get_torrent_info()\n",
        "    fs = ti.files()\n",
        "    n = fs.num_files()\n",
        "    return [(i, fs.file_path(i), fs.file_size(i)) for i in range(n)]\n",
        "\n",
        "def file_progress_bytes(h):\n",
        "    # v2: trả về list bytes đã tải cho từng file\n",
        "    try:\n",
        "        return h.file_progress()\n",
        "    except TypeError:\n",
        "        return h.file_progress(0)\n",
        "\n",
        "# --- session ---\n",
        "ses = lt.session()\n",
        "try:\n",
        "    ses.listen_on(6881, 6891)\n",
        "except Exception:\n",
        "    pass\n",
        "ses.start_dht()\n",
        "\n",
        "# --- add magnet ---\n",
        "magnet = input(\"Nhập magnet (q để thoát): \").strip()\n",
        "if magnet.lower() == 'q':\n",
        "    raise SystemExit\n",
        "\n",
        "# thêm flag sequential cho ổn định streaming (tùy chọn)\n",
        "atp = lt.parse_magnet_uri(magnet)\n",
        "atp.save_path = SAVE_PATH\n",
        "if hasattr(lt.torrent_flags, \"sequential_download\"):\n",
        "    atp.flags |= lt.torrent_flags.sequential_download\n",
        "\n",
        "# (tùy chọn) thêm tracker để bắt metadata nhanh\n",
        "atp.trackers = [\n",
        "    \"udp://tracker.opentrackr.org:1337/announce\",\n",
        "    \"udp://open.stealth.si:80/announce\",\n",
        "    \"udp://tracker.openbittorrent.com:6969/announce\",\n",
        "]\n",
        "\n",
        "h = ses.add_torrent(atp)\n",
        "\n",
        "# --- chờ metadata ---\n",
        "t0 = time.time()\n",
        "while not h.has_metadata():\n",
        "    if time.time() - t0 > 90:\n",
        "        print(\"Timeout lấy metadata (ít peer/seeder).\")\n",
        "        raise SystemExit\n",
        "    time.sleep(1)\n",
        "print(\"Đã lấy metadata.\")\n",
        "\n",
        "# --- liệt kê file ---\n",
        "files = list_files(h)\n",
        "for i, p, sz in files:\n",
        "    print(f\"[{i}] {p} ({sz/1024/1024:.2f} MB)\")\n",
        "\n",
        "# --- chọn tải ---\n",
        "choice = input(\"Tải toàn bộ (y) hay chọn file (n)? \").strip().lower()\n",
        "selected = None\n",
        "if choice == 'n':\n",
        "    raw = input(\"Nhập index, ví dụ 0,2,4: \")\n",
        "    idxs = []\n",
        "    for x in raw.split(','):\n",
        "        x = x.strip()\n",
        "        if x.isdigit() and 0 <= int(x) < len(files):\n",
        "            idxs.append(int(x))\n",
        "    selected = sorted(set(idxs))\n",
        "\n",
        "# --- đặt ưu tiên file ---\n",
        "num_files = len(files)\n",
        "if selected:\n",
        "    prio = [0]*num_files\n",
        "    for i in selected: prio[i] = 1\n",
        "else:\n",
        "    prio = [1]*num_files\n",
        "\n",
        "try:\n",
        "    h.prioritize_files(prio)\n",
        "except AttributeError:\n",
        "    for i, p in enumerate(prio):\n",
        "        h.file_priority(i, p)\n",
        "\n",
        "print(\"Bắt đầu tải...\")\n",
        "last = 0\n",
        "while True:\n",
        "    s = h.status()\n",
        "    now = time.time()\n",
        "    if now - last >= 5:\n",
        "        print(display_progress(h))\n",
        "        if selected:\n",
        "            prog = file_progress_bytes(h)\n",
        "            for i in selected:\n",
        "                done = prog[i] if i < len(prog) else 0\n",
        "                size = files[i][2]\n",
        "                pct = (done/size*100) if size else 0\n",
        "                print(f\"  - [{i}] {files[i][1]}: {pct:.2f}% ({done/1024/1024:.2f}/{size/1024/1024:.2f} MB)\")\n",
        "        last = now\n",
        "    if s.state in (lt.torrent_status.seeding, lt.torrent_status.finished):\n",
        "        print(\"Hoàn tất.\")\n",
        "        break\n",
        "    time.sleep(1)\n",
        "\n",
        "# liệt kê file kết quả\n",
        "for root, _, fns in os.walk(SAVE_PATH):\n",
        "    for f in fns:\n",
        "        p = os.path.join(root, f)\n",
        "        print(\"- \", p)\n"
      ],
      "metadata": {
        "cellView": "form",
        "id": "_a1gpPfELxZF",
        "collapsed": true
      },
      "execution_count": null,
      "outputs": []
    },
    {
      "cell_type": "markdown",
      "source": [
        "# JavaScript giữ kết nối colab\n",
        "\n",
        "\n",
        "```\n",
        "# F12 > Console\n",
        "function ClickConnect(){\n",
        "    document.querySelector(\"colab-connect-button\").click()\n",
        "}\n",
        "setInterval(ClickConnect, 300000); // 5 phút\n",
        "```\n",
        "\n"
      ],
      "metadata": {
        "id": "Ooweq3CaYPF9"
      }
    },
    {
      "cell_type": "markdown",
      "source": [
        "\n",
        "\n",
        "---\n",
        "# lung tung chua test 👇\n"
      ],
      "metadata": {
        "id": "Z3kc7LmjMiTw"
      }
    },
    {
      "cell_type": "markdown",
      "source": [
        "## Tải audio (mp3) cho 5 link cùng lúc\n",
        "\n",
        "*   Chỉ cần thay LINK_1 … LINK_5 bằng 5 link của bạn (có thể dán xuống dòng cũng được).\n",
        "\n",
        "```\n",
        "!yt-dlp -x --audio-format m4a --audio-quality 0 \\\n",
        "  --embed-thumbnail --add-metadata \\\n",
        "  -o \"%(title)s.%(ext)s\" \\\n",
        "  \"LINK_1\" \"LINK_2\" \"LINK_3\" \"LINK_4\" \"LINK_5\"\n",
        "  -P \"/content/drive/MyDrive/YoutubeAudio\"\n",
        "```\n",
        "\n",
        "\n"
      ],
      "metadata": {
        "id": "qo1xCHt0q0XN"
      }
    }
  ]
}