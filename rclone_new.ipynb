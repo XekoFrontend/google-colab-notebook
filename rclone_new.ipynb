{
  "nbformat": 4,
  "nbformat_minor": 0,
  "metadata": {
    "colab": {
      "provenance": [],
      "collapsed_sections": [
        "XpCFwQWZefCH",
        "pT6xF6HFUOfd",
        "mrT2f4CpgsKO",
        "1olPxcEBgL07"
      ],
      "mount_file_id": "1k2RYHOtIpApLte1iPpoOFFmFK5BKD-mZ",
      "authorship_tag": "ABX9TyOlAFUT0lSiSLpbo5H8nac1",
      "include_colab_link": true
    },
    "kernelspec": {
      "name": "python3",
      "display_name": "Python 3"
    },
    "language_info": {
      "name": "python"
    }
  },
  "cells": [
    {
      "cell_type": "markdown",
      "metadata": {
        "id": "view-in-github",
        "colab_type": "text"
      },
      "source": [
        "<a href=\"https://colab.research.google.com/github/XekoFrontend/google-colab-notebook/blob/main/rclone_new.ipynb\" target=\"_parent\"><img src=\"https://colab.research.google.com/assets/colab-badge.svg\" alt=\"Open In Colab\"/></a>"
      ]
    },
    {
      "cell_type": "markdown",
      "source": [
        "# 📌 **Install**\n"
      ],
      "metadata": {
        "id": "XpCFwQWZefCH"
      }
    },
    {
      "cell_type": "code",
      "execution_count": null,
      "metadata": {
        "collapsed": true,
        "id": "GlikPwUgTvg1"
      },
      "outputs": [],
      "source": [
        "# Cài đặt rClone\n",
        "!sudo -v ; curl https://rclone.org/install.sh | sudo bash"
      ]
    },
    {
      "cell_type": "code",
      "source": [
        "# Danh sách remotes đang có\n",
        "!rclone listremotes"
      ],
      "metadata": {
        "id": "TVMm_mKlUExj"
      },
      "execution_count": null,
      "outputs": []
    },
    {
      "cell_type": "code",
      "source": [
        "# Khôi phục file config\n",
        "!cp \"/content/drive/MyDrive/Colab Notebooks/rclone.conf\" /root/.config/rclone/rclone.conf"
      ],
      "metadata": {
        "id": "MmyLLIMPT-Ku"
      },
      "execution_count": null,
      "outputs": []
    },
    {
      "cell_type": "markdown",
      "source": [
        "# ⚙️ **Config remotes**"
      ],
      "metadata": {
        "id": "pT6xF6HFUOfd"
      }
    },
    {
      "cell_type": "code",
      "source": [
        "# Tạo mới, chỉnh sửa, xóa hoặc kiểm tra remote.\n",
        "!rclone config"
      ],
      "metadata": {
        "id": "fj1w6avIgRNN"
      },
      "execution_count": null,
      "outputs": []
    },
    {
      "cell_type": "markdown",
      "source": [
        "# 💾 **Backup file config**"
      ],
      "metadata": {
        "id": "mrT2f4CpgsKO"
      }
    },
    {
      "cell_type": "code",
      "source": [
        "# Backup config\n",
        "!cp /root/.config/rclone/rclone.conf /content/rclone.conf\n",
        "!rclone copy -v \"/content/rclone.conf\" \"/content/drive/MyDrive/Colab Notebooks/backup/rclone*.conf\""
      ],
      "metadata": {
        "id": "mO5IAMs_gkke"
      },
      "execution_count": null,
      "outputs": []
    },
    {
      "cell_type": "markdown",
      "source": [
        "# 🎯 **Các lệnh Copy**"
      ],
      "metadata": {
        "id": "-E3gMs4qiSY0"
      }
    },
    {
      "cell_type": "code",
      "source": [
        "# @title Basic: Copy files between Cloud Remotes\n",
        "# @markdown ### Hướng dẫn:\n",
        "# @markdown - **Source Remote**: `remoteName:folder/`or `/content/drive/MyDrive/CBZ/image.jpg` .\n",
        "# @markdown - **Destination Remote**:  `remoteName:folder/`.\n",
        "source_remote = \"/content/drive/MyDrive/\" # @param [\"/content/drive/MyDrive/\",\"haocenter\",\"tsd06\",\"xuhao\",\"archive\"]\n",
        "input_folder = \"\" # @param {\"type\":\"string\"}\n",
        "# @markdown ---\n",
        "destination_remote = \"archive\" # @param [\"archive\",\"tsd06\",\"xuhao\",\"haocenter\",\"/content/drive/MyDrive/\"]\n",
        "destination_folder = \"\" # @param {\"type\":\"string\"}\n",
        "\n",
        "# Kiểm tra và thực thi lệnh copy\n",
        "if source_remote and destination_remote:\n",
        "    # Chạy lệnh rclone với thông báo chi tiết\n",
        "    !rclone copy --update -v --transfers 8 \"{source_remote}:{input_folder}\" \"{destination_remote}:{destination_folder}\"\n",
        "else:\n",
        "    print(\"Lỗi: Vui lòng nhập cả Source Remote và Destination Remote.\")"
      ],
      "metadata": {
        "cellView": "form",
        "id": "4-5lI6wKiZ9a"
      },
      "execution_count": null,
      "outputs": []
    },
    {
      "cell_type": "code",
      "source": [
        "# @title Basic: Copy Files Between Cloud Remotes\n",
        "# @markdown ### Hướng dẫn:\n",
        "# @markdown - **Source Remote**: Chọn hoặc nhập remote nguồn (ví dụ: `haocenter`, `/content/drive/MyDrive/`). Nếu dùng thư mục cục bộ, thêm `/` ở cuối.\n",
        "# @markdown - **Input Folder**: Nhập tên thư mục/file trong remote nguồn (ví dụ: `CBZ/`, để trống nếu muốn sao chép toàn bộ remote).\n",
        "# @markdown - **Destination Remote**: Chọn remote đích (ví dụ: `archive`, `tsd06`). Nếu dùng thư mục cục bộ, thêm `/` ở cuối.\n",
        "# @markdown - **Destination Folder**: Nhập tên thư mục đích (ví dụ: `Backup/`, để trống nếu muốn sao chép vào root remote).\n",
        "# @markdown - **Transfer Option**:\n",
        "# @markdown   - `Default (--update -v)`: Sao chép với cập nhật file mới hơn, chi tiết log.\n",
        "# @markdown   - `Transfers (số luồng)`: Chọn số luồng (mặc định 8, có thể nhập số khác).\n",
        "# @markdown   - `S3 Concurrency (1)`: Dùng 1 luồng cho upload S3 (phù hợp với Archive).\n",
        "# @markdown - Nhấn **Run** để thực thi. Nếu sai cú pháp, sẽ hiển thị lỗi và hướng dẫn.\n",
        "\n",
        "source_remote = \"/content/drive/MyDrive/\" # @param [\"/content/drive/MyDrive/\", \"haocenter\", \"tsd06\", \"xuhao\", \"archive\"]\n",
        "input_folder = \"\" # @param {type:\"string\", allow-input: true}\n",
        "destination_remote = \"archive\" # @param [\"archive\", \"tsd06\", \"xuhao\", \"haocenter\", \"/content/drive/MyDrive/\"]\n",
        "destination_folder = \"\" # @param {type:\"string\", allow-input: true}\n",
        "transfer_option = \"S3 Concurrency (1)\" # @param [\"Default (--update -v)\", \"Transfers (số luồng)\", \"S3 Concurrency (1)\"]\n",
        "transfers_value = \"\" # @param {type:\"string\", allow-input: true}\n",
        "\n",
        "# Xử lý tùy chọn chuyển dữ liệu\n",
        "transfer_flags = \"\"\n",
        "if transfer_option == \"Default (--update -v)\":\n",
        "    transfer_flags = \"--update -v\"\n",
        "elif transfer_option == \"Transfers (số luồng)\":\n",
        "    try:\n",
        "        transfers_value = int(transfers_value)\n",
        "        if transfers_value > 0:\n",
        "            transfer_flags = f\"--transfers {transfers_value} -v\"\n",
        "        else:\n",
        "            print(\"Lỗi: Số luồng phải lớn hơn 0. Mặc định dùng 8.\")\n",
        "            transfer_flags = \"--transfers 8 -v\"\n",
        "    except ValueError:\n",
        "        print(\"Lỗi: Vui lòng nhập số nguyên cho Transfers. Mặc định dùng 8.\")\n",
        "        transfer_flags = \"--transfers 8 -v\"\n",
        "elif transfer_option == \"S3 Concurrency (1)\":\n",
        "    transfer_flags = \"--s3-upload-concurrency 1 -v\"\n",
        "\n",
        "# Xử lý đường dẫn\n",
        "if source_remote and destination_remote:\n",
        "    source_path = f\"{source_remote}{input_folder}\".rstrip(\"/\") + \"/\" if input_folder else f\"{source_remote}\"\n",
        "    dest_path = f\"{destination_remote}{destination_folder}\".rstrip(\"/\") + \"/\" if destination_folder else f\"{destination_remote}\"\n",
        "\n",
        "    # Thay đổi tùy chọn khi đích là archive\n",
        "    if destination_remote == \"archive\":\n",
        "        command_flags = transfer_flags.replace(\"--update\", \"--ignore-existing\") if \"--update\" in transfer_flags else transfer_flags\n",
        "    else:\n",
        "        command_flags = transfer_flags\n",
        "\n",
        "    # Chạy lệnh rclone\n",
        "    !rclone copy {command_flags} \"{source_path}\" \"{dest_path}\"\n",
        "else:\n",
        "    print(\"Lỗi: Vui lòng nhập cả Source Remote và Destination Remote. Xem hướng dẫn ở trên!\")"
      ],
      "metadata": {
        "cellView": "form",
        "id": "N-iQWNYVn9WC"
      },
      "execution_count": null,
      "outputs": []
    },
    {
      "cell_type": "markdown",
      "source": [
        "# 👓 **View contents**"
      ],
      "metadata": {
        "id": "1olPxcEBgL07"
      }
    },
    {
      "cell_type": "code",
      "source": [
        "# @title Xem Nội Dung Remote\n",
        "# @markdown ### Hướng dẫn:\n",
        "# @markdown - **List Mode**: Chọn cách hiển thị nội dung:\n",
        "# @markdown   - `ls`: Liệt kê file và kích thước (mặc định).\n",
        "# @markdown   - `lsf`: Chỉ hiển thị tên file/thư mục.\n",
        "# @markdown   - `lsd`: Chỉ hiển thị tên thư mục con.\n",
        "# @markdown   - `size`: Hiển thị tổng kích thước của thư mục.\n",
        "\n",
        "list_remote = \"/content/drive/MyDrive/\" # @param [\"/content/drive/MyDrive/\", \"haocenter\",\"tsd06\",\"xuhao\",\"archive\"]\n",
        "input_folder = \"tinhhe-lontien-thyetmin/\" # @param {\"type\":\"string\"}\n",
        "list_mode = \"lsf\" # @param [\"lsf\",\"lsd\",\"ls\",\"size\"]\n",
        "# @markdown 🔎 Lọc file:\n",
        "file_type = \"mkv\" # @param {\"type\":\"string\"}\n",
        "file_type_sum = \"Default\" # @param [\"Default\", \"Sum\"]\n",
        "\n",
        "# Xử lý file_type_sum thành lệnh phù hợp\n",
        "sum_command = \"\" if file_type_sum == \"Default\" else \" | wc -l\"\n",
        "\n",
        "\n",
        "!rclone {list_mode} \"{list_remote}:{input_folder}\"  | grep \".{file_type}\"  {sum_command}\n",
        "\n",
        "\n",
        "# ======================================\n",
        "# grep \".mp4\": Lọc các dòng có chứa .mp4.\n",
        "# wc -l: Đếm số dòng (tức là số file .mp4)."
      ],
      "metadata": {
        "collapsed": true,
        "cellView": "form",
        "id": "INrZSJUyUO2m"
      },
      "execution_count": null,
      "outputs": []
    }
  ]
}